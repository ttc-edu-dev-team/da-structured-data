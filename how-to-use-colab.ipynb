{
 "cells": [
  {
   "cell_type": "code",
   "execution_count": 2,
   "metadata": {
    "id": "BIB1Dk0bTcsu"
   },
   "outputs": [],
   "source": [
    "import warnings; warnings.simplefilter('ignore')"
   ]
  },
  {
   "cell_type": "code",
   "execution_count": 3,
   "metadata": {
    "colab": {
     "base_uri": "https://localhost:8080/",
     "height": 521
    },
    "id": "9C8zUAMeTcsw",
    "outputId": "00a19694-c9e3-4aa7-bf7a-b7427db47f4d"
   },
   "outputs": [
    {
     "data": {
      "text/html": [
       "<iframe width=\"800\" height=\"500\" src=\"https://www.youtube.com/embed/inN8seMm7UI\" frameborder=\"0\" allow=\"accelerometer; autoplay; encrypted-media; gyroscope; picture-in-picture\" allowfullscreen></iframe>"
      ],
      "text/plain": [
       "<IPython.core.display.HTML object>"
      ]
     },
     "execution_count": 3,
     "metadata": {},
     "output_type": "execute_result"
    }
   ],
   "source": [
    "\n",
    "from IPython.display import HTML\n",
    "HTML('<iframe width=\"800\" height=\"500\" src=\"https://www.youtube.com/embed/inN8seMm7UI\" frameborder=\"0\" allow=\"accelerometer; autoplay; encrypted-media; gyroscope; picture-in-picture\" allowfullscreen></iframe>')"
   ]
  },
  {
   "cell_type": "markdown",
   "metadata": {
    "id": "pbyLhcW_Tcsx"
   },
   "source": [
    "# Reference\n",
    "\n",
    "- https://colab.research.google.com/notebooks/intro.ipynb\n",
    "- https://heartbeat.fritz.ai/getting-started-with-google-colab-notebooks-117e2bb0c220\n",
    "- https://jisoo-coding.tistory.com/2\n"
   ]
  },
  {
   "cell_type": "markdown",
   "metadata": {
    "id": "x4S6z_kdISLZ",
    "school_cell_uuid": "d24c9f446446471aa8c881b8f7bb84c5"
   },
   "source": [
    "# Lesson 1-4: Google Colab 사용법\n",
    "\n",
    "구글에서 **Education과 Science Research를 목적**으로 개발한 도구로, 2017년에 무료로 공개하였다.\n",
    "\n",
    "구글 colaboratory 서비스, 줄여서 코랩(colab)이라고 부르는 웹 서비스는 주피터 노트북을 구글 서버에서 가동시키고 사용자가 마음대로 사용할 수 있도록 무료로 제공한다. 이 서비스를 이용하려면 구글 지메일(gmail) 계정을 가지고 있어야 한다. 지메일 계정이 있다면 다음과 같이 코랩을 사용할 수 있다.\n"
   ]
  },
  {
   "cell_type": "markdown",
   "metadata": {
    "id": "Bdu1FAqUTcs3"
   },
   "source": [
    "## 1-4-1 : Google Colab 장단점\n",
    "\n",
    "코랩 노트북은 다음과 같은 장점이 있다.\n",
    "\n",
    "1. 무료입니다.\n",
    "2. 별도의 파이썬 설치 없이 웹 브라우저 만을 이용해 주피터 노트북과 같은 작업을 할 수 있다.\n",
    "3. 다른 사용자들과 공유가 쉬워 연구 및 교육용으로 많이 사용된다.\n",
    "4. Tensorflow, keras, matplotlib, scikit-learn, pandas 등 데이터 분석에 많이 사용되는 패키지들이 미리 설치되어 있다.\n",
    "5. 무료로 GPU를 사용할 수 있다.\n",
    "6. 구글 독스나 구글 스프레드시트 등과 같은 식으로 공유와 편집이 가능하다. 만약 두 명 이상의 사람이 동시에 같은 파일을 수정 하더라도 변경사항이 모든 사람에게 즉시 표시된다.\n",
    "\n",
    "\n",
    "### 단점\n",
    "1. 90분동안 아무런 인터액션이 없으면(idle timeout) 종료된다.\n",
    "2. 12시간의 ***세션 타임아웃***이 존재함으로 이후 종료된다.\n",
    "2. GPU는 할당을 못받을 수도 있다. 경우에 따라서 빼앗기는 경우도 있다.\n",
    "3. 약간 느리다.\n",
    "\n"
   ]
  },
  {
   "cell_type": "markdown",
   "metadata": {
    "id": "X-8cQbGgISLb",
    "school_cell_uuid": "1d6806e4cf5d4ba4b0ff8a6414e43aae"
   },
   "source": [
    "## 1-4-2 : Google Colab 시작하기"
   ]
  },
  {
   "cell_type": "markdown",
   "metadata": {
    "id": "VHKpvOmfISLc",
    "school_cell_uuid": "d688a16f1b68428e829494f0d6610dd2"
   },
   "source": [
    "구글 코랩을 사용하려면 지메일 계정이 필요하다. 지메일 계정이 있으면 로그인을 하고 지메일 계정이 없다면 다음 웹사이트에서 지메일을 만든 다음에 로그인한다.\n",
    "\n",
    "* https://www.google.com/gmail/\n",
    "\n",
    "로그인을 한 후에는 웹 브라우저를 열고 다음 웹 페이지 주소로 접속한다. \n",
    "\n",
    "* http://colab.research.google.com\n",
    "\n",
    "그러면 다음 그림과 같은 시작 페이지가 나온다."
   ]
  },
  {
   "cell_type": "markdown",
   "metadata": {
    "id": "KzNOICPoISLc",
    "school_cell_uuid": "10d02d2d02644c048c0f970e007288a0"
   },
   "source": [
    "<img src=\"https://github.com/ttc-edu-dev-team/da-structured-data/blob/main/assets/images/colab01.png?raw=true\" width=\"100%\">\n",
    "그림 : 코랩 환영 페이지"
   ]
  },
  {
   "cell_type": "markdown",
   "metadata": {
    "id": "IdCkogtbISLd",
    "school_cell_uuid": "aff363eb8473467fb5fe0fd7c49d7fd7"
   },
   "source": [
    "메뉴에서 ‘File’ > ‘New notebook’ 명령을 선택하면 다음 그림처럼 새 노트북을 사용할 수 있다. 사용법은 Jupyter Notebook과 같다."
   ]
  },
  {
   "cell_type": "markdown",
   "metadata": {
    "id": "vK0as0A7ISLd",
    "school_cell_uuid": "10d02d2d02644c048c0f970e007288a0"
   },
   "source": [
    "<img src=\"https://github.com/ttc-edu-dev-team/da-structured-data/blob/main/assets/images/colab02.png?raw=true\" width=\"100%\">\n",
    "그림 : 새 코랩 노트북"
   ]
  },
  {
   "cell_type": "markdown",
   "metadata": {
    "id": "bnPoT6hDISLf",
    "school_cell_uuid": "f5ac9fb0aaab4dcaa1fd7a58b4849f02"
   },
   "source": [
    "## 1-4-3 : 환경 살펴보기"
   ]
  },
  {
   "cell_type": "markdown",
   "metadata": {
    "id": "gskFpLd6ccgb",
    "school_cell_uuid": "9a8fad8d00624ae193483a637d46030c"
   },
   "source": [
    "운영체제나 하드웨어 그리고 설치된 파이썬 사양은 다음처럼 확인할 수 있다. "
   ]
  },
  {
   "cell_type": "code",
   "execution_count": 4,
   "metadata": {
    "colab": {
     "base_uri": "https://localhost:8080/"
    },
    "id": "kxHO4kDvbfgx",
    "outputId": "71db5005-4a80-490d-fa98-0b1dad9ee50c",
    "school_cell_uuid": "c8c45de828eb4a42b25bf31b2f2dfa09"
   },
   "outputs": [
    {
     "name": "stdout",
     "output_type": "stream",
     "text": [
      "Ubuntu 18.04.5 LTS\n"
     ]
    }
   ],
   "source": [
    "# OS\n",
    "!cat /etc/issue.net"
   ]
  },
  {
   "cell_type": "code",
   "execution_count": 5,
   "metadata": {
    "colab": {
     "base_uri": "https://localhost:8080/"
    },
    "id": "t8aaBnxDbhLg",
    "outputId": "3e8938e1-1321-4fad-c44f-c8274d0d7f58",
    "school_cell_uuid": "87ffe01fa231435f8c00470a82d85b86"
   },
   "outputs": [
    {
     "name": "stdout",
     "output_type": "stream",
     "text": [
      "processor\t: 0\n",
      "vendor_id\t: GenuineIntel\n",
      "cpu family\t: 6\n",
      "model\t\t: 79\n",
      "model name\t: Intel(R) Xeon(R) CPU @ 2.20GHz\n",
      "stepping\t: 0\n",
      "microcode\t: 0x1\n",
      "cpu MHz\t\t: 2199.998\n",
      "cache size\t: 56320 KB\n",
      "physical id\t: 0\n"
     ]
    }
   ],
   "source": [
    "# CPU 사양\n",
    "!head /proc/cpuinfo"
   ]
  },
  {
   "cell_type": "code",
   "execution_count": 6,
   "metadata": {
    "colab": {
     "base_uri": "https://localhost:8080/"
    },
    "id": "pf2IWGAycAm2",
    "outputId": "9f0458e5-b1f8-48a0-d077-627c8b098628",
    "school_cell_uuid": "27df5b3978c24dffa3e615c3bcc09286"
   },
   "outputs": [
    {
     "name": "stdout",
     "output_type": "stream",
     "text": [
      "MemTotal:       13333564 kB\n",
      "MemFree:        10654648 kB\n",
      "MemAvailable:   12468352 kB\n"
     ]
    }
   ],
   "source": [
    "# 메모리 사양\n",
    "!head -n 3 /proc/meminfo"
   ]
  },
  {
   "cell_type": "code",
   "execution_count": 7,
   "metadata": {
    "colab": {
     "base_uri": "https://localhost:8080/"
    },
    "id": "ixfZEcu3cIFc",
    "outputId": "c61f2253-27ca-4e7a-f517-0d73ae75bb9a",
    "school_cell_uuid": "2b746b856e03446fb44356a475fecfea"
   },
   "outputs": [
    {
     "name": "stdout",
     "output_type": "stream",
     "text": [
      "Filesystem      Size  Used Avail Use% Mounted on\n",
      "overlay          69G   39G   30G  57% /\n",
      "tmpfs            64M     0   64M   0% /dev\n",
      "tmpfs           6.4G     0  6.4G   0% /sys/fs/cgroup\n",
      "shm             5.8G     0  5.8G   0% /dev/shm\n",
      "tmpfs           6.4G   24K  6.4G   1% /var/colab\n",
      "/dev/sda1        75G   41G   35G  54% /opt/bin\n",
      "tmpfs           6.4G     0  6.4G   0% /proc/acpi\n",
      "tmpfs           6.4G     0  6.4G   0% /proc/scsi\n",
      "tmpfs           6.4G     0  6.4G   0% /sys/firmware\n"
     ]
    }
   ],
   "source": [
    "# 디스크 사양\n",
    "!df -h"
   ]
  },
  {
   "cell_type": "code",
   "execution_count": 8,
   "metadata": {
    "colab": {
     "base_uri": "https://localhost:8080/"
    },
    "id": "zxO4LVsMZc6V",
    "outputId": "f127409d-abb2-4374-80f2-3de0108884a6",
    "school_cell_uuid": "ade71261cbd5414f8d3441578cb54a5b"
   },
   "outputs": [
    {
     "name": "stdout",
     "output_type": "stream",
     "text": [
      "Python 3.7.10\n"
     ]
    }
   ],
   "source": [
    "!python --version"
   ]
  },
  {
   "cell_type": "markdown",
   "metadata": {
    "id": "4txc0p7fVsj0",
    "school_cell_uuid": "b3d0c8f7dd70435bad71f700241f8947"
   },
   "source": [
    "## 1-4-4 : GPU 사용하기"
   ]
  },
  {
   "cell_type": "markdown",
   "metadata": {
    "id": "HpukQL3SV0mz",
    "school_cell_uuid": "940bbcf53c164b098c599683e2d8ce05"
   },
   "source": [
    "Colab에서 GPU를 사용하기 위해서는 런타임 유형을 변경해야 한다. Colab 화면 상단의 툴바에서 \"런타임\" > \"런타임 유형 변경\" > \"하드웨어 가속기\" 설정을  None 에서 GPU로 변경한다. (TPU로도 변경이 가능하다.)"
   ]
  },
  {
   "cell_type": "markdown",
   "metadata": {
    "id": "P9c7yQbZibnr",
    "school_cell_uuid": "4849e39fe9b345fe8cd195c5be8f094f"
   },
   "source": [
    "<img src=\"https://github.com/ttc-edu-dev-team/da-structured-data/blob/main/assets/images/colab03.png?raw=true\" width=\"100%\">\n",
    "그림 : 코랩 런타임 유형 설정"
   ]
  },
  {
   "cell_type": "markdown",
   "metadata": {
    "id": "pV4UhG_IISLw",
    "school_cell_uuid": "9dcd54a0751449f4bc0cc4e9deac7142"
   },
   "source": [
    "런타임 유형을 GPU로 변경한 이후에는 `!nvidia-smi` 명령어로 GPU 사양을 확인 할 수 있다. "
   ]
  },
  {
   "cell_type": "code",
   "execution_count": 9,
   "metadata": {
    "colab": {
     "base_uri": "https://localhost:8080/"
    },
    "id": "jlgxD9z9fJHi",
    "outputId": "a16ed773-52b3-42ac-f8bb-79083adf2506",
    "school_cell_uuid": "c46920809620426abb914ac4ef2fbe84"
   },
   "outputs": [
    {
     "name": "stdout",
     "output_type": "stream",
     "text": [
      "Sun May  2 12:26:25 2021       \n",
      "+-----------------------------------------------------------------------------+\n",
      "| NVIDIA-SMI 465.19.01    Driver Version: 460.32.03    CUDA Version: 11.2     |\n",
      "|-------------------------------+----------------------+----------------------+\n",
      "| GPU  Name        Persistence-M| Bus-Id        Disp.A | Volatile Uncorr. ECC |\n",
      "| Fan  Temp  Perf  Pwr:Usage/Cap|         Memory-Usage | GPU-Util  Compute M. |\n",
      "|                               |                      |               MIG M. |\n",
      "|===============================+======================+======================|\n",
      "|   0  Tesla T4            Off  | 00000000:00:04.0 Off |                    0 |\n",
      "| N/A   37C    P8     9W /  70W |      0MiB / 15109MiB |      0%      Default |\n",
      "|                               |                      |                  N/A |\n",
      "+-------------------------------+----------------------+----------------------+\n",
      "                                                                               \n",
      "+-----------------------------------------------------------------------------+\n",
      "| Processes:                                                                  |\n",
      "|  GPU   GI   CI        PID   Type   Process name                  GPU Memory |\n",
      "|        ID   ID                                                   Usage      |\n",
      "|=============================================================================|\n",
      "|  No running processes found                                                 |\n",
      "+-----------------------------------------------------------------------------+\n"
     ]
    }
   ],
   "source": [
    "!nvidia-smi"
   ]
  },
  {
   "cell_type": "markdown",
   "metadata": {
    "id": "VrD4d0niK9W2",
    "school_cell_uuid": "dd533cb8890c40d2b48bfa0c77ecb59a"
   },
   "source": [
    "## 1-4-5 : 구글 드라이브 연동"
   ]
  },
  {
   "cell_type": "markdown",
   "metadata": {
    "id": "zbA3_akkK9W2",
    "school_cell_uuid": "dd533cb8890c40d2b48bfa0c77ecb59a"
   },
   "source": [
    "콜랩에 구글드라이브를 연결하면 구글 드라이브에서 데이터 파일을 열거나 저장할 수도 있다. 코랩을 실행 중인 상태에서 다음 코드를 실행하면 구글 드라이브를 `/content/drive/`라는 이름으로 드라이브로 코랩에 마운트(mount)시킨다."
   ]
  },
  {
   "cell_type": "code",
   "execution_count": null,
   "metadata": {
    "id": "Wl4AjXGNK_Dc",
    "school_cell_uuid": "d24b0be8739241dfab561d365e9a1ed0"
   },
   "outputs": [],
   "source": [
    "from google.colab import drive\n",
    "drive.mount('/content/drive')"
   ]
  },
  {
   "cell_type": "markdown",
   "metadata": {
    "id": "0sTNwtEvSjIm",
    "school_cell_uuid": "2ea90fa8dc9e4d31b31748b4401357bd"
   },
   "source": [
    "이미 연결된 상태이면 위와 같은 결과가 나오지만 만약 처음 연결하는 경우라면 다음 그림과 같이 구글 드라이브의 권한을 요청한다. "
   ]
  },
  {
   "cell_type": "markdown",
   "metadata": {
    "id": "Nee2SenEWWQf",
    "school_cell_uuid": "bbb185b080f543458dc9a80337300fba"
   },
   "source": [
    "<img src=\"https://github.com/ttc-edu-dev-team/da-structured-data/blob/main/assets/images/colab04.png?raw=true\" width=\"100%\">\n",
    "그림 : 구글 드라이브 연결"
   ]
  },
  {
   "cell_type": "markdown",
   "metadata": {
    "id": "a-yEXdAIWWQf",
    "school_cell_uuid": "007e273ec604461eb7db6487a050166a"
   },
   "source": [
    "알려주는 URL 링크를 클릭하여 구글에 로그인하면 비밀키 문자열을 알려준다. "
   ]
  },
  {
   "cell_type": "markdown",
   "metadata": {
    "id": "t41jV6fqWWQg",
    "school_cell_uuid": "c131475af2554724a05aa5c0fbaab80d"
   },
   "source": [
    "<img src=\"https://github.com/ttc-edu-dev-team/da-structured-data/blob/main/assets/images/colab05.png?raw=true\" width=\"100%\">\n",
    "그림 : 구글 드라이브 연결"
   ]
  },
  {
   "cell_type": "markdown",
   "metadata": {
    "id": "yvUCEsDXWWQg",
    "school_cell_uuid": "5c1d5fb2921f4dedac1b9682b1c8f94a"
   },
   "source": [
    "<img src=\"https://github.com/ttc-edu-dev-team/da-structured-data/blob/main/assets/images/colab06.png?raw=true\" width=\"100%\">\n",
    "그림 : 구글 드라이브 연결"
   ]
  },
  {
   "cell_type": "markdown",
   "metadata": {
    "id": "JTiL_TwmWWQi",
    "school_cell_uuid": "edb42e6e795b445ca568706a1da37966"
   },
   "source": [
    "이 비밀키 문자열을 복사하여 코랩에 있는 네모 입력칸에 붙여넣으면 구들 드라이브와 연결된다.\n",
    "\n",
    "연결되면 다음과 같이 배시 셸 명령어로 폴더를 확인할 수 있다.  "
   ]
  },
  {
   "cell_type": "code",
   "execution_count": null,
   "metadata": {
    "id": "KEetyotAK9W3",
    "school_cell_uuid": "c18efa9ada5448c78255740490b17b9d"
   },
   "outputs": [],
   "source": [
    "!ls '/content/drive/'"
   ]
  },
  {
   "cell_type": "markdown",
   "metadata": {
    "id": "vjcef2UOTkNa",
    "school_cell_uuid": "2e5f951a2fee4a70ae2a35c8db36c8ed"
   },
   "source": [
    "이 드라이브에는 구글 드라이브가 `My Drive`라는 이름의 폴더로 마운트되어 있다. 시험삼아 이 폴더 아래에  `test_colab`이라는 폴더를 만들자."
   ]
  },
  {
   "cell_type": "code",
   "execution_count": null,
   "metadata": {
    "id": "P2xX1BrrPwMg",
    "school_cell_uuid": "812aa3636b3c41c491aa588edffc2da2"
   },
   "outputs": [],
   "source": [
    "!mkdir -p '/content/drive/My Drive/test_colab'\n",
    "!ls -Fcal '/content/drive/My Drive/test_colab'"
   ]
  },
  {
   "cell_type": "markdown",
   "metadata": {
    "id": "0ntjKQiXTWjF",
    "school_cell_uuid": "6b113d64ddfa4e1f9a9f80f215a15df2"
   },
   "source": [
    "폴더가 만들어졌으면 다음 코드로 이 테스트 폴더 안에 df.csv 라는 이름의 데이터 파일을 만들어 보자"
   ]
  },
  {
   "cell_type": "code",
   "execution_count": null,
   "metadata": {
    "id": "4-O3raZFP42F",
    "school_cell_uuid": "1736705b73dd41429e5ba6fe289ab497"
   },
   "outputs": [],
   "source": [
    "import numpy as np\n",
    "import pandas as pd\n",
    "\n",
    "df = pd.DataFrame(np.random.rand(10, 5))\n",
    "df.to_csv(\"/content/drive/My Drive/test_colab/df.csv\")"
   ]
  },
  {
   "cell_type": "markdown",
   "metadata": {
    "id": "3-S0W7zvTeYS",
    "school_cell_uuid": "9f6f3237218e4efcbf5051e2da17f5ed"
   },
   "source": [
    "데이터 파일이 만들어진 것을 확인할 수 있다. 확인이 끝나면 필요없는 데이터 파일은 지운다."
   ]
  },
  {
   "cell_type": "code",
   "execution_count": null,
   "metadata": {
    "id": "1KSJ4aBJQHud",
    "school_cell_uuid": "e54465ccfd4a4de5a253a20f3cac6cfb"
   },
   "outputs": [],
   "source": [
    "!ls -Fcal '/content/drive/My Drive/test_colab'"
   ]
  },
  {
   "cell_type": "code",
   "execution_count": null,
   "metadata": {
    "id": "_9uc2oB2QNMo",
    "school_cell_uuid": "0ec6042ecafd46438f0a0ce536081e76"
   },
   "outputs": [],
   "source": [
    "pd.read_csv(\"/content/drive/My Drive/test_colab/df.csv\")"
   ]
  },
  {
   "cell_type": "code",
   "execution_count": null,
   "metadata": {
    "id": "MTYqFRdaTNmJ",
    "school_cell_uuid": "4e9adb331e924c839807b5383174cbce"
   },
   "outputs": [],
   "source": [
    "!rm -rf \"/content/drive/My Drive/test_colab/df.csv\""
   ]
  },
  {
   "cell_type": "markdown",
   "metadata": {
    "id": "Fq7gT-koQ7bg",
    "school_cell_uuid": "5cd4cfcfb03a4eb6a97f948f0d158c87"
   },
   "source": [
    "## 1-4-6 : 구글 드라이브에서 주피터 노트북 사용하기"
   ]
  },
  {
   "cell_type": "markdown",
   "metadata": {
    "id": "v4kipnnoRHM1",
    "school_cell_uuid": "b1645593beb94228876c472738fda8cc"
   },
   "source": [
    "주피터 노트북 파일을 구글 드라이브에 업로드 해 놓으면 콜랩에서 연동하여 사용할 수 있다.  구글 드라이브에서 .ipynb 파일을 열때 연결할 앱으로 \"Collaboratory\"를 선택하면 구글 코랩에서 열린다."
   ]
  },
  {
   "cell_type": "markdown",
   "metadata": {
    "id": "fZ666VG6Cowy"
   },
   "source": [
    "## 1-4-7 : 파일 업로드 하기"
   ]
  },
  {
   "cell_type": "markdown",
   "metadata": {
    "id": "9l04sGwNCowz"
   },
   "source": [
    "### 직접 업로드하는 방법"
   ]
  },
  {
   "cell_type": "code",
   "execution_count": null,
   "metadata": {
    "id": "8I5yM_ldCowz"
   },
   "outputs": [],
   "source": [
    "from google.colab import files\n",
    "myfile = files.upload()"
   ]
  },
  {
   "cell_type": "code",
   "execution_count": null,
   "metadata": {
    "id": "sNfI4UGVCowz"
   },
   "outputs": [],
   "source": [
    "import io\n",
    "import pandas as pd"
   ]
  },
  {
   "cell_type": "code",
   "execution_count": null,
   "metadata": {
    "id": "NyBusd0kCowz"
   },
   "outputs": [],
   "source": [
    "data = pd.read_csv(io.BytesIO(myfile['ratings.csv']))"
   ]
  },
  {
   "cell_type": "code",
   "execution_count": null,
   "metadata": {
    "id": "3GI5CtuzCowz"
   },
   "outputs": [],
   "source": [
    "data.head()"
   ]
  },
  {
   "cell_type": "markdown",
   "metadata": {
    "id": "aWVPHwthCowz"
   },
   "source": [
    "### 구글 드라이브에서 가져오는 방법"
   ]
  },
  {
   "cell_type": "code",
   "execution_count": null,
   "metadata": {
    "id": "d17WNhdfCow0"
   },
   "outputs": [],
   "source": [
    "from google.colab import drive\n",
    "drive.mount('/content/drive')"
   ]
  },
  {
   "cell_type": "code",
   "execution_count": null,
   "metadata": {
    "id": "gM_vJ6_dCow0"
   },
   "outputs": [],
   "source": [
    "file_name = '/content/drive/My Drive/da-structured-data/data/pandas/ratings.csv'"
   ]
  },
  {
   "cell_type": "code",
   "execution_count": null,
   "metadata": {
    "id": "Ql_ldZOxCow0"
   },
   "outputs": [],
   "source": [
    "data = pd.read_csv(file_name)"
   ]
  },
  {
   "cell_type": "code",
   "execution_count": null,
   "metadata": {
    "id": "ioNYcqb4Cow0"
   },
   "outputs": [],
   "source": [
    "data.head()"
   ]
  }
 ],
 "metadata": {
  "accelerator": "GPU",
  "celltoolbar": "Slideshow",
  "colab": {
   "collapsed_sections": [],
   "name": "how-to-use-colab.ipynb",
   "provenance": []
  },
  "kernelspec": {
   "display_name": "Python 3",
   "language": "python",
   "name": "python3"
  },
  "language_info": {
   "codemirror_mode": {
    "name": "ipython",
    "version": 3
   },
   "file_extension": ".py",
   "mimetype": "text/x-python",
   "name": "python",
   "nbconvert_exporter": "python",
   "pygments_lexer": "ipython3",
   "version": "3.6.8"
  },
  "toc": {
   "base_numbering": 1,
   "nav_menu": {},
   "number_sections": false,
   "sideBar": false,
   "skip_h1_title": false,
   "title_cell": "Table of Contents",
   "title_sidebar": "Contents",
   "toc_cell": false,
   "toc_position": {},
   "toc_section_display": false,
   "toc_window_display": false
  }
 },
 "nbformat": 4,
 "nbformat_minor": 1
}
