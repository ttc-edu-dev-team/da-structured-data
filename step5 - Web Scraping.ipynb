{
 "cells": [
  {
   "cell_type": "markdown",
   "metadata": {
    "slideshow": {
     "slide_type": "slide"
    }
   },
   "source": [
    "![](https://www.googleapis.com/download/storage/v1/b/kaggle-user-content/o/inbox%2F5132014%2F21d40a06a5597c46cf5611f10a977cb1%2Fweb%20scraping.jfif?generation=1590383092165094&alt=media)\n",
    "\n",
    "# Step5 - Web Scraping\n",
    "\n",
    "####  Web Scraping으로 분석할 Data 데이터를 수집해 봅니다."
   ]
  },
  {
   "cell_type": "markdown",
   "metadata": {
    "slideshow": {
     "slide_type": "slide"
    }
   },
   "source": [
    "# Learning Plan\n",
    "\n",
    "#### 이 과정을 통해서 배울 수 있는 것은 아래와 같습니다.\n",
    "- 첫째, Web Scraping 이란 무엇인가?\n",
    "- 둘째, HTML, XPath\n",
    "- 셋째, Requests, Regular Expression,User Agent 사용법\n",
    "- 넷째, BeautifulSoup 사용법 "
   ]
  },
  {
   "cell_type": "markdown",
   "metadata": {
    "slideshow": {
     "slide_type": "subslide"
    }
   },
   "source": [
    "### Lesson 5-1: Overview - Web Scraping\n",
    "\n",
    "### Lesson 5-2: HTML, XPath\n",
    "\n",
    "### Lesson 5-3: Requests, Regular Expression, User Agent\n",
    "\n",
    "### Lesson 5-4: BeautifulSoup"
   ]
  },
  {
   "cell_type": "markdown",
   "metadata": {
    "slideshow": {
     "slide_type": "slide"
    }
   },
   "source": [
    "# Reference \n",
    "\n",
    "- Inflearn 'Web Scraping' : https://www.inflearn.com/course/파이썬-웹-스크래핑/\n",
    "- Udemy 'Web Scraping' : https://www.udemy.com/course/web-scraping-for-beginners-with-python-scrapy-bs4/ "
   ]
  },
  {
   "cell_type": "markdown",
   "metadata": {
    "slideshow": {
     "slide_type": "slide"
    }
   },
   "source": [
    "# Lesson 5-1: Overview - Web Scraping"
   ]
  },
  {
   "cell_type": "markdown",
   "metadata": {
    "slideshow": {
     "slide_type": "subslide"
    }
   },
   "source": [
    "## 5-1-1 : 웹스크레핑 이란?"
   ]
  },
  {
   "cell_type": "markdown",
   "metadata": {
    "slideshow": {
     "slide_type": "subslide"
    }
   },
   "source": [
    "### 웹스크레핑 (Web Scratping) 은 무엇인가요?\n",
    "\n",
    "웹스크레핑(Web Scraping)이란 \n",
    " - 웹 크롤링(Web Crawling)\n",
    " - 웹 하비스팅(Web Harvesting)\n",
    " - Web Data Extraction \n",
    "\n",
    "이라고도 하며, 통신(HTTP 등)을 통해 웹 사이트에서 원하는 정보를 자동으로 다운로드하여 수집하고 정리하는 것을 말한다.\n",
    "\n",
    "수집된 데이터는 파일 혹은 데이타베이스에 저장될 수 있다.\n"
   ]
  },
  {
   "cell_type": "markdown",
   "metadata": {
    "slideshow": {
     "slide_type": "subslide"
    }
   },
   "source": [
    "### 웹스크레핑은 어디에 사용되나요?\n",
    "\n",
    "- WebMining, Data Mining\n",
    "- Online Price Monitoring\n",
    "- Online Price Comparision\n",
    "- Product Review\n",
    "- Gathering Real Estate listing\n",
    "- Weather Data Monitoring\n",
    "- Website Change Detection\n",
    "- Research"
   ]
  },
  {
   "cell_type": "markdown",
   "metadata": {
    "slideshow": {
     "slide_type": "subslide"
    }
   },
   "source": [
    "### 웹스크레핑 Basic Rules\n",
    "\n",
    "- 법적 책임을 회피하기 위해서 웹스크레핑을 하기 전에 해당 Webpage의 'Terms and Condtions'를 체크한다.\n",
    "- 데이터를 수집할 때 해당 웹사이트에 로드를 주거나 너무 Aggressive할 경우 다운시킬 수도 있다는 점을 기억한다.\n",
    "- 웹사이트는 살아있는 생물처럼 계속 변화하므로 주기적으로 변화를 체크하여 코드를 수정해야 한다."
   ]
  },
  {
   "cell_type": "markdown",
   "metadata": {
    "slideshow": {
     "slide_type": "subslide"
    }
   },
   "source": [
    "### 클러스터링에 사용되는 툴\n",
    "\n",
    "- Google Chrome 웹 브라우저 와 개발자 툴\n",
    "- Python 과 Python 웹스크레핑 관련 라이브러리"
   ]
  },
  {
   "cell_type": "markdown",
   "metadata": {
    "slideshow": {
     "slide_type": "slide"
    }
   },
   "source": [
    "# Lesson 5-2: HTML, XPath, User Agent"
   ]
  },
  {
   "cell_type": "markdown",
   "metadata": {
    "slideshow": {
     "slide_type": "subslide"
    }
   },
   "source": [
    "## 5-2-1 : HTML(Hyper Text Markup Language)"
   ]
  },
  {
   "cell_type": "markdown",
   "metadata": {
    "slideshow": {
     "slide_type": "subslide"
    }
   },
   "source": [
    "<html/>"
   ]
  },
  {
   "cell_type": "markdown",
   "metadata": {
    "slideshow": {
     "slide_type": "subslide"
    }
   },
   "source": [
    "<html>...</html>\n",
    "\n"
   ]
  },
  {
   "cell_type": "markdown",
   "metadata": {
    "slideshow": {
     "slide_type": "subslide"
    }
   },
   "source": [
    "<html>\n",
    "    <head> </head>\n",
    "    <body> </body>\n",
    "</html>"
   ]
  },
  {
   "cell_type": "markdown",
   "metadata": {
    "slideshow": {
     "slide_type": "subslide"
    }
   },
   "source": [
    "<html>\n",
    "    <head>\n",
    "        <title>웹 스크래핑 테스트</title>\n",
    "    </head>\n",
    "    <body> </body>\n",
    "</html>"
   ]
  },
  {
   "cell_type": "markdown",
   "metadata": {
    "slideshow": {
     "slide_type": "subslide"
    }
   },
   "source": [
    "<html>\n",
    "    <head>\n",
    "        <title>웹 스크래핑 테스트</title>\n",
    "    </head>\n",
    "    <body>\n",
    "        <h1>웹 스크래핑 나도 할 수 있다.</h1>\n",
    "        <h2>웹 스크래핑 나도 할 수 있다.</h2>\n",
    "        <h3>웹 스크래핑 나도 할 수 있다.</h3>\n",
    "        <h4>웹 스크래핑 나도 할 수 있다.</h4>\n",
    "    </body>\n",
    "</html>"
   ]
  },
  {
   "cell_type": "markdown",
   "metadata": {
    "slideshow": {
     "slide_type": "subslide"
    }
   },
   "source": [
    "<html>\n",
    "    <head>\n",
    "        <meta charset='UTF=8'>\n",
    "        <title>웹 스크래핑 테스트</title>\n",
    "    </head>\n",
    "    <body>\n",
    "        <h1>웹 스크래핑 나도 할 수 있다.</h1>\n",
    "        <h2>웹 스크래핑 나도 할 수 있다.</h2>\n",
    "        <h3>웹 스크래핑 나도 할 수 있다.</h3>\n",
    "        <h4>웹 스크래핑 나도 할 수 있다.</h4>\n",
    "        <input type='text' value='아이디를 입력하세요!!!'>\n",
    "        <input type='password'>\n",
    "        <input type='button' value='로그인'>\n",
    "    </body>\n",
    "</html>"
   ]
  },
  {
   "cell_type": "markdown",
   "metadata": {},
   "source": [
    "<html>\n",
    "    <head>\n",
    "        <meta charset='UTF=8'>\n",
    "        <title>웹 스크래핑 테스트</title>\n",
    "    </head>\n",
    "    <body>\n",
    "        <h1>웹 스크래핑 나도 할 수 있다.</h1>\n",
    "        <h2>웹 스크래핑 나도 할 수 있다.</h2>\n",
    "        <h3>웹 스크래핑 나도 할 수 있다.</h3>\n",
    "        <h4>웹 스크래핑 나도 할 수 있다.</h4>\n",
    "        <input type='text' value='아이디를 입력하세요!!!'>\n",
    "        <input type='password'>\n",
    "        <input type='button' value='로그인'>\n",
    "        <a href='http://www.google.com'>구글 링크</a>\n",
    "        <a href='http://w3schools.com'>w3schools 링크</a>\n",
    "    </body>\n",
    "</html>"
   ]
  },
  {
   "cell_type": "markdown",
   "metadata": {},
   "source": [
    "## 5-2-2 : XPath"
   ]
  },
  {
   "cell_type": "markdown",
   "metadata": {},
   "source": [
    "<회사>\n",
    "\n",
    "</회사>"
   ]
  },
  {
   "cell_type": "markdown",
   "metadata": {},
   "source": [
    "<회사>\n",
    "    <대표이사>박석</대표이사>\n",
    "    <관리본부>\n",
    "        <총무팀>\n",
    "        </총무팀>\n",
    "        <경리회계팀>\n",
    "            <직원 직급='사원' 성별='남자' 사번='10005'>김사원</직원>\n",
    "            <직원 직급='대리' 성별='여자' 사번='10004'>나대리</직원>\n",
    "            <직원 직급='과장' 성별='남자' 사번='10003'>이과장</직원>\n",
    "            <직원 직급='팀장' 성별='여자' 사번='10002'>박팀장</직원>\n",
    "        </경리회계팀>\n",
    "    </관리본부>\n",
    "    <영업본부>\n",
    "    </영업본부>\n",
    "    <생산본부>\n",
    "    </생산본부>\n",
    "    <연구개발본부>\n",
    "    </연구개발본부>\n",
    "</회사>"
   ]
  },
  {
   "cell_type": "markdown",
   "metadata": {},
   "source": [
    "### 대표이사 이름을 찾으려면?\n",
    "\n",
    "/회사/대표이사[1]"
   ]
  },
  {
   "cell_type": "markdown",
   "metadata": {
    "slideshow": {
     "slide_type": "subslide"
    }
   },
   "source": [
    "### 김사원을 찾으려면 ???\n",
    "\n",
    "/회사/관리본부/경리회계팀/직원[1]"
   ]
  },
  {
   "cell_type": "markdown",
   "metadata": {},
   "source": [
    "### HTML의 구조가 깊고 복잡한 경우는 ???\n",
    "\n",
    "'Google Chrome' 브라우저의 '개발자툴'을 사용한다.\n",
    "\n",
    "/html/body/div[2]/div[2]/div[1]/div/div[3]/form/fieldset/div\n",
    "//*[@id=\"search_btn\"]"
   ]
  },
  {
   "cell_type": "markdown",
   "metadata": {
    "slideshow": {
     "slide_type": "slide"
    }
   },
   "source": [
    "# Lesson 5-3: Requests , Regular Expression"
   ]
  },
  {
   "cell_type": "markdown",
   "metadata": {},
   "source": [
    "## 5-3-1 : Requests"
   ]
  },
  {
   "cell_type": "code",
   "execution_count": 3,
   "metadata": {},
   "outputs": [
    {
     "name": "stdout",
     "output_type": "stream",
     "text": [
      "Requirement already satisfied: requests in /Users/parksurk/anaconda3/envs/kaggle/lib/python3.6/site-packages (2.21.0)\n",
      "Requirement already satisfied: chardet<3.1.0,>=3.0.2 in /Users/parksurk/anaconda3/envs/kaggle/lib/python3.6/site-packages (from requests) (3.0.4)\n",
      "Requirement already satisfied: urllib3<1.25,>=1.21.1 in /Users/parksurk/anaconda3/envs/kaggle/lib/python3.6/site-packages (from requests) (1.24.2)\n",
      "Requirement already satisfied: certifi>=2017.4.17 in /Users/parksurk/anaconda3/envs/kaggle/lib/python3.6/site-packages (from requests) (2019.3.9)\n",
      "Requirement already satisfied: idna<2.9,>=2.5 in /Users/parksurk/anaconda3/envs/kaggle/lib/python3.6/site-packages (from requests) (2.8)\n"
     ]
    }
   ],
   "source": [
    "!pip install requests"
   ]
  },
  {
   "cell_type": "code",
   "execution_count": 2,
   "metadata": {},
   "outputs": [],
   "source": [
    "import requests"
   ]
  },
  {
   "cell_type": "code",
   "execution_count": 18,
   "metadata": {},
   "outputs": [],
   "source": [
    "#res = requests.get(\"http://www.naver.com\")\n",
    "#res = requests.get(\"https://parksurk.tistory.com\")\n",
    "res = requests.get(\"http://www.google.com\")\n"
   ]
  },
  {
   "cell_type": "code",
   "execution_count": 19,
   "metadata": {},
   "outputs": [
    {
     "name": "stdout",
     "output_type": "stream",
     "text": [
      "200\n"
     ]
    }
   ],
   "source": [
    "print(res.status_code)"
   ]
  },
  {
   "cell_type": "code",
   "execution_count": 20,
   "metadata": {},
   "outputs": [
    {
     "data": {
      "text/plain": [
       "13994"
      ]
     },
     "execution_count": 20,
     "metadata": {},
     "output_type": "execute_result"
    }
   ],
   "source": [
    "len(res.text)"
   ]
  },
  {
   "cell_type": "code",
   "execution_count": 21,
   "metadata": {},
   "outputs": [],
   "source": [
    "res = requests.get(\"http://www.google.com\")\n",
    "res.raise_for_status()"
   ]
  },
  {
   "cell_type": "code",
   "execution_count": 22,
   "metadata": {},
   "outputs": [],
   "source": [
    "with open(\"google.html\", \"w\", encoding=\"utf8\") as f:\n",
    "    f.write(res.text)"
   ]
  },
  {
   "cell_type": "code",
   "execution_count": 23,
   "metadata": {},
   "outputs": [
    {
     "data": {
      "text/html": [
       "<!doctype html><html itemscope=\"\" itemtype=\"http://schema.org/WebPage\" lang=\"ko\"><head><meta content=\"text/html; charset=UTF-8\" http-equiv=\"Content-Type\"><meta content=\"/images/branding/googleg/1x/googleg_standard_color_128dp.png\" itemprop=\"image\"><title>Google</title><script nonce=\"osIR36sH6C1RDGaXhaBHhQ==\">(function(){window.google={kEI:'mL1IYJKpNsrAoASw6aXQBg',kEXPI:'0,18168,1284265,7,56969,954,5105,206,4804,2316,383,246,5,306,1048,5250,1504,838,4043,1116131,1233,1196509,540,328985,51224,16114,17444,11240,9188,8384,4859,1361,283,9008,3026,4741,12841,4020,978,13228,2054,623,297,873,4192,6430,7432,7096,4516,2778,920,2276,8,85,2711,1593,1279,2212,530,149,562,541,840,517,1522,4258,1449,2,2669,2023,1733,43,521,4269,328,1284,463,8326,3227,1726,1119,7,5599,6755,5096,7539,338,4928,108,3407,908,2,941,2614,2397,1386,6082,3277,3,346,230,1835,559,4065,149,5990,6375,1610,4,1528,2304,1236,1145,4658,1791,127,4,2762,459,1555,4067,5634,1426,5495,1753,2658,4243,518,912,564,464,656,30,3854,4275,3285,2214,1397,908,638,1494,605,2,1483,3496,7820,1386,587,11,731,665,2145,3209,473,2302,228,479,512,1,1056,906,1140,17,50,99,2972,6,908,3,3363,178,1,4174,766,1045,92,922,1639,656,580,71,500,892,37,569,2767,1187,629,36,245,700,3646,1941,617,1260,92,147,726,220,2,1065,3181,61,432,2857,427,285,4,73,121,18,1555,2,1113,281,44,17,1355,143,365,192,223,2,97,368,1338,7,201,5,170,2,1453,1577,21,300,183,70,785,3919,458,381,236,329,229,94,683,555,4,107,390,2,2,898,175,2,1203,100,211,709,808,2,61,107,367,144,253,277,734,1,1,1,993,107,470,546,5681305,3709,161,35,102,102,5997099,8,2800700,549,333,444,1,2,80,1,1796,1,9,2,2551,1,748,141,795,563,1,4265,1,1,2,1331,3299,843,1,2608,155,17,13,72,174,9,155,13,16,46,5,37,11,45,43,18,1,1,4,4,5,4,1,80,23956724,149,2786363,1223761,268,26774,485,37,223,54',kBL:'4Bw4'};google.sn='webhp';google.kHL='ko';})();(function(){\n",
       "var f=[];google.getEI=function(a){for(var b;a&&(!a.getAttribute||!(b=a.getAttribute(\"eid\")));)a=a.parentNode;return b||google.kEI};google.getLEI=function(a){for(var b=null;a&&(!a.getAttribute||!(b=a.getAttribute(\"leid\")));)a=a.parentNode;return b};google.ml=function(){return null};google.log=function(a,b,c,d,g){if(c=google.logUrl(a,b,c,d,g)){a=new Image;var e=f.length;f[e]=a;a.onerror=a.onload=a.onabort=function(){delete f[e]};a.src=c}};google.logUrl=function(a,b,c,d,g){var e=\"\";c||-1!=b.search(\"&ei=\")||(e=\"&ei=\"+google.getEI(d),-1==b.search(\"&lei=\")&&(d=google.getLEI(d))&&(e+=\"&lei=\"+d));d=\"\";!c&&window._cshid&&-1==b.search(\"&cshid=\")&&\"slh\"!=a&&(d=\"&cshid=\"+window._cshid);c=c||\"/\"+(g||\"gen_204\")+\"?atyp=i&ct=\"+a+\"&cad=\"+b+e+\"&zx=\"+Date.now()+d;/^http:/i.test(c)&&\"https:\"==window.location.protocol&&(google.ml(Error(\"a\"),!1,{src:c,glmm:1}),c=\"\");return c};}).call(this);(function(){google.y={};google.x=function(a,b){if(a)var c=a.id;else{do c=Math.random();while(google.y[c])}google.y[c]=[a,b];return!1};google.lm=[];google.plm=function(a){google.lm.push.apply(google.lm,a)};google.lq=[];google.load=function(a,b,c){google.lq.push([[a],b,c])};google.loadAll=function(a,b){google.lq.push([a,b])};google.bx=!1;google.lx=function(){};}).call(this);google.f={};(function(){\n",
       "document.documentElement.addEventListener(\"submit\",function(b){var a;if(a=b.target){var c=a.getAttribute(\"data-submitfalse\");a=\"1\"==c||\"q\"==c&&!a.elements.q.value?!0:!1}else a=!1;a&&(b.preventDefault(),b.stopPropagation())},!0);document.documentElement.addEventListener(\"click\",function(b){var a;a:{for(a=b.target;a&&a!=document.documentElement;a=a.parentElement)if(\"A\"==a.tagName){a=\"1\"==a.getAttribute(\"data-nohref\");break a}a=!1}a&&b.preventDefault()},!0);}).call(this);\n",
       "var a=window.location,b=a.href.indexOf(\"#\");if(0<=b){var c=a.href.substring(b+1);/(^|&)q=/.test(c)&&-1==c.indexOf(\"#\")&&a.replace(\"/search?\"+c.replace(/(^|&)fp=[^&]*/g,\"\")+\"&cad=h\")};</script><style>#gbar,#guser{font-size:13px;padding-top:1px !important;}#gbar{height:22px}#guser{padding-bottom:7px !important;text-align:right}.gbh,.gbd{border-top:1px solid #c9d7f1;font-size:1px}.gbh{height:0;position:absolute;top:24px;width:100%}@media all{.gb1{height:22px;margin-right:.5em;vertical-align:top}#gbar{float:left}}a.gb1,a.gb4{text-decoration:underline !important}a.gb1,a.gb4{color:#00c !important}.gbi .gb4{color:#dd8e27 !important}.gbf .gb4{color:#900 !important}\n",
       "</style><style>body,td,a,p,.h{font-family:&#44404;&#47548;,&#46027;&#50880;,arial,sans-serif}.ko{font-size:9pt}body{margin:0;overflow-y:scroll}#gog{padding:3px 8px 0}td{line-height:.8em}.gac_m td{line-height:17px}form{margin-bottom:20px}.h{color:#1558d6}em{font-weight:bold;font-style:normal}.lst{height:25px;width:496px}.gsfi,.lst{font:18px arial,sans-serif}.gsfs{font:17px arial,sans-serif}.ds{display:inline-box;display:inline-block;margin:3px 0 4px;margin-left:4px}input{font-family:inherit}body{background:#fff;color:#000}a{color:#4b11a8;text-decoration:none}a:hover,a:active{text-decoration:underline}.fl a{color:#1558d6}a:visited{color:#4b11a8}.sblc{padding-top:5px}.sblc a{display:block;margin:2px 0;margin-left:13px;font-size:11px}.lsbb{background:#f8f9fa;border:solid 1px;border-color:#dadce0 #70757a #70757a #dadce0;height:30px}.lsbb{display:block}#WqQANb a{display:inline-block;margin:0 12px}.lsb{background:url(/images/nav_logo229.png) 0 -261px repeat-x;border:none;color:#000;cursor:pointer;height:30px;margin:0;outline:0;font:15px arial,sans-serif;vertical-align:top}.lsb:active{background:#dadce0}.lst:focus{outline:none}.tiah{width:458px}</style><script nonce=\"osIR36sH6C1RDGaXhaBHhQ==\"></script></head><body bgcolor=\"#fff\"><script nonce=\"osIR36sH6C1RDGaXhaBHhQ==\">(function(){var src='/images/nav_logo229.png';var iesg=false;document.body.onload = function(){window.n && window.n();if (document.images){new Image().src=src;}\n",
       "if (!iesg){document.f&&document.f.q.focus();document.gbqf&&document.gbqf.q.focus();}\n",
       "}\n",
       "})();</script><div id=\"mngb\"><div id=gbar><nobr><b class=gb1>&#44160;&#49353;</b> <a class=gb1 href=\"http://www.google.co.kr/imghp?hl=ko&tab=wi\">&#51060;&#48120;&#51648;</a> <a class=gb1 href=\"http://maps.google.co.kr/maps?hl=ko&tab=wl\">&#51648;&#46020;</a> <a class=gb1 href=\"https://play.google.com/?hl=ko&tab=w8\">Play</a> <a class=gb1 href=\"http://www.youtube.com/?gl=KR&tab=w1\">YouTube</a> <a class=gb1 href=\"https://news.google.com/?tab=wn\">&#45684;&#49828;</a> <a class=gb1 href=\"https://mail.google.com/mail/?tab=wm\">Gmail</a> <a class=gb1 href=\"https://drive.google.com/?tab=wo\">&#46300;&#46972;&#51060;&#48652;</a> <a class=gb1 style=\"text-decoration:none\" href=\"https://www.google.co.kr/intl/ko/about/products?tab=wh\"><u>&#45908;&#48372;&#44592;</u> &raquo;</a></nobr></div><div id=guser width=100%><nobr><span id=gbn class=gbi></span><span id=gbf class=gbf></span><span id=gbe></span><a href=\"http://www.google.co.kr/history/optout?hl=ko\" class=gb4>&#50937; &#44592;&#47197;</a> | <a  href=\"/preferences?hl=ko\" class=gb4>&#49444;&#51221;</a> | <a target=_top id=gb_70 href=\"https://accounts.google.com/ServiceLogin?hl=ko&passive=true&continue=http://www.google.com/&ec=GAZAAQ\" class=gb4>&#47196;&#44536;&#51064;</a></nobr></div><div class=gbh style=left:0></div><div class=gbh style=right:0></div></div><center><br clear=\"all\" id=\"lgpd\"><div id=\"lga\"><img alt=\"Google\" height=\"92\" src=\"/images/branding/googlelogo/1x/googlelogo_white_background_color_272x92dp.png\" style=\"padding:28px 0 14px\" width=\"272\" id=\"hplogo\"><br><br></div><form action=\"/search\" name=\"f\"><table cellpadding=\"0\" cellspacing=\"0\"><tr valign=\"top\"><td width=\"25%\">&nbsp;</td><td align=\"center\" nowrap=\"\"><input name=\"ie\" value=\"ISO-8859-1\" type=\"hidden\"><input value=\"ko\" name=\"hl\" type=\"hidden\"><input name=\"source\" type=\"hidden\" value=\"hp\"><input name=\"biw\" type=\"hidden\"><input name=\"bih\" type=\"hidden\"><div class=\"ds\" style=\"height:32px;margin:4px 0\"><div style=\"position:relative;zoom:1\"><input class=\"lst tiah\" style=\"margin:0;padding:5px 8px 0 6px;vertical-align:top;color:#000;padding-right:38px\" autocomplete=\"off\" value=\"\" title=\"Google &#44160;&#49353;\" maxlength=\"2048\" name=\"q\" size=\"57\"><img src=\"/textinputassistant/tia.png\" style=\"position:absolute;cursor:pointer;right:5px;top:4px;z-index:300\" data-script-url=\"/textinputassistant/11/ko_tia.js\" id=\"tsuid1\" alt=\"\" height=\"23\" width=\"27\"><script nonce=\"osIR36sH6C1RDGaXhaBHhQ==\">(function(){var id='tsuid1';document.getElementById(id).onclick = function(){var s = document.createElement('script');s.src = this.getAttribute('data-script-url');(document.getElementById('xjsc')||document.body).appendChild(s);};})();</script></div></div><br style=\"line-height:0\"><span class=\"ds\"><span class=\"lsbb\"><input class=\"lsb\" value=\"Google &#44160;&#49353;\" name=\"btnG\" type=\"submit\"></span></span><span class=\"ds\"><span class=\"lsbb\"><input class=\"lsb\" id=\"tsuid2\" value=\"I&#8217;m Feeling Lucky\" name=\"btnI\" type=\"submit\"><script nonce=\"osIR36sH6C1RDGaXhaBHhQ==\">(function(){var id='tsuid2';document.getElementById(id).onclick = function(){if (this.form.q.value){this.checked = 1;if (this.form.iflsig)this.form.iflsig.disabled = false;}\n",
       "else top.location='/doodles/';};})();</script><input value=\"AINFCbYAAAAAYEjLqE8fxi4Iuh0grvB_uH17HId1_ycW\" name=\"iflsig\" type=\"hidden\"></span></span></td><td class=\"fl sblc\" align=\"left\" nowrap=\"\" width=\"25%\"><a href=\"/advanced_search?hl=ko&amp;authuser=0\">&#44256;&#44553;&#44160;&#49353;</a></td></tr></table><input id=\"gbv\" name=\"gbv\" type=\"hidden\" value=\"1\"><script nonce=\"osIR36sH6C1RDGaXhaBHhQ==\">(function(){var a,b=\"1\";if(document&&document.getElementById)if(\"undefined\"!=typeof XMLHttpRequest)b=\"2\";else if(\"undefined\"!=typeof ActiveXObject){var c,d,e=[\"MSXML2.XMLHTTP.6.0\",\"MSXML2.XMLHTTP.3.0\",\"MSXML2.XMLHTTP\",\"Microsoft.XMLHTTP\"];for(c=0;d=e[c++];)try{new ActiveXObject(d),b=\"2\"}catch(h){}}a=b;if(\"2\"==a&&-1==location.search.indexOf(\"&gbv=2\")){var f=google.gbvu,g=document.getElementById(\"gbv\");g&&(g.value=a);f&&window.setTimeout(function(){location.href=f},0)};}).call(this);</script></form><div id=\"gac_scont\"></div><div style=\"font-size:83%;min-height:3.5em\"><br></div><span id=\"footer\"><div style=\"font-size:10pt\"><div style=\"margin:19px auto;text-align:center\" id=\"WqQANb\"><a href=\"/intl/ko/ads/\">&#44305;&#44256; &#54532;&#47196;&#44536;&#47016;</a><a href=\"http://www.google.co.kr/intl/ko/services/\">&#48708;&#51592;&#45768;&#49828; &#49556;&#47336;&#49496;</a><a href=\"/intl/ko/about.html\">Google &#51221;&#48372;</a><a href=\"http://www.google.com/setprefdomain?prefdom=KR&amp;prev=http://www.google.co.kr/&amp;sig=K_x_blN7a-ciYYaq7Hl9koy-xWyPU%3D\">Google.co.kr</a></div></div><p style=\"font-size:8pt;color:#70757a\">&copy; 2021 - <a href=\"/intl/ko/policies/privacy/\">&#44060;&#51064;&#51221;&#48372;&#52376;&#47532;&#48169;&#52840;</a> - <a href=\"/intl/ko/policies/terms/\">&#50557;&#44288;</a></p></span></center><script nonce=\"osIR36sH6C1RDGaXhaBHhQ==\">(function(){window.google.cdo={height:0,width:0};(function(){var a=window.innerWidth,b=window.innerHeight;if(!a||!b){var c=window.document,d=\"CSS1Compat\"==c.compatMode?c.documentElement:c.body;a=d.clientWidth;b=d.clientHeight}a&&b&&(a!=google.cdo.width||b!=google.cdo.height)&&google.log(\"\",\"\",\"/client_204?&atyp=i&biw=\"+a+\"&bih=\"+b+\"&ei=\"+google.kEI);}).call(this);})();(function(){var u='/xjs/_/js/k\\x3dxjs.hp.en.lHALn3aRwgs.O/m\\x3dsb_he,d/am\\x3dAHiCOA/d\\x3d1/rs\\x3dACT90oFh_K1-zImL_U7QWUBLJ4IsN7T3RQ';\n",
       "var d=this||self,e=/^[\\w+/_-]+[=]{0,2}$/,f=null,g=function(a){return(a=a.querySelector&&a.querySelector(\"script[nonce]\"))&&(a=a.nonce||a.getAttribute(\"nonce\"))&&e.test(a)?a:\"\"},h=function(a){return a};var l;var n=function(a,b){this.g=b===m?a:\"\"};n.prototype.toString=function(){return this.g+\"\"};var m={};function p(){var a=u;google.lx=function(){q(a);google.lx=function(){}};google.bx||google.lx()}\n",
       "function q(a){var b=document;var c=\"SCRIPT\";\"application/xhtml+xml\"===b.contentType&&(c=c.toLowerCase());c=b.createElement(c);if(void 0===l){b=null;var k=d.trustedTypes;if(k&&k.createPolicy){try{b=k.createPolicy(\"goog#html\",{createHTML:h,createScript:h,createScriptURL:h})}catch(r){d.console&&d.console.error(r.message)}l=b}else l=b}a=(b=l)?b.createScriptURL(a):a;a=new n(a,m);c.src=a instanceof n&&a.constructor===n?a.g:\"type_error:TrustedResourceUrl\";(a=c.ownerDocument&&c.ownerDocument.defaultView)&&\n",
       "a!=d?a=g(a.document):(null===f&&(f=g(d.document)),a=f);a&&c.setAttribute(\"nonce\",a);google.timers&&google.timers.load&&google.tick&&google.tick(\"load\",\"xjsls\");document.body.appendChild(c)};setTimeout(function(){p()},0);})();(function(){window.google.xjsu='/xjs/_/js/k\\x3dxjs.hp.en.lHALn3aRwgs.O/m\\x3dsb_he,d/am\\x3dAHiCOA/d\\x3d1/rs\\x3dACT90oFh_K1-zImL_U7QWUBLJ4IsN7T3RQ';})();function _DumpException(e){throw e;}\n",
       "function _F_installCss(c){}\n",
       "(function(){google.jl={blt:'none',dw:false,em:[],emw:false,lls:'default',pdt:0,snet:true,uwp:true};})();(function(){var pmc='{\\x22d\\x22:{},\\x22sb_he\\x22:{\\x22agen\\x22:true,\\x22cgen\\x22:true,\\x22client\\x22:\\x22heirloom-hp\\x22,\\x22dh\\x22:true,\\x22dhqt\\x22:true,\\x22ds\\x22:\\x22\\x22,\\x22ffql\\x22:\\x22ko\\x22,\\x22fl\\x22:true,\\x22host\\x22:\\x22google.com\\x22,\\x22isbh\\x22:28,\\x22jsonp\\x22:true,\\x22msgs\\x22:{\\x22cibl\\x22:\\x22&#44160;&#49353;&#50612; &#51648;&#50864;&#44592;\\x22,\\x22dym\\x22:\\x22&#51060;&#44163;&#51012; &#52286;&#51004;&#49512;&#45208;&#50836;?\\x22,\\x22lcky\\x22:\\x22I&#8217;m Feeling Lucky\\x22,\\x22lml\\x22:\\x22&#51088;&#49464;&#55176; &#50508;&#50500;&#48372;&#44592;\\x22,\\x22oskt\\x22:\\x22&#51077;&#47141; &#46020;&#44396;\\x22,\\x22psrc\\x22:\\x22&#44160;&#49353;&#50612;&#44032; \\\\u003Ca href\\x3d\\\\\\x22/history\\\\\\x22\\\\u003E&#50937; &#44592;&#47197;\\\\u003C/a\\\\u003E&#50640;&#49436; &#49325;&#51228;&#46104;&#50632;&#49845;&#45768;&#45796;.\\x22,\\x22psrl\\x22:\\x22&#49325;&#51228;\\x22,\\x22sbit\\x22:\\x22&#51060;&#48120;&#51648;&#47196; &#44160;&#49353;\\x22,\\x22srch\\x22:\\x22Google &#44160;&#49353;\\x22},\\x22nrft\\x22:false,\\x22ovr\\x22:{},\\x22pq\\x22:\\x22\\x22,\\x22refpd\\x22:true,\\x22refspre\\x22:true,\\x22rfs\\x22:[],\\x22sbas\\x22:\\x220 3px 8px 0 rgba(0,0,0,0.2),0 0 0 1px rgba(0,0,0,0.08)\\x22,\\x22sbpl\\x22:16,\\x22sbpr\\x22:16,\\x22scd\\x22:10,\\x22stok\\x22:\\x22EMC4g_CrFvkIMp30KtOZKReMBbY\\x22,\\x22uhde\\x22:false}}';google.pmc=JSON.parse(pmc);})();</script>        </body></html>"
      ],
      "text/plain": [
       "<IPython.core.display.HTML object>"
      ]
     },
     "execution_count": 23,
     "metadata": {},
     "output_type": "execute_result"
    }
   ],
   "source": [
    "from IPython.display import HTML\n",
    "HTML(filename='./google.html')"
   ]
  },
  {
   "cell_type": "markdown",
   "metadata": {},
   "source": [
    "## 5-3-2 : Regular Expression"
   ]
  },
  {
   "cell_type": "markdown",
   "metadata": {},
   "source": [
    "주민등록번호\n",
    "이메일 주소\n",
    "IP 주소\n",
    "MAC 주소\n",
    "..."
   ]
  },
  {
   "cell_type": "code",
   "execution_count": 2,
   "metadata": {},
   "outputs": [],
   "source": [
    "import re"
   ]
  },
  {
   "cell_type": "markdown",
   "metadata": {},
   "source": [
    "### Metacharacters\n",
    "- '[]' :\tA set of characters\t\"[a-m]\"\t\n",
    "- '\\\\' :\tSignals a special sequence (can also be used to escape special characters)\t\"\\d\"\t\n",
    "- '.'\t: Any character (except newline character)\t\"he..o\"\t\n",
    "- '^'\t: Starts with\t\"^hello\"\t\n",
    "- '\\\\$'\t: Ends with\t\"world\\\\$\"\n",
    "- '\\*'\t: Zero or more occurrences\t\"aix\\*\"\t\n",
    "- '+'\t: One or more occurrences\t\"aix+\"\t\n",
    "- '{}' : Exactly the specified number of occurrences\t\"al{2}\"\t\n",
    "- '|'\t: Either or\t\"falls|stays\""
   ]
  },
  {
   "cell_type": "markdown",
   "metadata": {},
   "source": [
    "### Special Sequences\n",
    "- \\A\t: Returns a match if the specified characters are at the beginning of the string\t\"\\AThe\"\n",
    "- \\b\t: Returns a match where the specified characters are at the beginning or at the end of a word\n",
    "(the \"r\" in the beginning is making sure that the string is being treated as a \"raw string\")\tr\"\\bain\"\n",
    "r\"ain\\b\"\n",
    "- \\B\t: Returns a match where the specified characters are present, but NOT at the beginning (or at the end) of a word\n",
    "(the \"r\" in the beginning is making sure that the string is being treated as a \"raw string\")\tr\"\\Bain\"\n",
    "r\"ain\\B\"\n",
    "- \\d\t: Returns a match where the string contains digits (numbers from 0-9)\t\"\\d\"\n",
    "- \\D\t: Returns a match where the string DOES NOT contain digits\t\"\\D\"\n",
    "- \\s\t: Returns a match where the string contains a white space character\t\"\\s\"\n",
    "- \\S\t: Returns a match where the string DOES NOT contain a white space character\t\"\\S\"\n",
    "- \\w\t: Returns a match where the string contains any word characters (characters from a to Z, digits from 0-9, and the underscore _ character)\t\"\\w\"\n",
    "- \\W\t: Returns a match where the string DOES NOT contain any word characters\t\"\\W\"\n",
    "- \\Z\t: Returns a match if the specified characters are at the end of the string\t\"Spain\\Z\""
   ]
  },
  {
   "cell_type": "code",
   "execution_count": null,
   "metadata": {},
   "outputs": [],
   "source": []
  },
  {
   "cell_type": "markdown",
   "metadata": {},
   "source": [
    "### match() function"
   ]
  },
  {
   "cell_type": "code",
   "execution_count": 25,
   "metadata": {},
   "outputs": [],
   "source": [
    "pattern = re.compile(\"ni.e\")"
   ]
  },
  {
   "cell_type": "code",
   "execution_count": 26,
   "metadata": {},
   "outputs": [],
   "source": [
    "matched = pattern.match(\"nice\")"
   ]
  },
  {
   "cell_type": "code",
   "execution_count": 28,
   "metadata": {},
   "outputs": [
    {
     "name": "stdout",
     "output_type": "stream",
     "text": [
      "matched.group():nice\n"
     ]
    }
   ],
   "source": [
    "if matched:\n",
    "    print(\"matched.group():\" + matched.group())\n",
    "else:\n",
    "    print(\"no matched\")"
   ]
  },
  {
   "cell_type": "markdown",
   "metadata": {},
   "source": [
    "### search() function"
   ]
  },
  {
   "cell_type": "code",
   "execution_count": 8,
   "metadata": {},
   "outputs": [
    {
     "data": {
      "text/plain": [
       "<_sre.SRE_Match object; span=(0, 17), match='The rain in Spain'>"
      ]
     },
     "execution_count": 8,
     "metadata": {},
     "output_type": "execute_result"
    }
   ],
   "source": [
    "txt = \"The rain in Spain\"\n",
    "x = re.search(\"^The.*Spain$\", txt)\n",
    "x"
   ]
  },
  {
   "cell_type": "markdown",
   "metadata": {},
   "source": [
    "### match() and search() return Match object"
   ]
  },
  {
   "cell_type": "markdown",
   "metadata": {},
   "source": [
    "### Match Object has three functions\n",
    "- .span() returns a tuple containing the start-, and end positions of the match.\n",
    "- .string returns the string passed into the function\n",
    "- .group() returns the part of the string where there was a match"
   ]
  },
  {
   "cell_type": "code",
   "execution_count": 9,
   "metadata": {},
   "outputs": [
    {
     "name": "stdout",
     "output_type": "stream",
     "text": [
      "(12, 17)\n"
     ]
    }
   ],
   "source": [
    "txt = \"The rain in Spain\"\n",
    "x = re.search(r\"\\bS\\w+\", txt)\n",
    "print(x.span())"
   ]
  },
  {
   "cell_type": "code",
   "execution_count": 10,
   "metadata": {},
   "outputs": [
    {
     "name": "stdout",
     "output_type": "stream",
     "text": [
      "The rain in Spain\n"
     ]
    }
   ],
   "source": [
    "txt = \"The rain in Spain\"\n",
    "x = re.search(r\"\\bS\\w+\", txt)\n",
    "print(x.string)"
   ]
  },
  {
   "cell_type": "code",
   "execution_count": 11,
   "metadata": {},
   "outputs": [
    {
     "name": "stdout",
     "output_type": "stream",
     "text": [
      "Spain\n"
     ]
    }
   ],
   "source": [
    "txt = \"The rain in Spain\"\n",
    "x = re.search(r\"\\bS\\w+\", txt)\n",
    "print(x.group())"
   ]
  },
  {
   "cell_type": "markdown",
   "metadata": {},
   "source": [
    "### findall() function"
   ]
  },
  {
   "cell_type": "code",
   "execution_count": 4,
   "metadata": {},
   "outputs": [
    {
     "name": "stdout",
     "output_type": "stream",
     "text": [
      "['ai', 'ai']\n"
     ]
    }
   ],
   "source": [
    "txt = \"The rain in Spain\"\n",
    "x = re.findall(\"ai\", txt)\n",
    "print(x)"
   ]
  },
  {
   "cell_type": "code",
   "execution_count": 6,
   "metadata": {},
   "outputs": [
    {
     "name": "stdout",
     "output_type": "stream",
     "text": [
      "[]\n"
     ]
    }
   ],
   "source": [
    "txt = \"The rain in Spain\"\n",
    "x = re.findall(\"Portugal\", txt)\n",
    "print(x)"
   ]
  },
  {
   "cell_type": "markdown",
   "metadata": {},
   "source": [
    "### split() Function"
   ]
  },
  {
   "cell_type": "code",
   "execution_count": 7,
   "metadata": {},
   "outputs": [
    {
     "name": "stdout",
     "output_type": "stream",
     "text": [
      "['The', 'rain', 'in', 'Spain']\n"
     ]
    }
   ],
   "source": [
    "txt = \"The rain in Spain\"\n",
    "x = re.split(\"\\s\", txt)\n",
    "print(x)"
   ]
  },
  {
   "cell_type": "code",
   "execution_count": 12,
   "metadata": {},
   "outputs": [
    {
     "name": "stdout",
     "output_type": "stream",
     "text": [
      "['The', 'rain in Spain']\n"
     ]
    }
   ],
   "source": [
    "txt = \"The rain in Spain\"\n",
    "x = re.split(\"\\s\", txt, 1)\n",
    "print(x)"
   ]
  },
  {
   "cell_type": "markdown",
   "metadata": {},
   "source": [
    "### sub() Function"
   ]
  },
  {
   "cell_type": "code",
   "execution_count": 13,
   "metadata": {},
   "outputs": [
    {
     "name": "stdout",
     "output_type": "stream",
     "text": [
      "The9rain9in9Spain\n"
     ]
    }
   ],
   "source": [
    "txt = \"The rain in Spain\"\n",
    "x = re.sub(\"\\s\", \"9\", txt)\n",
    "print(x)"
   ]
  },
  {
   "cell_type": "code",
   "execution_count": 14,
   "metadata": {},
   "outputs": [
    {
     "name": "stdout",
     "output_type": "stream",
     "text": [
      "The9rain9in Spain\n"
     ]
    }
   ],
   "source": [
    "txt = \"The rain in Spain\"\n",
    "x = re.sub(\"\\s\", \"9\", txt, 2)\n",
    "print(x)"
   ]
  },
  {
   "cell_type": "markdown",
   "metadata": {},
   "source": [
    "## 5-3-3 : User Agent"
   ]
  },
  {
   "cell_type": "markdown",
   "metadata": {},
   "source": [
    "https://www.whatismybrowser.com/detect/what-is-my-user-agent"
   ]
  },
  {
   "cell_type": "code",
   "execution_count": 73,
   "metadata": {},
   "outputs": [],
   "source": [
    "import requests"
   ]
  },
  {
   "cell_type": "code",
   "execution_count": 74,
   "metadata": {},
   "outputs": [
    {
     "name": "stdout",
     "output_type": "stream",
     "text": [
      "200\n"
     ]
    }
   ],
   "source": [
    "res = requests.get(\"https://blog.naver.com/parksurk/40132030239\")\n",
    "print(res.status_code)\n",
    "res.raise_for_status()"
   ]
  },
  {
   "cell_type": "code",
   "execution_count": 76,
   "metadata": {},
   "outputs": [
    {
     "name": "stdout",
     "output_type": "stream",
     "text": [
      "200\n"
     ]
    }
   ],
   "source": [
    "url = \"https://www.coupang.com\"\n",
    "headers = {\"User-Agent\": \"Mozilla/5.0 (Macintosh; Intel Mac OS X 10_15_6) AppleWebKit/605.1.15 (KHTML, like Gecko) Version/14.0.3 Safari/605.1.15\"}\n",
    "res = requests.get(url, headers=headers)\n",
    "print(res.status_code)\n",
    "res.raise_for_status()"
   ]
  },
  {
   "cell_type": "markdown",
   "metadata": {
    "slideshow": {
     "slide_type": "slide"
    }
   },
   "source": [
    "# Lesson 5-4: Beautiful Soup\n",
    "\n",
    "Beautiful Soup 문서화 페이지 링크 : https://www.crummy.com/software/BeautifulSoup/bs4/doc/"
   ]
  },
  {
   "cell_type": "markdown",
   "metadata": {
    "slideshow": {
     "slide_type": "subslide"
    }
   },
   "source": [
    "## 5-4-1 : Install Beautiful Soup \n",
    "Beautiful Soup = 웹스크레핑 패키지"
   ]
  },
  {
   "cell_type": "code",
   "execution_count": 50,
   "metadata": {
    "slideshow": {
     "slide_type": "subslide"
    }
   },
   "outputs": [
    {
     "name": "stdout",
     "output_type": "stream",
     "text": [
      "Collecting beautifulsoup4\n",
      "  Using cached https://files.pythonhosted.org/packages/d1/41/e6495bd7d3781cee623ce23ea6ac73282a373088fcd0ddc809a047b18eae/beautifulsoup4-4.9.3-py3-none-any.whl\n",
      "Collecting soupsieve>1.2; python_version >= \"3.0\" (from beautifulsoup4)\n",
      "  Downloading https://files.pythonhosted.org/packages/41/e7/3617a4b988ed7744743fb0dbba5aa0a6e3f95a9557b43f8c4740d296b48a/soupsieve-2.2-py3-none-any.whl\n",
      "Installing collected packages: soupsieve, beautifulsoup4\n",
      "Successfully installed beautifulsoup4-4.9.3 soupsieve-2.2\n"
     ]
    }
   ],
   "source": [
    "!pip install beautifulsoup4"
   ]
  },
  {
   "cell_type": "markdown",
   "metadata": {},
   "source": [
    "## 5-4-2 : Install lxml \n",
    "lxml = 구문분석기 패키지"
   ]
  },
  {
   "cell_type": "code",
   "execution_count": 51,
   "metadata": {
    "slideshow": {
     "slide_type": "subslide"
    }
   },
   "outputs": [
    {
     "name": "stdout",
     "output_type": "stream",
     "text": [
      "Collecting lxml\n",
      "\u001b[?25l  Downloading https://files.pythonhosted.org/packages/19/2f/a987692a0b2bfe11db25392c115c94e139efa8d78f1c987d2e51d4d2fa82/lxml-4.6.2-cp36-cp36m-macosx_10_9_x86_64.whl (4.6MB)\n",
      "\u001b[K    100% |████████████████████████████████| 4.6MB 3.0MB/s ta 0:00:011██████████████████     | 3.9MB 2.5MB/s eta 0:00:01\n",
      "\u001b[?25hInstalling collected packages: lxml\n",
      "Successfully installed lxml-4.6.2\n"
     ]
    }
   ],
   "source": [
    "!pip install lxml"
   ]
  },
  {
   "cell_type": "markdown",
   "metadata": {},
   "source": [
    "## 5-4-3 : 블로그에서 데이터 수집하기 \n",
    "개인(박석) 블로그 URL : https://parksurk.github.io"
   ]
  },
  {
   "cell_type": "code",
   "execution_count": 1,
   "metadata": {},
   "outputs": [],
   "source": [
    "import requests\n",
    "from bs4 import BeautifulSoup"
   ]
  },
  {
   "cell_type": "code",
   "execution_count": 2,
   "metadata": {
    "slideshow": {
     "slide_type": "subslide"
    }
   },
   "outputs": [
    {
     "name": "stdout",
     "output_type": "stream",
     "text": [
      "200\n"
     ]
    }
   ],
   "source": [
    "url = \"https://parksurk.github.io\"\n",
    "res = requests.get(url)\n",
    "print(res.status_code)\n",
    "res.raise_for_status()"
   ]
  },
  {
   "cell_type": "code",
   "execution_count": 3,
   "metadata": {
    "slideshow": {
     "slide_type": "subslide"
    }
   },
   "outputs": [],
   "source": [
    "bs = BeautifulSoup(res.text, \"lxml\")"
   ]
  },
  {
   "cell_type": "code",
   "execution_count": 9,
   "metadata": {
    "slideshow": {
     "slide_type": "subslide"
    }
   },
   "outputs": [
    {
     "data": {
      "text/plain": [
       "<title>Everyday Just a little bit</title>"
      ]
     },
     "execution_count": 9,
     "metadata": {},
     "output_type": "execute_result"
    }
   ],
   "source": [
    "bs.title"
   ]
  },
  {
   "cell_type": "code",
   "execution_count": 10,
   "metadata": {},
   "outputs": [
    {
     "data": {
      "text/plain": [
       "'Everyday Just a little bit'"
      ]
     },
     "execution_count": 10,
     "metadata": {},
     "output_type": "execute_result"
    }
   ],
   "source": [
    "bs.title.get_text()"
   ]
  },
  {
   "cell_type": "code",
   "execution_count": 11,
   "metadata": {},
   "outputs": [
    {
     "data": {
      "text/plain": [
       "<a class=\"screen-reader-shortcut\" href=\"#site-nav\">Skip to primary navigation</a>"
      ]
     },
     "execution_count": 11,
     "metadata": {},
     "output_type": "execute_result"
    }
   ],
   "source": [
    "bs.a"
   ]
  },
  {
   "cell_type": "code",
   "execution_count": 12,
   "metadata": {},
   "outputs": [
    {
     "data": {
      "text/plain": [
       "{'href': '#site-nav', 'class': ['screen-reader-shortcut']}"
      ]
     },
     "execution_count": 12,
     "metadata": {},
     "output_type": "execute_result"
    }
   ],
   "source": [
    "bs.a.attrs"
   ]
  },
  {
   "cell_type": "code",
   "execution_count": 13,
   "metadata": {},
   "outputs": [
    {
     "data": {
      "text/plain": [
       "'#site-nav'"
      ]
     },
     "execution_count": 13,
     "metadata": {},
     "output_type": "execute_result"
    }
   ],
   "source": [
    "bs.a['href']"
   ]
  },
  {
   "cell_type": "code",
   "execution_count": 23,
   "metadata": {},
   "outputs": [
    {
     "data": {
      "text/plain": [
       "<p class=\"archive__item-excerpt\" itemprop=\"description\">심층강화학습(Deep Reinforcement Learning) Evolutionary Strategies 알고리즘에 대해 알아보자.\n",
       "</p>"
      ]
     },
     "execution_count": 23,
     "metadata": {},
     "output_type": "execute_result"
    }
   ],
   "source": [
    "bs.find(\"p\", attrs={\"class\":\"archive__item-excerpt\", \"itemprop\":\"description\"})"
   ]
  },
  {
   "cell_type": "code",
   "execution_count": 24,
   "metadata": {},
   "outputs": [
    {
     "data": {
      "text/plain": [
       "<div class=\"author__bio\" itemprop=\"description\">\n",
       "<p>Dreaming one of startup-nomads in the future zero marginal society.</p>\n",
       "</div>"
      ]
     },
     "execution_count": 24,
     "metadata": {},
     "output_type": "execute_result"
    }
   ],
   "source": [
    "bs.find(attrs={\"itemprop\":\"description\"})"
   ]
  },
  {
   "cell_type": "code",
   "execution_count": 33,
   "metadata": {},
   "outputs": [
    {
     "name": "stdout",
     "output_type": "stream",
     "text": [
      "<div class=\"list__item\">\n",
      "<article class=\"archive__item\" itemscope=\"\" itemtype=\"https://schema.org/CreativeWork\">\n",
      "<h2 class=\"archive__item-title\" itemprop=\"headline\">\n",
      "<a href=\"/deeprl/drlia_ch6_evolution_strategies-post/\" rel=\"permalink\">DRL Evolutionary Strategies\n",
      "</a>\n",
      "</h2>\n",
      "<!--\n",
      "    parksurk comments :\n",
      "      - 아키이브 싱글 페이지(ex. 카테고리)에 각 포스트 제목 밑에 Updated 시간 표기\n",
      "      - 기존에는 read_time이 표기. read_time -> date 변경\n",
      "    \n",
      "      <p class=\"page__meta\"><i class=\"far fa-clock\" aria-hidden=\"true\"></i> \n",
      "\n",
      "\n",
      "\n",
      "\n",
      "  28 minute read\n",
      "\n",
      "</p>\n",
      "    \n",
      "    -->\n",
      "<p class=\"page__meta\"><i aria-hidden=\"true\" class=\"far fa-fw fa-calendar-alt\"></i> April 17 2020</p>\n",
      "<p class=\"archive__item-excerpt\" itemprop=\"description\">심층강화학습(Deep Reinforcement Learning) Evolutionary Strategies 알고리즘에 대해 알아보자.\n",
      "</p>\n",
      "</article>\n",
      "</div>\n"
     ]
    }
   ],
   "source": [
    "div_list_item = bs.find(\"div\", attrs={\"class\":\"list__item\"})\n",
    "print(div_list_item)"
   ]
  },
  {
   "cell_type": "code",
   "execution_count": 38,
   "metadata": {},
   "outputs": [
    {
     "data": {
      "text/plain": [
       "<p class=\"page__meta\"><i aria-hidden=\"true\" class=\"far fa-fw fa-calendar-alt\"></i> April 17 2020</p>"
      ]
     },
     "execution_count": 38,
     "metadata": {},
     "output_type": "execute_result"
    }
   ],
   "source": [
    "div_list_item.p"
   ]
  },
  {
   "cell_type": "code",
   "execution_count": 43,
   "metadata": {},
   "outputs": [
    {
     "data": {
      "text/plain": [
       "' April 17 2020'"
      ]
     },
     "execution_count": 43,
     "metadata": {},
     "output_type": "execute_result"
    }
   ],
   "source": [
    "div_list_item.p.get_text()"
   ]
  },
  {
   "cell_type": "code",
   "execution_count": 45,
   "metadata": {},
   "outputs": [],
   "source": [
    "div01 = div_list_item"
   ]
  },
  {
   "cell_type": "code",
   "execution_count": 46,
   "metadata": {},
   "outputs": [
    {
     "data": {
      "text/plain": [
       "'\\n'"
      ]
     },
     "execution_count": 46,
     "metadata": {},
     "output_type": "execute_result"
    }
   ],
   "source": [
    "div01.next_sibling"
   ]
  },
  {
   "cell_type": "code",
   "execution_count": 47,
   "metadata": {},
   "outputs": [
    {
     "data": {
      "text/plain": [
       "<div class=\"list__item\">\n",
       "<article class=\"archive__item\" itemscope=\"\" itemtype=\"https://schema.org/CreativeWork\">\n",
       "<h2 class=\"archive__item-title\" itemprop=\"headline\">\n",
       "<a href=\"/deeprl/drlnd_2-4_value_based_methods-post/\" rel=\"permalink\">DRL Value-based Methods\n",
       "</a>\n",
       "</h2>\n",
       "<!--\n",
       "    parksurk comments :\n",
       "      - 아키이브 싱글 페이지(ex. 카테고리)에 각 포스트 제목 밑에 Updated 시간 표기\n",
       "      - 기존에는 read_time이 표기. read_time -> date 변경\n",
       "    \n",
       "      <p class=\"page__meta\"><i class=\"far fa-clock\" aria-hidden=\"true\"></i> \n",
       "\n",
       "\n",
       "\n",
       "\n",
       "  11 minute read\n",
       "\n",
       "</p>\n",
       "    \n",
       "    -->\n",
       "<p class=\"page__meta\"><i aria-hidden=\"true\" class=\"far fa-fw fa-calendar-alt\"></i> June 23 2019</p>\n",
       "<p class=\"archive__item-excerpt\" itemprop=\"description\">심층강화학습(Deep Reinforcement Learning) Value-based 알고리즘에 대해 알아보자. DQN / DDQN / PER / Dueling DQN /Rainbow\n",
       "</p>\n",
       "</article>\n",
       "</div>"
      ]
     },
     "execution_count": 47,
     "metadata": {},
     "output_type": "execute_result"
    }
   ],
   "source": [
    "div01.next_sibling.next_sibling"
   ]
  },
  {
   "cell_type": "code",
   "execution_count": 49,
   "metadata": {},
   "outputs": [
    {
     "data": {
      "text/plain": [
       "<div class=\"list__item\">\n",
       "<article class=\"archive__item\" itemscope=\"\" itemtype=\"https://schema.org/CreativeWork\">\n",
       "<h2 class=\"archive__item-title\" itemprop=\"headline\">\n",
       "<a href=\"/deeprl/drlnd_2-4_value_based_methods-post/\" rel=\"permalink\">DRL Value-based Methods\n",
       "</a>\n",
       "</h2>\n",
       "<!--\n",
       "    parksurk comments :\n",
       "      - 아키이브 싱글 페이지(ex. 카테고리)에 각 포스트 제목 밑에 Updated 시간 표기\n",
       "      - 기존에는 read_time이 표기. read_time -> date 변경\n",
       "    \n",
       "      <p class=\"page__meta\"><i class=\"far fa-clock\" aria-hidden=\"true\"></i> \n",
       "\n",
       "\n",
       "\n",
       "\n",
       "  11 minute read\n",
       "\n",
       "</p>\n",
       "    \n",
       "    -->\n",
       "<p class=\"page__meta\"><i aria-hidden=\"true\" class=\"far fa-fw fa-calendar-alt\"></i> June 23 2019</p>\n",
       "<p class=\"archive__item-excerpt\" itemprop=\"description\">심층강화학습(Deep Reinforcement Learning) Value-based 알고리즘에 대해 알아보자. DQN / DDQN / PER / Dueling DQN /Rainbow\n",
       "</p>\n",
       "</article>\n",
       "</div>"
      ]
     },
     "execution_count": 49,
     "metadata": {},
     "output_type": "execute_result"
    }
   ],
   "source": [
    "div02 = div01.next_sibling.next_sibling\n",
    "div02"
   ]
  },
  {
   "cell_type": "code",
   "execution_count": 50,
   "metadata": {},
   "outputs": [
    {
     "data": {
      "text/plain": [
       "<div class=\"list__item\">\n",
       "<article class=\"archive__item\" itemscope=\"\" itemtype=\"https://schema.org/CreativeWork\">\n",
       "<h2 class=\"archive__item-title\" itemprop=\"headline\">\n",
       "<a href=\"/deeprl/drlnd_1-6_RL_in_continuous_spaces-post/\" rel=\"permalink\">RL in Continuous Spaces\n",
       "</a>\n",
       "</h2>\n",
       "<!--\n",
       "    parksurk comments :\n",
       "      - 아키이브 싱글 페이지(ex. 카테고리)에 각 포스트 제목 밑에 Updated 시간 표기\n",
       "      - 기존에는 read_time이 표기. read_time -> date 변경\n",
       "    \n",
       "      <p class=\"page__meta\"><i class=\"far fa-clock\" aria-hidden=\"true\"></i> \n",
       "\n",
       "\n",
       "\n",
       "\n",
       "  5 minute read\n",
       "\n",
       "</p>\n",
       "    \n",
       "    -->\n",
       "<p class=\"page__meta\"><i aria-hidden=\"true\" class=\"far fa-fw fa-calendar-alt\"></i> February 20 2019</p>\n",
       "<p class=\"archive__item-excerpt\" itemprop=\"description\">강화학습(Reinforcement Learning) 의 Continuous Spaces 문제점과 처리방법에 대해 알아보자. Tile Programming / Function Approximation\n",
       "</p>\n",
       "</article>\n",
       "</div>"
      ]
     },
     "execution_count": 50,
     "metadata": {},
     "output_type": "execute_result"
    }
   ],
   "source": [
    "div03 = div02.next_sibling.next_sibling\n",
    "div03"
   ]
  },
  {
   "cell_type": "code",
   "execution_count": 51,
   "metadata": {},
   "outputs": [
    {
     "data": {
      "text/plain": [
       "<div class=\"archive\">\n",
       "<h1 class=\"page__title\" id=\"page-title\"></h1>\n",
       "<h3 class=\"archive__subtitle\">Recent posts</h3>\n",
       "<div class=\"list__item\">\n",
       "<article class=\"archive__item\" itemscope=\"\" itemtype=\"https://schema.org/CreativeWork\">\n",
       "<h2 class=\"archive__item-title\" itemprop=\"headline\">\n",
       "<a href=\"/deeprl/drlia_ch6_evolution_strategies-post/\" rel=\"permalink\">DRL Evolutionary Strategies\n",
       "</a>\n",
       "</h2>\n",
       "<!--\n",
       "    parksurk comments :\n",
       "      - 아키이브 싱글 페이지(ex. 카테고리)에 각 포스트 제목 밑에 Updated 시간 표기\n",
       "      - 기존에는 read_time이 표기. read_time -> date 변경\n",
       "    \n",
       "      <p class=\"page__meta\"><i class=\"far fa-clock\" aria-hidden=\"true\"></i> \n",
       "\n",
       "\n",
       "\n",
       "\n",
       "  28 minute read\n",
       "\n",
       "</p>\n",
       "    \n",
       "    -->\n",
       "<p class=\"page__meta\"><i aria-hidden=\"true\" class=\"far fa-fw fa-calendar-alt\"></i> April 17 2020</p>\n",
       "<p class=\"archive__item-excerpt\" itemprop=\"description\">심층강화학습(Deep Reinforcement Learning) Evolutionary Strategies 알고리즘에 대해 알아보자.\n",
       "</p>\n",
       "</article>\n",
       "</div>\n",
       "<div class=\"list__item\">\n",
       "<article class=\"archive__item\" itemscope=\"\" itemtype=\"https://schema.org/CreativeWork\">\n",
       "<h2 class=\"archive__item-title\" itemprop=\"headline\">\n",
       "<a href=\"/deeprl/drlnd_2-4_value_based_methods-post/\" rel=\"permalink\">DRL Value-based Methods\n",
       "</a>\n",
       "</h2>\n",
       "<!--\n",
       "    parksurk comments :\n",
       "      - 아키이브 싱글 페이지(ex. 카테고리)에 각 포스트 제목 밑에 Updated 시간 표기\n",
       "      - 기존에는 read_time이 표기. read_time -> date 변경\n",
       "    \n",
       "      <p class=\"page__meta\"><i class=\"far fa-clock\" aria-hidden=\"true\"></i> \n",
       "\n",
       "\n",
       "\n",
       "\n",
       "  11 minute read\n",
       "\n",
       "</p>\n",
       "    \n",
       "    -->\n",
       "<p class=\"page__meta\"><i aria-hidden=\"true\" class=\"far fa-fw fa-calendar-alt\"></i> June 23 2019</p>\n",
       "<p class=\"archive__item-excerpt\" itemprop=\"description\">심층강화학습(Deep Reinforcement Learning) Value-based 알고리즘에 대해 알아보자. DQN / DDQN / PER / Dueling DQN /Rainbow\n",
       "</p>\n",
       "</article>\n",
       "</div>\n",
       "<div class=\"list__item\">\n",
       "<article class=\"archive__item\" itemscope=\"\" itemtype=\"https://schema.org/CreativeWork\">\n",
       "<h2 class=\"archive__item-title\" itemprop=\"headline\">\n",
       "<a href=\"/deeprl/drlnd_1-6_RL_in_continuous_spaces-post/\" rel=\"permalink\">RL in Continuous Spaces\n",
       "</a>\n",
       "</h2>\n",
       "<!--\n",
       "    parksurk comments :\n",
       "      - 아키이브 싱글 페이지(ex. 카테고리)에 각 포스트 제목 밑에 Updated 시간 표기\n",
       "      - 기존에는 read_time이 표기. read_time -> date 변경\n",
       "    \n",
       "      <p class=\"page__meta\"><i class=\"far fa-clock\" aria-hidden=\"true\"></i> \n",
       "\n",
       "\n",
       "\n",
       "\n",
       "  5 minute read\n",
       "\n",
       "</p>\n",
       "    \n",
       "    -->\n",
       "<p class=\"page__meta\"><i aria-hidden=\"true\" class=\"far fa-fw fa-calendar-alt\"></i> February 20 2019</p>\n",
       "<p class=\"archive__item-excerpt\" itemprop=\"description\">강화학습(Reinforcement Learning) 의 Continuous Spaces 문제점과 처리방법에 대해 알아보자. Tile Programming / Function Approximation\n",
       "</p>\n",
       "</article>\n",
       "</div>\n",
       "<div class=\"list__item\">\n",
       "<article class=\"archive__item\" itemscope=\"\" itemtype=\"https://schema.org/CreativeWork\">\n",
       "<h2 class=\"archive__item-title\" itemprop=\"headline\">\n",
       "<a href=\"/deeprl/drlnd_1-5_temporal_difference_methods-post/\" rel=\"permalink\">DRL Temporal-Difference Mothods\n",
       "</a>\n",
       "</h2>\n",
       "<!--\n",
       "    parksurk comments :\n",
       "      - 아키이브 싱글 페이지(ex. 카테고리)에 각 포스트 제목 밑에 Updated 시간 표기\n",
       "      - 기존에는 read_time이 표기. read_time -> date 변경\n",
       "    \n",
       "      <p class=\"page__meta\"><i class=\"far fa-clock\" aria-hidden=\"true\"></i> \n",
       "\n",
       "\n",
       "\n",
       "\n",
       "  10 minute read\n",
       "\n",
       "</p>\n",
       "    \n",
       "    -->\n",
       "<p class=\"page__meta\"><i aria-hidden=\"true\" class=\"far fa-fw fa-calendar-alt\"></i> December 11 2018</p>\n",
       "<p class=\"archive__item-excerpt\" itemprop=\"description\">심층강화학습(Deep Reinforcement Learning) Temporal-Difference 알고리즘에 대해 알아보자. SARSA / Q-Learning\n",
       "</p>\n",
       "</article>\n",
       "</div>\n",
       "<div class=\"list__item\">\n",
       "<article class=\"archive__item\" itemscope=\"\" itemtype=\"https://schema.org/CreativeWork\">\n",
       "<h2 class=\"archive__item-title\" itemprop=\"headline\">\n",
       "<a href=\"/deeprl/drlnd_1-3_dynamic_programming-post/\" rel=\"permalink\">DRL Dynamic Programming\n",
       "</a>\n",
       "</h2>\n",
       "<!--\n",
       "    parksurk comments :\n",
       "      - 아키이브 싱글 페이지(ex. 카테고리)에 각 포스트 제목 밑에 Updated 시간 표기\n",
       "      - 기존에는 read_time이 표기. read_time -> date 변경\n",
       "    \n",
       "      <p class=\"page__meta\"><i class=\"far fa-clock\" aria-hidden=\"true\"></i> \n",
       "\n",
       "\n",
       "\n",
       "\n",
       "  2 minute read\n",
       "\n",
       "</p>\n",
       "    \n",
       "    -->\n",
       "<p class=\"page__meta\"><i aria-hidden=\"true\" class=\"far fa-fw fa-calendar-alt\"></i> December 10 2018</p>\n",
       "<p class=\"archive__item-excerpt\" itemprop=\"description\">심층강화학습(Deep Reinforcement Learning) Dynamic Programming 알고리즘에 대해 알아보자.\n",
       "</p>\n",
       "</article>\n",
       "</div>\n",
       "<nav class=\"pagination\">\n",
       "<ul>\n",
       "<li><a class=\"disabled\" href=\"#\"><span aria-hidden=\"true\">Previous</span></a></li>\n",
       "<li><a class=\"disabled current\" href=\"#\">1</a></li>\n",
       "<li><a href=\"/page2/\">2</a></li>\n",
       "<li><a href=\"/page3/\">3</a></li>\n",
       "<li><a href=\"/page2/\">Next</a></li>\n",
       "</ul>\n",
       "</nav>\n",
       "</div>"
      ]
     },
     "execution_count": 51,
     "metadata": {},
     "output_type": "execute_result"
    }
   ],
   "source": [
    "div01.parent"
   ]
  },
  {
   "cell_type": "code",
   "execution_count": 54,
   "metadata": {},
   "outputs": [
    {
     "data": {
      "text/plain": [
       "<div class=\"list__item\">\n",
       "<article class=\"archive__item\" itemscope=\"\" itemtype=\"https://schema.org/CreativeWork\">\n",
       "<h2 class=\"archive__item-title\" itemprop=\"headline\">\n",
       "<a href=\"/deeprl/drlnd_1-6_RL_in_continuous_spaces-post/\" rel=\"permalink\">RL in Continuous Spaces\n",
       "</a>\n",
       "</h2>\n",
       "<!--\n",
       "    parksurk comments :\n",
       "      - 아키이브 싱글 페이지(ex. 카테고리)에 각 포스트 제목 밑에 Updated 시간 표기\n",
       "      - 기존에는 read_time이 표기. read_time -> date 변경\n",
       "    \n",
       "      <p class=\"page__meta\"><i class=\"far fa-clock\" aria-hidden=\"true\"></i> \n",
       "\n",
       "\n",
       "\n",
       "\n",
       "  5 minute read\n",
       "\n",
       "</p>\n",
       "    \n",
       "    -->\n",
       "<p class=\"page__meta\"><i aria-hidden=\"true\" class=\"far fa-fw fa-calendar-alt\"></i> February 20 2019</p>\n",
       "<p class=\"archive__item-excerpt\" itemprop=\"description\">강화학습(Reinforcement Learning) 의 Continuous Spaces 문제점과 처리방법에 대해 알아보자. Tile Programming / Function Approximation\n",
       "</p>\n",
       "</article>\n",
       "</div>"
      ]
     },
     "execution_count": 54,
     "metadata": {},
     "output_type": "execute_result"
    }
   ],
   "source": [
    "div02.find_next_sibling(\"div\")"
   ]
  },
  {
   "cell_type": "code",
   "execution_count": 55,
   "metadata": {},
   "outputs": [
    {
     "data": {
      "text/plain": [
       "<div class=\"list__item\">\n",
       "<article class=\"archive__item\" itemscope=\"\" itemtype=\"https://schema.org/CreativeWork\">\n",
       "<h2 class=\"archive__item-title\" itemprop=\"headline\">\n",
       "<a href=\"/deeprl/drlia_ch6_evolution_strategies-post/\" rel=\"permalink\">DRL Evolutionary Strategies\n",
       "</a>\n",
       "</h2>\n",
       "<!--\n",
       "    parksurk comments :\n",
       "      - 아키이브 싱글 페이지(ex. 카테고리)에 각 포스트 제목 밑에 Updated 시간 표기\n",
       "      - 기존에는 read_time이 표기. read_time -> date 변경\n",
       "    \n",
       "      <p class=\"page__meta\"><i class=\"far fa-clock\" aria-hidden=\"true\"></i> \n",
       "\n",
       "\n",
       "\n",
       "\n",
       "  28 minute read\n",
       "\n",
       "</p>\n",
       "    \n",
       "    -->\n",
       "<p class=\"page__meta\"><i aria-hidden=\"true\" class=\"far fa-fw fa-calendar-alt\"></i> April 17 2020</p>\n",
       "<p class=\"archive__item-excerpt\" itemprop=\"description\">심층강화학습(Deep Reinforcement Learning) Evolutionary Strategies 알고리즘에 대해 알아보자.\n",
       "</p>\n",
       "</article>\n",
       "</div>"
      ]
     },
     "execution_count": 55,
     "metadata": {},
     "output_type": "execute_result"
    }
   ],
   "source": [
    "div02.find_previous_sibling(\"div\")"
   ]
  },
  {
   "cell_type": "code",
   "execution_count": 56,
   "metadata": {},
   "outputs": [
    {
     "data": {
      "text/plain": [
       "[<div class=\"list__item\">\n",
       " <article class=\"archive__item\" itemscope=\"\" itemtype=\"https://schema.org/CreativeWork\">\n",
       " <h2 class=\"archive__item-title\" itemprop=\"headline\">\n",
       " <a href=\"/deeprl/drlnd_2-4_value_based_methods-post/\" rel=\"permalink\">DRL Value-based Methods\n",
       " </a>\n",
       " </h2>\n",
       " <!--\n",
       "     parksurk comments :\n",
       "       - 아키이브 싱글 페이지(ex. 카테고리)에 각 포스트 제목 밑에 Updated 시간 표기\n",
       "       - 기존에는 read_time이 표기. read_time -> date 변경\n",
       "     \n",
       "       <p class=\"page__meta\"><i class=\"far fa-clock\" aria-hidden=\"true\"></i> \n",
       " \n",
       " \n",
       " \n",
       " \n",
       "   11 minute read\n",
       " \n",
       " </p>\n",
       "     \n",
       "     -->\n",
       " <p class=\"page__meta\"><i aria-hidden=\"true\" class=\"far fa-fw fa-calendar-alt\"></i> June 23 2019</p>\n",
       " <p class=\"archive__item-excerpt\" itemprop=\"description\">심층강화학습(Deep Reinforcement Learning) Value-based 알고리즘에 대해 알아보자. DQN / DDQN / PER / Dueling DQN /Rainbow\n",
       " </p>\n",
       " </article>\n",
       " </div>, <div class=\"list__item\">\n",
       " <article class=\"archive__item\" itemscope=\"\" itemtype=\"https://schema.org/CreativeWork\">\n",
       " <h2 class=\"archive__item-title\" itemprop=\"headline\">\n",
       " <a href=\"/deeprl/drlnd_1-6_RL_in_continuous_spaces-post/\" rel=\"permalink\">RL in Continuous Spaces\n",
       " </a>\n",
       " </h2>\n",
       " <!--\n",
       "     parksurk comments :\n",
       "       - 아키이브 싱글 페이지(ex. 카테고리)에 각 포스트 제목 밑에 Updated 시간 표기\n",
       "       - 기존에는 read_time이 표기. read_time -> date 변경\n",
       "     \n",
       "       <p class=\"page__meta\"><i class=\"far fa-clock\" aria-hidden=\"true\"></i> \n",
       " \n",
       " \n",
       " \n",
       " \n",
       "   5 minute read\n",
       " \n",
       " </p>\n",
       "     \n",
       "     -->\n",
       " <p class=\"page__meta\"><i aria-hidden=\"true\" class=\"far fa-fw fa-calendar-alt\"></i> February 20 2019</p>\n",
       " <p class=\"archive__item-excerpt\" itemprop=\"description\">강화학습(Reinforcement Learning) 의 Continuous Spaces 문제점과 처리방법에 대해 알아보자. Tile Programming / Function Approximation\n",
       " </p>\n",
       " </article>\n",
       " </div>, <div class=\"list__item\">\n",
       " <article class=\"archive__item\" itemscope=\"\" itemtype=\"https://schema.org/CreativeWork\">\n",
       " <h2 class=\"archive__item-title\" itemprop=\"headline\">\n",
       " <a href=\"/deeprl/drlnd_1-5_temporal_difference_methods-post/\" rel=\"permalink\">DRL Temporal-Difference Mothods\n",
       " </a>\n",
       " </h2>\n",
       " <!--\n",
       "     parksurk comments :\n",
       "       - 아키이브 싱글 페이지(ex. 카테고리)에 각 포스트 제목 밑에 Updated 시간 표기\n",
       "       - 기존에는 read_time이 표기. read_time -> date 변경\n",
       "     \n",
       "       <p class=\"page__meta\"><i class=\"far fa-clock\" aria-hidden=\"true\"></i> \n",
       " \n",
       " \n",
       " \n",
       " \n",
       "   10 minute read\n",
       " \n",
       " </p>\n",
       "     \n",
       "     -->\n",
       " <p class=\"page__meta\"><i aria-hidden=\"true\" class=\"far fa-fw fa-calendar-alt\"></i> December 11 2018</p>\n",
       " <p class=\"archive__item-excerpt\" itemprop=\"description\">심층강화학습(Deep Reinforcement Learning) Temporal-Difference 알고리즘에 대해 알아보자. SARSA / Q-Learning\n",
       " </p>\n",
       " </article>\n",
       " </div>, <div class=\"list__item\">\n",
       " <article class=\"archive__item\" itemscope=\"\" itemtype=\"https://schema.org/CreativeWork\">\n",
       " <h2 class=\"archive__item-title\" itemprop=\"headline\">\n",
       " <a href=\"/deeprl/drlnd_1-3_dynamic_programming-post/\" rel=\"permalink\">DRL Dynamic Programming\n",
       " </a>\n",
       " </h2>\n",
       " <!--\n",
       "     parksurk comments :\n",
       "       - 아키이브 싱글 페이지(ex. 카테고리)에 각 포스트 제목 밑에 Updated 시간 표기\n",
       "       - 기존에는 read_time이 표기. read_time -> date 변경\n",
       "     \n",
       "       <p class=\"page__meta\"><i class=\"far fa-clock\" aria-hidden=\"true\"></i> \n",
       " \n",
       " \n",
       " \n",
       " \n",
       "   2 minute read\n",
       " \n",
       " </p>\n",
       "     \n",
       "     -->\n",
       " <p class=\"page__meta\"><i aria-hidden=\"true\" class=\"far fa-fw fa-calendar-alt\"></i> December 10 2018</p>\n",
       " <p class=\"archive__item-excerpt\" itemprop=\"description\">심층강화학습(Deep Reinforcement Learning) Dynamic Programming 알고리즘에 대해 알아보자.\n",
       " </p>\n",
       " </article>\n",
       " </div>]"
      ]
     },
     "execution_count": 56,
     "metadata": {},
     "output_type": "execute_result"
    }
   ],
   "source": [
    "div01.find_next_siblings(\"div\")"
   ]
  },
  {
   "cell_type": "code",
   "execution_count": 71,
   "metadata": {},
   "outputs": [
    {
     "name": "stdout",
     "output_type": "stream",
     "text": [
      "DRL Evolutionary Strategies\n",
      "\n",
      "/deeprl/drlia_ch6_evolution_strategies-post/\n",
      "심층강화학습(Deep Reinforcement Learning) Evolutionary Strategies 알고리즘에 대해 알아보자.\n",
      "\n",
      "DRL Value-based Methods\n",
      "\n",
      "/deeprl/drlnd_2-4_value_based_methods-post/\n",
      "심층강화학습(Deep Reinforcement Learning) Value-based 알고리즘에 대해 알아보자. DQN / DDQN / PER / Dueling DQN /Rainbow\n",
      "\n",
      "RL in Continuous Spaces\n",
      "\n",
      "/deeprl/drlnd_1-6_RL_in_continuous_spaces-post/\n",
      "강화학습(Reinforcement Learning) 의 Continuous Spaces 문제점과 처리방법에 대해 알아보자. Tile Programming / Function Approximation\n",
      "\n",
      "DRL Temporal-Difference Mothods\n",
      "\n",
      "/deeprl/drlnd_1-5_temporal_difference_methods-post/\n",
      "심층강화학습(Deep Reinforcement Learning) Temporal-Difference 알고리즘에 대해 알아보자. SARSA / Q-Learning\n",
      "\n",
      "DRL Dynamic Programming\n",
      "\n",
      "/deeprl/drlnd_1-3_dynamic_programming-post/\n",
      "심층강화학습(Deep Reinforcement Learning) Dynamic Programming 알고리즘에 대해 알아보자.\n",
      "\n"
     ]
    }
   ],
   "source": [
    "div_list_items = bs.find_all(\"div\", attrs={\"class\":\"list__item\"})\n",
    "#print(div_list_items)\n",
    "for item in div_list_items:\n",
    "    print(item.a.get_text())\n",
    "    print(item.a[\"href\"])\n",
    "    print(item.find(\"p\", attrs={\"class\":\"archive__item-excerpt\"}).get_text())"
   ]
  },
  {
   "cell_type": "markdown",
   "metadata": {
    "slideshow": {
     "slide_type": "subslide"
    }
   },
   "source": [
    "## 5-4-4 : 쿠팡에서 데이터 수집하기 \n",
    "쿠팡 URL : https://www.coupang.com\n",
    "- 검색어 : 에어팟\n",
    "- https://www.coupang.com/np/search?q=%EC%97%90%EC%96%B4%ED%8C%9F&channel=user&component=&page=1"
   ]
  },
  {
   "cell_type": "markdown",
   "metadata": {},
   "source": [
    "### GET Method vs POST Method\n",
    "![](https://raw.githubusercontent.com/zhsks528/TIL/master/Resource/GET%20vs%20POST.PNG)\n",
    "\n",
    "ref : https://www.neulsang.life/get%20vs%20post/"
   ]
  },
  {
   "cell_type": "code",
   "execution_count": 97,
   "metadata": {
    "slideshow": {
     "slide_type": "subslide"
    }
   },
   "outputs": [
    {
     "name": "stdout",
     "output_type": "stream",
     "text": [
      "200\n"
     ]
    }
   ],
   "source": [
    "import requests\n",
    "import re\n",
    "from bs4 import BeautifulSoup\n",
    "\n",
    "url = \"https://www.coupang.com/np/search?q=%EC%97%90%EC%96%B4%ED%8C%9F&channel=user&component=&page=1\"\n",
    "headers = {\"User-Agent\": \"Mozilla/5.0 (Macintosh; Intel Mac OS X 10_15_6) AppleWebKit/605.1.15 (KHTML, like Gecko) Version/14.0.3 Safari/605.1.15\"}\n",
    "res = requests.get(url, headers=headers)\n",
    "print(res.status_code)\n",
    "res.raise_for_status()\n",
    "\n",
    "bs = BeautifulSoup(res.text, \"lxml\")"
   ]
  },
  {
   "cell_type": "code",
   "execution_count": 99,
   "metadata": {
    "slideshow": {
     "slide_type": "subslide"
    }
   },
   "outputs": [
    {
     "data": {
      "text/plain": [
       "[<li class=\"search-product search-product__ad-badge\" data-is-rocket=\"true\" data-product-id=\"5137063319\" data-vendor-item-id=\"74159597268\" data-winner-vendor-item-id=\"74159597268\" id=\"5137063319\"><a class=\"search-product-link\" data-is-soldout=\"\" data-item-id=\"7038129862\" data-product-id=\"5137063319\" data-srp-log='{\"group\":\"PRODUCT\", \"itemId\":\"7038129862\", \"productId\":\"5137063319\", \"vendorItemId\":\"74159597268\", \"page\":\"1\", \"listSize\":\"36\", \"isCcidEligible\":false, \"displayCcidBadge\":false, \"wowOnlyInstantDiscountRate\": -1, \"snsDiscountRate\" : -1 }' data-vendor-item-id=\"74159597268\" href=\"/vp/products/5137063319?itemId=7038129862&amp;vendorItemId=74159597268&amp;sourceType=srp_product_ads\" target=\"_blank\"><dl class=\"search-product-wrap\"><dt class=\"image\"> <img alt=\"베루스 에어팟프로 케이스 스페셜 에디션, 레몬에이드, 모던\" class=\"search-product-wrap-img\" data-src=\"data:image/gif;base64,R0lGODlhAQABAAAAACH5BAEKAAEALAAAAAABAAEAAAICTAEAOw==\" height=\"230\" onerror=\"this.src='//img2a.coupangcdn.com/image/coupang/common/no_img_1000_1000.png'\" onload=\"logTime(this);logImageLoadTime(this);\" src=\"//thumbnail8.coupangcdn.com/thumbnails/remote/230x230ex/image/vendor_inventory/19cc/e6216f069a006949f844d332c8e670705fc6900e183ef31eace098939ed1.jpg\" width=\"230\"/> </dt><dd class=\"descriptions\"><div class=\"descriptions-inner\"><div class=\"badges\"> <span class=\"ad-badge\" data-click-uri=\"https://mercury.coupang.com/e.gif?r=5dsCMvS1wlkijSbFY5Z78Y170fBFIGWMIbaOCHCifcNfAFsY0%2B6YxZAzS%2Bt3YQaNbNyz0cO6Qja0fDeedKey1iTPANeWZK1XNgu%2FeDc%2FLVSp%2BGiHVCseoJHQLH4XA2fcAC4IpSd1tk6bQ54sEhok%2FLpMDRDvROEJ7btXYXfT1lDO1nhDIDRp9wExcs6yjEiaP4Cei%2BtIc1WO94PORhEcjXuimUymTC58K7Y8Ip1WOpT8iSTQU5aiutYNZPXplgedwzopPuKe%2B0iT37OcQ0U0oc29z%2B69vPN3UNa6C9dwAKqKjnSJ0HBVcR6y4ix89brhhqaVctaKBKcaYCt1QyQK7L%2FZnEas9%2BeUT51CS1gOgAelR0ztbF3Xdjl0bo6rrMNkJzAfXIko3JwV%2FvdEM4iY%2Bt%2B8ZMbXXYKPouz3gvSKjGaehsEz5lmMPRB5t1NoLWq2Xbp2i%2FEIJObji18ZnQ9Zw%2BMS9RdeTN1ct0WMuXgSvjxPUaDgW%2FfGAT3qV9yC9w8t0IyuwC%2BXAuYggxg5wtqFLsfNGLRaYKwN%2BMJpQ1Vx3syJXwsKnSKtWk7ibPNzgTZSBX%2FCbil7UEr9sd6Gqq9cnE1GiHQcXIdf6Q3U3sUPK%2B9qjtVRYlAzHhpGQZWqeVZ46zalPXMmi5Cvou7gwrkvoBPAFjVeaRM8kMuOU0oJuzooHAZrgJPlRxONuVHsfb38iEO7DV4JQ6Ayf6dIlUVuTuN9hygymczqimK36bkQ0fo%3D&amp;korePlacement=15&amp;koreSubPlacement=1\" data-event-id=\"7100ab59-10ec-473a-8ef8-e1ab51325068\" data-impression-uri=\"https://mercury.coupang.com/e.gif?r=5dsCMvS1wlkijSbFY5Z78Y170fBFIGWMIbaOCHCifcNfAFsY0%2B6YxZAzS%2Bt3YQaNbNyz0cO6Qja0fDeedKey1iTPANeWZK1XNgu%2FeDc%2FLVSp%2BGiHVCseoJHQLH4XA2fcAC4IpSd1tk6bQ54sEhok%2FLpMDRDvROEJ7btXYXfT1lDO1nhDIDRp9wExcs6yjEiaP4Cei%2BtIc1WO94PORhEcjXuimUymTC58K7Y8Ip1WOpT8iSTQU5aiutYNZPXplgedwzopPuKe%2B0iT37OcQ0U0oc29z%2B69vPN3UNa6C9dwAKqKjnSJ0HBVcR6y4ix89brhhqaVctaKBKcaYCt1QyQK7L%2FZnEas9%2BeUT51CS1gOgAelR0ztbF3Xdjl0bo6rrMNkJzAfXIko3JwV%2FvdEM4iY%2Bt%2B8ZMbXXYKPouz3gvSKjGaehsEz5lmMPRB5t1NoLWq2Xbp2i%2FEIJObji18ZnQ9Zw%2BMS9RdeTN1ct0WMuXgSvjxPUaDgW%2FfGAT3qV9yC9w8t0IyuwC%2BXAuYggxg5wtqFLsfNGLRaYKwN%2BMJpQ1Vx3syJXwsKnSKtWk7ibPNzgTZSBX%2FCbil7UEr9sd6Gqq9cnE1GiHQcXIdf6Q3U3sUPK%2B9qjtVRYlAzHhpGQZWqeVZ46zalPXMmi5Cvou7gwrkvoBPAFjVeaRM8kMuOU0oJuzooHAZrgJPlRxONuVHsfb38iEO7DV4JQ6Ayf6dIlUVuTpapXU8gnEP85D5ytBCuXMBzyo6snm%2BblJ4yd2GbyLIo&amp;korePlacement=15&amp;koreSubPlacement=1\"> <span class=\"ad-badge-text\">광고</span> <span class=\"ad-badge-icon\"><svg class=\"ad-badge-svg\" height=\"14\" viewbox=\"0 0 14 14\" width=\"14\" xmlns=\"http://www.w3.org/2000/svg\"><g fill=\"none\" fill-rule=\"evenodd\" opacity=\".4\"><path d=\"M0 14h14V0H0z\" fill=\"#000\" fill-opacity=\"0\"></path><path d=\"M6.708 5.833H5.25l1.167.467v3.811L5.25 10.5h3.5l-1.167-.389V5.833h-.875zM7 14A7 7 0 1 1 7 0a7 7 0 0 1 0 14zm-.146-9.042a.73.73 0 1 0 0-1.458.73.73 0 0 0 0 1.458z\" fill=\"#333\"></path></g></svg> </span> </span> </div><div class=\"name\">베루스 에어팟프로 케이스 스페셜 에디션, 레몬에이드, 모던</div> <div class=\"price-area\"> <div class=\"price-wrap\"><div class=\"price\"> <span class=\"price-info\"><span class=\"instant-discount-price\">즉시할인가</span> <span class=\"instant-discount-rate\">18%</span> <del class=\"base-price\">21,800</del> </span> <em class=\"sale discount isInstantDiscount\"> <strong class=\"price-value\">17,800</strong>원   <span class=\"badge rocket\"> <img alt=\"로켓배송\" height=\"16\" src=\"//image10.coupangcdn.com/image/delivery_badge/default/ios/rocket_merchant/consignment_v3@2x.png\"/> </span> </em> </div><!-- Free Shipping Badge -->\n",
       " <div class=\"delivery\"><span class=\"arrival-info\"> <em style=\"color:#00891A\">내일(목) 3/25  </em> <em style=\"color:#00891A\">도착 보장 </em> </span></div> </div> </div><div class=\"other-info\"><div class=\"rating-star\"><span class=\"star\"><em class=\"rating\" style=\"width:100%\">5.0</em></span> <span class=\"rating-total-count\">(1)</span></div></div><div class=\"benefit-badges\"> <div class=\"reward-cash-badge\"><div class=\"reward-cash-badge__inr\"><img alt=\"\" class=\"reward-cash-ico\" src=\"//image6.coupangcdn.com/image/badges/cashback/web/list-cash-icon@2x.png\"/> <span class=\"reward-cash-txt\">최대 890원 적립</span></div></div></div></div></dd></dl><div class=\"mask\"></div></a></li>,\n",
       " <li class=\"search-product\" data-is-rocket=\"true\" data-product-id=\"332473915\" data-vendor-item-id=\"5541656862\" data-winner-vendor-item-id=\"5541656862\" id=\"332473915\"><a class=\"search-product-link\" data-is-soldout=\"\" data-item-id=\"1062243893\" data-product-id=\"332473915\" data-srp-log='{\"group\":\"PRODUCT\", \"itemId\":\"1062243893\", \"productId\":\"332473915\", \"vendorItemId\":\"5541656862\", \"page\":\"1\", \"listSize\":\"36\", \"isCcidEligible\":false, \"displayCcidBadge\":false, \"wowOnlyInstantDiscountRate\": -1, \"snsDiscountRate\" : -1 }' data-vendor-item-id=\"5541656862\" href=\"/vp/products/332473915?itemId=1062243893&amp;vendorItemId=5541656862\" target=\"_blank\"><dl class=\"search-product-wrap\"><dt class=\"image\"> <img alt=\"Apple 에어팟 프로, MWP22KH/A, 화이트\" class=\"search-product-wrap-img\" data-src=\"data:image/gif;base64,R0lGODlhAQABAAAAACH5BAEKAAEALAAAAAABAAEAAAICTAEAOw==\" height=\"230\" onerror=\"this.src='//img2a.coupangcdn.com/image/coupang/common/no_img_1000_1000.png'\" onload=\"logTime(this);logImageLoadTime(this);\" src=\"//thumbnail7.coupangcdn.com/thumbnails/remote/230x230ex/image/retail/images/2019/11/07/18/8/4febc558-85b2-48a8-816e-0940180702df.jpg\" width=\"230\"/> </dt><dd class=\"descriptions\"><div class=\"descriptions-inner\"><div class=\"badges\"> <img alt=\"탑 브랜드\" class=\"badge-ico top-brand\" src=\"//image6.coupangcdn.com/image/badges/top_brand/c-avenue.svg\"/> </div><div class=\"name\">Apple 에어팟 프로, MWP22KH/A, 화이트</div> <div class=\"price-area\"> <div class=\"price-wrap\"><div class=\"price\"> <span class=\"price-info\"> <span class=\"instant-discount-rate\">24%</span> <del class=\"base-price\">329,000</del> </span> <em class=\"sale\"> <strong class=\"price-value\">247,300</strong>원   <span class=\"badge rocket\"> <img alt=\"로켓배송\" height=\"16\" src=\"//image10.coupangcdn.com/image/badges/rocket/rocket_logo.png\"/> </span> </em> </div><!-- Free Shipping Badge -->\n",
       " <div class=\"delivery\"><span class=\"arrival-info\"> <em style=\"color:#00891A\">내일(목) 3/25  </em> <em style=\"color:#00891A\">도착 보장 </em> </span></div> <div class=\"delivery\"> <span class=\"badge falcon\"><img alt=\"로켓직구\" height=\"16\" src=\"//image8.coupangcdn.com/image/badges/falcon/v1/web/rocketwow-bi-16@2x.png\"/> </span> <span class=\"arrival-info\"> <em style=\"color:#00891A\">내일(목) 새벽  </em> <em style=\"color:#00891A\">도착 보장 </em> </span></div> </div> <div class=\"used-product-info\"><span>새 상품</span><span>, </span><span>중고</span><strong> (76)</strong> <span>최저 </span><strong>197,840</strong><span>원</span></div> </div><div class=\"other-info\"><div class=\"rating-star\"><span class=\"star\"><em class=\"rating\" style=\"width:100%\">5.0</em></span> <span class=\"rating-total-count\">(54372)</span></div></div><div class=\"benefit-badges\"> <div class=\"reward-cash-badge\"><div class=\"reward-cash-badge__inr\"><img alt=\"\" class=\"reward-cash-ico\" src=\"//image6.coupangcdn.com/image/badges/cashback/web/list-cash-icon@2x.png\"/> <span class=\"reward-cash-txt\">최대 12,365원 적립</span></div></div></div></div></dd></dl> <span class=\"number no-1\">1</span> <div class=\"mask\"></div></a></li>,\n",
       " <li class=\"search-product\" data-is-rocket=\"true\" data-product-id=\"210191353\" data-vendor-item-id=\"4643929947\" data-winner-vendor-item-id=\"4643929947\" id=\"210191353\"><a class=\"search-product-link\" data-is-soldout=\"\" data-item-id=\"625994316\" data-product-id=\"210191353\" data-srp-log='{\"group\":\"PRODUCT\", \"itemId\":\"625994316\", \"productId\":\"210191353\", \"vendorItemId\":\"4643929947\", \"page\":\"1\", \"listSize\":\"36\", \"isCcidEligible\":true, \"displayCcidBadge\":true, \"wowOnlyInstantDiscountRate\": -1, \"snsDiscountRate\" : -1 }' data-vendor-item-id=\"4643929947\" href=\"/vp/products/210191353?itemId=625994316&amp;vendorItemId=4643929947\" target=\"_blank\"><dl class=\"search-product-wrap\"><dt class=\"image\"> <img alt=\"Apple 에어팟 2세대 무선 충전 모델, MRXJ2KH/A\" class=\"search-product-wrap-img\" data-src=\"data:image/gif;base64,R0lGODlhAQABAAAAACH5BAEKAAEALAAAAAABAAEAAAICTAEAOw==\" height=\"230\" onerror=\"this.src='//img2a.coupangcdn.com/image/coupang/common/no_img_1000_1000.png'\" onload=\"logTime(this);logImageLoadTime(this);\" src=\"//thumbnail10.coupangcdn.com/thumbnails/remote/230x230ex/image/retail/images/872629760195-a8609d2a-6df8-4318-84a2-d6a099c5b09a.jpg\" width=\"230\"/> </dt><dd class=\"descriptions\"><div class=\"descriptions-inner\"><div class=\"badges\"> <img alt=\"탑 브랜드\" class=\"badge-ico top-brand\" src=\"//image6.coupangcdn.com/image/badges/top_brand/c-avenue.svg\"/> </div><div class=\"name\">Apple 에어팟 2세대 무선 충전 모델, MRXJ2KH/A</div> <div class=\"price-area\"> <div class=\"price-wrap\"><div class=\"price\"> <span class=\"price-info\"><span class=\"instant-discount-price\">즉시할인가</span> <span class=\"instant-discount-rate\">23%</span> <del class=\"base-price\">249,000</del> </span> <em class=\"sale discount isInstantDiscount\"> <strong class=\"price-value\">190,900</strong>원   <span class=\"badge rocket\"> <img alt=\"로켓배송\" height=\"16\" src=\"//image10.coupangcdn.com/image/badges/rocket/rocket_logo.png\"/> </span> </em> </div><!-- Free Shipping Badge -->\n",
       " <div class=\"delivery\"><span class=\"arrival-info\"> <em style=\"color:#00891A\">내일(목) 3/25  </em> <em style=\"color:#00891A\">도착 보장 </em> </span></div> <div class=\"delivery\"> <span class=\"badge falcon\"><img alt=\"로켓직구\" height=\"16\" src=\"//image8.coupangcdn.com/image/badges/falcon/v1/web/rocketwow-bi-16@2x.png\"/> </span> <span class=\"arrival-info\"> <em style=\"color:#00891A\">내일(목) 새벽  </em> <em style=\"color:#00891A\">도착 보장 </em> </span></div> </div> <div class=\"used-product-info\"><span>새 상품</span><span>, </span><span>중고</span><strong> (55)</strong> <span>최저 </span><strong>148,900</strong><span>원</span></div> </div><div class=\"other-info\"><div class=\"rating-star\"><span class=\"star\"><em class=\"rating\" style=\"width:100%\">5.0</em></span> <span class=\"rating-total-count\">(9496)</span></div></div><div class=\"benefit-badges\"><div class=\"ccid-badge\"><div class=\"ccid-badge__inr\"><img alt=\"\" class=\"credit-card-ico\" src=\"//image9.coupangcdn.com/image/badges/ccid/list/web/card_icon@2x.png\"/> <span class=\"ccid-txt\">최대 10% 카드 즉시할인</span></div></div> <div class=\"reward-cash-badge\"><div class=\"reward-cash-badge__inr\"><img alt=\"\" class=\"reward-cash-ico\" src=\"//image6.coupangcdn.com/image/badges/cashback/web/list-cash-icon@2x.png\"/> <span class=\"reward-cash-txt\">최대 9,545원 적립</span></div></div></div></div></dd></dl> <span class=\"number no-2\">2</span> <div class=\"mask\"></div></a></li>,\n",
       " <li class=\"search-product\" data-is-rocket=\"true\" data-product-id=\"210191841\" data-vendor-item-id=\"4643936599\" data-winner-vendor-item-id=\"4643936599\" id=\"210191841\"><a class=\"search-product-link\" data-is-soldout=\"\" data-item-id=\"625998234\" data-product-id=\"210191841\" data-srp-log='{\"group\":\"PRODUCT\", \"itemId\":\"625998234\", \"productId\":\"210191841\", \"vendorItemId\":\"4643936599\", \"page\":\"1\", \"listSize\":\"36\", \"isCcidEligible\":false, \"displayCcidBadge\":false, \"wowOnlyInstantDiscountRate\": -1, \"snsDiscountRate\" : -1 }' data-vendor-item-id=\"4643936599\" href=\"/vp/products/210191841?itemId=625998234&amp;vendorItemId=4643936599\" target=\"_blank\"><dl class=\"search-product-wrap\"><dt class=\"image\"> <img alt=\"Apple 에어팟 2세대 유선 충전 모델 (블루투스 5.0), MV7N2KH/A\" class=\"search-product-wrap-img\" data-src=\"data:image/gif;base64,R0lGODlhAQABAAAAACH5BAEKAAEALAAAAAABAAEAAAICTAEAOw==\" height=\"230\" onerror=\"this.src='//img2a.coupangcdn.com/image/coupang/common/no_img_1000_1000.png'\" onload=\"logTime(this);logImageLoadTime(this);\" src=\"//thumbnail9.coupangcdn.com/thumbnails/remote/230x230ex/image/product/image/vendoritem/2019/09/02/4643936599/1d600ddf-f0ca-4f91-b62e-d1d86797451d.jpg\" width=\"230\"/> </dt><dd class=\"descriptions\"><div class=\"descriptions-inner\"><div class=\"badges\"> <img alt=\"탑 브랜드\" class=\"badge-ico top-brand\" src=\"//image6.coupangcdn.com/image/badges/top_brand/c-avenue.svg\"/> </div><div class=\"name\">Apple 에어팟 2세대 유선 충전 모델 (블루투스 5.0), MV7N2KH/A</div> <div class=\"price-area\"> <div class=\"price-wrap\"><div class=\"price\"> <span class=\"price-info\"> <span class=\"instant-discount-rate\">25%</span> <del class=\"base-price\">199,000</del> </span> <em class=\"sale\"> <strong class=\"price-value\">147,860</strong>원   <span class=\"badge rocket\"> <img alt=\"로켓배송\" height=\"16\" src=\"//image10.coupangcdn.com/image/badges/rocket/rocket_logo.png\"/> </span> </em> </div><!-- Free Shipping Badge -->\n",
       " <div class=\"delivery\"><span class=\"arrival-info\"> <em style=\"color:#00891A\">내일(목) 3/25  </em> <em style=\"color:#00891A\">도착 보장 </em> </span></div> <div class=\"delivery\"> <span class=\"badge falcon\"><img alt=\"로켓직구\" height=\"16\" src=\"//image8.coupangcdn.com/image/badges/falcon/v1/web/rocketwow-bi-16@2x.png\"/> </span> <span class=\"arrival-info\"> <em style=\"color:#00891A\">내일(목) 새벽  </em> <em style=\"color:#00891A\">도착 보장 </em> </span></div> </div> <div class=\"used-product-info\"><span>새 상품</span><span>, </span><span>중고</span><strong> (54)</strong> <span>최저 </span><strong>115,330</strong><span>원</span></div> </div><div class=\"other-info\"><div class=\"rating-star\"><span class=\"star\"><em class=\"rating\" style=\"width:100%\">5.0</em></span> <span class=\"rating-total-count\">(81494)</span></div></div><div class=\"benefit-badges\"> <div class=\"reward-cash-badge\"><div class=\"reward-cash-badge__inr\"><img alt=\"\" class=\"reward-cash-ico\" src=\"//image6.coupangcdn.com/image/badges/cashback/web/list-cash-icon@2x.png\"/> <span class=\"reward-cash-txt\">최대 7,393원 적립</span></div></div></div></div></dd></dl> <span class=\"number no-3\">3</span> <div class=\"mask\"></div></a></li>,\n",
       " <li class=\"search-product search-product__ad-badge\" data-is-rocket=\"\" data-product-id=\"4774637156\" data-vendor-item-id=\"73395527527\" data-winner-vendor-item-id=\"73395527527\" id=\"4774637156\"><a class=\"search-product-link\" data-is-soldout=\"\" data-item-id=\"6099238727\" data-product-id=\"4774637156\" data-srp-log='{\"group\":\"PRODUCT\", \"itemId\":\"6099238727\", \"productId\":\"4774637156\", \"vendorItemId\":\"73395527527\", \"page\":\"1\", \"listSize\":\"36\", \"isCcidEligible\":false, \"displayCcidBadge\":false, \"wowOnlyInstantDiscountRate\": -1, \"snsDiscountRate\" : -1 }' data-vendor-item-id=\"73395527527\" href=\"/vp/products/4774637156?itemId=6099238727&amp;vendorItemId=73395527527&amp;sourceType=srp_product_ads\" target=\"_blank\"><dl class=\"search-product-wrap\"><dt class=\"image\"> <img alt=\"포켓팟 3세대 블루투스 5.1 무선충전 이어폰, 포켓팟 / 흰색\" class=\"search-product-wrap-img\" data-src=\"data:image/gif;base64,R0lGODlhAQABAAAAACH5BAEKAAEALAAAAAABAAEAAAICTAEAOw==\" height=\"230\" onerror=\"this.src='//img2a.coupangcdn.com/image/coupang/common/no_img_1000_1000.png'\" onload=\"logTime(this);logImageLoadTime(this);\" src=\"//thumbnail7.coupangcdn.com/thumbnails/remote/230x230ex/image/vendor_inventory/afc7/a2d1e154992a6102a13ec0fadf46771e5f5a58d68f1844bda892dcc22ce6.jpg\" width=\"230\"/> </dt><dd class=\"descriptions\"><div class=\"descriptions-inner\"><div class=\"badges\"> <span class=\"ad-badge\" data-click-uri=\"https://mercury.coupang.com/e.gif?r=5dsCMvS1wlkijSbFY5Z78Y170fBFIGWMIbaOCHCifcNfAFsY0%2B6YxZAzS%2Bt3YQaNbNyz0cO6Qja0fDeedKey1kHLT36YQV0tUAdwxHp%2BWz5eLgodQ%2BMtBpl2Le2Rq%2BXkglX2ZpDmORKhzgY8aQMjxExHUetfPH6Wvjs2gUiW3RvO1nhDIDRp9wExcs6yjEiaP4Cei%2BtIc1WO94PORhEcjXuimUymTC58K7Y8Ip1WOpT8iSTQU5aiutYNZPXplgedwzopPuKe%2B0iT37OcQ0U0oXeWLMv43RJ9%2BBdbyQkBlGX3TeR4H9whXnUpNCo8Y6ThGyMvlQFbkzRiVri0PXEAeL%2FZnEas9%2BeUT51CS1gOgAeXWjlUN50rfOgbqhI28DNtSlXFP1j1XvjBNTvDPhAPN%2FewaGpajR5Svqbak9vIDcS4vWVOJy8txOdwQJQQ6UsXQ8SaocSH7DaZe4k%2BCB%2FzHXPsJo4X5Vyuk8Xxh8nm%2Fhl1afYVphTcpLemN93gP3AWOPEhUbMpP%2F7r4W6yGHui5noQr9nOwqjEWCP99nZxc%2BZBOSB0cHnQzf8qyEpc2Sj5Wy0btBFeu3GagQWtbeS7G6HBSYX6CuHUfFkpYmsQDnG1EXtf01WfBx2nNals6pLtlHqHzwugFeMz8I2K798t%2FJSeuO14ybEszk3e40KB2RIdnpucGp8XCSQBdK4Hj7isHC%2FHoqNtonNx9C4LDKhgTxdpy317Pv2o546YUpopwW4%3D&amp;korePlacement=15&amp;koreSubPlacement=5\" data-event-id=\"3e97308e-3369-4fb4-aaee-12d9f518bcef\" data-impression-uri=\"https://mercury.coupang.com/e.gif?r=5dsCMvS1wlkijSbFY5Z78Y170fBFIGWMIbaOCHCifcNfAFsY0%2B6YxZAzS%2Bt3YQaNbNyz0cO6Qja0fDeedKey1kHLT36YQV0tUAdwxHp%2BWz5eLgodQ%2BMtBpl2Le2Rq%2BXkglX2ZpDmORKhzgY8aQMjxExHUetfPH6Wvjs2gUiW3RvO1nhDIDRp9wExcs6yjEiaP4Cei%2BtIc1WO94PORhEcjXuimUymTC58K7Y8Ip1WOpT8iSTQU5aiutYNZPXplgedwzopPuKe%2B0iT37OcQ0U0oXeWLMv43RJ9%2BBdbyQkBlGX3TeR4H9whXnUpNCo8Y6ThGyMvlQFbkzRiVri0PXEAeL%2FZnEas9%2BeUT51CS1gOgAeXWjlUN50rfOgbqhI28DNtSlXFP1j1XvjBNTvDPhAPN%2FewaGpajR5Svqbak9vIDcS4vWVOJy8txOdwQJQQ6UsXQ8SaocSH7DaZe4k%2BCB%2FzHXPsJo4X5Vyuk8Xxh8nm%2Fhl1afYVphTcpLemN93gP3AWOPEhUbMpP%2F7r4W6yGHui5noQr9nOwqjEWCP99nZxc%2BZBOSB0cHnQzf8qyEpc2Sj5Wy0btBFeu3GagQWtbeS7G6HBSYX6CuHUfFkpYmsQDnG1EXtf01WfBx2nNals6pLtlHqHzwugFeMz8I2K798t%2FJSeuO14ybEszk3e40KB2RIdnpucGp8XCSQBdK4Hj7isHC%2FHoqNtonNx9C4LDKhgT63eoPqvZRcYB4noFsiANUoN9VYv8cwKYQuXvI%2FOhqb9&amp;korePlacement=15&amp;koreSubPlacement=5\"> <span class=\"ad-badge-text\">광고</span> <span class=\"ad-badge-icon\"><svg class=\"ad-badge-svg\" height=\"14\" viewbox=\"0 0 14 14\" width=\"14\" xmlns=\"http://www.w3.org/2000/svg\"><g fill=\"none\" fill-rule=\"evenodd\" opacity=\".4\"><path d=\"M0 14h14V0H0z\" fill=\"#000\" fill-opacity=\"0\"></path><path d=\"M6.708 5.833H5.25l1.167.467v3.811L5.25 10.5h3.5l-1.167-.389V5.833h-.875zM7 14A7 7 0 1 1 7 0a7 7 0 0 1 0 14zm-.146-9.042a.73.73 0 1 0 0-1.458.73.73 0 0 0 0 1.458z\" fill=\"#333\"></path></g></svg> </span> <span class=\"pipe\">|</span> </span> <span class=\"badge badge-delivery\">무료배송</span> </div><div class=\"name\">포켓팟 3세대 블루투스 5.1 무선충전 이어폰, 포켓팟 / 흰색</div> <div class=\"price-area\"> <div class=\"price-wrap\"><div class=\"price\"> <span class=\"price-info\"> <span class=\"instant-discount-rate\">65%</span> <del class=\"base-price\">100,000</del> </span> <em class=\"sale\"> <strong class=\"price-value\">34,900</strong>원    </em> </div><!-- Free Shipping Badge -->\n",
       " <div class=\"delivery\"><span class=\"arrival-info\"> <em style=\"color:#111111\">모레(금) 3/26  </em> <em style=\"color:#111111\">도착 예정 </em> </span></div> </div> </div><div class=\"other-info\"><div class=\"rating-star\"><span class=\"star\"><em class=\"rating\" style=\"width:90%\">4.5</em></span> <span class=\"rating-total-count\">(152)</span></div></div><div class=\"benefit-badges\"> <div class=\"reward-cash-badge\"><div class=\"reward-cash-badge__inr\"><img alt=\"\" class=\"reward-cash-ico\" src=\"//image6.coupangcdn.com/image/badges/cashback/web/list-cash-icon@2x.png\"/> <span class=\"reward-cash-txt\">최대 1,745원 적립</span></div></div></div></div></dd></dl><div class=\"mask\"></div></a></li>,\n",
       " <li class=\"search-product search-product__ad-badge\" data-is-rocket=\"true\" data-product-id=\"1658143305\" data-vendor-item-id=\"71782806292\" data-winner-vendor-item-id=\"71782806292\" id=\"1658143305\"><a class=\"search-product-link\" data-is-soldout=\"\" data-item-id=\"2825023357\" data-product-id=\"1658143305\" data-srp-log='{\"group\":\"PRODUCT\", \"itemId\":\"2825023357\", \"productId\":\"1658143305\", \"vendorItemId\":\"71782806292\", \"page\":\"1\", \"listSize\":\"36\", \"isCcidEligible\":false, \"displayCcidBadge\":false, \"wowOnlyInstantDiscountRate\": -1, \"snsDiscountRate\" : -1 }' data-vendor-item-id=\"71782806292\" href=\"/vp/products/1658143305?itemId=2825023357&amp;vendorItemId=71782806292&amp;sourceType=srp_product_ads\" target=\"_blank\"><dl class=\"search-product-wrap\"><dt class=\"image\"> <img alt=\"비닉스 뮤직팟 밸런스 블루투스 이어폰\" class=\"search-product-wrap-img\" data-src=\"data:image/gif;base64,R0lGODlhAQABAAAAACH5BAEKAAEALAAAAAABAAEAAAICTAEAOw==\" height=\"230\" onerror=\"this.src='//img2a.coupangcdn.com/image/coupang/common/no_img_1000_1000.png'\" onload=\"logTime(this);logImageLoadTime(this);\" src=\"//thumbnail6.coupangcdn.com/thumbnails/remote/230x230ex/image/retail/images/2020/10/12/10/9/d052f64f-3293-464d-9b9b-937597ad873b.jpg\" width=\"230\"/> </dt><dd class=\"descriptions\"><div class=\"descriptions-inner\"><div class=\"badges\"> <span class=\"ad-badge\" data-click-uri=\"https://mercury.coupang.com/e.gif?r=5dsCMvS1wlkijSbFY5Z78Y170fBFIGWMIbaOCHCifcNfAFsY0%2B6YxZAzS%2Bt3YQaNbNyz0cO6Qja0fDeedKey1k9ShZKjeDXKMkYDcB1%2BJNvvuPDMovG%2FhUoT0usAwx2A27THb6MnCjNr3c4NsaIOe2iCEFbVXaaE0UGVkqjxoETO1nhDIDRp9wExcs6yjEiaP4Cei%2BtIc1WO94PORhEcjXuimUymTC58K7Y8Ip1WOpT8iSTQU5aiutYNZPXplgedwzopPuKe%2B0iT37OcQ0U0oXeWLMv43RJ9%2BBdbyQkBlGUMvYKLlC1Yj9c6Y%2F2Ty3LeSWlokBUt7wiQdz5YNZJkdivg6i6qjjapiI99O7pzC2H%2B98dKAK1xds7VlhdV3a0cVGR8cBk%2B%2BEQ9Erase6MEsu7NpWPkG4SlJX%2Bx14IaiAOdMYB%2BVNsT5YrRaWPU2y9UBc%2FSx8Yy%2Bh%2FqqjBhQVcfWSMyvMjjL25FLRGjHJG%2FzXRRGJGuyW%2F8ppMJOxU5KUp%2BPO1OH4NxRP46dueTG3wByAIk8uN7bG2rJv1UDfm%2F5epo2pxctW%2F%2FKiyBCZgCgeZx60DBbZh7%2FYwiVD2XqPJH5RZT9zzQPScMWJiMeFrFtVVnEFrDrNZhc1LaMs72Gr5Hyy9cdzvawOycpDgWhjADPN7couAzvkZBAm%2Bk0BHrZxgGYipSRVcMPSTpPG1T8mA9HWRRnuyxUwzfhOADxoHw%2F5p0QYaZJEArYO6I1lM%2FDNg%3D&amp;korePlacement=15&amp;koreSubPlacement=6\" data-event-id=\"25e9ca82-5b79-4fb6-b424-2b196cddbcfa\" data-impression-uri=\"https://mercury.coupang.com/e.gif?r=5dsCMvS1wlkijSbFY5Z78Y170fBFIGWMIbaOCHCifcNfAFsY0%2B6YxZAzS%2Bt3YQaNbNyz0cO6Qja0fDeedKey1k9ShZKjeDXKMkYDcB1%2BJNvvuPDMovG%2FhUoT0usAwx2A27THb6MnCjNr3c4NsaIOe2iCEFbVXaaE0UGVkqjxoETO1nhDIDRp9wExcs6yjEiaP4Cei%2BtIc1WO94PORhEcjXuimUymTC58K7Y8Ip1WOpT8iSTQU5aiutYNZPXplgedwzopPuKe%2B0iT37OcQ0U0oXeWLMv43RJ9%2BBdbyQkBlGUMvYKLlC1Yj9c6Y%2F2Ty3LeSWlokBUt7wiQdz5YNZJkdivg6i6qjjapiI99O7pzC2H%2B98dKAK1xds7VlhdV3a0cVGR8cBk%2B%2BEQ9Erase6MEsu7NpWPkG4SlJX%2Bx14IaiAOdMYB%2BVNsT5YrRaWPU2y9UBc%2FSx8Yy%2Bh%2FqqjBhQVcfWSMyvMjjL25FLRGjHJG%2FzXRRGJGuyW%2F8ppMJOxU5KUp%2BPO1OH4NxRP46dueTG3wByAIk8uN7bG2rJv1UDfm%2F5epo2pxctW%2F%2FKiyBCZgCgeZx60DBbZh7%2FYwiVD2XqPJH5RZT9zzQPScMWJiMeFrFtVVnEFrDrNZhc1LaMs72Gr5Hyy9cdzvawOycpDgWhjADPN7couAzvkZBAm%2Bk0BHrZxgGYipSRVcMPSTpPG1T8mA9HWRRnuyxUwzfhOADxoHw%2Fw%2BytzDrD4BmSB%2FHI9cujDo%3D&amp;korePlacement=15&amp;koreSubPlacement=6\"> <span class=\"ad-badge-text\">광고</span> <span class=\"ad-badge-icon\"><svg class=\"ad-badge-svg\" height=\"14\" viewbox=\"0 0 14 14\" width=\"14\" xmlns=\"http://www.w3.org/2000/svg\"><g fill=\"none\" fill-rule=\"evenodd\" opacity=\".4\"><path d=\"M0 14h14V0H0z\" fill=\"#000\" fill-opacity=\"0\"></path><path d=\"M6.708 5.833H5.25l1.167.467v3.811L5.25 10.5h3.5l-1.167-.389V5.833h-.875zM7 14A7 7 0 1 1 7 0a7 7 0 0 1 0 14zm-.146-9.042a.73.73 0 1 0 0-1.458.73.73 0 0 0 0 1.458z\" fill=\"#333\"></path></g></svg> </span> </span> </div><div class=\"name\">비닉스 뮤직팟 밸런스 블루투스 이어폰</div> <div class=\"price-area\"> <div class=\"price-wrap\"><div class=\"price\"> <span class=\"price-info\"> <span class=\"instant-discount-rate\">11%</span> <del class=\"base-price\">47,250</del> </span> <em class=\"sale\"> <strong class=\"price-value\">42,050</strong>원   <span class=\"badge rocket\"> <img alt=\"로켓배송\" height=\"16\" src=\"//image10.coupangcdn.com/image/badges/rocket/rocket_logo.png\"/> </span> </em> </div><!-- Free Shipping Badge -->\n",
       " <div class=\"delivery\"><span class=\"arrival-info\"> <em style=\"color:#00891A\">내일(목) 3/25  </em> <em style=\"color:#00891A\">도착 보장 </em> </span></div> <div class=\"delivery\"> <span class=\"badge falcon\"><img alt=\"로켓직구\" height=\"16\" src=\"//image8.coupangcdn.com/image/badges/falcon/v1/web/rocketwow-bi-16@2x.png\"/> </span> <span class=\"arrival-info\"> <em style=\"color:#00891A\">내일(목) 새벽  </em> <em style=\"color:#00891A\">도착 보장 </em> </span></div> </div> </div><div class=\"other-info\"><div class=\"rating-star\"><span class=\"star\"><em class=\"rating\" style=\"width:80%\">4.0</em></span> <span class=\"rating-total-count\">(7)</span></div></div><div class=\"benefit-badges\"> <div class=\"reward-cash-badge\"><div class=\"reward-cash-badge__inr\"><img alt=\"\" class=\"reward-cash-ico\" src=\"//image6.coupangcdn.com/image/badges/cashback/web/list-cash-icon@2x.png\"/> <span class=\"reward-cash-txt\">최대 2,103원 적립</span></div></div></div></div></dd></dl><div class=\"mask\"></div></a></li>,\n",
       " <li class=\"search-product\" data-is-rocket=\"true\" data-product-id=\"4584075863\" data-vendor-item-id=\"72922972761\" data-winner-vendor-item-id=\"72922972761\" id=\"4584075863\"><a class=\"search-product-link\" data-is-soldout=\"\" data-item-id=\"5623805749\" data-product-id=\"4584075863\" data-srp-log='{\"group\":\"PRODUCT\", \"itemId\":\"5623805749\", \"productId\":\"4584075863\", \"vendorItemId\":\"72922972761\", \"page\":\"1\", \"listSize\":\"36\", \"isCcidEligible\":false, \"displayCcidBadge\":false, \"wowOnlyInstantDiscountRate\": -1, \"snsDiscountRate\" : -1 }' data-vendor-item-id=\"72922972761\" href=\"/vp/products/4584075863?itemId=5623805749&amp;vendorItemId=72922972761&amp;pickType=COU_PICK\" target=\"_blank\"><dl class=\"search-product-wrap\"><dt class=\"image\"> <img alt=\"Apple 에어팟 맥스 블루투스헤드셋, 스카이 블루\" class=\"search-product-wrap-img\" data-src=\"data:image/gif;base64,R0lGODlhAQABAAAAACH5BAEKAAEALAAAAAABAAEAAAICTAEAOw==\" height=\"230\" onerror=\"this.src='//img2a.coupangcdn.com/image/coupang/common/no_img_1000_1000.png'\" onload=\"logTime(this);logImageLoadTime(this);\" src=\"//thumbnail7.coupangcdn.com/thumbnails/remote/230x230ex/image/retail/images/183201901284-847fb913-2a07-4489-b8af-5e7c4bb5740f.jpg\" width=\"230\"/> </dt><dd class=\"descriptions\"><div class=\"descriptions-inner\"><div class=\"badges\"> <img alt=\"쿠팡추천\" class=\"badge-ico badge-coupick\" src=\"//image8.coupangcdn.com/image/badges/cou_pick/web/coupick@2x.png\"/> </div><div class=\"name\">Apple 에어팟 맥스 블루투스헤드셋, 스카이 블루</div> <div class=\"price-area\"> <div class=\"price-wrap\"><div class=\"price\"> <em class=\"sale\"> <strong class=\"price-value\">629,000</strong>원   <span class=\"badge rocket\"> <img alt=\"로켓배송\" height=\"16\" src=\"//image10.coupangcdn.com/image/badges/rocket/rocket_logo.png\"/> </span> </em> </div><!-- Free Shipping Badge -->\n",
       " <div class=\"delivery\"><span class=\"arrival-info\"> <em style=\"color:#00891A\">내일(목) 3/25  </em> <em style=\"color:#00891A\">도착 보장 </em> </span></div> <div class=\"delivery\"> <span class=\"badge falcon\"><img alt=\"로켓직구\" height=\"16\" src=\"//image8.coupangcdn.com/image/badges/falcon/v1/web/rocketwow-bi-16@2x.png\"/> </span> <span class=\"arrival-info\"> <em style=\"color:#00891A\">내일(목) 새벽  </em> <em style=\"color:#00891A\">도착 보장 </em> </span></div> </div> </div><div class=\"other-info\"><div class=\"rating-star\"><span class=\"star\"><em class=\"rating\" style=\"width:100%\">5.0</em></span> <span class=\"rating-total-count\">(78)</span></div></div><div class=\"benefit-badges\"> <div class=\"reward-cash-badge\"><div class=\"reward-cash-badge__inr\"><img alt=\"\" class=\"reward-cash-ico\" src=\"//image6.coupangcdn.com/image/badges/cashback/web/list-cash-icon@2x.png\"/> <span class=\"reward-cash-txt\">최대 31,450원 적립</span></div></div></div></div></dd></dl> <span class=\"number no-4\">4</span> <div class=\"mask\"></div></a></li>,\n",
       " <li class=\"search-product\" data-is-rocket=\"\" data-product-id=\"342826123\" data-vendor-item-id=\"74571527979\" data-winner-vendor-item-id=\"74571527979\" id=\"342826123\"><a class=\"search-product-link\" data-is-soldout=\"\" data-item-id=\"1089932814\" data-product-id=\"342826123\" data-srp-log='{\"group\":\"PRODUCT\", \"itemId\":\"1089932814\", \"productId\":\"342826123\", \"vendorItemId\":\"74571527979\", \"page\":\"1\", \"listSize\":\"36\", \"isCcidEligible\":false, \"displayCcidBadge\":false, \"wowOnlyInstantDiscountRate\": -1, \"snsDiscountRate\" : -1 }' data-vendor-item-id=\"74571527979\" href=\"/vp/products/342826123?itemId=1089932814&amp;vendorItemId=74571527979\" target=\"_blank\"><dl class=\"search-product-wrap\"><dt class=\"image\"> <img alt=\"APPLE 애플 에어팟프로 왼쪽 오른쪽 단품 한쪽구매 블루투스이어폰\" class=\"search-product-wrap-img\" data-src=\"data:image/gif;base64,R0lGODlhAQABAAAAACH5BAEKAAEALAAAAAABAAEAAAICTAEAOw==\" height=\"230\" onerror=\"this.src='//img2a.coupangcdn.com/image/coupang/common/no_img_1000_1000.png'\" onload=\"logTime(this);logImageLoadTime(this);\" src=\"//thumbnail10.coupangcdn.com/thumbnails/remote/230x230ex/image/vendor_inventory/a722/31759de6f13e46347365ecf3a9d0f14a19b9e5603284260f3be1200ec2ec.jpg\" width=\"230\"/> </dt><dd class=\"descriptions\"><div class=\"descriptions-inner\"><div class=\"badges\"> </div><div class=\"name\">APPLE 애플 에어팟프로 왼쪽 오른쪽 단품 한쪽구매 블루투스이어폰</div> <div class=\"price-area\"> <div class=\"price-wrap\"><div class=\"price\"> <em class=\"sale\"> <strong class=\"price-value\">85,000</strong>원    </em> </div><!-- Free Shipping Badge -->\n",
       " <div class=\"delivery\"><span class=\"arrival-info\"> <em style=\"color:#111111\">모레(금) 3/26  </em> <em style=\"color:#111111\">도착 예정 </em> </span></div> </div> </div><div class=\"other-info\"><div class=\"rating-star\"><span class=\"star\"><em class=\"rating\" style=\"width:90%\">4.5</em></span> <span class=\"rating-total-count\">(223)</span></div></div><div class=\"benefit-badges\"> <div class=\"reward-cash-badge\"><div class=\"reward-cash-badge__inr\"><img alt=\"\" class=\"reward-cash-ico\" src=\"//image6.coupangcdn.com/image/badges/cashback/web/list-cash-icon@2x.png\"/> <span class=\"reward-cash-txt\">최대 4,250원 적립</span></div></div></div></div></dd></dl> <span class=\"number no-5\">5</span> <div class=\"mask\"></div></a></li>,\n",
       " <li class=\"search-product search-product__ad-badge\" data-is-rocket=\"\" data-product-id=\"5190121689\" data-vendor-item-id=\"72922516969\" data-winner-vendor-item-id=\"72922516969\" id=\"5190121689\"><a class=\"search-product-link\" data-is-soldout=\"\" data-item-id=\"7203654733\" data-product-id=\"5190121689\" data-srp-log='{\"group\":\"PRODUCT\", \"itemId\":\"7203654733\", \"productId\":\"5190121689\", \"vendorItemId\":\"72922516969\", \"page\":\"1\", \"listSize\":\"36\", \"isCcidEligible\":false, \"displayCcidBadge\":false, \"wowOnlyInstantDiscountRate\": -1, \"snsDiscountRate\" : -1 }' data-vendor-item-id=\"72922516969\" href=\"/vp/products/5190121689?itemId=7203654733&amp;vendorItemId=72922516969&amp;sourceType=srp_product_ads\" target=\"_blank\"><dl class=\"search-product-wrap\"><dt class=\"image\"> <img alt=\"YTT 차이팟 블루투스이어폰 3종 1+1+1 커널형 2종 오픈형 1종, 화이트\" class=\"search-product-wrap-img\" data-img-src=\"//thumbnail7.coupangcdn.com/thumbnails/remote/230x230ex/image/vendor_inventory/d654/e0ccca23b6284e1e71de3c35e004d1e4516f33cd99828565e5dfc0ecf6c7.jpg\" data-src=\"data:image/gif;base64,R0lGODlhAQABAAAAACH5BAEKAAEALAAAAAABAAEAAAICTAEAOw==\" height=\"230\" onerror=\"this.src='//img2a.coupangcdn.com/image/coupang/common/no_img_1000_1000.png'\" src=\"//img1a.coupangcdn.com/image/coupang/search/blank1x1.gif\" width=\"230\"/> </dt><dd class=\"descriptions\"><div class=\"descriptions-inner\"><div class=\"badges\"> <span class=\"ad-badge\" data-click-uri=\"https://mercury.coupang.com/e.gif?r=5dsCMvS1wlkijSbFY5Z78Y170fBFIGWMIbaOCHCifcNfAFsY0%2B6YxZAzS%2Bt3YQaNbNyz0cO6Qja0fDeedKey1kGeLKHuwVXaIWRu6VRA2hMX2jBofJIIoMU%2FJYAFecOsStC9IIu0wtgVb5w2LgUN0LsDKRNYvoT3uGlnWaXO1oLO1nhDIDRp9wExcs6yjEiaP4Cei%2BtIc1WO94PORhEcjXuimUymTC58K7Y8Ip1WOpT8iSTQU5aiutYNZPXplgedwzopPuKe%2B0iT37OcQ0U0oXeWLMv43RJ9%2BBdbyQkBlGWlktKYZYE5YrrCW3B0Mc4%2BT7Ilz7Nm2R9JWj769MO3aJma%2BzdP2u80HGgmd4d75hz8%2BbxrNxh21hD%2F3WFQCfJT4wyNYAOui6T9RoubSfhylTcZvpZfHC7tImT24ISp2pGZuRx%2BZdCa4Zmc3SAdmvOTtIh2RmaNa9Qib7t856QlHe%2BWoxfB0Vea6sx%2BGLt%2FWyQo2%2FPmTNlJPWzRhpy8t5fMOPEhUbMpP%2F7r4W6yGHui5noQr9nOwqjEWCP99nZxc%2BZBOSB0cHnQzf8qyEpc2Sj5Wy0btBFeu3GagQWtbeS7G6HBSYX6CuHUfFkpYmsQDnG1EXtf01WfBx2nNals6pLtlHqHzwugFeMz8I2K798t%2FJSeuO14ybEszk3e40KB2RIdnpucGp8XCSQBdK4Hj7isHC%2FHoqNtonNx9C4LDKhgTxdpy317Pv2o546YUpopwW4%3D&amp;korePlacement=15&amp;koreSubPlacement=9\" data-event-id=\"398d9d9a-ad18-4055-a279-bdfd3617262d\" data-impression-uri=\"https://mercury.coupang.com/e.gif?r=5dsCMvS1wlkijSbFY5Z78Y170fBFIGWMIbaOCHCifcNfAFsY0%2B6YxZAzS%2Bt3YQaNbNyz0cO6Qja0fDeedKey1kGeLKHuwVXaIWRu6VRA2hMX2jBofJIIoMU%2FJYAFecOsStC9IIu0wtgVb5w2LgUN0LsDKRNYvoT3uGlnWaXO1oLO1nhDIDRp9wExcs6yjEiaP4Cei%2BtIc1WO94PORhEcjXuimUymTC58K7Y8Ip1WOpT8iSTQU5aiutYNZPXplgedwzopPuKe%2B0iT37OcQ0U0oXeWLMv43RJ9%2BBdbyQkBlGWlktKYZYE5YrrCW3B0Mc4%2BT7Ilz7Nm2R9JWj769MO3aJma%2BzdP2u80HGgmd4d75hz8%2BbxrNxh21hD%2F3WFQCfJT4wyNYAOui6T9RoubSfhylTcZvpZfHC7tImT24ISp2pGZuRx%2BZdCa4Zmc3SAdmvOTtIh2RmaNa9Qib7t856QlHe%2BWoxfB0Vea6sx%2BGLt%2FWyQo2%2FPmTNlJPWzRhpy8t5fMOPEhUbMpP%2F7r4W6yGHui5noQr9nOwqjEWCP99nZxc%2BZBOSB0cHnQzf8qyEpc2Sj5Wy0btBFeu3GagQWtbeS7G6HBSYX6CuHUfFkpYmsQDnG1EXtf01WfBx2nNals6pLtlHqHzwugFeMz8I2K798t%2FJSeuO14ybEszk3e40KB2RIdnpucGp8XCSQBdK4Hj7isHC%2FHoqNtonNx9C4LDKhgT63eoPqvZRcYB4noFsiANUoN9VYv8cwKYQuXvI%2FOhqb9&amp;korePlacement=15&amp;koreSubPlacement=9\"> <span class=\"ad-badge-text\">광고</span> <span class=\"ad-badge-icon\"><svg class=\"ad-badge-svg\" height=\"14\" viewbox=\"0 0 14 14\" width=\"14\" xmlns=\"http://www.w3.org/2000/svg\"><g fill=\"none\" fill-rule=\"evenodd\" opacity=\".4\"><path d=\"M0 14h14V0H0z\" fill=\"#000\" fill-opacity=\"0\"></path><path d=\"M6.708 5.833H5.25l1.167.467v3.811L5.25 10.5h3.5l-1.167-.389V5.833h-.875zM7 14A7 7 0 1 1 7 0a7 7 0 0 1 0 14zm-.146-9.042a.73.73 0 1 0 0-1.458.73.73 0 0 0 0 1.458z\" fill=\"#333\"></path></g></svg> </span> <span class=\"pipe\">|</span> </span> <span class=\"badge badge-delivery\">무료배송</span> </div><div class=\"name\">YTT 차이팟 블루투스이어폰 3종 1+1+1 커널형 2종 오픈형 1종, 화이트</div> <div class=\"price-area\"> <div class=\"price-wrap\"><div class=\"price\"> <span class=\"price-info\"> <span class=\"instant-discount-rate\">50%</span> <del class=\"base-price\">58,900</del> </span> <em class=\"sale\"> <strong class=\"price-value\">28,900</strong>원    </em> </div><!-- Free Shipping Badge -->\n",
       " <div class=\"delivery\"><span class=\"arrival-info\"> <em style=\"color:#111111\">4/7  </em> <em style=\"color:#111111\">도착 예정 </em> </span></div> </div> </div><div class=\"other-info\"><div class=\"rating-star\"><span class=\"star\"><em class=\"rating\" style=\"width:100%\">5.0</em></span> <span class=\"rating-total-count\">(12)</span></div></div><div class=\"benefit-badges\"> <div class=\"reward-cash-badge\"><div class=\"reward-cash-badge__inr\"><img alt=\"\" class=\"reward-cash-ico\" src=\"//image6.coupangcdn.com/image/badges/cashback/web/list-cash-icon@2x.png\"/> <span class=\"reward-cash-txt\">최대 1,445원 적립</span></div></div></div></div></dd></dl><div class=\"mask\"></div></a></li>,\n",
       " <li class=\"search-product\" data-is-rocket=\"\" data-product-id=\"4876891261\" data-vendor-item-id=\"74103248615\" data-winner-vendor-item-id=\"74103248615\" id=\"4876891261\"><a class=\"search-product-link\" data-is-soldout=\"\" data-item-id=\"6345230591\" data-product-id=\"4876891261\" data-srp-log='{\"group\":\"PRODUCT\", \"itemId\":\"6345230591\", \"productId\":\"4876891261\", \"vendorItemId\":\"74103248615\", \"page\":\"1\", \"listSize\":\"36\", \"isCcidEligible\":false, \"displayCcidBadge\":false, \"wowOnlyInstantDiscountRate\": -1, \"snsDiscountRate\" : -1 }' data-vendor-item-id=\"74103248615\" href=\"/vp/products/4876891261?itemId=6345230591&amp;vendorItemId=74103248615\" target=\"_blank\"><dl class=\"search-product-wrap\"><dt class=\"image\"> <img alt=\"Apple 에어팟 맥스 블루투스헤드셋, 스페이스 그레이\" class=\"search-product-wrap-img\" data-img-src=\"//thumbnail7.coupangcdn.com/thumbnails/remote/230x230ex/image/retail/images/1137462732232-481ff370-019a-45d4-9c76-8fc48afd0099.jpg\" data-src=\"data:image/gif;base64,R0lGODlhAQABAAAAACH5BAEKAAEALAAAAAABAAEAAAICTAEAOw==\" height=\"230\" onerror=\"this.src='//img2a.coupangcdn.com/image/coupang/common/no_img_1000_1000.png'\" src=\"//img1a.coupangcdn.com/image/coupang/search/blank1x1.gif\" width=\"230\"/> </dt><dd class=\"descriptions\"><div class=\"descriptions-inner\"><div class=\"badges\"> </div><div class=\"name\">Apple 에어팟 맥스 블루투스헤드셋, 스페이스 그레이</div> <div class=\"price-area\"> <div class=\"price-wrap\"><div class=\"price\"> <span class=\"price-info\"> <span class=\"instant-discount-rate\">6%</span> <del class=\"base-price\">719,000</del> </span> <em class=\"sale\"> <strong class=\"price-value\">675,000</strong>원    </em> </div><!-- Free Shipping Badge -->\n",
       " <div class=\"delivery\"><span class=\"arrival-info\"> <em style=\"color:#111111\">모레(금) 3/26  </em> <em style=\"color:#111111\">도착 예정 </em> </span></div> </div> </div><div class=\"other-info\"><div class=\"rating-star\"><span class=\"star\"><em class=\"rating\" style=\"width:100%\">5.0</em></span> <span class=\"rating-total-count\">(32)</span></div></div><div class=\"benefit-badges\"> <div class=\"reward-cash-badge\"><div class=\"reward-cash-badge__inr\"><img alt=\"\" class=\"reward-cash-ico\" src=\"//image6.coupangcdn.com/image/badges/cashback/web/list-cash-icon@2x.png\"/> <span class=\"reward-cash-txt\">최대 33,750원 적립</span></div></div></div></div></dd></dl> <span class=\"number no-6\">6</span> <div class=\"mask\"></div></a></li>,\n",
       " <li class=\"search-product\" data-is-rocket=\"\" data-product-id=\"1793178618\" data-vendor-item-id=\"74354285959\" data-winner-vendor-item-id=\"74354285959\" id=\"1793178618\"><a class=\"search-product-link\" data-is-soldout=\"\" data-item-id=\"3051020789\" data-product-id=\"1793178618\" data-srp-log='{\"group\":\"PRODUCT\", \"itemId\":\"3051020789\", \"productId\":\"1793178618\", \"vendorItemId\":\"74354285959\", \"page\":\"1\", \"listSize\":\"36\", \"isCcidEligible\":false, \"displayCcidBadge\":false, \"wowOnlyInstantDiscountRate\": -1, \"snsDiscountRate\" : -1 }' data-vendor-item-id=\"74354285959\" href=\"/vp/products/1793178618?itemId=3051020789&amp;vendorItemId=74354285959\" target=\"_blank\"><dl class=\"search-product-wrap\"><dt class=\"image\"> <img alt=\"애플코리아 에어팟 오른쪽 왼쪽 1세대 2세대 한쪽판매 블루투스이어폰, 흰색, 3세대 프로 왼쪽(Pro Left)\" class=\"search-product-wrap-img\" data-img-src=\"//thumbnail7.coupangcdn.com/thumbnails/remote/230x230ex/image/vendor_inventory/c245/83b4b9fbb2d5b584e12ea3192d092a90dfb587fbd39be90f8c0a63896579.jpg\" data-src=\"data:image/gif;base64,R0lGODlhAQABAAAAACH5BAEKAAEALAAAAAABAAEAAAICTAEAOw==\" height=\"230\" onerror=\"this.src='//img2a.coupangcdn.com/image/coupang/common/no_img_1000_1000.png'\" src=\"//img1a.coupangcdn.com/image/coupang/search/blank1x1.gif\" width=\"230\"/> </dt><dd class=\"descriptions\"><div class=\"descriptions-inner\"><div class=\"badges\"> </div><div class=\"name\">애플코리아 에어팟 오른쪽 왼쪽 1세대 2세대 한쪽판매 블루투스이어폰, 흰색, 3세대 프로 왼쪽(Pro Left)</div> <div class=\"price-area\"> <div class=\"price-wrap\"><div class=\"price\"> <em class=\"sale\"> <strong class=\"price-value\">88,000</strong>원    </em> </div><!-- Free Shipping Badge -->\n",
       " <div class=\"delivery\"><span class=\"arrival-info\"> <em style=\"color:#111111\">모레(금) 3/26  </em> <em style=\"color:#111111\">도착 예정 </em> </span></div> </div> </div><div class=\"other-info\"><div class=\"rating-star\"><span class=\"star\"><em class=\"rating\" style=\"width:90%\">4.5</em></span> <span class=\"rating-total-count\">(19)</span></div></div><div class=\"benefit-badges\"> <div class=\"reward-cash-badge\"><div class=\"reward-cash-badge__inr\"><img alt=\"\" class=\"reward-cash-ico\" src=\"//image6.coupangcdn.com/image/badges/cashback/web/list-cash-icon@2x.png\"/> <span class=\"reward-cash-txt\">최대 4,400원 적립</span></div></div></div></div></dd></dl> <span class=\"number no-7\">7</span> <div class=\"mask\"></div></a></li>,\n",
       " <li class=\"search-product\" data-is-rocket=\"true\" data-product-id=\"4584075863\" data-vendor-item-id=\"72922972807\" data-winner-vendor-item-id=\"72922972807\" id=\"4584075863\"><a class=\"search-product-link\" data-is-soldout=\"\" data-item-id=\"5623805756\" data-product-id=\"4584075863\" data-srp-log='{\"group\":\"PRODUCT\", \"itemId\":\"5623805756\", \"productId\":\"4584075863\", \"vendorItemId\":\"72922972807\", \"page\":\"1\", \"listSize\":\"36\", \"isCcidEligible\":false, \"displayCcidBadge\":false, \"wowOnlyInstantDiscountRate\": -1, \"snsDiscountRate\" : -1 }' data-vendor-item-id=\"72922972807\" href=\"/vp/products/4584075863?itemId=5623805756&amp;vendorItemId=72922972807\" target=\"_blank\"><dl class=\"search-product-wrap\"><dt class=\"image\"> <img alt=\"Apple 에어팟 맥스 블루투스헤드셋, 핑크\" class=\"search-product-wrap-img\" data-img-src=\"//thumbnail6.coupangcdn.com/thumbnails/remote/230x230ex/image/retail/images/1093079046843-6fed0f7a-ce65-4d97-8364-2739707ef1f4.jpg\" data-src=\"data:image/gif;base64,R0lGODlhAQABAAAAACH5BAEKAAEALAAAAAABAAEAAAICTAEAOw==\" height=\"230\" onerror=\"this.src='//img2a.coupangcdn.com/image/coupang/common/no_img_1000_1000.png'\" src=\"//img1a.coupangcdn.com/image/coupang/search/blank1x1.gif\" width=\"230\"/> </dt><dd class=\"descriptions\"><div class=\"descriptions-inner\"><div class=\"badges\"> </div><div class=\"name\">Apple 에어팟 맥스 블루투스헤드셋, 핑크</div> <div class=\"price-area\"> <div class=\"price-wrap\"><div class=\"price\"> <em class=\"sale\"> <strong class=\"price-value\">611,150</strong>원   <span class=\"badge rocket\"> <img alt=\"로켓배송\" height=\"16\" src=\"//image10.coupangcdn.com/image/badges/rocket/rocket_logo.png\"/> </span> </em> </div><!-- Free Shipping Badge -->\n",
       " <div class=\"delivery\"><span class=\"arrival-info\"> <em style=\"color:#00891A\">내일(목) 3/25  </em> <em style=\"color:#00891A\">도착 보장 </em> </span></div> <div class=\"delivery\"> <span class=\"badge falcon\"><img alt=\"로켓직구\" height=\"16\" src=\"//image8.coupangcdn.com/image/badges/falcon/v1/web/rocketwow-bi-16@2x.png\"/> </span> <span class=\"arrival-info\"> <em style=\"color:#00891A\">내일(목) 새벽  </em> <em style=\"color:#00891A\">도착 보장 </em> </span></div> </div> </div><div class=\"other-info\"><div class=\"rating-star\"><span class=\"star\"><em class=\"rating\" style=\"width:100%\">5.0</em></span> <span class=\"rating-total-count\">(78)</span></div></div><div class=\"benefit-badges\"> <div class=\"reward-cash-badge\"><div class=\"reward-cash-badge__inr\"><img alt=\"\" class=\"reward-cash-ico\" src=\"//image6.coupangcdn.com/image/badges/cashback/web/list-cash-icon@2x.png\"/> <span class=\"reward-cash-txt\">최대 30,558원 적립</span></div></div></div></div></dd></dl> <span class=\"number no-8\">8</span> <div class=\"mask\"></div></a></li>,\n",
       " <li class=\"search-product\" data-is-rocket=\"\" data-product-id=\"342826123\" data-vendor-item-id=\"74571527956\" data-winner-vendor-item-id=\"74571527956\" id=\"342826123\"><a class=\"search-product-link\" data-is-soldout=\"\" data-item-id=\"1089932822\" data-product-id=\"342826123\" data-srp-log='{\"group\":\"PRODUCT\", \"itemId\":\"1089932822\", \"productId\":\"342826123\", \"vendorItemId\":\"74571527956\", \"page\":\"1\", \"listSize\":\"36\", \"isCcidEligible\":false, \"displayCcidBadge\":false, \"wowOnlyInstantDiscountRate\": -1, \"snsDiscountRate\" : -1 }' data-vendor-item-id=\"74571527956\" href=\"/vp/products/342826123?itemId=1089932822&amp;vendorItemId=74571527956\" target=\"_blank\"><dl class=\"search-product-wrap\"><dt class=\"image\"> <img alt=\"APPLE 애플 에어팟프로 왼쪽 오른쪽 단품 한쪽구매 블루투스이어폰, 에어팟프로 양쪽(충전기본체미포함)\" class=\"search-product-wrap-img\" data-img-src=\"//thumbnail10.coupangcdn.com/thumbnails/remote/230x230ex/image/vendor_inventory/a722/31759de6f13e46347365ecf3a9d0f14a19b9e5603284260f3be1200ec2ec.jpg\" data-src=\"data:image/gif;base64,R0lGODlhAQABAAAAACH5BAEKAAEALAAAAAABAAEAAAICTAEAOw==\" height=\"230\" onerror=\"this.src='//img2a.coupangcdn.com/image/coupang/common/no_img_1000_1000.png'\" src=\"//img1a.coupangcdn.com/image/coupang/search/blank1x1.gif\" width=\"230\"/> </dt><dd class=\"descriptions\"><div class=\"descriptions-inner\"><div class=\"badges\"> </div><div class=\"name\">APPLE 애플 에어팟프로 왼쪽 오른쪽 단품 한쪽구매 블루투스이어폰, 에어팟프로 양쪽(충전기본체미포함)</div> <div class=\"price-area\"> <div class=\"price-wrap\"><div class=\"price\"> <em class=\"sale\"> <strong class=\"price-value\">210,000</strong>원    </em> </div><!-- Free Shipping Badge -->\n",
       " <div class=\"delivery\"><span class=\"arrival-info\"> <em style=\"color:#111111\">모레(금) 3/26  </em> <em style=\"color:#111111\">도착 예정 </em> </span></div> </div> </div><div class=\"other-info\"><div class=\"rating-star\"><span class=\"star\"><em class=\"rating\" style=\"width:90%\">4.5</em></span> <span class=\"rating-total-count\">(223)</span></div></div><div class=\"benefit-badges\"> <div class=\"reward-cash-badge\"><div class=\"reward-cash-badge__inr\"><img alt=\"\" class=\"reward-cash-ico\" src=\"//image6.coupangcdn.com/image/badges/cashback/web/list-cash-icon@2x.png\"/> <span class=\"reward-cash-txt\">최대 10,500원 적립</span></div></div></div></div></dd></dl> <span class=\"number no-9\">9</span> <div class=\"mask\"></div></a></li>,\n",
       " <li class=\"search-product\" data-is-rocket=\"\" data-product-id=\"1118316132\" data-vendor-item-id=\"74645699844\" data-winner-vendor-item-id=\"74645699844\" id=\"1118316132\"><a class=\"search-product-link\" data-is-soldout=\"\" data-item-id=\"2083605366\" data-product-id=\"1118316132\" data-srp-log='{\"group\":\"PRODUCT\", \"itemId\":\"2083605366\", \"productId\":\"1118316132\", \"vendorItemId\":\"74645699844\", \"page\":\"1\", \"listSize\":\"36\", \"isCcidEligible\":false, \"displayCcidBadge\":false, \"wowOnlyInstantDiscountRate\": -1, \"snsDiscountRate\" : -1 }' data-vendor-item-id=\"74645699844\" href=\"/vp/products/1118316132?itemId=2083605366&amp;vendorItemId=74645699844\" target=\"_blank\"><dl class=\"search-product-wrap\"><dt class=\"image\"> <img alt=\"애플코리아 에어팟 오른쪽 왼쪽 1세대 2세대 한쪽판매 블루투스이어폰, 3세대 프로 충전기(Pro Charger)\" class=\"search-product-wrap-img\" data-img-src=\"//thumbnail7.coupangcdn.com/thumbnails/remote/230x230ex/image/vendor_inventory/8597/0180a8f0d435b7a1b3f0d317b2b3edc0237848100e6bfc09f87a7ff2bb47.jpg\" data-src=\"data:image/gif;base64,R0lGODlhAQABAAAAACH5BAEKAAEALAAAAAABAAEAAAICTAEAOw==\" height=\"230\" onerror=\"this.src='//img2a.coupangcdn.com/image/coupang/common/no_img_1000_1000.png'\" src=\"//img1a.coupangcdn.com/image/coupang/search/blank1x1.gif\" width=\"230\"/> </dt><dd class=\"descriptions\"><div class=\"descriptions-inner\"><div class=\"badges\"> </div><div class=\"name\">애플코리아 에어팟 오른쪽 왼쪽 1세대 2세대 한쪽판매 블루투스이어폰, 3세대 프로 충전기(Pro Charger)</div> <div class=\"price-area\"> <div class=\"price-wrap\"><div class=\"price\"> <span class=\"price-info\"> <span class=\"instant-discount-rate\">31%</span> <del class=\"base-price\">130,000</del> </span> <em class=\"sale\"> <strong class=\"price-value\">89,000</strong>원    </em> </div><!-- Free Shipping Badge -->\n",
       " <div class=\"delivery\"><span class=\"arrival-info\"> <em style=\"color:#111111\">모레(금) 3/26  </em> <em style=\"color:#111111\">도착 예정 </em> </span></div> </div> </div><div class=\"other-info\"><div class=\"rating-star\"><span class=\"star\"><em class=\"rating\" style=\"width:100%\">5.0</em></span> <span class=\"rating-total-count\">(20)</span></div></div><div class=\"benefit-badges\"> <div class=\"reward-cash-badge\"><div class=\"reward-cash-badge__inr\"><img alt=\"\" class=\"reward-cash-ico\" src=\"//image6.coupangcdn.com/image/badges/cashback/web/list-cash-icon@2x.png\"/> <span class=\"reward-cash-txt\">최대 4,450원 적립</span></div></div></div></div></dd></dl> <span class=\"number no-10\">10</span> <div class=\"mask\"></div></a></li>,\n",
       " <li class=\"search-product\" data-is-rocket=\"\" data-product-id=\"1861700907\" data-vendor-item-id=\"71152248752\" data-winner-vendor-item-id=\"71152248752\" id=\"1861700907\"><a class=\"search-product-link\" data-is-soldout=\"\" data-item-id=\"3164704165\" data-product-id=\"1861700907\" data-srp-log='{\"group\":\"PRODUCT\", \"itemId\":\"3164704165\", \"productId\":\"1861700907\", \"vendorItemId\":\"71152248752\", \"page\":\"1\", \"listSize\":\"36\", \"isCcidEligible\":false, \"displayCcidBadge\":false, \"wowOnlyInstantDiscountRate\": -1, \"snsDiscountRate\" : -1 }' data-vendor-item-id=\"71152248752\" href=\"/vp/products/1861700907?itemId=3164704165&amp;vendorItemId=71152248752\" target=\"_blank\"><dl class=\"search-product-wrap\"><dt class=\"image\"> <img alt=\"애플 에어팟프로 왼쪽 오른쪽 한쪽 충전케이스 Airpods Pro Left Right 블루투스이어폰, 에어팟프로 오른쪽, 화이트\" class=\"search-product-wrap-img\" data-img-src=\"//thumbnail10.coupangcdn.com/thumbnails/remote/230x230ex/image/vendor_inventory/0ec7/5162192591ef4f6cbfa1392f61d388a13aab51baf26edeefdef5fd4c6cd3.png\" data-src=\"data:image/gif;base64,R0lGODlhAQABAAAAACH5BAEKAAEALAAAAAABAAEAAAICTAEAOw==\" height=\"230\" onerror=\"this.src='//img2a.coupangcdn.com/image/coupang/common/no_img_1000_1000.png'\" src=\"//img1a.coupangcdn.com/image/coupang/search/blank1x1.gif\" width=\"230\"/> </dt><dd class=\"descriptions\"><div class=\"descriptions-inner\"><div class=\"badges\"> </div><div class=\"name\">애플 에어팟프로 왼쪽 오른쪽 한쪽 충전케이스 Airpods Pro Left Right 블루투스이어폰, 에어팟프로 오른쪽, 화이트</div> <div class=\"price-area\"> <div class=\"price-wrap\"><div class=\"price\"> <span class=\"price-info\"> <span class=\"instant-discount-rate\">17%</span> <del class=\"base-price\">128,000</del> </span> <em class=\"sale\"> <strong class=\"price-value\">105,000</strong>원    </em> </div><!-- Free Shipping Badge -->\n",
       " <div class=\"delivery\"><span class=\"arrival-info\"> <em style=\"color:#111111\">토요일 3/27  </em> <em style=\"color:#111111\">도착 예정 </em> </span></div> </div> </div><div class=\"other-info\"><div class=\"rating-star\"><span class=\"star\"><em class=\"rating\" style=\"width:90%\">4.5</em></span> <span class=\"rating-total-count\">(19)</span></div></div><div class=\"benefit-badges\"> <div class=\"reward-cash-badge\"><div class=\"reward-cash-badge__inr\"><img alt=\"\" class=\"reward-cash-ico\" src=\"//image6.coupangcdn.com/image/badges/cashback/web/list-cash-icon@2x.png\"/> <span class=\"reward-cash-txt\">최대 5,250원 적립</span></div></div></div></div></dd></dl><div class=\"mask\"></div></a></li>,\n",
       " <li class=\"search-product\" data-is-rocket=\"\" data-product-id=\"1861700914\" data-vendor-item-id=\"70554076273\" data-winner-vendor-item-id=\"70554076273\" id=\"1861700914\"><a class=\"search-product-link\" data-is-soldout=\"\" data-item-id=\"3164704171\" data-product-id=\"1861700914\" data-srp-log='{\"group\":\"PRODUCT\", \"itemId\":\"3164704171\", \"productId\":\"1861700914\", \"vendorItemId\":\"70554076273\", \"page\":\"1\", \"listSize\":\"36\", \"isCcidEligible\":false, \"displayCcidBadge\":false, \"wowOnlyInstantDiscountRate\": -1, \"snsDiscountRate\" : -1 }' data-vendor-item-id=\"70554076273\" href=\"/vp/products/1861700914?itemId=3164704171&amp;vendorItemId=70554076273\" target=\"_blank\"><dl class=\"search-product-wrap\"><dt class=\"image\"> <img alt=\"애플코리아 에어팟 오른쪽 왼쪽 1세대 2세대 한쪽판매 블루투스이어폰\" class=\"search-product-wrap-img\" data-img-src=\"//thumbnail7.coupangcdn.com/thumbnails/remote/230x230ex/image/vendor_inventory/c245/83b4b9fbb2d5b584e12ea3192d092a90dfb587fbd39be90f8c0a63896579.jpg\" data-src=\"data:image/gif;base64,R0lGODlhAQABAAAAACH5BAEKAAEALAAAAAABAAEAAAICTAEAOw==\" height=\"230\" onerror=\"this.src='//img2a.coupangcdn.com/image/coupang/common/no_img_1000_1000.png'\" src=\"//img1a.coupangcdn.com/image/coupang/search/blank1x1.gif\" width=\"230\"/> </dt><dd class=\"descriptions\"><div class=\"descriptions-inner\"><div class=\"badges\"> </div><div class=\"name\">애플코리아 에어팟 오른쪽 왼쪽 1세대 2세대 한쪽판매 블루투스이어폰</div> <div class=\"price-area\"> <div class=\"price-wrap\"><div class=\"price\"> <em class=\"sale\"> <strong class=\"price-value\">93,000</strong>원    </em> </div><!-- Free Shipping Badge -->\n",
       " <div class=\"delivery\"><span class=\"arrival-info\"> <em style=\"color:#111111\">모레(금) 3/26  </em> <em style=\"color:#111111\">도착 예정 </em> </span></div> </div> </div><div class=\"other-info\"><div class=\"rating-star\"><span class=\"star\"><em class=\"rating\" style=\"width:90%\">4.5</em></span> <span class=\"rating-total-count\">(19)</span></div></div><div class=\"benefit-badges\"> <div class=\"reward-cash-badge\"><div class=\"reward-cash-badge__inr\"><img alt=\"\" class=\"reward-cash-ico\" src=\"//image6.coupangcdn.com/image/badges/cashback/web/list-cash-icon@2x.png\"/> <span class=\"reward-cash-txt\">최대 4,650원 적립</span></div></div></div></div></dd></dl><div class=\"mask\"></div></a></li>,\n",
       " <li class=\"search-product\" data-is-rocket=\"\" data-product-id=\"298632464\" data-vendor-item-id=\"5326042539\" data-winner-vendor-item-id=\"5326042539\" id=\"298632464\"><a class=\"search-product-link\" data-is-soldout=\"\" data-item-id=\"940547257\" data-product-id=\"298632464\" data-srp-log='{\"group\":\"PRODUCT\", \"itemId\":\"940547257\", \"productId\":\"298632464\", \"vendorItemId\":\"5326042539\", \"page\":\"1\", \"listSize\":\"36\", \"isCcidEligible\":false, \"displayCcidBadge\":false, \"wowOnlyInstantDiscountRate\": -1, \"snsDiscountRate\" : -1 }' data-vendor-item-id=\"5326042539\" href=\"/vp/products/298632464?itemId=940547257&amp;vendorItemId=5326042539\" target=\"_blank\"><dl class=\"search-product-wrap\"><dt class=\"image\"> <img alt=\"애플코리아 에어팟 오른쪽 왼쪽 1세대 2세대 한쪽판매 블루투스이어폰, 본체 미포함 1세대 사용가능 L+R세트(2세대 양쪽)\" class=\"search-product-wrap-img\" data-img-src=\"//thumbnail10.coupangcdn.com/thumbnails/remote/230x230ex/image/vendor_inventory/6a1b/aeaa7931d42d5eb7d5b8f0fbb835ea36db1d10f0befb219610ca75b9ea9e.jpg\" data-src=\"data:image/gif;base64,R0lGODlhAQABAAAAACH5BAEKAAEALAAAAAABAAEAAAICTAEAOw==\" height=\"230\" onerror=\"this.src='//img2a.coupangcdn.com/image/coupang/common/no_img_1000_1000.png'\" src=\"//img1a.coupangcdn.com/image/coupang/search/blank1x1.gif\" width=\"230\"/> </dt><dd class=\"descriptions\"><div class=\"descriptions-inner\"><div class=\"badges\"> </div><div class=\"name\">애플코리아 에어팟 오른쪽 왼쪽 1세대 2세대 한쪽판매 블루투스이어폰, 본체 미포함 1세대 사용가능 L+R세트(2세대 양쪽)</div> <div class=\"price-area\"> <div class=\"price-wrap\"><div class=\"price\"> <em class=\"sale\"> <strong class=\"price-value\">125,000</strong>원    </em> </div><!-- Free Shipping Badge -->\n",
       " <div class=\"delivery\"><span class=\"arrival-info\"> <em style=\"color:#111111\">모레(금) 3/26  </em> <em style=\"color:#111111\">도착 예정 </em> </span></div> </div> </div><div class=\"other-info\"><div class=\"rating-star\"><span class=\"star\"><em class=\"rating\" style=\"width:90%\">4.5</em></span> <span class=\"rating-total-count\">(18)</span></div></div><div class=\"benefit-badges\"> <div class=\"reward-cash-badge\"><div class=\"reward-cash-badge__inr\"><img alt=\"\" class=\"reward-cash-ico\" src=\"//image6.coupangcdn.com/image/badges/cashback/web/list-cash-icon@2x.png\"/> <span class=\"reward-cash-txt\">최대 6,250원 적립</span></div></div></div></div></dd></dl><div class=\"mask\"></div></a></li>,\n",
       " <li class=\"search-product\" data-is-rocket=\"true\" data-product-id=\"4584075863\" data-vendor-item-id=\"72922972847\" data-winner-vendor-item-id=\"72922972847\" id=\"4584075863\"><a class=\"search-product-link\" data-is-soldout=\"\" data-item-id=\"5623805764\" data-product-id=\"4584075863\" data-srp-log='{\"group\":\"PRODUCT\", \"itemId\":\"5623805764\", \"productId\":\"4584075863\", \"vendorItemId\":\"72922972847\", \"page\":\"1\", \"listSize\":\"36\", \"isCcidEligible\":false, \"displayCcidBadge\":false, \"wowOnlyInstantDiscountRate\": -1, \"snsDiscountRate\" : -1 }' data-vendor-item-id=\"72922972847\" href=\"/vp/products/4584075863?itemId=5623805764&amp;vendorItemId=72922972847\" target=\"_blank\"><dl class=\"search-product-wrap\"><dt class=\"image\"> <img alt=\"Apple 에어팟 맥스 블루투스헤드셋, 그린\" class=\"search-product-wrap-img\" data-img-src=\"//thumbnail9.coupangcdn.com/thumbnails/remote/230x230ex/image/retail/images/2223265182127-5b60b976-d56b-4e8a-ac18-e96942977bdb.jpg\" data-src=\"data:image/gif;base64,R0lGODlhAQABAAAAACH5BAEKAAEALAAAAAABAAEAAAICTAEAOw==\" height=\"230\" onerror=\"this.src='//img2a.coupangcdn.com/image/coupang/common/no_img_1000_1000.png'\" src=\"//img1a.coupangcdn.com/image/coupang/search/blank1x1.gif\" width=\"230\"/> </dt><dd class=\"descriptions\"><div class=\"descriptions-inner\"><div class=\"badges\"> </div><div class=\"name\">Apple 에어팟 맥스 블루투스헤드셋, 그린</div> <div class=\"price-area\"> <div class=\"price-wrap\"><div class=\"price\"> <em class=\"sale\"> <strong class=\"price-value\">719,000</strong>원   <span class=\"badge rocket\"> <img alt=\"로켓배송\" height=\"16\" src=\"//image10.coupangcdn.com/image/badges/rocket/rocket_logo.png\"/> </span> </em> </div><!-- Free Shipping Badge -->\n",
       " <div class=\"delivery\"><span class=\"arrival-info\"> <em style=\"color:#00891A\">내일(목) 3/25  </em> <em style=\"color:#00891A\">도착 보장 </em> </span></div> <div class=\"delivery\"> <span class=\"badge falcon\"><img alt=\"로켓직구\" height=\"16\" src=\"//image8.coupangcdn.com/image/badges/falcon/v1/web/rocketwow-bi-16@2x.png\"/> </span> <span class=\"arrival-info\"> <em style=\"color:#00891A\">내일(목) 새벽  </em> <em style=\"color:#00891A\">도착 보장 </em> </span></div> </div> </div><div class=\"other-info\"><div class=\"rating-star\"><span class=\"star\"><em class=\"rating\" style=\"width:100%\">5.0</em></span> <span class=\"rating-total-count\">(78)</span></div></div><div class=\"benefit-badges\"> <div class=\"reward-cash-badge\"><div class=\"reward-cash-badge__inr\"><img alt=\"\" class=\"reward-cash-ico\" src=\"//image6.coupangcdn.com/image/badges/cashback/web/list-cash-icon@2x.png\"/> <span class=\"reward-cash-txt\">최대 35,950원 적립</span></div></div></div></div></dd></dl><div class=\"mask\"></div></a></li>,\n",
       " <li class=\"search-product\" data-is-rocket=\"\" data-product-id=\"1492210120\" data-vendor-item-id=\"74300605862\" data-winner-vendor-item-id=\"74300605862\" id=\"1492210120\"><a class=\"search-product-link\" data-is-soldout=\"\" data-item-id=\"2561570752\" data-product-id=\"1492210120\" data-srp-log='{\"group\":\"PRODUCT\", \"itemId\":\"2561570752\", \"productId\":\"1492210120\", \"vendorItemId\":\"74300605862\", \"page\":\"1\", \"listSize\":\"36\", \"isCcidEligible\":false, \"displayCcidBadge\":false, \"wowOnlyInstantDiscountRate\": -1, \"snsDiscountRate\" : -1 }' data-vendor-item-id=\"74300605862\" href=\"/vp/products/1492210120?itemId=2561570752&amp;vendorItemId=74300605862\" target=\"_blank\"><dl class=\"search-product-wrap\"><dt class=\"image\"> <img alt=\"애플 에어팟프로 왼쪽 오른쪽 한쪽 충전케이스 Airpods Pro Left Right 블루투스이어폰, 에어팟 프로 충전본체(이어폰 없음)\" class=\"search-product-wrap-img\" data-img-src=\"//thumbnail10.coupangcdn.com/thumbnails/remote/230x230ex/image/vendor_inventory/0ec7/5162192591ef4f6cbfa1392f61d388a13aab51baf26edeefdef5fd4c6cd3.png\" data-src=\"data:image/gif;base64,R0lGODlhAQABAAAAACH5BAEKAAEALAAAAAABAAEAAAICTAEAOw==\" height=\"230\" onerror=\"this.src='//img2a.coupangcdn.com/image/coupang/common/no_img_1000_1000.png'\" src=\"//img1a.coupangcdn.com/image/coupang/search/blank1x1.gif\" width=\"230\"/> </dt><dd class=\"descriptions\"><div class=\"descriptions-inner\"><div class=\"badges\"> </div><div class=\"name\">애플 에어팟프로 왼쪽 오른쪽 한쪽 충전케이스 Airpods Pro Left Right 블루투스이어폰, 에어팟 프로 충전본체(이어폰 없음)</div> <div class=\"price-area\"> <div class=\"price-wrap\"><div class=\"price\"> <em class=\"sale\"> <strong class=\"price-value\">90,000</strong>원    </em> </div><!-- Free Shipping Badge -->\n",
       " <div class=\"delivery\"><span class=\"arrival-info\"> <em style=\"color:#111111\">모레(금) 3/26  </em> <em style=\"color:#111111\">도착 예정 </em> </span></div> </div> </div><div class=\"other-info\"><div class=\"rating-star\"><span class=\"star\"><em class=\"rating\" style=\"width:90%\">4.5</em></span> <span class=\"rating-total-count\">(4)</span></div></div><div class=\"benefit-badges\"> <div class=\"reward-cash-badge\"><div class=\"reward-cash-badge__inr\"><img alt=\"\" class=\"reward-cash-ico\" src=\"//image6.coupangcdn.com/image/badges/cashback/web/list-cash-icon@2x.png\"/> <span class=\"reward-cash-txt\">최대 4,500원 적립</span></div></div></div></div></dd></dl><div class=\"mask\"></div></a></li>,\n",
       " <li class=\"search-product\" data-is-rocket=\"\" data-product-id=\"215980215\" data-vendor-item-id=\"3898328687\" data-winner-vendor-item-id=\"3898328687\" id=\"215980215\"><a class=\"search-product-link\" data-is-soldout=\"\" data-item-id=\"662148910\" data-product-id=\"215980215\" data-srp-log='{\"group\":\"PRODUCT\", \"itemId\":\"662148910\", \"productId\":\"215980215\", \"vendorItemId\":\"3898328687\", \"page\":\"1\", \"listSize\":\"36\", \"isCcidEligible\":false, \"displayCcidBadge\":false, \"wowOnlyInstantDiscountRate\": -1, \"snsDiscountRate\" : -1 }' data-vendor-item-id=\"3898328687\" href=\"/vp/products/215980215?itemId=662148910&amp;vendorItemId=3898328687\" target=\"_blank\"><dl class=\"search-product-wrap\"><dt class=\"image\"> <img alt=\"애플 APPLE [2일항공배송] AirPods 에어팟2세대 유선충전 블루투스 에어팟 무선이어폰 케이스세트 케이블보호캡증정, 에어팟 2세대 유선충전 - 고급추가세트\" class=\"search-product-wrap-img\" data-img-src=\"//thumbnail9.coupangcdn.com/thumbnails/remote/230x230ex/image/vendor_inventory/dd3d/b2af2e48a1547b5c5697a09ca3abe7b74072dbca1c016c141db4090c0fb9.jpg\" data-src=\"data:image/gif;base64,R0lGODlhAQABAAAAACH5BAEKAAEALAAAAAABAAEAAAICTAEAOw==\" height=\"230\" onerror=\"this.src='//img2a.coupangcdn.com/image/coupang/common/no_img_1000_1000.png'\" src=\"//img1a.coupangcdn.com/image/coupang/search/blank1x1.gif\" width=\"230\"/> </dt><dd class=\"descriptions\"><div class=\"descriptions-inner\"><div class=\"badges\"> <span class=\"badge badge-delivery\">무료배송</span> </div><div class=\"name\">애플 APPLE [2일항공배송] AirPods 에어팟2세대 유선충전 블루투스 에어팟 무선이어폰 케이스세트 케이블보호캡증정, 에어팟 2세대 유선충전 - 고급추가세트</div> <div class=\"price-area\"> <div class=\"price-wrap\"><div class=\"price\"> <em class=\"sale\"> <strong class=\"price-value\">209,900</strong>원    </em> </div><!-- Free Shipping Badge -->\n",
       " <div class=\"delivery\"><span class=\"arrival-info\"> <em style=\"color:#111111\">4/1  </em> <em style=\"color:#111111\">도착 예정 </em> </span></div> </div> </div><div class=\"other-info\"><div class=\"rating-star\"><span class=\"star\"><em class=\"rating\" style=\"width:90%\">4.5</em></span> <span class=\"rating-total-count\">(76)</span></div></div><div class=\"benefit-badges\"> <div class=\"reward-cash-badge\"><div class=\"reward-cash-badge__inr\"><img alt=\"\" class=\"reward-cash-ico\" src=\"//image6.coupangcdn.com/image/badges/cashback/web/list-cash-icon@2x.png\"/> <span class=\"reward-cash-txt\">최대 10,495원 적립</span></div></div></div></div></dd></dl><div class=\"mask\"></div></a></li>,\n",
       " <li class=\"search-product\" data-is-rocket=\"\" data-product-id=\"215980215\" data-vendor-item-id=\"4713969149\" data-winner-vendor-item-id=\"4713969149\" id=\"215980215\"><a class=\"search-product-link\" data-is-soldout=\"\" data-item-id=\"662148886\" data-product-id=\"215980215\" data-srp-log='{\"group\":\"PRODUCT\", \"itemId\":\"662148886\", \"productId\":\"215980215\", \"vendorItemId\":\"4713969149\", \"page\":\"1\", \"listSize\":\"36\", \"isCcidEligible\":false, \"displayCcidBadge\":false, \"wowOnlyInstantDiscountRate\": -1, \"snsDiscountRate\" : -1 }' data-vendor-item-id=\"4713969149\" href=\"/vp/products/215980215?itemId=662148886&amp;vendorItemId=4713969149\" target=\"_blank\"><dl class=\"search-product-wrap\"><dt class=\"image\"> <img alt=\"애플 APPLE [2일항공배송] AirPods 에어팟 2세대 유선충전모델 블루투스 무선이어폰 케이스 스트랩 아이폰 이어폰 케이블보호캡증정, 에어팟2세대 유선충전-스트랩\" class=\"search-product-wrap-img\" data-img-src=\"//thumbnail6.coupangcdn.com/thumbnails/remote/230x230ex/image/vendor_inventory/59de/189754add301a9f487662d279fffde8d0b64bee5526d2b513eb65faaff44.jpg\" data-src=\"data:image/gif;base64,R0lGODlhAQABAAAAACH5BAEKAAEALAAAAAABAAEAAAICTAEAOw==\" height=\"230\" onerror=\"this.src='//img2a.coupangcdn.com/image/coupang/common/no_img_1000_1000.png'\" src=\"//img1a.coupangcdn.com/image/coupang/search/blank1x1.gif\" width=\"230\"/> </dt><dd class=\"descriptions\"><div class=\"descriptions-inner\"><div class=\"badges\"> </div><div class=\"name\">애플 APPLE [2일항공배송] AirPods 에어팟 2세대 유선충전모델 블루투스 무선이어폰 케이스 스트랩 아이폰 이어폰 케이블보호캡증정, 에어팟2세대 유선충전-스트랩</div> <div class=\"price-area\"> <div class=\"price-wrap\"><div class=\"price\"> <em class=\"sale\"> <strong class=\"price-value\">169,900</strong>원    </em> </div><!-- Free Shipping Badge -->\n",
       " <div class=\"delivery\"><span class=\"arrival-info\"> <em style=\"color:#111111\">4/1  </em> <em style=\"color:#111111\">도착 예정 </em> </span></div> </div> </div><div class=\"other-info\"><div class=\"rating-star\"><span class=\"star\"><em class=\"rating\" style=\"width:90%\">4.5</em></span> <span class=\"rating-total-count\">(76)</span></div></div><div class=\"benefit-badges\"> <div class=\"reward-cash-badge\"><div class=\"reward-cash-badge__inr\"><img alt=\"\" class=\"reward-cash-ico\" src=\"//image6.coupangcdn.com/image/badges/cashback/web/list-cash-icon@2x.png\"/> <span class=\"reward-cash-txt\">최대 8,495원 적립</span></div></div></div></div></dd></dl><div class=\"mask\"></div></a></li>,\n",
       " <li class=\"search-product\" data-is-rocket=\"\" data-product-id=\"215980215\" data-vendor-item-id=\"3898328672\" data-winner-vendor-item-id=\"3898328672\" id=\"215980215\"><a class=\"search-product-link\" data-is-soldout=\"\" data-item-id=\"662148903\" data-product-id=\"215980215\" data-srp-log='{\"group\":\"PRODUCT\", \"itemId\":\"662148903\", \"productId\":\"215980215\", \"vendorItemId\":\"3898328672\", \"page\":\"1\", \"listSize\":\"36\", \"isCcidEligible\":false, \"displayCcidBadge\":false, \"wowOnlyInstantDiscountRate\": -1, \"snsDiscountRate\" : -1 }' data-vendor-item-id=\"3898328672\" href=\"/vp/products/215980215?itemId=662148903&amp;vendorItemId=3898328672\" target=\"_blank\"><dl class=\"search-product-wrap\"><dt class=\"image\"> <img alt=\"APPLE 애플 [2일항공배송] AirPods 에어팟 2세대 유선충전 모델 블루투스이어폰 무선이어폰 아이폰이어폰 케이스세트 케이블보호캡 증정, 에어팟2세대 유선충전 - 캐릭터추가세트\" class=\"search-product-wrap-img\" data-img-src=\"//thumbnail7.coupangcdn.com/thumbnails/remote/230x230ex/image/vendor_inventory/3307/8a3d3bf166050381f88544117ac76e85b6b6d3b2cc5c91d4f7a4e90e115b.jpg\" data-src=\"data:image/gif;base64,R0lGODlhAQABAAAAACH5BAEKAAEALAAAAAABAAEAAAICTAEAOw==\" height=\"230\" onerror=\"this.src='//img2a.coupangcdn.com/image/coupang/common/no_img_1000_1000.png'\" src=\"//img1a.coupangcdn.com/image/coupang/search/blank1x1.gif\" width=\"230\"/> </dt><dd class=\"descriptions\"><div class=\"descriptions-inner\"><div class=\"badges\"> <span class=\"badge badge-delivery\">무료배송</span> </div><div class=\"name\">APPLE 애플 [2일항공배송] AirPods 에어팟 2세대 유선충전 모델 블루투스이어폰 무선이어폰 아이폰이어폰 케이스세트 케이블보호캡 증정, 에어팟2세대 유선충전 - 캐릭터추가세트</div> <div class=\"price-area\"> <div class=\"price-wrap\"><div class=\"price\"> <em class=\"sale\"> <strong class=\"price-value\">205,900</strong>원    </em> </div><!-- Free Shipping Badge -->\n",
       " <div class=\"delivery\"><span class=\"arrival-info\"> <em style=\"color:#111111\">4/1  </em> <em style=\"color:#111111\">도착 예정 </em> </span></div> </div> </div><div class=\"other-info\"><div class=\"rating-star\"><span class=\"star\"><em class=\"rating\" style=\"width:90%\">4.5</em></span> <span class=\"rating-total-count\">(76)</span></div></div><div class=\"benefit-badges\"> <div class=\"reward-cash-badge\"><div class=\"reward-cash-badge__inr\"><img alt=\"\" class=\"reward-cash-ico\" src=\"//image6.coupangcdn.com/image/badges/cashback/web/list-cash-icon@2x.png\"/> <span class=\"reward-cash-txt\">최대 10,295원 적립</span></div></div></div></div></dd></dl><div class=\"mask\"></div></a></li>,\n",
       " <li class=\"search-product\" data-is-rocket=\"\" data-product-id=\"287969818\" data-vendor-item-id=\"3898328655\" data-winner-vendor-item-id=\"3898328655\" id=\"287969818\"><a class=\"search-product-link\" data-is-soldout=\"\" data-item-id=\"912332605\" data-product-id=\"287969818\" data-srp-log='{\"group\":\"PRODUCT\", \"itemId\":\"912332605\", \"productId\":\"287969818\", \"vendorItemId\":\"3898328655\", \"page\":\"1\", \"listSize\":\"36\", \"isCcidEligible\":false, \"displayCcidBadge\":false, \"wowOnlyInstantDiscountRate\": -1, \"snsDiscountRate\" : -1 }' data-vendor-item-id=\"3898328655\" href=\"/vp/products/287969818?itemId=912332605&amp;vendorItemId=3898328655\" target=\"_blank\"><dl class=\"search-product-wrap\"><dt class=\"image\"> <img alt=\"APPLE 애플 [2일항공배송] AirPods 에어팟 2세대 유선충전 모델 블루투스이어폰 무선이어폰 아이폰이어폰 케이스세트 케이블보호캡 증정, 에어팟2세대 유선충전 - 기본추가세트\" class=\"search-product-wrap-img\" data-img-src=\"//thumbnail7.coupangcdn.com/thumbnails/remote/230x230ex/image/vendor_inventory/96c1/d820ed96ce2499bcea12af234f1a99c342edf96b8e185eddad256f370d37.jpg\" data-src=\"data:image/gif;base64,R0lGODlhAQABAAAAACH5BAEKAAEALAAAAAABAAEAAAICTAEAOw==\" height=\"230\" onerror=\"this.src='//img2a.coupangcdn.com/image/coupang/common/no_img_1000_1000.png'\" src=\"//img1a.coupangcdn.com/image/coupang/search/blank1x1.gif\" width=\"230\"/> </dt><dd class=\"descriptions\"><div class=\"descriptions-inner\"><div class=\"badges\"> <span class=\"badge badge-delivery\">무료배송</span> </div><div class=\"name\">APPLE 애플 [2일항공배송] AirPods 에어팟 2세대 유선충전 모델 블루투스이어폰 무선이어폰 아이폰이어폰 케이스세트 케이블보호캡 증정, 에어팟2세대 유선충전 - 기본추가세트</div> <div class=\"price-area\"> <div class=\"price-wrap\"><div class=\"price\"> <em class=\"sale\"> <strong class=\"price-value\">202,900</strong>원    </em> </div><!-- Free Shipping Badge -->\n",
       " <div class=\"delivery\"><span class=\"arrival-info\"> <em style=\"color:#111111\">4/1  </em> <em style=\"color:#111111\">도착 예정 </em> </span></div> </div> </div><div class=\"other-info\"><div class=\"rating-star\"><span class=\"star\"><em class=\"rating\" style=\"width:90%\">4.5</em></span> <span class=\"rating-total-count\">(55)</span></div></div><div class=\"benefit-badges\"> <div class=\"reward-cash-badge\"><div class=\"reward-cash-badge__inr\"><img alt=\"\" class=\"reward-cash-ico\" src=\"//image6.coupangcdn.com/image/badges/cashback/web/list-cash-icon@2x.png\"/> <span class=\"reward-cash-txt\">최대 10,145원 적립</span></div></div></div></div></dd></dl><div class=\"mask\"></div></a></li>,\n",
       " <li class=\"search-product\" data-is-rocket=\"\" data-product-id=\"292803364\" data-vendor-item-id=\"3868860524\" data-winner-vendor-item-id=\"3868860524\" id=\"292803364\"><a class=\"search-product-link\" data-is-soldout=\"\" data-item-id=\"925044739\" data-product-id=\"292803364\" data-srp-log='{\"group\":\"PRODUCT\", \"itemId\":\"925044739\", \"productId\":\"292803364\", \"vendorItemId\":\"3868860524\", \"page\":\"1\", \"listSize\":\"36\", \"isCcidEligible\":false, \"displayCcidBadge\":false, \"wowOnlyInstantDiscountRate\": -1, \"snsDiscountRate\" : -1 }' data-vendor-item-id=\"3868860524\" href=\"/vp/products/292803364?itemId=925044739&amp;vendorItemId=3868860524\" target=\"_blank\"><dl class=\"search-product-wrap\"><dt class=\"image\"> <img alt=\"애플 APPLE [2일항공배송] AirPods 에어팟2세대 유선충전 블루투스 에어팟 무선이어폰 케이스세트 케이블보호캡증정, 에어팟 2세대 유선충전 - 캐릭터추가세트\" class=\"search-product-wrap-img\" data-img-src=\"//thumbnail7.coupangcdn.com/thumbnails/remote/230x230ex/image/vendor_inventory/3307/8a3d3bf166050381f88544117ac76e85b6b6d3b2cc5c91d4f7a4e90e115b.jpg\" data-src=\"data:image/gif;base64,R0lGODlhAQABAAAAACH5BAEKAAEALAAAAAABAAEAAAICTAEAOw==\" height=\"230\" onerror=\"this.src='//img2a.coupangcdn.com/image/coupang/common/no_img_1000_1000.png'\" src=\"//img1a.coupangcdn.com/image/coupang/search/blank1x1.gif\" width=\"230\"/> </dt><dd class=\"descriptions\"><div class=\"descriptions-inner\"><div class=\"badges\"> <span class=\"badge badge-delivery\">무료배송</span> </div><div class=\"name\">애플 APPLE [2일항공배송] AirPods 에어팟2세대 유선충전 블루투스 에어팟 무선이어폰 케이스세트 케이블보호캡증정, 에어팟 2세대 유선충전 - 캐릭터추가세트</div> <div class=\"price-area\"> <div class=\"price-wrap\"><div class=\"price\"> <em class=\"sale\"> <strong class=\"price-value\">205,900</strong>원    </em> </div><!-- Free Shipping Badge -->\n",
       " <div class=\"delivery\"><span class=\"arrival-info\"> <em style=\"color:#111111\">4/1  </em> <em style=\"color:#111111\">도착 예정 </em> </span></div> </div> </div><div class=\"other-info\"><div class=\"rating-star\"><span class=\"star\"><em class=\"rating\" style=\"width:90%\">4.5</em></span> <span class=\"rating-total-count\">(55)</span></div></div><div class=\"benefit-badges\"> <div class=\"reward-cash-badge\"><div class=\"reward-cash-badge__inr\"><img alt=\"\" class=\"reward-cash-ico\" src=\"//image6.coupangcdn.com/image/badges/cashback/web/list-cash-icon@2x.png\"/> <span class=\"reward-cash-txt\">최대 10,295원 적립</span></div></div></div></div></dd></dl><div class=\"mask\"></div></a></li>,\n",
       " <li class=\"search-product\" data-is-rocket=\"\" data-product-id=\"292803364\" data-vendor-item-id=\"3868860521\" data-winner-vendor-item-id=\"3868860521\" id=\"292803364\"><a class=\"search-product-link\" data-is-soldout=\"\" data-item-id=\"925044736\" data-product-id=\"292803364\" data-srp-log='{\"group\":\"PRODUCT\", \"itemId\":\"925044736\", \"productId\":\"292803364\", \"vendorItemId\":\"3868860521\", \"page\":\"1\", \"listSize\":\"36\", \"isCcidEligible\":false, \"displayCcidBadge\":false, \"wowOnlyInstantDiscountRate\": -1, \"snsDiscountRate\" : -1 }' data-vendor-item-id=\"3868860521\" href=\"/vp/products/292803364?itemId=925044736&amp;vendorItemId=3868860521\" target=\"_blank\"><dl class=\"search-product-wrap\"><dt class=\"image\"> <img alt=\"애플 APPLE [2일항공배송] AirPods 에어팟2세대 유선충전 블루투스 에어팟 무선이어폰 케이스세트 케이블보호캡증정, 에어팟 2세대 유선충전 - 기본추가세트\" class=\"search-product-wrap-img\" data-img-src=\"//thumbnail7.coupangcdn.com/thumbnails/remote/230x230ex/image/vendor_inventory/96c1/d820ed96ce2499bcea12af234f1a99c342edf96b8e185eddad256f370d37.jpg\" data-src=\"data:image/gif;base64,R0lGODlhAQABAAAAACH5BAEKAAEALAAAAAABAAEAAAICTAEAOw==\" height=\"230\" onerror=\"this.src='//img2a.coupangcdn.com/image/coupang/common/no_img_1000_1000.png'\" src=\"//img1a.coupangcdn.com/image/coupang/search/blank1x1.gif\" width=\"230\"/> </dt><dd class=\"descriptions\"><div class=\"descriptions-inner\"><div class=\"badges\"> <span class=\"badge badge-delivery\">무료배송</span> </div><div class=\"name\">애플 APPLE [2일항공배송] AirPods 에어팟2세대 유선충전 블루투스 에어팟 무선이어폰 케이스세트 케이블보호캡증정, 에어팟 2세대 유선충전 - 기본추가세트</div> <div class=\"price-area\"> <div class=\"price-wrap\"><div class=\"price\"> <em class=\"sale\"> <strong class=\"price-value\">202,900</strong>원    </em> </div><!-- Free Shipping Badge -->\n",
       " <div class=\"delivery\"><span class=\"arrival-info\"> <em style=\"color:#111111\">4/1  </em> <em style=\"color:#111111\">도착 예정 </em> </span></div> </div> </div><div class=\"other-info\"><div class=\"rating-star\"><span class=\"star\"><em class=\"rating\" style=\"width:90%\">4.5</em></span> <span class=\"rating-total-count\">(55)</span></div></div><div class=\"benefit-badges\"> <div class=\"reward-cash-badge\"><div class=\"reward-cash-badge__inr\"><img alt=\"\" class=\"reward-cash-ico\" src=\"//image6.coupangcdn.com/image/badges/cashback/web/list-cash-icon@2x.png\"/> <span class=\"reward-cash-txt\">최대 10,145원 적립</span></div></div></div></div></dd></dl><div class=\"mask\"></div></a></li>,\n",
       " <li class=\"search-product\" data-is-rocket=\"\" data-product-id=\"4919172880\" data-vendor-item-id=\"4714058815\" data-winner-vendor-item-id=\"4714058815\" id=\"4919172880\"><a class=\"search-product-link\" data-is-soldout=\"\" data-item-id=\"6442862061\" data-product-id=\"4919172880\" data-srp-log='{\"group\":\"PRODUCT\", \"itemId\":\"6442862061\", \"productId\":\"4919172880\", \"vendorItemId\":\"4714058815\", \"page\":\"1\", \"listSize\":\"36\", \"isCcidEligible\":false, \"displayCcidBadge\":false, \"wowOnlyInstantDiscountRate\": -1, \"snsDiscountRate\" : -1 }' data-vendor-item-id=\"4714058815\" href=\"/vp/products/4919172880?itemId=6442862061&amp;vendorItemId=4714058815\" target=\"_blank\"><dl class=\"search-product-wrap\"><dt class=\"image\"> <img alt=\"애플 APPLE [2일항공배송] AirPods 에어팟 2세대 무선충전모델 블루투스 무선이어폰 케이스 스트랩 아이폰 이어폰, 에어팟2세대 무선충전-스트랩\" class=\"search-product-wrap-img\" data-img-src=\"//thumbnail9.coupangcdn.com/thumbnails/remote/230x230ex/image/vendor_inventory/3a92/0abdcf68d230d272d5a7ba368c2bfaee573579c6dd7ea1f8f75ab9f9ec4b.jpg\" data-src=\"data:image/gif;base64,R0lGODlhAQABAAAAACH5BAEKAAEALAAAAAABAAEAAAICTAEAOw==\" height=\"230\" onerror=\"this.src='//img2a.coupangcdn.com/image/coupang/common/no_img_1000_1000.png'\" src=\"//img1a.coupangcdn.com/image/coupang/search/blank1x1.gif\" width=\"230\"/> </dt><dd class=\"descriptions\"><div class=\"descriptions-inner\"><div class=\"badges\"> </div><div class=\"name\">애플 APPLE [2일항공배송] AirPods 에어팟 2세대 무선충전모델 블루투스 무선이어폰 케이스 스트랩 아이폰 이어폰, 에어팟2세대 무선충전-스트랩</div> <div class=\"price-area\"> <div class=\"price-wrap\"><div class=\"price\"> <em class=\"sale\"> <strong class=\"price-value\">209,000</strong>원    </em> </div><!-- Free Shipping Badge -->\n",
       " <div class=\"delivery\"><span class=\"arrival-info\"> <em style=\"color:#111111\">4/1  </em> <em style=\"color:#111111\">도착 예정 </em> </span></div> </div> </div><div class=\"other-info\"><div class=\"rating-star\"><span class=\"star\"><em class=\"rating\" style=\"width:100%\">5.0</em></span> <span class=\"rating-total-count\">(5)</span></div></div><div class=\"benefit-badges\"> <div class=\"reward-cash-badge\"><div class=\"reward-cash-badge__inr\"><img alt=\"\" class=\"reward-cash-ico\" src=\"//image6.coupangcdn.com/image/badges/cashback/web/list-cash-icon@2x.png\"/> <span class=\"reward-cash-txt\">최대 10,450원 적립</span></div></div></div></div></dd></dl><div class=\"mask\"></div></a></li>,\n",
       " <li class=\"search-product\" data-is-rocket=\"\" data-product-id=\"1458624595\" data-vendor-item-id=\"70503210221\" data-winner-vendor-item-id=\"70503210221\" id=\"1458624595\"><a class=\"search-product-link\" data-is-soldout=\"\" data-item-id=\"2510156411\" data-product-id=\"1458624595\" data-srp-log='{\"group\":\"PRODUCT\", \"itemId\":\"2510156411\", \"productId\":\"1458624595\", \"vendorItemId\":\"70503210221\", \"page\":\"1\", \"listSize\":\"36\", \"isCcidEligible\":false, \"displayCcidBadge\":false, \"wowOnlyInstantDiscountRate\": -1, \"snsDiscountRate\" : -1 }' data-vendor-item-id=\"70503210221\" href=\"/vp/products/1458624595?itemId=2510156411&amp;vendorItemId=70503210221\" target=\"_blank\"><dl class=\"search-product-wrap\"><dt class=\"image\"> <img alt=\"애플 [애플정품] 에어팟 2세대 유선충전 Airpods2 가족세트2(4개), 선택완료, 기본구성\" class=\"search-product-wrap-img\" data-img-src=\"//thumbnail10.coupangcdn.com/thumbnails/remote/230x230ex/image/vendor_inventory/42f5/ad708d917c987950d692d7e81c2ac4eee0d63fd995d717efe52abbe5b4b4.jpg\" data-src=\"data:image/gif;base64,R0lGODlhAQABAAAAACH5BAEKAAEALAAAAAABAAEAAAICTAEAOw==\" height=\"230\" onerror=\"this.src='//img2a.coupangcdn.com/image/coupang/common/no_img_1000_1000.png'\" src=\"//img1a.coupangcdn.com/image/coupang/search/blank1x1.gif\" width=\"230\"/> </dt><dd class=\"descriptions\"><div class=\"descriptions-inner\"><div class=\"badges\"> <span class=\"badge badge-delivery\">무료배송</span> </div><div class=\"name\">애플 [애플정품] 에어팟 2세대 유선충전 Airpods2 가족세트2(4개), 선택완료, 기본구성</div> <div class=\"price-area\"> <div class=\"price-wrap\"><div class=\"price\"> <em class=\"sale\"> <strong class=\"price-value\">754,500</strong>원    </em> </div><!-- Free Shipping Badge -->\n",
       " <div class=\"delivery\"><span class=\"arrival-info\"> <em style=\"color:#111111\">토요일 3/27  </em> <em style=\"color:#111111\">도착 예정 </em> </span></div> </div> </div><div class=\"other-info\"><div class=\"rating-star\"><span class=\"star\"><em class=\"rating\" style=\"width:100%\">5.0</em></span> <span class=\"rating-total-count\">(1)</span></div></div><div class=\"benefit-badges\"> <div class=\"reward-cash-badge\"><div class=\"reward-cash-badge__inr\"><img alt=\"\" class=\"reward-cash-ico\" src=\"//image6.coupangcdn.com/image/badges/cashback/web/list-cash-icon@2x.png\"/> <span class=\"reward-cash-txt\">최대 37,725원 적립</span></div></div></div></div></dd></dl><div class=\"mask\"></div></a></li>,\n",
       " <li class=\"search-product\" data-is-rocket=\"\" data-product-id=\"5110785591\" data-vendor-item-id=\"74300584051\" data-winner-vendor-item-id=\"74300584051\" id=\"5110785591\"><a class=\"search-product-link\" data-is-soldout=\"\" data-item-id=\"6972897541\" data-product-id=\"5110785591\" data-srp-log='{\"group\":\"PRODUCT\", \"itemId\":\"6972897541\", \"productId\":\"5110785591\", \"vendorItemId\":\"74300584051\", \"page\":\"1\", \"listSize\":\"36\", \"isCcidEligible\":false, \"displayCcidBadge\":false, \"wowOnlyInstantDiscountRate\": -1, \"snsDiscountRate\" : -1 }' data-vendor-item-id=\"74300584051\" href=\"/vp/products/5110785591?itemId=6972897541&amp;vendorItemId=74300584051\" target=\"_blank\"><dl class=\"search-product-wrap\"><dt class=\"image\"> <img alt=\"애플코리아 에어팟 오른쪽 왼쪽 1세대 2세대 한쪽판매 블루투스이어폰, 흰색, 프로 왼쪽만[Pro Left Only]\" class=\"search-product-wrap-img\" data-img-src=\"//thumbnail7.coupangcdn.com/thumbnails/remote/230x230ex/image/vendor_inventory/c245/83b4b9fbb2d5b584e12ea3192d092a90dfb587fbd39be90f8c0a63896579.jpg\" data-src=\"data:image/gif;base64,R0lGODlhAQABAAAAACH5BAEKAAEALAAAAAABAAEAAAICTAEAOw==\" height=\"230\" onerror=\"this.src='//img2a.coupangcdn.com/image/coupang/common/no_img_1000_1000.png'\" src=\"//img1a.coupangcdn.com/image/coupang/search/blank1x1.gif\" width=\"230\"/> </dt><dd class=\"descriptions\"><div class=\"descriptions-inner\"><div class=\"badges\"> </div><div class=\"name\">애플코리아 에어팟 오른쪽 왼쪽 1세대 2세대 한쪽판매 블루투스이어폰, 흰색, 프로 왼쪽만[Pro Left Only]</div> <div class=\"price-area\"> <div class=\"price-wrap\"><div class=\"price\"> <em class=\"sale\"> <strong class=\"price-value\">85,800</strong>원    </em> </div><!-- Free Shipping Badge -->\n",
       " <div class=\"delivery\"><span class=\"arrival-info\"> <em style=\"color:#111111\">모레(금) 3/26  </em> <em style=\"color:#111111\">도착 예정 </em> </span></div> </div> </div><div class=\"other-info\"><div class=\"rating-star\"><span class=\"star\"><em class=\"rating\" style=\"width:70%\">3.5</em></span> <span class=\"rating-total-count\">(3)</span></div></div><div class=\"benefit-badges\"> <div class=\"reward-cash-badge\"><div class=\"reward-cash-badge__inr\"><img alt=\"\" class=\"reward-cash-ico\" src=\"//image6.coupangcdn.com/image/badges/cashback/web/list-cash-icon@2x.png\"/> <span class=\"reward-cash-txt\">최대 4,290원 적립</span></div></div></div></div></dd></dl><div class=\"mask\"></div></a></li>,\n",
       " <li class=\"search-product\" data-is-rocket=\"\" data-product-id=\"1165938294\" data-vendor-item-id=\"70508613466\" data-winner-vendor-item-id=\"70508613466\" id=\"1165938294\"><a class=\"search-product-link\" data-is-soldout=\"\" data-item-id=\"2142992355\" data-product-id=\"1165938294\" data-srp-log='{\"group\":\"PRODUCT\", \"itemId\":\"2142992355\", \"productId\":\"1165938294\", \"vendorItemId\":\"70508613466\", \"page\":\"1\", \"listSize\":\"36\", \"isCcidEligible\":false, \"displayCcidBadge\":false, \"wowOnlyInstantDiscountRate\": -1, \"snsDiscountRate\" : -1 }' data-vendor-item-id=\"70508613466\" href=\"/vp/products/1165938294?itemId=2142992355&amp;vendorItemId=70508613466\" target=\"_blank\"><dl class=\"search-product-wrap\"><dt class=\"image\"> <img alt=\"[애플정품] 에어팟 2세대 유선충전(2개)+무선충전(2개) 패키지+(키링+케이스+철가루방지스티커), 옵션선택\" class=\"search-product-wrap-img\" data-img-src=\"//thumbnail7.coupangcdn.com/thumbnails/remote/230x230ex/image/vendor_inventory/0e2a/2f15da9fb68e2c9d7e42fdda5cca2123c4bdde53fb75e778f0c8cacf0ccf.jpg\" data-src=\"data:image/gif;base64,R0lGODlhAQABAAAAACH5BAEKAAEALAAAAAABAAEAAAICTAEAOw==\" height=\"230\" onerror=\"this.src='//img2a.coupangcdn.com/image/coupang/common/no_img_1000_1000.png'\" src=\"//img1a.coupangcdn.com/image/coupang/search/blank1x1.gif\" width=\"230\"/> </dt><dd class=\"descriptions\"><div class=\"descriptions-inner\"><div class=\"badges\"> <span class=\"badge badge-delivery\">무료배송</span> </div><div class=\"name\">[애플정품] 에어팟 2세대 유선충전(2개)+무선충전(2개) 패키지+(키링+케이스+철가루방지스티커), 옵션선택</div> <div class=\"price-area\"> <div class=\"price-wrap\"><div class=\"price\"> <em class=\"sale\"> <strong class=\"price-value\">847,000</strong>원    </em> </div><!-- Free Shipping Badge -->\n",
       " <div class=\"delivery\"><span class=\"arrival-info\"> <em style=\"color:#111111\">토요일 3/27  </em> <em style=\"color:#111111\">도착 예정 </em> </span></div> </div> </div><div class=\"benefit-badges\"> <div class=\"reward-cash-badge\"><div class=\"reward-cash-badge__inr\"><img alt=\"\" class=\"reward-cash-ico\" src=\"//image6.coupangcdn.com/image/badges/cashback/web/list-cash-icon@2x.png\"/> <span class=\"reward-cash-txt\">최대 42,350원 적립</span></div></div></div></div></dd></dl><div class=\"mask\"></div></a></li>,\n",
       " <li class=\"search-product\" data-is-rocket=\"\" data-product-id=\"1462262064\" data-vendor-item-id=\"70508531066\" data-winner-vendor-item-id=\"70508531066\" id=\"1462262064\"><a class=\"search-product-link\" data-is-soldout=\"\" data-item-id=\"2515557391\" data-product-id=\"1462262064\" data-srp-log='{\"group\":\"PRODUCT\", \"itemId\":\"2515557391\", \"productId\":\"1462262064\", \"vendorItemId\":\"70508531066\", \"page\":\"1\", \"listSize\":\"36\", \"isCcidEligible\":false, \"displayCcidBadge\":false, \"wowOnlyInstantDiscountRate\": -1, \"snsDiscountRate\" : -1 }' data-vendor-item-id=\"70508531066\" href=\"/vp/products/1462262064?itemId=2515557391&amp;vendorItemId=70508531066\" target=\"_blank\"><dl class=\"search-product-wrap\"><dt class=\"image\"> <img alt=\"애플 [애플정품] 에어팟 2세대 유선충전(4개)+무선충전(4개) 패키지+(키링+케이스+철가루방지스티커), 선택완료, 단품없음\" class=\"search-product-wrap-img\" data-img-src=\"//thumbnail7.coupangcdn.com/thumbnails/remote/230x230ex/image/vendor_inventory/c16c/d85ca02278ad72a707645c3acc73e20c72c12e26e3f6f452389b225ae2c9.jpg\" data-src=\"data:image/gif;base64,R0lGODlhAQABAAAAACH5BAEKAAEALAAAAAABAAEAAAICTAEAOw==\" height=\"230\" onerror=\"this.src='//img2a.coupangcdn.com/image/coupang/common/no_img_1000_1000.png'\" src=\"//img1a.coupangcdn.com/image/coupang/search/blank1x1.gif\" width=\"230\"/> </dt><dd class=\"descriptions\"><div class=\"descriptions-inner\"><div class=\"badges\"> <span class=\"badge badge-delivery\">무료배송</span> </div><div class=\"name\">애플 [애플정품] 에어팟 2세대 유선충전(4개)+무선충전(4개) 패키지+(키링+케이스+철가루방지스티커), 선택완료, 단품없음</div> <div class=\"price-area\"> <div class=\"price-wrap\"><div class=\"price\"> <em class=\"sale\"> <strong class=\"price-value\">1,755,000</strong>원    </em> </div><!-- Free Shipping Badge -->\n",
       " <div class=\"delivery\"><span class=\"arrival-info\"> <em style=\"color:#111111\">토요일 3/27  </em> <em style=\"color:#111111\">도착 예정 </em> </span></div> </div> </div><div class=\"benefit-badges\"> <div class=\"reward-cash-badge\"><div class=\"reward-cash-badge__inr\"><img alt=\"\" class=\"reward-cash-ico\" src=\"//image6.coupangcdn.com/image/badges/cashback/web/list-cash-icon@2x.png\"/> <span class=\"reward-cash-txt\">최대 50,000원 적립</span></div></div></div></div></dd></dl><div class=\"mask\"></div></a></li>,\n",
       " <li class=\"search-product\" data-is-rocket=\"\" data-product-id=\"5197747685\" data-vendor-item-id=\"74528004445\" data-winner-vendor-item-id=\"74528004445\" id=\"5197747685\"><a class=\"search-product-link\" data-is-soldout=\"\" data-item-id=\"7236538556\" data-product-id=\"5197747685\" data-srp-log='{\"group\":\"PRODUCT\", \"itemId\":\"7236538556\", \"productId\":\"5197747685\", \"vendorItemId\":\"74528004445\", \"page\":\"1\", \"listSize\":\"36\", \"isCcidEligible\":false, \"displayCcidBadge\":false, \"wowOnlyInstantDiscountRate\": -1, \"snsDiscountRate\" : -1 }' data-vendor-item-id=\"74528004445\" href=\"/vp/products/5197747685?itemId=7236538556&amp;vendorItemId=74528004445\" target=\"_blank\"><dl class=\"search-product-wrap\"><dt class=\"image\"> <img alt=\"블루투스 무선이어폰 기간 한정 주문 111 AirPods 2 세대 무선 블루투스, 하얀, 공식 표준\" class=\"search-product-wrap-img\" data-img-src=\"//thumbnail10.coupangcdn.com/thumbnails/remote/230x230ex/image/vendor_inventory/7a54/4e8a9b80b48105c949484d7e102a1ba365466e884b2eda499aa210cdfcdf.jpeg\" data-src=\"data:image/gif;base64,R0lGODlhAQABAAAAACH5BAEKAAEALAAAAAABAAEAAAICTAEAOw==\" height=\"230\" onerror=\"this.src='//img2a.coupangcdn.com/image/coupang/common/no_img_1000_1000.png'\" src=\"//img1a.coupangcdn.com/image/coupang/search/blank1x1.gif\" width=\"230\"/> </dt><dd class=\"descriptions\"><div class=\"descriptions-inner\"><div class=\"badges\"> </div><div class=\"name\">블루투스 무선이어폰 기간 한정 주문 111 AirPods 2 세대 무선 블루투스, 하얀, 공식 표준</div> <div class=\"price-area\"> <div class=\"price-wrap\"><div class=\"price\"> <em class=\"sale\"> <strong class=\"price-value\">299,400</strong>원    </em> </div><!-- Free Shipping Badge -->\n",
       " <div class=\"delivery\"><span class=\"arrival-info\"> <em style=\"color:#111111\">4/14  </em> <em style=\"color:#111111\">도착 예정 </em> </span></div> </div> </div><div class=\"benefit-badges\"> <div class=\"reward-cash-badge\"><div class=\"reward-cash-badge__inr\"><img alt=\"\" class=\"reward-cash-ico\" src=\"//image6.coupangcdn.com/image/badges/cashback/web/list-cash-icon@2x.png\"/> <span class=\"reward-cash-txt\">최대 14,970원 적립</span></div></div></div></div></dd></dl><div class=\"mask\"></div></a></li>,\n",
       " <li class=\"search-product\" data-is-rocket=\"\" data-product-id=\"1980480301\" data-vendor-item-id=\"74354300402\" data-winner-vendor-item-id=\"74354300402\" id=\"1980480301\"><a class=\"search-product-link\" data-is-soldout=\"\" data-item-id=\"3369634171\" data-product-id=\"1980480301\" data-srp-log='{\"group\":\"PRODUCT\", \"itemId\":\"3369634171\", \"productId\":\"1980480301\", \"vendorItemId\":\"74354300402\", \"page\":\"1\", \"listSize\":\"36\", \"isCcidEligible\":false, \"displayCcidBadge\":false, \"wowOnlyInstantDiscountRate\": -1, \"snsDiscountRate\" : -1 }' data-vendor-item-id=\"74354300402\" href=\"/vp/products/1980480301?itemId=3369634171&amp;vendorItemId=74354300402\" target=\"_blank\"><dl class=\"search-product-wrap\"><dt class=\"image\"> <img alt=\"애플 정품 에어팟프로 왼쪽 오른쪽 본체만 분리판매, 에어팟 프로 본체만\" class=\"search-product-wrap-img\" data-img-src=\"//thumbnail8.coupangcdn.com/thumbnails/remote/230x230ex/image/vendor_inventory/88dd/345fef6e0108af8e811d54e798729a82a3148067cb904bc685e493567694.png\" data-src=\"data:image/gif;base64,R0lGODlhAQABAAAAACH5BAEKAAEALAAAAAABAAEAAAICTAEAOw==\" height=\"230\" onerror=\"this.src='//img2a.coupangcdn.com/image/coupang/common/no_img_1000_1000.png'\" src=\"//img1a.coupangcdn.com/image/coupang/search/blank1x1.gif\" width=\"230\"/> </dt><dd class=\"descriptions\"><div class=\"descriptions-inner\"><div class=\"badges\"> </div><div class=\"name\">애플 정품 에어팟프로 왼쪽 오른쪽 본체만 분리판매, 에어팟 프로 본체만</div> <div class=\"price-area\"> <div class=\"price-wrap\"><div class=\"price\"> <em class=\"sale\"> <strong class=\"price-value\">89,000</strong>원    </em> </div><!-- Free Shipping Badge -->\n",
       " <div class=\"delivery\"><span class=\"arrival-info\"> <em style=\"color:#111111\">모레(금) 3/26  </em> <em style=\"color:#111111\">도착 예정 </em> </span></div> </div> </div><div class=\"other-info\"><div class=\"rating-star\"><span class=\"star\"><em class=\"rating\" style=\"width:60%\">3.0</em></span> <span class=\"rating-total-count\">(4)</span></div></div><div class=\"benefit-badges\"> <div class=\"reward-cash-badge\"><div class=\"reward-cash-badge__inr\"><img alt=\"\" class=\"reward-cash-ico\" src=\"//image6.coupangcdn.com/image/badges/cashback/web/list-cash-icon@2x.png\"/> <span class=\"reward-cash-txt\">최대 4,450원 적립</span></div></div></div></div></dd></dl><div class=\"mask\"></div></a></li>,\n",
       " <li class=\"search-product\" data-is-rocket=\"true\" data-product-id=\"1421410328\" data-vendor-item-id=\"70453420108\" data-winner-vendor-item-id=\"70453420108\" id=\"1421410328\"><a class=\"search-product-link\" data-is-soldout=\"\" data-item-id=\"2459907326\" data-product-id=\"1421410328\" data-srp-log='{\"group\":\"PRODUCT\", \"itemId\":\"2459907326\", \"productId\":\"1421410328\", \"vendorItemId\":\"70453420108\", \"page\":\"1\", \"listSize\":\"36\", \"isCcidEligible\":false, \"displayCcidBadge\":false, \"wowOnlyInstantDiscountRate\": -1, \"snsDiscountRate\" : -1 }' data-vendor-item-id=\"70453420108\" href=\"/vp/products/1421410328?itemId=2459907326&amp;vendorItemId=70453420108\" target=\"_blank\"><dl class=\"search-product-wrap\"><dt class=\"image\"> <img alt=\"슈퍼디비전 에어팟프로 반투명 젤리 키링 실리콘 케이스 + 철가루 방지 스티커\" class=\"search-product-wrap-img\" data-img-src=\"//thumbnail9.coupangcdn.com/thumbnails/remote/230x230ex/image/retail/images/2020/04/02/18/6/06e2c3e3-4961-450a-beeb-b0b91f12e944.jpg\" data-src=\"data:image/gif;base64,R0lGODlhAQABAAAAACH5BAEKAAEALAAAAAABAAEAAAICTAEAOw==\" height=\"230\" onerror=\"this.src='//img2a.coupangcdn.com/image/coupang/common/no_img_1000_1000.png'\" src=\"//img1a.coupangcdn.com/image/coupang/search/blank1x1.gif\" width=\"230\"/> </dt><dd class=\"descriptions\"><div class=\"descriptions-inner\"><div class=\"badges\"> </div><div class=\"name\">슈퍼디비전 에어팟프로 반투명 젤리 키링 실리콘 케이스 + 철가루 방지 스티커</div> <div class=\"price-area\"> <div class=\"price-wrap\"><div class=\"price\"> <em class=\"sale\"> <strong class=\"price-value\">9,800</strong>원   <span class=\"badge rocket\"> <img alt=\"로켓배송\" height=\"16\" src=\"//image10.coupangcdn.com/image/badges/rocket/rocket_logo.png\"/> </span> </em> </div><!-- Free Shipping Badge -->\n",
       " <div class=\"delivery\"><span class=\"arrival-info\"> <em style=\"color:#00891A\">내일(목) 3/25  </em> <em style=\"color:#00891A\">도착 보장 </em> </span></div> <div class=\"delivery\"> <span class=\"badge falcon\"><img alt=\"로켓직구\" height=\"16\" src=\"//image8.coupangcdn.com/image/badges/falcon/v1/web/rocketwow-bi-16@2x.png\"/> </span> <span class=\"arrival-info\"> <em style=\"color:#00891A\">내일(목) 새벽  </em> <em style=\"color:#00891A\">도착 보장 </em> </span></div> </div> </div><div class=\"other-info\"><div class=\"rating-star\"><span class=\"star\"><em class=\"rating\" style=\"width:90%\">4.5</em></span> <span class=\"rating-total-count\">(1265)</span></div></div><div class=\"benefit-badges\"> <div class=\"reward-cash-badge\"><div class=\"reward-cash-badge__inr\"><img alt=\"\" class=\"reward-cash-ico\" src=\"//image6.coupangcdn.com/image/badges/cashback/web/list-cash-icon@2x.png\"/> <span class=\"reward-cash-txt\">최대 490원 적립</span></div></div></div></div></dd></dl><div class=\"mask\"></div></a></li>,\n",
       " <li class=\"search-product\" data-is-rocket=\"true\" data-product-id=\"1195960064\" data-vendor-item-id=\"5586784343\" data-winner-vendor-item-id=\"5586784343\" id=\"1195960064\"><a class=\"search-product-link\" data-is-soldout=\"\" data-item-id=\"2179167099\" data-product-id=\"1195960064\" data-srp-log='{\"group\":\"PRODUCT\", \"itemId\":\"2179167099\", \"productId\":\"1195960064\", \"vendorItemId\":\"5586784343\", \"page\":\"1\", \"listSize\":\"36\", \"isCcidEligible\":false, \"displayCcidBadge\":false, \"wowOnlyInstantDiscountRate\": -1, \"snsDiscountRate\" : -1 }' data-vendor-item-id=\"5586784343\" href=\"/vp/products/1195960064?itemId=2179167099&amp;vendorItemId=5586784343\" target=\"_blank\"><dl class=\"search-product-wrap\"><dt class=\"image\"> <img alt=\"누아트 에어팟프로 투명 젤리케이스 + 메탈철가루 방지스티커 랜덤 발송, 혼합 색상\" class=\"search-product-wrap-img\" data-img-src=\"//thumbnail7.coupangcdn.com/thumbnails/remote/230x230ex/image/retail/images/598885283166207-97f73094-17ec-42b1-a708-7fcf41329dd1.jpg\" data-src=\"data:image/gif;base64,R0lGODlhAQABAAAAACH5BAEKAAEALAAAAAABAAEAAAICTAEAOw==\" height=\"230\" onerror=\"this.src='//img2a.coupangcdn.com/image/coupang/common/no_img_1000_1000.png'\" src=\"//img1a.coupangcdn.com/image/coupang/search/blank1x1.gif\" width=\"230\"/> </dt><dd class=\"descriptions\"><div class=\"descriptions-inner\"><div class=\"badges\"> </div><div class=\"name\">누아트 에어팟프로 투명 젤리케이스 + 메탈철가루 방지스티커 랜덤 발송, 혼합 색상</div> <div class=\"price-area\"> <div class=\"price-wrap\"><div class=\"price\"> <em class=\"sale\"> <strong class=\"price-value\">6,900</strong>원   <span class=\"badge rocket\"> <img alt=\"로켓배송\" height=\"16\" src=\"//image10.coupangcdn.com/image/badges/rocket/rocket_logo.png\"/> </span> </em> </div><!-- Free Shipping Badge -->\n",
       " <div class=\"delivery\"><span class=\"arrival-info\"> <em style=\"color:#00891A\">내일(목) 3/25  </em> <em style=\"color:#00891A\">도착 보장 </em> </span></div> <div class=\"delivery\"> <span class=\"badge falcon\"><img alt=\"로켓직구\" height=\"16\" src=\"//image8.coupangcdn.com/image/badges/falcon/v1/web/rocketwow-bi-16@2x.png\"/> </span> <span class=\"arrival-info\"> <em style=\"color:#00891A\">내일(목) 새벽  </em> <em style=\"color:#00891A\">도착 보장 </em> </span></div> </div> <div class=\"used-product-info\"><span>새 상품</span><span>, </span><span>중고</span><strong> (4)</strong> <span>최저 </span><strong>6,140</strong><span>원</span></div> </div><div class=\"other-info\"><div class=\"rating-star\"><span class=\"star\"><em class=\"rating\" style=\"width:80%\">4.0</em></span> <span class=\"rating-total-count\">(2606)</span></div></div><div class=\"benefit-badges\"> <div class=\"reward-cash-badge\"><div class=\"reward-cash-badge__inr\"><img alt=\"\" class=\"reward-cash-ico\" src=\"//image6.coupangcdn.com/image/badges/cashback/web/list-cash-icon@2x.png\"/> <span class=\"reward-cash-txt\">최대 345원 적립</span></div></div></div></div></dd></dl><div class=\"mask\"></div></a></li>,\n",
       " <li class=\"search-product\" data-is-rocket=\"true\" data-product-id=\"340053357\" data-vendor-item-id=\"5591020264\" data-winner-vendor-item-id=\"5591020264\" id=\"340053357\"><a class=\"search-product-link\" data-is-soldout=\"\" data-item-id=\"1084962137\" data-product-id=\"340053357\" data-srp-log='{\"group\":\"PRODUCT\", \"itemId\":\"1084962137\", \"productId\":\"340053357\", \"vendorItemId\":\"5591020264\", \"page\":\"1\", \"listSize\":\"36\", \"isCcidEligible\":false, \"displayCcidBadge\":false, \"wowOnlyInstantDiscountRate\": -1, \"snsDiscountRate\" : -1 }' data-vendor-item-id=\"5591020264\" href=\"/vp/products/340053357?itemId=1084962137&amp;vendorItemId=5591020264\" target=\"_blank\"><dl class=\"search-product-wrap\"><dt class=\"image\"> <img alt=\"누아트 에어팟프로 메탈철가루 방지스티커 4p, 실버\" class=\"search-product-wrap-img\" data-img-src=\"//thumbnail7.coupangcdn.com/thumbnails/remote/230x230ex/image/retail/images/2019/11/21/12/9/87477bd0-fca6-432b-8ffd-94cd4bb04552.jpg\" data-src=\"data:image/gif;base64,R0lGODlhAQABAAAAACH5BAEKAAEALAAAAAABAAEAAAICTAEAOw==\" height=\"230\" onerror=\"this.src='//img2a.coupangcdn.com/image/coupang/common/no_img_1000_1000.png'\" src=\"//img1a.coupangcdn.com/image/coupang/search/blank1x1.gif\" width=\"230\"/> </dt><dd class=\"descriptions\"><div class=\"descriptions-inner\"><div class=\"badges\"> </div><div class=\"name\">누아트 에어팟프로 메탈철가루 방지스티커 4p, 실버</div> <div class=\"price-area\"> <div class=\"price-wrap\"><div class=\"price\"> <em class=\"sale\"> <strong class=\"price-value\">7,900</strong>원   <span class=\"badge rocket\"> <img alt=\"로켓배송\" height=\"16\" src=\"//image10.coupangcdn.com/image/badges/rocket/rocket_logo.png\"/> </span> </em> </div><!-- Free Shipping Badge -->\n",
       " <div class=\"delivery\"><span class=\"arrival-info\"> <em style=\"color:#00891A\">내일(목) 3/25  </em> <em style=\"color:#00891A\">도착 보장 </em> </span></div> <div class=\"delivery\"> <span class=\"badge falcon\"><img alt=\"로켓직구\" height=\"16\" src=\"//image8.coupangcdn.com/image/badges/falcon/v1/web/rocketwow-bi-16@2x.png\"/> </span> <span class=\"arrival-info\"> <em style=\"color:#00891A\">내일(목) 새벽  </em> <em style=\"color:#00891A\">도착 보장 </em> </span></div> </div> <div class=\"used-product-info\"><span>새 상품</span><span>, </span><span>재포장</span><strong> (10)</strong> <span>최저 </span><strong>7,580</strong><span>원</span></div> </div><div class=\"other-info\"><div class=\"rating-star\"><span class=\"star\"><em class=\"rating\" style=\"width:80%\">4.0</em></span> <span class=\"rating-total-count\">(2226)</span></div></div><div class=\"benefit-badges\"> <div class=\"reward-cash-badge\"><div class=\"reward-cash-badge__inr\"><img alt=\"\" class=\"reward-cash-ico\" src=\"//image6.coupangcdn.com/image/badges/cashback/web/list-cash-icon@2x.png\"/> <span class=\"reward-cash-txt\">최대 395원 적립</span></div></div></div></div></dd></dl><div class=\"mask\"></div></a></li>,\n",
       " <li class=\"search-product\" data-is-rocket=\"true\" data-product-id=\"1164294504\" data-vendor-item-id=\"70651527520\" data-winner-vendor-item-id=\"70651527520\" id=\"1164294504\"><a class=\"search-product-link\" data-is-soldout=\"\" data-item-id=\"2141403550\" data-product-id=\"1164294504\" data-srp-log='{\"group\":\"PRODUCT\", \"itemId\":\"2141403550\", \"productId\":\"1164294504\", \"vendorItemId\":\"70651527520\", \"page\":\"1\", \"listSize\":\"36\", \"isCcidEligible\":false, \"displayCcidBadge\":false, \"wowOnlyInstantDiscountRate\": -1, \"snsDiscountRate\" : -1 }' data-vendor-item-id=\"70651527520\" href=\"/vp/products/1164294504?itemId=2141403550&amp;vendorItemId=70651527520\" target=\"_blank\"><dl class=\"search-product-wrap\"><dt class=\"image\"> <img alt=\"내셔널지오그래픽 에어팟 프로 이어폰 카라비너 하드 케이스, 블랙\" class=\"search-product-wrap-img\" data-img-src=\"//thumbnail8.coupangcdn.com/thumbnails/remote/230x230ex/image/retail/images/2020/05/07/16/8/807daacd-834f-4c74-87bc-405d4f709f06.jpg\" data-src=\"data:image/gif;base64,R0lGODlhAQABAAAAACH5BAEKAAEALAAAAAABAAEAAAICTAEAOw==\" height=\"230\" onerror=\"this.src='//img2a.coupangcdn.com/image/coupang/common/no_img_1000_1000.png'\" src=\"//img1a.coupangcdn.com/image/coupang/search/blank1x1.gif\" width=\"230\"/> </dt><dd class=\"descriptions\"><div class=\"descriptions-inner\"><div class=\"badges\"> </div><div class=\"name\">내셔널지오그래픽 에어팟 프로 이어폰 카라비너 하드 케이스, 블랙</div> <div class=\"price-area\"> <div class=\"price-wrap\"><div class=\"price\"> <span class=\"price-info\"> <span class=\"instant-discount-rate\">1%</span> <del class=\"base-price\">15,840</del> </span> <em class=\"sale\"> <strong class=\"price-value\">15,660</strong>원   <span class=\"badge rocket\"> <img alt=\"로켓배송\" height=\"16\" src=\"//image10.coupangcdn.com/image/badges/rocket/rocket_logo.png\"/> </span> </em> </div><!-- Free Shipping Badge -->\n",
       " <div class=\"delivery\"><span class=\"arrival-info\"> <em style=\"color:#00891A\">내일(목) 3/25  </em> <em style=\"color:#00891A\">도착 보장 </em> </span></div> <div class=\"delivery\"> <span class=\"badge falcon\"><img alt=\"로켓직구\" height=\"16\" src=\"//image8.coupangcdn.com/image/badges/falcon/v1/web/rocketwow-bi-16@2x.png\"/> </span> <span class=\"arrival-info\"> <em style=\"color:#00891A\">내일(목) 새벽  </em> <em style=\"color:#00891A\">도착 보장 </em> </span></div> </div> <div class=\"used-product-info\"><span>새 상품</span><span>, </span><span>박스 훼손</span><strong> (7)</strong> <span>최저 </span><strong>15,190</strong><span>원</span></div> </div><div class=\"other-info\"><div class=\"rating-star\"><span class=\"star\"><em class=\"rating\" style=\"width:90%\">4.5</em></span> <span class=\"rating-total-count\">(579)</span></div></div><div class=\"benefit-badges\"> <div class=\"reward-cash-badge\"><div class=\"reward-cash-badge__inr\"><img alt=\"\" class=\"reward-cash-ico\" src=\"//image6.coupangcdn.com/image/badges/cashback/web/list-cash-icon@2x.png\"/> <span class=\"reward-cash-txt\">최대 783원 적립</span></div></div></div></div></dd></dl><div class=\"mask\"></div></a></li>]"
      ]
     },
     "execution_count": 99,
     "metadata": {},
     "output_type": "execute_result"
    }
   ],
   "source": [
    "prd_items = bs.find_all(\"li\", attrs={\"class\":\"search-product\"})\n",
    "prd_items"
   ]
  },
  {
   "cell_type": "code",
   "execution_count": 88,
   "metadata": {
    "slideshow": {
     "slide_type": "subslide"
    }
   },
   "outputs": [
    {
     "data": {
      "text/plain": [
       "[<li class=\"search-product\" data-is-rocket=\"true\" data-product-id=\"210191353\" data-vendor-item-id=\"4643929947\" data-winner-vendor-item-id=\"4643929947\" id=\"210191353\"><a class=\"search-product-link\" data-is-soldout=\"\" data-item-id=\"625994316\" data-product-id=\"210191353\" data-srp-log='{\"group\":\"PRODUCT\", \"itemId\":\"625994316\", \"productId\":\"210191353\", \"vendorItemId\":\"4643929947\", \"page\":\"1\", \"listSize\":\"36\", \"isCcidEligible\":false, \"displayCcidBadge\":false, \"wowOnlyInstantDiscountRate\": -1, \"snsDiscountRate\" : -1 }' data-vendor-item-id=\"4643929947\" href=\"/vp/products/210191353?itemId=625994316&amp;vendorItemId=4643929947\" target=\"_blank\"><dl class=\"search-product-wrap\"><dt class=\"image\"> <img alt=\"Apple 에어팟 2세대 무선 충전 모델, MRXJ2KH/A\" class=\"search-product-wrap-img\" data-src=\"data:image/gif;base64,R0lGODlhAQABAAAAACH5BAEKAAEALAAAAAABAAEAAAICTAEAOw==\" height=\"230\" onerror=\"this.src='//img2a.coupangcdn.com/image/coupang/common/no_img_1000_1000.png'\" onload=\"logTime(this);logImageLoadTime(this);\" src=\"//thumbnail10.coupangcdn.com/thumbnails/remote/230x230ex/image/retail/images/872629760195-a8609d2a-6df8-4318-84a2-d6a099c5b09a.jpg\" width=\"230\"/> </dt><dd class=\"descriptions\"><div class=\"descriptions-inner\"><div class=\"badges\"> <img alt=\"탑 브랜드\" class=\"badge-ico top-brand\" src=\"//image6.coupangcdn.com/image/badges/top_brand/c-avenue.svg\"/> </div><div class=\"name\">Apple 에어팟 2세대 무선 충전 모델, MRXJ2KH/A</div> <div class=\"price-area\"> <div class=\"price-wrap\"><div class=\"price\"> <span class=\"price-info\"><span class=\"instant-discount-price\">즉시할인가</span> <span class=\"instant-discount-rate\">23%</span> <del class=\"base-price\">249,000</del> </span> <em class=\"sale discount isInstantDiscount\"> <strong class=\"price-value\">190,900</strong>원   <span class=\"badge rocket\"> <img alt=\"로켓배송\" height=\"16\" src=\"//image10.coupangcdn.com/image/badges/rocket/rocket_logo.png\"/> </span> </em> </div><!-- Free Shipping Badge -->\n",
       " <div class=\"delivery\"><span class=\"arrival-info\"> <em style=\"color:#00891A\">내일(목) 3/25  </em> <em style=\"color:#00891A\">도착 보장 </em> </span></div> <div class=\"delivery\"> <span class=\"badge falcon\"><img alt=\"로켓직구\" height=\"16\" src=\"//image8.coupangcdn.com/image/badges/falcon/v1/web/rocketwow-bi-16@2x.png\"/> </span> <span class=\"arrival-info\"> <em style=\"color:#00891A\">내일(목) 새벽  </em> <em style=\"color:#00891A\">도착 보장 </em> </span></div> </div> <div class=\"used-product-info\"><span>새 상품</span><span>, </span><span>중고</span><strong> (55)</strong> <span>최저 </span><strong>148,900</strong><span>원</span></div> </div><div class=\"other-info\"><div class=\"rating-star\"><span class=\"star\"><em class=\"rating\" style=\"width:100%\">5.0</em></span> <span class=\"rating-total-count\">(9493)</span></div></div><div class=\"benefit-badges\"> <div class=\"reward-cash-badge\"><div class=\"reward-cash-badge__inr\"><img alt=\"\" class=\"reward-cash-ico\" src=\"//image6.coupangcdn.com/image/badges/cashback/web/list-cash-icon@2x.png\"/> <span class=\"reward-cash-txt\">최대 9,545원 적립</span></div></div></div></div></dd></dl> <span class=\"number no-1\">1</span> <div class=\"mask\"></div></a></li>,\n",
       " <li class=\"search-product\" data-is-rocket=\"true\" data-product-id=\"332473915\" data-vendor-item-id=\"5541656862\" data-winner-vendor-item-id=\"5541656862\" id=\"332473915\"><a class=\"search-product-link\" data-is-soldout=\"\" data-item-id=\"1062243893\" data-product-id=\"332473915\" data-srp-log='{\"group\":\"PRODUCT\", \"itemId\":\"1062243893\", \"productId\":\"332473915\", \"vendorItemId\":\"5541656862\", \"page\":\"1\", \"listSize\":\"36\", \"isCcidEligible\":false, \"displayCcidBadge\":false, \"wowOnlyInstantDiscountRate\": -1, \"snsDiscountRate\" : -1 }' data-vendor-item-id=\"5541656862\" href=\"/vp/products/332473915?itemId=1062243893&amp;vendorItemId=5541656862\" target=\"_blank\"><dl class=\"search-product-wrap\"><dt class=\"image\"> <img alt=\"Apple 에어팟 프로, MWP22KH/A, 화이트\" class=\"search-product-wrap-img\" data-src=\"data:image/gif;base64,R0lGODlhAQABAAAAACH5BAEKAAEALAAAAAABAAEAAAICTAEAOw==\" height=\"230\" onerror=\"this.src='//img2a.coupangcdn.com/image/coupang/common/no_img_1000_1000.png'\" onload=\"logTime(this);logImageLoadTime(this);\" src=\"//thumbnail7.coupangcdn.com/thumbnails/remote/230x230ex/image/retail/images/2019/11/07/18/8/4febc558-85b2-48a8-816e-0940180702df.jpg\" width=\"230\"/> </dt><dd class=\"descriptions\"><div class=\"descriptions-inner\"><div class=\"badges\"> <img alt=\"탑 브랜드\" class=\"badge-ico top-brand\" src=\"//image6.coupangcdn.com/image/badges/top_brand/c-avenue.svg\"/> </div><div class=\"name\">Apple 에어팟 프로, MWP22KH/A, 화이트</div> <div class=\"price-area\"> <div class=\"price-wrap\"><div class=\"price\"> <span class=\"price-info\"> <span class=\"instant-discount-rate\">24%</span> <del class=\"base-price\">329,000</del> </span> <em class=\"sale\"> <strong class=\"price-value\">247,300</strong>원   <span class=\"badge rocket\"> <img alt=\"로켓배송\" height=\"16\" src=\"//image10.coupangcdn.com/image/badges/rocket/rocket_logo.png\"/> </span> </em> </div><!-- Free Shipping Badge -->\n",
       " <div class=\"delivery\"><span class=\"arrival-info\"> <em style=\"color:#00891A\">내일(목) 3/25  </em> <em style=\"color:#00891A\">도착 보장 </em> </span></div> <div class=\"delivery\"> <span class=\"badge falcon\"><img alt=\"로켓직구\" height=\"16\" src=\"//image8.coupangcdn.com/image/badges/falcon/v1/web/rocketwow-bi-16@2x.png\"/> </span> <span class=\"arrival-info\"> <em style=\"color:#00891A\">내일(목) 새벽  </em> <em style=\"color:#00891A\">도착 보장 </em> </span></div> </div> <div class=\"used-product-info\"><span>새 상품</span><span>, </span><span>중고</span><strong> (80)</strong> <span>최저 </span><strong>197,840</strong><span>원</span></div> </div><div class=\"other-info\"><div class=\"rating-star\"><span class=\"star\"><em class=\"rating\" style=\"width:100%\">5.0</em></span> <span class=\"rating-total-count\">(54338)</span></div></div><div class=\"benefit-badges\"> <div class=\"reward-cash-badge\"><div class=\"reward-cash-badge__inr\"><img alt=\"\" class=\"reward-cash-ico\" src=\"//image6.coupangcdn.com/image/badges/cashback/web/list-cash-icon@2x.png\"/> <span class=\"reward-cash-txt\">최대 12,365원 적립</span></div></div></div></div></dd></dl> <span class=\"number no-2\">2</span> <div class=\"mask\"></div></a></li>,\n",
       " <li class=\"search-product\" data-is-rocket=\"true\" data-product-id=\"210191841\" data-vendor-item-id=\"4643936599\" data-winner-vendor-item-id=\"4643936599\" id=\"210191841\"><a class=\"search-product-link\" data-is-soldout=\"\" data-item-id=\"625998234\" data-product-id=\"210191841\" data-srp-log='{\"group\":\"PRODUCT\", \"itemId\":\"625998234\", \"productId\":\"210191841\", \"vendorItemId\":\"4643936599\", \"page\":\"1\", \"listSize\":\"36\", \"isCcidEligible\":false, \"displayCcidBadge\":false, \"wowOnlyInstantDiscountRate\": -1, \"snsDiscountRate\" : -1 }' data-vendor-item-id=\"4643936599\" href=\"/vp/products/210191841?itemId=625998234&amp;vendorItemId=4643936599\" target=\"_blank\"><dl class=\"search-product-wrap\"><dt class=\"image\"> <img alt=\"Apple 에어팟 2세대 유선 충전 모델 (블루투스 5.0), MV7N2KH/A\" class=\"search-product-wrap-img\" data-src=\"data:image/gif;base64,R0lGODlhAQABAAAAACH5BAEKAAEALAAAAAABAAEAAAICTAEAOw==\" height=\"230\" onerror=\"this.src='//img2a.coupangcdn.com/image/coupang/common/no_img_1000_1000.png'\" onload=\"logTime(this);logImageLoadTime(this);\" src=\"//thumbnail9.coupangcdn.com/thumbnails/remote/230x230ex/image/product/image/vendoritem/2019/09/02/4643936599/1d600ddf-f0ca-4f91-b62e-d1d86797451d.jpg\" width=\"230\"/> </dt><dd class=\"descriptions\"><div class=\"descriptions-inner\"><div class=\"badges\"> <img alt=\"탑 브랜드\" class=\"badge-ico top-brand\" src=\"//image6.coupangcdn.com/image/badges/top_brand/c-avenue.svg\"/> </div><div class=\"name\">Apple 에어팟 2세대 유선 충전 모델 (블루투스 5.0), MV7N2KH/A</div> <div class=\"price-area\"> <div class=\"price-wrap\"><div class=\"price\"> <span class=\"price-info\"> <span class=\"instant-discount-rate\">25%</span> <del class=\"base-price\">199,000</del> </span> <em class=\"sale\"> <strong class=\"price-value\">147,860</strong>원   <span class=\"badge rocket\"> <img alt=\"로켓배송\" height=\"16\" src=\"//image10.coupangcdn.com/image/badges/rocket/rocket_logo.png\"/> </span> </em> </div><!-- Free Shipping Badge -->\n",
       " <div class=\"delivery\"><span class=\"arrival-info\"> <em style=\"color:#00891A\">내일(목) 3/25  </em> <em style=\"color:#00891A\">도착 보장 </em> </span></div> <div class=\"delivery\"> <span class=\"badge falcon\"><img alt=\"로켓직구\" height=\"16\" src=\"//image8.coupangcdn.com/image/badges/falcon/v1/web/rocketwow-bi-16@2x.png\"/> </span> <span class=\"arrival-info\"> <em style=\"color:#00891A\">내일(목) 새벽  </em> <em style=\"color:#00891A\">도착 보장 </em> </span></div> </div> <div class=\"used-product-info\"><span>새 상품</span><span>, </span><span>중고</span><strong> (54)</strong> <span>최저 </span><strong>115,330</strong><span>원</span></div> </div><div class=\"other-info\"><div class=\"rating-star\"><span class=\"star\"><em class=\"rating\" style=\"width:100%\">5.0</em></span> <span class=\"rating-total-count\">(81463)</span></div></div><div class=\"benefit-badges\"> <div class=\"reward-cash-badge\"><div class=\"reward-cash-badge__inr\"><img alt=\"\" class=\"reward-cash-ico\" src=\"//image6.coupangcdn.com/image/badges/cashback/web/list-cash-icon@2x.png\"/> <span class=\"reward-cash-txt\">최대 7,393원 적립</span></div></div></div></div></dd></dl> <span class=\"number no-3\">3</span> <div class=\"mask\"></div></a></li>,\n",
       " <li class=\"search-product\" data-is-rocket=\"\" data-product-id=\"342826123\" data-vendor-item-id=\"74571527956\" data-winner-vendor-item-id=\"74571527956\" id=\"342826123\"><a class=\"search-product-link\" data-is-soldout=\"\" data-item-id=\"1089932822\" data-product-id=\"342826123\" data-srp-log='{\"group\":\"PRODUCT\", \"itemId\":\"1089932822\", \"productId\":\"342826123\", \"vendorItemId\":\"74571527956\", \"page\":\"1\", \"listSize\":\"36\", \"isCcidEligible\":false, \"displayCcidBadge\":false, \"wowOnlyInstantDiscountRate\": -1, \"snsDiscountRate\" : -1 }' data-vendor-item-id=\"74571527956\" href=\"/vp/products/342826123?itemId=1089932822&amp;vendorItemId=74571527956\" target=\"_blank\"><dl class=\"search-product-wrap\"><dt class=\"image\"> <img alt=\"APPLE 애플 에어팟프로 왼쪽 오른쪽 단품 한쪽구매 블루투스이어폰, 에어팟프로 양쪽(충전기본체미포함)\" class=\"search-product-wrap-img\" data-src=\"data:image/gif;base64,R0lGODlhAQABAAAAACH5BAEKAAEALAAAAAABAAEAAAICTAEAOw==\" height=\"230\" onerror=\"this.src='//img2a.coupangcdn.com/image/coupang/common/no_img_1000_1000.png'\" onload=\"logTime(this);logImageLoadTime(this);\" src=\"//thumbnail10.coupangcdn.com/thumbnails/remote/230x230ex/image/vendor_inventory/a722/31759de6f13e46347365ecf3a9d0f14a19b9e5603284260f3be1200ec2ec.jpg\" width=\"230\"/> </dt><dd class=\"descriptions\"><div class=\"descriptions-inner\"><div class=\"badges\"> </div><div class=\"name\">APPLE 애플 에어팟프로 왼쪽 오른쪽 단품 한쪽구매 블루투스이어폰, 에어팟프로 양쪽(충전기본체미포함)</div> <div class=\"price-area\"> <div class=\"price-wrap\"><div class=\"price\"> <em class=\"sale\"> <strong class=\"price-value\">210,000</strong>원    </em> </div><!-- Free Shipping Badge -->\n",
       " <div class=\"delivery\"><span class=\"arrival-info\"> <em style=\"color:#111111\">모레(금) 3/26  </em> <em style=\"color:#111111\">도착 예정 </em> </span></div> </div> </div><div class=\"other-info\"><div class=\"rating-star\"><span class=\"star\"><em class=\"rating\" style=\"width:90%\">4.5</em></span> <span class=\"rating-total-count\">(223)</span></div></div><div class=\"benefit-badges\"> <div class=\"reward-cash-badge\"><div class=\"reward-cash-badge__inr\"><img alt=\"\" class=\"reward-cash-ico\" src=\"//image6.coupangcdn.com/image/badges/cashback/web/list-cash-icon@2x.png\"/> <span class=\"reward-cash-txt\">최대 10,500원 적립</span></div></div></div></div></dd></dl> <span class=\"number no-4\">4</span> <div class=\"mask\"></div></a></li>,\n",
       " <li class=\"search-product\" data-is-rocket=\"true\" data-product-id=\"4584075863\" data-vendor-item-id=\"72922972761\" data-winner-vendor-item-id=\"72922972761\" id=\"4584075863\"><a class=\"search-product-link\" data-is-soldout=\"\" data-item-id=\"5623805749\" data-product-id=\"4584075863\" data-srp-log='{\"group\":\"PRODUCT\", \"itemId\":\"5623805749\", \"productId\":\"4584075863\", \"vendorItemId\":\"72922972761\", \"page\":\"1\", \"listSize\":\"36\", \"isCcidEligible\":false, \"displayCcidBadge\":false, \"wowOnlyInstantDiscountRate\": -1, \"snsDiscountRate\" : -1 }' data-vendor-item-id=\"72922972761\" href=\"/vp/products/4584075863?itemId=5623805749&amp;vendorItemId=72922972761&amp;pickType=COU_PICK\" target=\"_blank\"><dl class=\"search-product-wrap\"><dt class=\"image\"> <img alt=\"Apple 에어팟 맥스 블루투스헤드셋, 스카이 블루\" class=\"search-product-wrap-img\" data-src=\"data:image/gif;base64,R0lGODlhAQABAAAAACH5BAEKAAEALAAAAAABAAEAAAICTAEAOw==\" height=\"230\" onerror=\"this.src='//img2a.coupangcdn.com/image/coupang/common/no_img_1000_1000.png'\" onload=\"logTime(this);logImageLoadTime(this);\" src=\"//thumbnail7.coupangcdn.com/thumbnails/remote/230x230ex/image/retail/images/183201901284-847fb913-2a07-4489-b8af-5e7c4bb5740f.jpg\" width=\"230\"/> </dt><dd class=\"descriptions\"><div class=\"descriptions-inner\"><div class=\"badges\"> <img alt=\"쿠팡추천\" class=\"badge-ico badge-coupick\" src=\"//image8.coupangcdn.com/image/badges/cou_pick/web/coupick@2x.png\"/> </div><div class=\"name\">Apple 에어팟 맥스 블루투스헤드셋, 스카이 블루</div> <div class=\"price-area\"> <div class=\"price-wrap\"><div class=\"price\"> <em class=\"sale\"> <strong class=\"price-value\">629,000</strong>원   <span class=\"badge rocket\"> <img alt=\"로켓배송\" height=\"16\" src=\"//image10.coupangcdn.com/image/badges/rocket/rocket_logo.png\"/> </span> </em> </div><!-- Free Shipping Badge -->\n",
       " <div class=\"delivery\"><span class=\"arrival-info\"> <em style=\"color:#00891A\">내일(목) 3/25  </em> <em style=\"color:#00891A\">도착 보장 </em> </span></div> <div class=\"delivery\"> <span class=\"badge falcon\"><img alt=\"로켓직구\" height=\"16\" src=\"//image8.coupangcdn.com/image/badges/falcon/v1/web/rocketwow-bi-16@2x.png\"/> </span> <span class=\"arrival-info\"> <em style=\"color:#00891A\">내일(목) 새벽  </em> <em style=\"color:#00891A\">도착 보장 </em> </span></div> </div> </div><div class=\"other-info\"><div class=\"rating-star\"><span class=\"star\"><em class=\"rating\" style=\"width:100%\">5.0</em></span> <span class=\"rating-total-count\">(78)</span></div></div><div class=\"benefit-badges\"> <div class=\"reward-cash-badge\"><div class=\"reward-cash-badge__inr\"><img alt=\"\" class=\"reward-cash-ico\" src=\"//image6.coupangcdn.com/image/badges/cashback/web/list-cash-icon@2x.png\"/> <span class=\"reward-cash-txt\">최대 31,450원 적립</span></div></div></div></div></dd></dl> <span class=\"number no-5\">5</span> <div class=\"mask\"></div></a></li>,\n",
       " <li class=\"search-product\" data-is-rocket=\"true\" data-product-id=\"4584075863\" data-vendor-item-id=\"72922972847\" data-winner-vendor-item-id=\"72922972847\" id=\"4584075863\"><a class=\"search-product-link\" data-is-soldout=\"\" data-item-id=\"5623805764\" data-product-id=\"4584075863\" data-srp-log='{\"group\":\"PRODUCT\", \"itemId\":\"5623805764\", \"productId\":\"4584075863\", \"vendorItemId\":\"72922972847\", \"page\":\"1\", \"listSize\":\"36\", \"isCcidEligible\":false, \"displayCcidBadge\":false, \"wowOnlyInstantDiscountRate\": -1, \"snsDiscountRate\" : -1 }' data-vendor-item-id=\"72922972847\" href=\"/vp/products/4584075863?itemId=5623805764&amp;vendorItemId=72922972847\" target=\"_blank\"><dl class=\"search-product-wrap\"><dt class=\"image\"> <img alt=\"Apple 에어팟 맥스 블루투스헤드셋, 그린\" class=\"search-product-wrap-img\" data-src=\"data:image/gif;base64,R0lGODlhAQABAAAAACH5BAEKAAEALAAAAAABAAEAAAICTAEAOw==\" height=\"230\" onerror=\"this.src='//img2a.coupangcdn.com/image/coupang/common/no_img_1000_1000.png'\" onload=\"logTime(this);logImageLoadTime(this);\" src=\"//thumbnail9.coupangcdn.com/thumbnails/remote/230x230ex/image/retail/images/2223265182127-5b60b976-d56b-4e8a-ac18-e96942977bdb.jpg\" width=\"230\"/> </dt><dd class=\"descriptions\"><div class=\"descriptions-inner\"><div class=\"badges\"> </div><div class=\"name\">Apple 에어팟 맥스 블루투스헤드셋, 그린</div> <div class=\"price-area\"> <div class=\"price-wrap\"><div class=\"price\"> <em class=\"sale\"> <strong class=\"price-value\">719,000</strong>원   <span class=\"badge rocket\"> <img alt=\"로켓배송\" height=\"16\" src=\"//image10.coupangcdn.com/image/badges/rocket/rocket_logo.png\"/> </span> </em> </div><!-- Free Shipping Badge -->\n",
       " <div class=\"delivery\"><span class=\"arrival-info\"> <em style=\"color:#00891A\">내일(목) 3/25  </em> <em style=\"color:#00891A\">도착 보장 </em> </span></div> <div class=\"delivery\"> <span class=\"badge falcon\"><img alt=\"로켓직구\" height=\"16\" src=\"//image8.coupangcdn.com/image/badges/falcon/v1/web/rocketwow-bi-16@2x.png\"/> </span> <span class=\"arrival-info\"> <em style=\"color:#00891A\">내일(목) 새벽  </em> <em style=\"color:#00891A\">도착 보장 </em> </span></div> </div> </div><div class=\"other-info\"><div class=\"rating-star\"><span class=\"star\"><em class=\"rating\" style=\"width:100%\">5.0</em></span> <span class=\"rating-total-count\">(78)</span></div></div><div class=\"benefit-badges\"> <div class=\"reward-cash-badge\"><div class=\"reward-cash-badge__inr\"><img alt=\"\" class=\"reward-cash-ico\" src=\"//image6.coupangcdn.com/image/badges/cashback/web/list-cash-icon@2x.png\"/> <span class=\"reward-cash-txt\">최대 35,950원 적립</span></div></div></div></div></dd></dl> <span class=\"number no-6\">6</span> <div class=\"mask\"></div></a></li>,\n",
       " <li class=\"search-product\" data-is-rocket=\"true\" data-product-id=\"4584075863\" data-vendor-item-id=\"72922972807\" data-winner-vendor-item-id=\"72922972807\" id=\"4584075863\"><a class=\"search-product-link\" data-is-soldout=\"\" data-item-id=\"5623805756\" data-product-id=\"4584075863\" data-srp-log='{\"group\":\"PRODUCT\", \"itemId\":\"5623805756\", \"productId\":\"4584075863\", \"vendorItemId\":\"72922972807\", \"page\":\"1\", \"listSize\":\"36\", \"isCcidEligible\":false, \"displayCcidBadge\":false, \"wowOnlyInstantDiscountRate\": -1, \"snsDiscountRate\" : -1 }' data-vendor-item-id=\"72922972807\" href=\"/vp/products/4584075863?itemId=5623805756&amp;vendorItemId=72922972807\" target=\"_blank\"><dl class=\"search-product-wrap\"><dt class=\"image\"> <img alt=\"Apple 에어팟 맥스 블루투스헤드셋, 핑크\" class=\"search-product-wrap-img\" data-src=\"data:image/gif;base64,R0lGODlhAQABAAAAACH5BAEKAAEALAAAAAABAAEAAAICTAEAOw==\" height=\"230\" onerror=\"this.src='//img2a.coupangcdn.com/image/coupang/common/no_img_1000_1000.png'\" onload=\"logTime(this);logImageLoadTime(this);\" src=\"//thumbnail6.coupangcdn.com/thumbnails/remote/230x230ex/image/retail/images/1093079046843-6fed0f7a-ce65-4d97-8364-2739707ef1f4.jpg\" width=\"230\"/> </dt><dd class=\"descriptions\"><div class=\"descriptions-inner\"><div class=\"badges\"> </div><div class=\"name\">Apple 에어팟 맥스 블루투스헤드셋, 핑크</div> <div class=\"price-area\"> <div class=\"price-wrap\"><div class=\"price\"> <em class=\"sale\"> <strong class=\"price-value\">611,150</strong>원   <span class=\"badge rocket\"> <img alt=\"로켓배송\" height=\"16\" src=\"//image10.coupangcdn.com/image/badges/rocket/rocket_logo.png\"/> </span> </em> </div><!-- Free Shipping Badge -->\n",
       " <div class=\"delivery\"><span class=\"arrival-info\"> <em style=\"color:#00891A\">내일(목) 3/25  </em> <em style=\"color:#00891A\">도착 보장 </em> </span></div> <div class=\"delivery\"> <span class=\"badge falcon\"><img alt=\"로켓직구\" height=\"16\" src=\"//image8.coupangcdn.com/image/badges/falcon/v1/web/rocketwow-bi-16@2x.png\"/> </span> <span class=\"arrival-info\"> <em style=\"color:#00891A\">내일(목) 새벽  </em> <em style=\"color:#00891A\">도착 보장 </em> </span></div> </div> </div><div class=\"other-info\"><div class=\"rating-star\"><span class=\"star\"><em class=\"rating\" style=\"width:100%\">5.0</em></span> <span class=\"rating-total-count\">(78)</span></div></div><div class=\"benefit-badges\"> <div class=\"reward-cash-badge\"><div class=\"reward-cash-badge__inr\"><img alt=\"\" class=\"reward-cash-ico\" src=\"//image6.coupangcdn.com/image/badges/cashback/web/list-cash-icon@2x.png\"/> <span class=\"reward-cash-txt\">최대 30,558원 적립</span></div></div></div></div></dd></dl> <span class=\"number no-7\">7</span> <div class=\"mask\"></div></a></li>,\n",
       " <li class=\"search-product\" data-is-rocket=\"\" data-product-id=\"342826123\" data-vendor-item-id=\"74571527979\" data-winner-vendor-item-id=\"74571527979\" id=\"342826123\"><a class=\"search-product-link\" data-is-soldout=\"\" data-item-id=\"1089932814\" data-product-id=\"342826123\" data-srp-log='{\"group\":\"PRODUCT\", \"itemId\":\"1089932814\", \"productId\":\"342826123\", \"vendorItemId\":\"74571527979\", \"page\":\"1\", \"listSize\":\"36\", \"isCcidEligible\":false, \"displayCcidBadge\":false, \"wowOnlyInstantDiscountRate\": -1, \"snsDiscountRate\" : -1 }' data-vendor-item-id=\"74571527979\" href=\"/vp/products/342826123?itemId=1089932814&amp;vendorItemId=74571527979\" target=\"_blank\"><dl class=\"search-product-wrap\"><dt class=\"image\"> <img alt=\"APPLE 애플 에어팟프로 왼쪽 오른쪽 단품 한쪽구매 블루투스이어폰\" class=\"search-product-wrap-img\" data-src=\"data:image/gif;base64,R0lGODlhAQABAAAAACH5BAEKAAEALAAAAAABAAEAAAICTAEAOw==\" height=\"230\" onerror=\"this.src='//img2a.coupangcdn.com/image/coupang/common/no_img_1000_1000.png'\" onload=\"logTime(this);logImageLoadTime(this);\" src=\"//thumbnail10.coupangcdn.com/thumbnails/remote/230x230ex/image/vendor_inventory/a722/31759de6f13e46347365ecf3a9d0f14a19b9e5603284260f3be1200ec2ec.jpg\" width=\"230\"/> </dt><dd class=\"descriptions\"><div class=\"descriptions-inner\"><div class=\"badges\"> </div><div class=\"name\">APPLE 애플 에어팟프로 왼쪽 오른쪽 단품 한쪽구매 블루투스이어폰</div> <div class=\"price-area\"> <div class=\"price-wrap\"><div class=\"price\"> <em class=\"sale\"> <strong class=\"price-value\">85,000</strong>원    </em> </div><!-- Free Shipping Badge -->\n",
       " <div class=\"delivery\"><span class=\"arrival-info\"> <em style=\"color:#111111\">모레(금) 3/26  </em> <em style=\"color:#111111\">도착 예정 </em> </span></div> </div> </div><div class=\"other-info\"><div class=\"rating-star\"><span class=\"star\"><em class=\"rating\" style=\"width:90%\">4.5</em></span> <span class=\"rating-total-count\">(223)</span></div></div><div class=\"benefit-badges\"> <div class=\"reward-cash-badge\"><div class=\"reward-cash-badge__inr\"><img alt=\"\" class=\"reward-cash-ico\" src=\"//image6.coupangcdn.com/image/badges/cashback/web/list-cash-icon@2x.png\"/> <span class=\"reward-cash-txt\">최대 4,250원 적립</span></div></div></div></div></dd></dl> <span class=\"number no-8\">8</span> <div class=\"mask\"></div></a></li>,\n",
       " <li class=\"search-product\" data-is-rocket=\"\" data-product-id=\"298632464\" data-vendor-item-id=\"5326042539\" data-winner-vendor-item-id=\"5326042539\" id=\"298632464\"><a class=\"search-product-link\" data-is-soldout=\"\" data-item-id=\"940547257\" data-product-id=\"298632464\" data-srp-log='{\"group\":\"PRODUCT\", \"itemId\":\"940547257\", \"productId\":\"298632464\", \"vendorItemId\":\"5326042539\", \"page\":\"1\", \"listSize\":\"36\", \"isCcidEligible\":false, \"displayCcidBadge\":false, \"wowOnlyInstantDiscountRate\": -1, \"snsDiscountRate\" : -1 }' data-vendor-item-id=\"5326042539\" href=\"/vp/products/298632464?itemId=940547257&amp;vendorItemId=5326042539\" target=\"_blank\"><dl class=\"search-product-wrap\"><dt class=\"image\"> <img alt=\"애플코리아 에어팟 오른쪽 왼쪽 1세대 2세대 한쪽판매 블루투스이어폰, 본체 미포함 1세대 사용가능 L+R세트(2세대 양쪽)\" class=\"search-product-wrap-img\" data-img-src=\"//thumbnail10.coupangcdn.com/thumbnails/remote/230x230ex/image/vendor_inventory/6a1b/aeaa7931d42d5eb7d5b8f0fbb835ea36db1d10f0befb219610ca75b9ea9e.jpg\" data-src=\"data:image/gif;base64,R0lGODlhAQABAAAAACH5BAEKAAEALAAAAAABAAEAAAICTAEAOw==\" height=\"230\" onerror=\"this.src='//img2a.coupangcdn.com/image/coupang/common/no_img_1000_1000.png'\" src=\"//img1a.coupangcdn.com/image/coupang/search/blank1x1.gif\" width=\"230\"/> </dt><dd class=\"descriptions\"><div class=\"descriptions-inner\"><div class=\"badges\"> </div><div class=\"name\">애플코리아 에어팟 오른쪽 왼쪽 1세대 2세대 한쪽판매 블루투스이어폰, 본체 미포함 1세대 사용가능 L+R세트(2세대 양쪽)</div> <div class=\"price-area\"> <div class=\"price-wrap\"><div class=\"price\"> <em class=\"sale\"> <strong class=\"price-value\">125,000</strong>원    </em> </div><!-- Free Shipping Badge -->\n",
       " <div class=\"delivery\"><span class=\"arrival-info\"> <em style=\"color:#111111\">모레(금) 3/26  </em> <em style=\"color:#111111\">도착 예정 </em> </span></div> </div> </div><div class=\"other-info\"><div class=\"rating-star\"><span class=\"star\"><em class=\"rating\" style=\"width:90%\">4.5</em></span> <span class=\"rating-total-count\">(18)</span></div></div><div class=\"benefit-badges\"> <div class=\"reward-cash-badge\"><div class=\"reward-cash-badge__inr\"><img alt=\"\" class=\"reward-cash-ico\" src=\"//image6.coupangcdn.com/image/badges/cashback/web/list-cash-icon@2x.png\"/> <span class=\"reward-cash-txt\">최대 6,250원 적립</span></div></div></div></div></dd></dl> <span class=\"number no-9\">9</span> <div class=\"mask\"></div></a></li>,\n",
       " <li class=\"search-product\" data-is-rocket=\"\" data-product-id=\"215980215\" data-vendor-item-id=\"3898328687\" data-winner-vendor-item-id=\"3898328687\" id=\"215980215\"><a class=\"search-product-link\" data-is-soldout=\"\" data-item-id=\"662148910\" data-product-id=\"215980215\" data-srp-log='{\"group\":\"PRODUCT\", \"itemId\":\"662148910\", \"productId\":\"215980215\", \"vendorItemId\":\"3898328687\", \"page\":\"1\", \"listSize\":\"36\", \"isCcidEligible\":false, \"displayCcidBadge\":false, \"wowOnlyInstantDiscountRate\": -1, \"snsDiscountRate\" : -1 }' data-vendor-item-id=\"3898328687\" href=\"/vp/products/215980215?itemId=662148910&amp;vendorItemId=3898328687\" target=\"_blank\"><dl class=\"search-product-wrap\"><dt class=\"image\"> <img alt=\"애플 APPLE [2일항공배송] AirPods 에어팟2세대 유선충전 블루투스 에어팟 무선이어폰 케이스세트 케이블보호캡증정, 에어팟 2세대 유선충전 - 고급추가세트\" class=\"search-product-wrap-img\" data-img-src=\"//thumbnail9.coupangcdn.com/thumbnails/remote/230x230ex/image/vendor_inventory/dd3d/b2af2e48a1547b5c5697a09ca3abe7b74072dbca1c016c141db4090c0fb9.jpg\" data-src=\"data:image/gif;base64,R0lGODlhAQABAAAAACH5BAEKAAEALAAAAAABAAEAAAICTAEAOw==\" height=\"230\" onerror=\"this.src='//img2a.coupangcdn.com/image/coupang/common/no_img_1000_1000.png'\" src=\"//img1a.coupangcdn.com/image/coupang/search/blank1x1.gif\" width=\"230\"/> </dt><dd class=\"descriptions\"><div class=\"descriptions-inner\"><div class=\"badges\"> <span class=\"badge badge-delivery\">무료배송</span> </div><div class=\"name\">애플 APPLE [2일항공배송] AirPods 에어팟2세대 유선충전 블루투스 에어팟 무선이어폰 케이스세트 케이블보호캡증정, 에어팟 2세대 유선충전 - 고급추가세트</div> <div class=\"price-area\"> <div class=\"price-wrap\"><div class=\"price\"> <em class=\"sale\"> <strong class=\"price-value\">209,900</strong>원    </em> </div><!-- Free Shipping Badge -->\n",
       " <div class=\"delivery\"><span class=\"arrival-info\"> <em style=\"color:#111111\">4/1  </em> <em style=\"color:#111111\">도착 예정 </em> </span></div> </div> </div><div class=\"other-info\"><div class=\"rating-star\"><span class=\"star\"><em class=\"rating\" style=\"width:90%\">4.5</em></span> <span class=\"rating-total-count\">(76)</span></div></div><div class=\"benefit-badges\"> <div class=\"reward-cash-badge\"><div class=\"reward-cash-badge__inr\"><img alt=\"\" class=\"reward-cash-ico\" src=\"//image6.coupangcdn.com/image/badges/cashback/web/list-cash-icon@2x.png\"/> <span class=\"reward-cash-txt\">최대 10,495원 적립</span></div></div></div></div></dd></dl> <span class=\"number no-10\">10</span> <div class=\"mask\"></div></a></li>,\n",
       " <li class=\"search-product\" data-is-rocket=\"\" data-product-id=\"215980215\" data-vendor-item-id=\"4713969149\" data-winner-vendor-item-id=\"4713969149\" id=\"215980215\"><a class=\"search-product-link\" data-is-soldout=\"\" data-item-id=\"662148886\" data-product-id=\"215980215\" data-srp-log='{\"group\":\"PRODUCT\", \"itemId\":\"662148886\", \"productId\":\"215980215\", \"vendorItemId\":\"4713969149\", \"page\":\"1\", \"listSize\":\"36\", \"isCcidEligible\":false, \"displayCcidBadge\":false, \"wowOnlyInstantDiscountRate\": -1, \"snsDiscountRate\" : -1 }' data-vendor-item-id=\"4713969149\" href=\"/vp/products/215980215?itemId=662148886&amp;vendorItemId=4713969149\" target=\"_blank\"><dl class=\"search-product-wrap\"><dt class=\"image\"> <img alt=\"애플 APPLE [2일항공배송] AirPods 에어팟 2세대 유선충전모델 블루투스 무선이어폰 케이스 스트랩 아이폰 이어폰 케이블보호캡증정, 에어팟2세대 유선충전-스트랩\" class=\"search-product-wrap-img\" data-img-src=\"//thumbnail6.coupangcdn.com/thumbnails/remote/230x230ex/image/vendor_inventory/59de/189754add301a9f487662d279fffde8d0b64bee5526d2b513eb65faaff44.jpg\" data-src=\"data:image/gif;base64,R0lGODlhAQABAAAAACH5BAEKAAEALAAAAAABAAEAAAICTAEAOw==\" height=\"230\" onerror=\"this.src='//img2a.coupangcdn.com/image/coupang/common/no_img_1000_1000.png'\" src=\"//img1a.coupangcdn.com/image/coupang/search/blank1x1.gif\" width=\"230\"/> </dt><dd class=\"descriptions\"><div class=\"descriptions-inner\"><div class=\"badges\"> </div><div class=\"name\">애플 APPLE [2일항공배송] AirPods 에어팟 2세대 유선충전모델 블루투스 무선이어폰 케이스 스트랩 아이폰 이어폰 케이블보호캡증정, 에어팟2세대 유선충전-스트랩</div> <div class=\"price-area\"> <div class=\"price-wrap\"><div class=\"price\"> <em class=\"sale\"> <strong class=\"price-value\">169,900</strong>원    </em> </div><!-- Free Shipping Badge -->\n",
       " <div class=\"delivery\"><span class=\"arrival-info\"> <em style=\"color:#111111\">4/1  </em> <em style=\"color:#111111\">도착 예정 </em> </span></div> </div> </div><div class=\"other-info\"><div class=\"rating-star\"><span class=\"star\"><em class=\"rating\" style=\"width:90%\">4.5</em></span> <span class=\"rating-total-count\">(76)</span></div></div><div class=\"benefit-badges\"> <div class=\"reward-cash-badge\"><div class=\"reward-cash-badge__inr\"><img alt=\"\" class=\"reward-cash-ico\" src=\"//image6.coupangcdn.com/image/badges/cashback/web/list-cash-icon@2x.png\"/> <span class=\"reward-cash-txt\">최대 8,495원 적립</span></div></div></div></div></dd></dl><div class=\"mask\"></div></a></li>,\n",
       " <li class=\"search-product\" data-is-rocket=\"\" data-product-id=\"215980215\" data-vendor-item-id=\"3898328672\" data-winner-vendor-item-id=\"3898328672\" id=\"215980215\"><a class=\"search-product-link\" data-is-soldout=\"\" data-item-id=\"662148903\" data-product-id=\"215980215\" data-srp-log='{\"group\":\"PRODUCT\", \"itemId\":\"662148903\", \"productId\":\"215980215\", \"vendorItemId\":\"3898328672\", \"page\":\"1\", \"listSize\":\"36\", \"isCcidEligible\":false, \"displayCcidBadge\":false, \"wowOnlyInstantDiscountRate\": -1, \"snsDiscountRate\" : -1 }' data-vendor-item-id=\"3898328672\" href=\"/vp/products/215980215?itemId=662148903&amp;vendorItemId=3898328672\" target=\"_blank\"><dl class=\"search-product-wrap\"><dt class=\"image\"> <img alt=\"APPLE 애플 [2일항공배송] AirPods 에어팟 2세대 유선충전 모델 블루투스이어폰 무선이어폰 아이폰이어폰 케이스세트 케이블보호캡 증정, 에어팟2세대 유선충전 - 캐릭터추가세트\" class=\"search-product-wrap-img\" data-img-src=\"//thumbnail7.coupangcdn.com/thumbnails/remote/230x230ex/image/vendor_inventory/3307/8a3d3bf166050381f88544117ac76e85b6b6d3b2cc5c91d4f7a4e90e115b.jpg\" data-src=\"data:image/gif;base64,R0lGODlhAQABAAAAACH5BAEKAAEALAAAAAABAAEAAAICTAEAOw==\" height=\"230\" onerror=\"this.src='//img2a.coupangcdn.com/image/coupang/common/no_img_1000_1000.png'\" src=\"//img1a.coupangcdn.com/image/coupang/search/blank1x1.gif\" width=\"230\"/> </dt><dd class=\"descriptions\"><div class=\"descriptions-inner\"><div class=\"badges\"> <span class=\"badge badge-delivery\">무료배송</span> </div><div class=\"name\">APPLE 애플 [2일항공배송] AirPods 에어팟 2세대 유선충전 모델 블루투스이어폰 무선이어폰 아이폰이어폰 케이스세트 케이블보호캡 증정, 에어팟2세대 유선충전 - 캐릭터추가세트</div> <div class=\"price-area\"> <div class=\"price-wrap\"><div class=\"price\"> <em class=\"sale\"> <strong class=\"price-value\">205,900</strong>원    </em> </div><!-- Free Shipping Badge -->\n",
       " <div class=\"delivery\"><span class=\"arrival-info\"> <em style=\"color:#111111\">4/1  </em> <em style=\"color:#111111\">도착 예정 </em> </span></div> </div> </div><div class=\"other-info\"><div class=\"rating-star\"><span class=\"star\"><em class=\"rating\" style=\"width:90%\">4.5</em></span> <span class=\"rating-total-count\">(76)</span></div></div><div class=\"benefit-badges\"> <div class=\"reward-cash-badge\"><div class=\"reward-cash-badge__inr\"><img alt=\"\" class=\"reward-cash-ico\" src=\"//image6.coupangcdn.com/image/badges/cashback/web/list-cash-icon@2x.png\"/> <span class=\"reward-cash-txt\">최대 10,295원 적립</span></div></div></div></div></dd></dl><div class=\"mask\"></div></a></li>,\n",
       " <li class=\"search-product\" data-is-rocket=\"\" data-product-id=\"287969818\" data-vendor-item-id=\"3898328655\" data-winner-vendor-item-id=\"3898328655\" id=\"287969818\"><a class=\"search-product-link\" data-is-soldout=\"\" data-item-id=\"912332605\" data-product-id=\"287969818\" data-srp-log='{\"group\":\"PRODUCT\", \"itemId\":\"912332605\", \"productId\":\"287969818\", \"vendorItemId\":\"3898328655\", \"page\":\"1\", \"listSize\":\"36\", \"isCcidEligible\":false, \"displayCcidBadge\":false, \"wowOnlyInstantDiscountRate\": -1, \"snsDiscountRate\" : -1 }' data-vendor-item-id=\"3898328655\" href=\"/vp/products/287969818?itemId=912332605&amp;vendorItemId=3898328655\" target=\"_blank\"><dl class=\"search-product-wrap\"><dt class=\"image\"> <img alt=\"APPLE 애플 [2일항공배송] AirPods 에어팟 2세대 유선충전 모델 블루투스이어폰 무선이어폰 아이폰이어폰 케이스세트 케이블보호캡 증정, 에어팟2세대 유선충전 - 기본추가세트\" class=\"search-product-wrap-img\" data-img-src=\"//thumbnail7.coupangcdn.com/thumbnails/remote/230x230ex/image/vendor_inventory/96c1/d820ed96ce2499bcea12af234f1a99c342edf96b8e185eddad256f370d37.jpg\" data-src=\"data:image/gif;base64,R0lGODlhAQABAAAAACH5BAEKAAEALAAAAAABAAEAAAICTAEAOw==\" height=\"230\" onerror=\"this.src='//img2a.coupangcdn.com/image/coupang/common/no_img_1000_1000.png'\" src=\"//img1a.coupangcdn.com/image/coupang/search/blank1x1.gif\" width=\"230\"/> </dt><dd class=\"descriptions\"><div class=\"descriptions-inner\"><div class=\"badges\"> <span class=\"badge badge-delivery\">무료배송</span> </div><div class=\"name\">APPLE 애플 [2일항공배송] AirPods 에어팟 2세대 유선충전 모델 블루투스이어폰 무선이어폰 아이폰이어폰 케이스세트 케이블보호캡 증정, 에어팟2세대 유선충전 - 기본추가세트</div> <div class=\"price-area\"> <div class=\"price-wrap\"><div class=\"price\"> <em class=\"sale\"> <strong class=\"price-value\">202,900</strong>원    </em> </div><!-- Free Shipping Badge -->\n",
       " <div class=\"delivery\"><span class=\"arrival-info\"> <em style=\"color:#111111\">4/1  </em> <em style=\"color:#111111\">도착 예정 </em> </span></div> </div> </div><div class=\"other-info\"><div class=\"rating-star\"><span class=\"star\"><em class=\"rating\" style=\"width:90%\">4.5</em></span> <span class=\"rating-total-count\">(55)</span></div></div><div class=\"benefit-badges\"> <div class=\"reward-cash-badge\"><div class=\"reward-cash-badge__inr\"><img alt=\"\" class=\"reward-cash-ico\" src=\"//image6.coupangcdn.com/image/badges/cashback/web/list-cash-icon@2x.png\"/> <span class=\"reward-cash-txt\">최대 10,145원 적립</span></div></div></div></div></dd></dl><div class=\"mask\"></div></a></li>,\n",
       " <li class=\"search-product\" data-is-rocket=\"\" data-product-id=\"292803364\" data-vendor-item-id=\"3868860524\" data-winner-vendor-item-id=\"3868860524\" id=\"292803364\"><a class=\"search-product-link\" data-is-soldout=\"\" data-item-id=\"925044739\" data-product-id=\"292803364\" data-srp-log='{\"group\":\"PRODUCT\", \"itemId\":\"925044739\", \"productId\":\"292803364\", \"vendorItemId\":\"3868860524\", \"page\":\"1\", \"listSize\":\"36\", \"isCcidEligible\":false, \"displayCcidBadge\":false, \"wowOnlyInstantDiscountRate\": -1, \"snsDiscountRate\" : -1 }' data-vendor-item-id=\"3868860524\" href=\"/vp/products/292803364?itemId=925044739&amp;vendorItemId=3868860524\" target=\"_blank\"><dl class=\"search-product-wrap\"><dt class=\"image\"> <img alt=\"애플 APPLE [2일항공배송] AirPods 에어팟2세대 유선충전 블루투스 에어팟 무선이어폰 케이스세트 케이블보호캡증정, 에어팟 2세대 유선충전 - 캐릭터추가세트\" class=\"search-product-wrap-img\" data-img-src=\"//thumbnail7.coupangcdn.com/thumbnails/remote/230x230ex/image/vendor_inventory/3307/8a3d3bf166050381f88544117ac76e85b6b6d3b2cc5c91d4f7a4e90e115b.jpg\" data-src=\"data:image/gif;base64,R0lGODlhAQABAAAAACH5BAEKAAEALAAAAAABAAEAAAICTAEAOw==\" height=\"230\" onerror=\"this.src='//img2a.coupangcdn.com/image/coupang/common/no_img_1000_1000.png'\" src=\"//img1a.coupangcdn.com/image/coupang/search/blank1x1.gif\" width=\"230\"/> </dt><dd class=\"descriptions\"><div class=\"descriptions-inner\"><div class=\"badges\"> <span class=\"badge badge-delivery\">무료배송</span> </div><div class=\"name\">애플 APPLE [2일항공배송] AirPods 에어팟2세대 유선충전 블루투스 에어팟 무선이어폰 케이스세트 케이블보호캡증정, 에어팟 2세대 유선충전 - 캐릭터추가세트</div> <div class=\"price-area\"> <div class=\"price-wrap\"><div class=\"price\"> <em class=\"sale\"> <strong class=\"price-value\">205,900</strong>원    </em> </div><!-- Free Shipping Badge -->\n",
       " <div class=\"delivery\"><span class=\"arrival-info\"> <em style=\"color:#111111\">4/1  </em> <em style=\"color:#111111\">도착 예정 </em> </span></div> </div> </div><div class=\"other-info\"><div class=\"rating-star\"><span class=\"star\"><em class=\"rating\" style=\"width:90%\">4.5</em></span> <span class=\"rating-total-count\">(55)</span></div></div><div class=\"benefit-badges\"> <div class=\"reward-cash-badge\"><div class=\"reward-cash-badge__inr\"><img alt=\"\" class=\"reward-cash-ico\" src=\"//image6.coupangcdn.com/image/badges/cashback/web/list-cash-icon@2x.png\"/> <span class=\"reward-cash-txt\">최대 10,295원 적립</span></div></div></div></div></dd></dl><div class=\"mask\"></div></a></li>,\n",
       " <li class=\"search-product\" data-is-rocket=\"\" data-product-id=\"292803364\" data-vendor-item-id=\"3868860521\" data-winner-vendor-item-id=\"3868860521\" id=\"292803364\"><a class=\"search-product-link\" data-is-soldout=\"\" data-item-id=\"925044736\" data-product-id=\"292803364\" data-srp-log='{\"group\":\"PRODUCT\", \"itemId\":\"925044736\", \"productId\":\"292803364\", \"vendorItemId\":\"3868860521\", \"page\":\"1\", \"listSize\":\"36\", \"isCcidEligible\":false, \"displayCcidBadge\":false, \"wowOnlyInstantDiscountRate\": -1, \"snsDiscountRate\" : -1 }' data-vendor-item-id=\"3868860521\" href=\"/vp/products/292803364?itemId=925044736&amp;vendorItemId=3868860521\" target=\"_blank\"><dl class=\"search-product-wrap\"><dt class=\"image\"> <img alt=\"애플 APPLE [2일항공배송] AirPods 에어팟2세대 유선충전 블루투스 에어팟 무선이어폰 케이스세트 케이블보호캡증정, 에어팟 2세대 유선충전 - 기본추가세트\" class=\"search-product-wrap-img\" data-img-src=\"//thumbnail7.coupangcdn.com/thumbnails/remote/230x230ex/image/vendor_inventory/96c1/d820ed96ce2499bcea12af234f1a99c342edf96b8e185eddad256f370d37.jpg\" data-src=\"data:image/gif;base64,R0lGODlhAQABAAAAACH5BAEKAAEALAAAAAABAAEAAAICTAEAOw==\" height=\"230\" onerror=\"this.src='//img2a.coupangcdn.com/image/coupang/common/no_img_1000_1000.png'\" src=\"//img1a.coupangcdn.com/image/coupang/search/blank1x1.gif\" width=\"230\"/> </dt><dd class=\"descriptions\"><div class=\"descriptions-inner\"><div class=\"badges\"> <span class=\"badge badge-delivery\">무료배송</span> </div><div class=\"name\">애플 APPLE [2일항공배송] AirPods 에어팟2세대 유선충전 블루투스 에어팟 무선이어폰 케이스세트 케이블보호캡증정, 에어팟 2세대 유선충전 - 기본추가세트</div> <div class=\"price-area\"> <div class=\"price-wrap\"><div class=\"price\"> <em class=\"sale\"> <strong class=\"price-value\">202,900</strong>원    </em> </div><!-- Free Shipping Badge -->\n",
       " <div class=\"delivery\"><span class=\"arrival-info\"> <em style=\"color:#111111\">4/1  </em> <em style=\"color:#111111\">도착 예정 </em> </span></div> </div> </div><div class=\"other-info\"><div class=\"rating-star\"><span class=\"star\"><em class=\"rating\" style=\"width:90%\">4.5</em></span> <span class=\"rating-total-count\">(55)</span></div></div><div class=\"benefit-badges\"> <div class=\"reward-cash-badge\"><div class=\"reward-cash-badge__inr\"><img alt=\"\" class=\"reward-cash-ico\" src=\"//image6.coupangcdn.com/image/badges/cashback/web/list-cash-icon@2x.png\"/> <span class=\"reward-cash-txt\">최대 10,145원 적립</span></div></div></div></div></dd></dl><div class=\"mask\"></div></a></li>,\n",
       " <li class=\"search-product\" data-is-rocket=\"\" data-product-id=\"4876891261\" data-vendor-item-id=\"74103248615\" data-winner-vendor-item-id=\"74103248615\" id=\"4876891261\"><a class=\"search-product-link\" data-is-soldout=\"\" data-item-id=\"6345230591\" data-product-id=\"4876891261\" data-srp-log='{\"group\":\"PRODUCT\", \"itemId\":\"6345230591\", \"productId\":\"4876891261\", \"vendorItemId\":\"74103248615\", \"page\":\"1\", \"listSize\":\"36\", \"isCcidEligible\":false, \"displayCcidBadge\":false, \"wowOnlyInstantDiscountRate\": -1, \"snsDiscountRate\" : -1 }' data-vendor-item-id=\"74103248615\" href=\"/vp/products/4876891261?itemId=6345230591&amp;vendorItemId=74103248615\" target=\"_blank\"><dl class=\"search-product-wrap\"><dt class=\"image\"> <img alt=\"Apple 에어팟 맥스 블루투스헤드셋, 스페이스 그레이\" class=\"search-product-wrap-img\" data-img-src=\"//thumbnail7.coupangcdn.com/thumbnails/remote/230x230ex/image/retail/images/1137462732232-481ff370-019a-45d4-9c76-8fc48afd0099.jpg\" data-src=\"data:image/gif;base64,R0lGODlhAQABAAAAACH5BAEKAAEALAAAAAABAAEAAAICTAEAOw==\" height=\"230\" onerror=\"this.src='//img2a.coupangcdn.com/image/coupang/common/no_img_1000_1000.png'\" src=\"//img1a.coupangcdn.com/image/coupang/search/blank1x1.gif\" width=\"230\"/> </dt><dd class=\"descriptions\"><div class=\"descriptions-inner\"><div class=\"badges\"> </div><div class=\"name\">Apple 에어팟 맥스 블루투스헤드셋, 스페이스 그레이</div> <div class=\"price-area\"> <div class=\"price-wrap\"><div class=\"price\"> <span class=\"price-info\"> <span class=\"instant-discount-rate\">6%</span> <del class=\"base-price\">719,000</del> </span> <em class=\"sale\"> <strong class=\"price-value\">675,000</strong>원    </em> </div><!-- Free Shipping Badge -->\n",
       " <div class=\"delivery\"><span class=\"arrival-info\"> <em style=\"color:#111111\">모레(금) 3/26  </em> <em style=\"color:#111111\">도착 예정 </em> </span></div> </div> </div><div class=\"other-info\"><div class=\"rating-star\"><span class=\"star\"><em class=\"rating\" style=\"width:100%\">5.0</em></span> <span class=\"rating-total-count\">(32)</span></div></div><div class=\"benefit-badges\"> <div class=\"reward-cash-badge\"><div class=\"reward-cash-badge__inr\"><img alt=\"\" class=\"reward-cash-ico\" src=\"//image6.coupangcdn.com/image/badges/cashback/web/list-cash-icon@2x.png\"/> <span class=\"reward-cash-txt\">최대 33,750원 적립</span></div></div></div></div></dd></dl><div class=\"mask\"></div></a></li>,\n",
       " <li class=\"search-product\" data-is-rocket=\"\" data-product-id=\"1118316132\" data-vendor-item-id=\"70554076282\" data-winner-vendor-item-id=\"70554076282\" id=\"1118316132\"><a class=\"search-product-link\" data-is-soldout=\"\" data-item-id=\"2083605366\" data-product-id=\"1118316132\" data-srp-log='{\"group\":\"PRODUCT\", \"itemId\":\"2083605366\", \"productId\":\"1118316132\", \"vendorItemId\":\"70554076282\", \"page\":\"1\", \"listSize\":\"36\", \"isCcidEligible\":false, \"displayCcidBadge\":false, \"wowOnlyInstantDiscountRate\": -1, \"snsDiscountRate\" : -1 }' data-vendor-item-id=\"70554076282\" href=\"/vp/products/1118316132?itemId=2083605366&amp;vendorItemId=70554076282\" target=\"_blank\"><dl class=\"search-product-wrap\"><dt class=\"image\"> <img alt=\"애플코리아 에어팟 오른쪽 왼쪽 1세대 2세대 한쪽판매 블루투스이어폰, 3세대 프로 충전기(Pro Charger)\" class=\"search-product-wrap-img\" data-img-src=\"//thumbnail7.coupangcdn.com/thumbnails/remote/230x230ex/image/vendor_inventory/8597/0180a8f0d435b7a1b3f0d317b2b3edc0237848100e6bfc09f87a7ff2bb47.jpg\" data-src=\"data:image/gif;base64,R0lGODlhAQABAAAAACH5BAEKAAEALAAAAAABAAEAAAICTAEAOw==\" height=\"230\" onerror=\"this.src='//img2a.coupangcdn.com/image/coupang/common/no_img_1000_1000.png'\" src=\"//img1a.coupangcdn.com/image/coupang/search/blank1x1.gif\" width=\"230\"/> </dt><dd class=\"descriptions\"><div class=\"descriptions-inner\"><div class=\"badges\"> </div><div class=\"name\">애플코리아 에어팟 오른쪽 왼쪽 1세대 2세대 한쪽판매 블루투스이어폰, 3세대 프로 충전기(Pro Charger)</div> <div class=\"price-area\"> <div class=\"price-wrap\"><div class=\"price\"> <em class=\"sale\"> <strong class=\"price-value\">89,000</strong>원    </em> </div><!-- Free Shipping Badge -->\n",
       " <div class=\"delivery\"><span class=\"arrival-info\"> <em style=\"color:#111111\">모레(금) 3/26  </em> <em style=\"color:#111111\">도착 예정 </em> </span></div> </div> </div><div class=\"other-info\"><div class=\"rating-star\"><span class=\"star\"><em class=\"rating\" style=\"width:100%\">5.0</em></span> <span class=\"rating-total-count\">(20)</span></div></div><div class=\"benefit-badges\"> <div class=\"reward-cash-badge\"><div class=\"reward-cash-badge__inr\"><img alt=\"\" class=\"reward-cash-ico\" src=\"//image6.coupangcdn.com/image/badges/cashback/web/list-cash-icon@2x.png\"/> <span class=\"reward-cash-txt\">최대 4,450원 적립</span></div></div></div></div></dd></dl><div class=\"mask\"></div></a></li>,\n",
       " <li class=\"search-product\" data-is-rocket=\"\" data-product-id=\"1861700907\" data-vendor-item-id=\"74502673974\" data-winner-vendor-item-id=\"74502673974\" id=\"1861700907\"><a class=\"search-product-link\" data-is-soldout=\"\" data-item-id=\"3164704165\" data-product-id=\"1861700907\" data-srp-log='{\"group\":\"PRODUCT\", \"itemId\":\"3164704165\", \"productId\":\"1861700907\", \"vendorItemId\":\"74502673974\", \"page\":\"1\", \"listSize\":\"36\", \"isCcidEligible\":false, \"displayCcidBadge\":false, \"wowOnlyInstantDiscountRate\": -1, \"snsDiscountRate\" : -1 }' data-vendor-item-id=\"74502673974\" href=\"/vp/products/1861700907?itemId=3164704165&amp;vendorItemId=74502673974\" target=\"_blank\"><dl class=\"search-product-wrap\"><dt class=\"image\"> <img alt=\"애플 에어팟프로 왼쪽 오른쪽 한쪽 충전케이스 Airpods Pro Left Right 블루투스이어폰, 에어팟프로 오른쪽, 화이트\" class=\"search-product-wrap-img\" data-img-src=\"//thumbnail10.coupangcdn.com/thumbnails/remote/230x230ex/image/vendor_inventory/0ec7/5162192591ef4f6cbfa1392f61d388a13aab51baf26edeefdef5fd4c6cd3.png\" data-src=\"data:image/gif;base64,R0lGODlhAQABAAAAACH5BAEKAAEALAAAAAABAAEAAAICTAEAOw==\" height=\"230\" onerror=\"this.src='//img2a.coupangcdn.com/image/coupang/common/no_img_1000_1000.png'\" src=\"//img1a.coupangcdn.com/image/coupang/search/blank1x1.gif\" width=\"230\"/> </dt><dd class=\"descriptions\"><div class=\"descriptions-inner\"><div class=\"badges\"> </div><div class=\"name\">애플 에어팟프로 왼쪽 오른쪽 한쪽 충전케이스 Airpods Pro Left Right 블루투스이어폰, 에어팟프로 오른쪽, 화이트</div> <div class=\"price-area\"> <div class=\"price-wrap\"><div class=\"price\"> <em class=\"sale\"> <strong class=\"price-value\">96,000</strong>원    </em> </div><!-- Free Shipping Badge -->\n",
       " <div class=\"delivery\"><span class=\"arrival-info\"> <em style=\"color:#111111\">모레(금) 3/26  </em> <em style=\"color:#111111\">도착 예정 </em> </span></div> </div> </div><div class=\"other-info\"><div class=\"rating-star\"><span class=\"star\"><em class=\"rating\" style=\"width:90%\">4.5</em></span> <span class=\"rating-total-count\">(19)</span></div></div><div class=\"benefit-badges\"> <div class=\"reward-cash-badge\"><div class=\"reward-cash-badge__inr\"><img alt=\"\" class=\"reward-cash-ico\" src=\"//image6.coupangcdn.com/image/badges/cashback/web/list-cash-icon@2x.png\"/> <span class=\"reward-cash-txt\">최대 4,800원 적립</span></div></div></div></div></dd></dl><div class=\"mask\"></div></a></li>,\n",
       " <li class=\"search-product\" data-is-rocket=\"\" data-product-id=\"1793178618\" data-vendor-item-id=\"74354285959\" data-winner-vendor-item-id=\"74354285959\" id=\"1793178618\"><a class=\"search-product-link\" data-is-soldout=\"\" data-item-id=\"3051020789\" data-product-id=\"1793178618\" data-srp-log='{\"group\":\"PRODUCT\", \"itemId\":\"3051020789\", \"productId\":\"1793178618\", \"vendorItemId\":\"74354285959\", \"page\":\"1\", \"listSize\":\"36\", \"isCcidEligible\":false, \"displayCcidBadge\":false, \"wowOnlyInstantDiscountRate\": -1, \"snsDiscountRate\" : -1 }' data-vendor-item-id=\"74354285959\" href=\"/vp/products/1793178618?itemId=3051020789&amp;vendorItemId=74354285959\" target=\"_blank\"><dl class=\"search-product-wrap\"><dt class=\"image\"> <img alt=\"애플코리아 에어팟 오른쪽 왼쪽 1세대 2세대 한쪽판매 블루투스이어폰, 흰색, 3세대 프로 왼쪽(Pro Left)\" class=\"search-product-wrap-img\" data-img-src=\"//thumbnail7.coupangcdn.com/thumbnails/remote/230x230ex/image/vendor_inventory/c245/83b4b9fbb2d5b584e12ea3192d092a90dfb587fbd39be90f8c0a63896579.jpg\" data-src=\"data:image/gif;base64,R0lGODlhAQABAAAAACH5BAEKAAEALAAAAAABAAEAAAICTAEAOw==\" height=\"230\" onerror=\"this.src='//img2a.coupangcdn.com/image/coupang/common/no_img_1000_1000.png'\" src=\"//img1a.coupangcdn.com/image/coupang/search/blank1x1.gif\" width=\"230\"/> </dt><dd class=\"descriptions\"><div class=\"descriptions-inner\"><div class=\"badges\"> </div><div class=\"name\">애플코리아 에어팟 오른쪽 왼쪽 1세대 2세대 한쪽판매 블루투스이어폰, 흰색, 3세대 프로 왼쪽(Pro Left)</div> <div class=\"price-area\"> <div class=\"price-wrap\"><div class=\"price\"> <em class=\"sale\"> <strong class=\"price-value\">88,000</strong>원    </em> </div><!-- Free Shipping Badge -->\n",
       " <div class=\"delivery\"><span class=\"arrival-info\"> <em style=\"color:#111111\">모레(금) 3/26  </em> <em style=\"color:#111111\">도착 예정 </em> </span></div> </div> </div><div class=\"other-info\"><div class=\"rating-star\"><span class=\"star\"><em class=\"rating\" style=\"width:90%\">4.5</em></span> <span class=\"rating-total-count\">(19)</span></div></div><div class=\"benefit-badges\"> <div class=\"reward-cash-badge\"><div class=\"reward-cash-badge__inr\"><img alt=\"\" class=\"reward-cash-ico\" src=\"//image6.coupangcdn.com/image/badges/cashback/web/list-cash-icon@2x.png\"/> <span class=\"reward-cash-txt\">최대 4,400원 적립</span></div></div></div></div></dd></dl><div class=\"mask\"></div></a></li>,\n",
       " <li class=\"search-product\" data-is-rocket=\"\" data-product-id=\"1861700914\" data-vendor-item-id=\"70554076273\" data-winner-vendor-item-id=\"70554076273\" id=\"1861700914\"><a class=\"search-product-link\" data-is-soldout=\"\" data-item-id=\"3164704171\" data-product-id=\"1861700914\" data-srp-log='{\"group\":\"PRODUCT\", \"itemId\":\"3164704171\", \"productId\":\"1861700914\", \"vendorItemId\":\"70554076273\", \"page\":\"1\", \"listSize\":\"36\", \"isCcidEligible\":false, \"displayCcidBadge\":false, \"wowOnlyInstantDiscountRate\": -1, \"snsDiscountRate\" : -1 }' data-vendor-item-id=\"70554076273\" href=\"/vp/products/1861700914?itemId=3164704171&amp;vendorItemId=70554076273\" target=\"_blank\"><dl class=\"search-product-wrap\"><dt class=\"image\"> <img alt=\"애플코리아 에어팟 오른쪽 왼쪽 1세대 2세대 한쪽판매 블루투스이어폰\" class=\"search-product-wrap-img\" data-img-src=\"//thumbnail7.coupangcdn.com/thumbnails/remote/230x230ex/image/vendor_inventory/c245/83b4b9fbb2d5b584e12ea3192d092a90dfb587fbd39be90f8c0a63896579.jpg\" data-src=\"data:image/gif;base64,R0lGODlhAQABAAAAACH5BAEKAAEALAAAAAABAAEAAAICTAEAOw==\" height=\"230\" onerror=\"this.src='//img2a.coupangcdn.com/image/coupang/common/no_img_1000_1000.png'\" src=\"//img1a.coupangcdn.com/image/coupang/search/blank1x1.gif\" width=\"230\"/> </dt><dd class=\"descriptions\"><div class=\"descriptions-inner\"><div class=\"badges\"> </div><div class=\"name\">애플코리아 에어팟 오른쪽 왼쪽 1세대 2세대 한쪽판매 블루투스이어폰</div> <div class=\"price-area\"> <div class=\"price-wrap\"><div class=\"price\"> <em class=\"sale\"> <strong class=\"price-value\">93,000</strong>원    </em> </div><!-- Free Shipping Badge -->\n",
       " <div class=\"delivery\"><span class=\"arrival-info\"> <em style=\"color:#111111\">모레(금) 3/26  </em> <em style=\"color:#111111\">도착 예정 </em> </span></div> </div> </div><div class=\"other-info\"><div class=\"rating-star\"><span class=\"star\"><em class=\"rating\" style=\"width:90%\">4.5</em></span> <span class=\"rating-total-count\">(19)</span></div></div><div class=\"benefit-badges\"> <div class=\"reward-cash-badge\"><div class=\"reward-cash-badge__inr\"><img alt=\"\" class=\"reward-cash-ico\" src=\"//image6.coupangcdn.com/image/badges/cashback/web/list-cash-icon@2x.png\"/> <span class=\"reward-cash-txt\">최대 4,650원 적립</span></div></div></div></div></dd></dl><div class=\"mask\"></div></a></li>,\n",
       " <li class=\"search-product\" data-is-rocket=\"\" data-product-id=\"4919172880\" data-vendor-item-id=\"4714058815\" data-winner-vendor-item-id=\"4714058815\" id=\"4919172880\"><a class=\"search-product-link\" data-is-soldout=\"\" data-item-id=\"6442862061\" data-product-id=\"4919172880\" data-srp-log='{\"group\":\"PRODUCT\", \"itemId\":\"6442862061\", \"productId\":\"4919172880\", \"vendorItemId\":\"4714058815\", \"page\":\"1\", \"listSize\":\"36\", \"isCcidEligible\":false, \"displayCcidBadge\":false, \"wowOnlyInstantDiscountRate\": -1, \"snsDiscountRate\" : -1 }' data-vendor-item-id=\"4714058815\" href=\"/vp/products/4919172880?itemId=6442862061&amp;vendorItemId=4714058815\" target=\"_blank\"><dl class=\"search-product-wrap\"><dt class=\"image\"> <img alt=\"애플 APPLE [2일항공배송] AirPods 에어팟 2세대 무선충전모델 블루투스 무선이어폰 케이스 스트랩 아이폰 이어폰, 에어팟2세대 무선충전-스트랩\" class=\"search-product-wrap-img\" data-img-src=\"//thumbnail9.coupangcdn.com/thumbnails/remote/230x230ex/image/vendor_inventory/3a92/0abdcf68d230d272d5a7ba368c2bfaee573579c6dd7ea1f8f75ab9f9ec4b.jpg\" data-src=\"data:image/gif;base64,R0lGODlhAQABAAAAACH5BAEKAAEALAAAAAABAAEAAAICTAEAOw==\" height=\"230\" onerror=\"this.src='//img2a.coupangcdn.com/image/coupang/common/no_img_1000_1000.png'\" src=\"//img1a.coupangcdn.com/image/coupang/search/blank1x1.gif\" width=\"230\"/> </dt><dd class=\"descriptions\"><div class=\"descriptions-inner\"><div class=\"badges\"> </div><div class=\"name\">애플 APPLE [2일항공배송] AirPods 에어팟 2세대 무선충전모델 블루투스 무선이어폰 케이스 스트랩 아이폰 이어폰, 에어팟2세대 무선충전-스트랩</div> <div class=\"price-area\"> <div class=\"price-wrap\"><div class=\"price\"> <em class=\"sale\"> <strong class=\"price-value\">209,000</strong>원    </em> </div><!-- Free Shipping Badge -->\n",
       " <div class=\"delivery\"><span class=\"arrival-info\"> <em style=\"color:#111111\">4/1  </em> <em style=\"color:#111111\">도착 예정 </em> </span></div> </div> </div><div class=\"other-info\"><div class=\"rating-star\"><span class=\"star\"><em class=\"rating\" style=\"width:100%\">5.0</em></span> <span class=\"rating-total-count\">(5)</span></div></div><div class=\"benefit-badges\"> <div class=\"reward-cash-badge\"><div class=\"reward-cash-badge__inr\"><img alt=\"\" class=\"reward-cash-ico\" src=\"//image6.coupangcdn.com/image/badges/cashback/web/list-cash-icon@2x.png\"/> <span class=\"reward-cash-txt\">최대 10,450원 적립</span></div></div></div></div></dd></dl><div class=\"mask\"></div></a></li>,\n",
       " <li class=\"search-product\" data-is-rocket=\"\" data-product-id=\"1492210120\" data-vendor-item-id=\"74300605862\" data-winner-vendor-item-id=\"74300605862\" id=\"1492210120\"><a class=\"search-product-link\" data-is-soldout=\"\" data-item-id=\"2561570752\" data-product-id=\"1492210120\" data-srp-log='{\"group\":\"PRODUCT\", \"itemId\":\"2561570752\", \"productId\":\"1492210120\", \"vendorItemId\":\"74300605862\", \"page\":\"1\", \"listSize\":\"36\", \"isCcidEligible\":false, \"displayCcidBadge\":false, \"wowOnlyInstantDiscountRate\": -1, \"snsDiscountRate\" : -1 }' data-vendor-item-id=\"74300605862\" href=\"/vp/products/1492210120?itemId=2561570752&amp;vendorItemId=74300605862\" target=\"_blank\"><dl class=\"search-product-wrap\"><dt class=\"image\"> <img alt=\"애플 에어팟프로 왼쪽 오른쪽 한쪽 충전케이스 Airpods Pro Left Right 블루투스이어폰, 에어팟 프로 충전본체(이어폰 없음)\" class=\"search-product-wrap-img\" data-img-src=\"//thumbnail10.coupangcdn.com/thumbnails/remote/230x230ex/image/vendor_inventory/0ec7/5162192591ef4f6cbfa1392f61d388a13aab51baf26edeefdef5fd4c6cd3.png\" data-src=\"data:image/gif;base64,R0lGODlhAQABAAAAACH5BAEKAAEALAAAAAABAAEAAAICTAEAOw==\" height=\"230\" onerror=\"this.src='//img2a.coupangcdn.com/image/coupang/common/no_img_1000_1000.png'\" src=\"//img1a.coupangcdn.com/image/coupang/search/blank1x1.gif\" width=\"230\"/> </dt><dd class=\"descriptions\"><div class=\"descriptions-inner\"><div class=\"badges\"> </div><div class=\"name\">애플 에어팟프로 왼쪽 오른쪽 한쪽 충전케이스 Airpods Pro Left Right 블루투스이어폰, 에어팟 프로 충전본체(이어폰 없음)</div> <div class=\"price-area\"> <div class=\"price-wrap\"><div class=\"price\"> <em class=\"sale\"> <strong class=\"price-value\">90,000</strong>원    </em> </div><!-- Free Shipping Badge -->\n",
       " <div class=\"delivery\"><span class=\"arrival-info\"> <em style=\"color:#111111\">모레(금) 3/26  </em> <em style=\"color:#111111\">도착 예정 </em> </span></div> </div> </div><div class=\"other-info\"><div class=\"rating-star\"><span class=\"star\"><em class=\"rating\" style=\"width:90%\">4.5</em></span> <span class=\"rating-total-count\">(4)</span></div></div><div class=\"benefit-badges\"> <div class=\"reward-cash-badge\"><div class=\"reward-cash-badge__inr\"><img alt=\"\" class=\"reward-cash-ico\" src=\"//image6.coupangcdn.com/image/badges/cashback/web/list-cash-icon@2x.png\"/> <span class=\"reward-cash-txt\">최대 4,500원 적립</span></div></div></div></div></dd></dl><div class=\"mask\"></div></a></li>,\n",
       " <li class=\"search-product\" data-is-rocket=\"\" data-product-id=\"1458624595\" data-vendor-item-id=\"70503210221\" data-winner-vendor-item-id=\"70503210221\" id=\"1458624595\"><a class=\"search-product-link\" data-is-soldout=\"\" data-item-id=\"2510156411\" data-product-id=\"1458624595\" data-srp-log='{\"group\":\"PRODUCT\", \"itemId\":\"2510156411\", \"productId\":\"1458624595\", \"vendorItemId\":\"70503210221\", \"page\":\"1\", \"listSize\":\"36\", \"isCcidEligible\":false, \"displayCcidBadge\":false, \"wowOnlyInstantDiscountRate\": -1, \"snsDiscountRate\" : -1 }' data-vendor-item-id=\"70503210221\" href=\"/vp/products/1458624595?itemId=2510156411&amp;vendorItemId=70503210221\" target=\"_blank\"><dl class=\"search-product-wrap\"><dt class=\"image\"> <img alt=\"애플 [애플정품] 에어팟 2세대 유선충전 Airpods2 가족세트2(4개), 선택완료, 기본구성\" class=\"search-product-wrap-img\" data-img-src=\"//thumbnail10.coupangcdn.com/thumbnails/remote/230x230ex/image/vendor_inventory/42f5/ad708d917c987950d692d7e81c2ac4eee0d63fd995d717efe52abbe5b4b4.jpg\" data-src=\"data:image/gif;base64,R0lGODlhAQABAAAAACH5BAEKAAEALAAAAAABAAEAAAICTAEAOw==\" height=\"230\" onerror=\"this.src='//img2a.coupangcdn.com/image/coupang/common/no_img_1000_1000.png'\" src=\"//img1a.coupangcdn.com/image/coupang/search/blank1x1.gif\" width=\"230\"/> </dt><dd class=\"descriptions\"><div class=\"descriptions-inner\"><div class=\"badges\"> <span class=\"badge badge-delivery\">무료배송</span> </div><div class=\"name\">애플 [애플정품] 에어팟 2세대 유선충전 Airpods2 가족세트2(4개), 선택완료, 기본구성</div> <div class=\"price-area\"> <div class=\"price-wrap\"><div class=\"price\"> <em class=\"sale\"> <strong class=\"price-value\">754,500</strong>원    </em> </div><!-- Free Shipping Badge -->\n",
       " <div class=\"delivery\"><span class=\"arrival-info\"> <em style=\"color:#111111\">토요일 3/27  </em> <em style=\"color:#111111\">도착 예정 </em> </span></div> </div> </div><div class=\"other-info\"><div class=\"rating-star\"><span class=\"star\"><em class=\"rating\" style=\"width:100%\">5.0</em></span> <span class=\"rating-total-count\">(1)</span></div></div><div class=\"benefit-badges\"> <div class=\"reward-cash-badge\"><div class=\"reward-cash-badge__inr\"><img alt=\"\" class=\"reward-cash-ico\" src=\"//image6.coupangcdn.com/image/badges/cashback/web/list-cash-icon@2x.png\"/> <span class=\"reward-cash-txt\">최대 37,725원 적립</span></div></div></div></div></dd></dl><div class=\"mask\"></div></a></li>,\n",
       " <li class=\"search-product\" data-is-rocket=\"\" data-product-id=\"1165938294\" data-vendor-item-id=\"70508613466\" data-winner-vendor-item-id=\"70508613466\" id=\"1165938294\"><a class=\"search-product-link\" data-is-soldout=\"\" data-item-id=\"2142992355\" data-product-id=\"1165938294\" data-srp-log='{\"group\":\"PRODUCT\", \"itemId\":\"2142992355\", \"productId\":\"1165938294\", \"vendorItemId\":\"70508613466\", \"page\":\"1\", \"listSize\":\"36\", \"isCcidEligible\":false, \"displayCcidBadge\":false, \"wowOnlyInstantDiscountRate\": -1, \"snsDiscountRate\" : -1 }' data-vendor-item-id=\"70508613466\" href=\"/vp/products/1165938294?itemId=2142992355&amp;vendorItemId=70508613466\" target=\"_blank\"><dl class=\"search-product-wrap\"><dt class=\"image\"> <img alt=\"[애플정품] 에어팟 2세대 유선충전(2개)+무선충전(2개) 패키지+(키링+케이스+철가루방지스티커), 옵션선택\" class=\"search-product-wrap-img\" data-img-src=\"//thumbnail7.coupangcdn.com/thumbnails/remote/230x230ex/image/vendor_inventory/0e2a/2f15da9fb68e2c9d7e42fdda5cca2123c4bdde53fb75e778f0c8cacf0ccf.jpg\" data-src=\"data:image/gif;base64,R0lGODlhAQABAAAAACH5BAEKAAEALAAAAAABAAEAAAICTAEAOw==\" height=\"230\" onerror=\"this.src='//img2a.coupangcdn.com/image/coupang/common/no_img_1000_1000.png'\" src=\"//img1a.coupangcdn.com/image/coupang/search/blank1x1.gif\" width=\"230\"/> </dt><dd class=\"descriptions\"><div class=\"descriptions-inner\"><div class=\"badges\"> <span class=\"badge badge-delivery\">무료배송</span> </div><div class=\"name\">[애플정품] 에어팟 2세대 유선충전(2개)+무선충전(2개) 패키지+(키링+케이스+철가루방지스티커), 옵션선택</div> <div class=\"price-area\"> <div class=\"price-wrap\"><div class=\"price\"> <em class=\"sale\"> <strong class=\"price-value\">847,000</strong>원    </em> </div><!-- Free Shipping Badge -->\n",
       " <div class=\"delivery\"><span class=\"arrival-info\"> <em style=\"color:#111111\">토요일 3/27  </em> <em style=\"color:#111111\">도착 예정 </em> </span></div> </div> </div><div class=\"benefit-badges\"> <div class=\"reward-cash-badge\"><div class=\"reward-cash-badge__inr\"><img alt=\"\" class=\"reward-cash-ico\" src=\"//image6.coupangcdn.com/image/badges/cashback/web/list-cash-icon@2x.png\"/> <span class=\"reward-cash-txt\">최대 42,350원 적립</span></div></div></div></div></dd></dl><div class=\"mask\"></div></a></li>,\n",
       " <li class=\"search-product\" data-is-rocket=\"\" data-product-id=\"1462262064\" data-vendor-item-id=\"70508531066\" data-winner-vendor-item-id=\"70508531066\" id=\"1462262064\"><a class=\"search-product-link\" data-is-soldout=\"\" data-item-id=\"2515557391\" data-product-id=\"1462262064\" data-srp-log='{\"group\":\"PRODUCT\", \"itemId\":\"2515557391\", \"productId\":\"1462262064\", \"vendorItemId\":\"70508531066\", \"page\":\"1\", \"listSize\":\"36\", \"isCcidEligible\":false, \"displayCcidBadge\":false, \"wowOnlyInstantDiscountRate\": -1, \"snsDiscountRate\" : -1 }' data-vendor-item-id=\"70508531066\" href=\"/vp/products/1462262064?itemId=2515557391&amp;vendorItemId=70508531066\" target=\"_blank\"><dl class=\"search-product-wrap\"><dt class=\"image\"> <img alt=\"애플 [애플정품] 에어팟 2세대 유선충전(4개)+무선충전(4개) 패키지+(키링+케이스+철가루방지스티커), 선택완료, 단품없음\" class=\"search-product-wrap-img\" data-img-src=\"//thumbnail7.coupangcdn.com/thumbnails/remote/230x230ex/image/vendor_inventory/c16c/d85ca02278ad72a707645c3acc73e20c72c12e26e3f6f452389b225ae2c9.jpg\" data-src=\"data:image/gif;base64,R0lGODlhAQABAAAAACH5BAEKAAEALAAAAAABAAEAAAICTAEAOw==\" height=\"230\" onerror=\"this.src='//img2a.coupangcdn.com/image/coupang/common/no_img_1000_1000.png'\" src=\"//img1a.coupangcdn.com/image/coupang/search/blank1x1.gif\" width=\"230\"/> </dt><dd class=\"descriptions\"><div class=\"descriptions-inner\"><div class=\"badges\"> <span class=\"badge badge-delivery\">무료배송</span> </div><div class=\"name\">애플 [애플정품] 에어팟 2세대 유선충전(4개)+무선충전(4개) 패키지+(키링+케이스+철가루방지스티커), 선택완료, 단품없음</div> <div class=\"price-area\"> <div class=\"price-wrap\"><div class=\"price\"> <em class=\"sale\"> <strong class=\"price-value\">1,755,000</strong>원    </em> </div><!-- Free Shipping Badge -->\n",
       " <div class=\"delivery\"><span class=\"arrival-info\"> <em style=\"color:#111111\">토요일 3/27  </em> <em style=\"color:#111111\">도착 예정 </em> </span></div> </div> </div><div class=\"benefit-badges\"> <div class=\"reward-cash-badge\"><div class=\"reward-cash-badge__inr\"><img alt=\"\" class=\"reward-cash-ico\" src=\"//image6.coupangcdn.com/image/badges/cashback/web/list-cash-icon@2x.png\"/> <span class=\"reward-cash-txt\">최대 50,000원 적립</span></div></div></div></div></dd></dl><div class=\"mask\"></div></a></li>,\n",
       " <li class=\"search-product\" data-is-rocket=\"\" data-product-id=\"5197747685\" data-vendor-item-id=\"74528004445\" data-winner-vendor-item-id=\"74528004445\" id=\"5197747685\"><a class=\"search-product-link\" data-is-soldout=\"\" data-item-id=\"7236538556\" data-product-id=\"5197747685\" data-srp-log='{\"group\":\"PRODUCT\", \"itemId\":\"7236538556\", \"productId\":\"5197747685\", \"vendorItemId\":\"74528004445\", \"page\":\"1\", \"listSize\":\"36\", \"isCcidEligible\":false, \"displayCcidBadge\":false, \"wowOnlyInstantDiscountRate\": -1, \"snsDiscountRate\" : -1 }' data-vendor-item-id=\"74528004445\" href=\"/vp/products/5197747685?itemId=7236538556&amp;vendorItemId=74528004445\" target=\"_blank\"><dl class=\"search-product-wrap\"><dt class=\"image\"> <img alt=\"블루투스 무선이어폰 기간 한정 주문 111 AirPods 2 세대 무선 블루투스, 하얀, 공식 표준\" class=\"search-product-wrap-img\" data-img-src=\"//thumbnail10.coupangcdn.com/thumbnails/remote/230x230ex/image/vendor_inventory/7a54/4e8a9b80b48105c949484d7e102a1ba365466e884b2eda499aa210cdfcdf.jpeg\" data-src=\"data:image/gif;base64,R0lGODlhAQABAAAAACH5BAEKAAEALAAAAAABAAEAAAICTAEAOw==\" height=\"230\" onerror=\"this.src='//img2a.coupangcdn.com/image/coupang/common/no_img_1000_1000.png'\" src=\"//img1a.coupangcdn.com/image/coupang/search/blank1x1.gif\" width=\"230\"/> </dt><dd class=\"descriptions\"><div class=\"descriptions-inner\"><div class=\"badges\"> </div><div class=\"name\">블루투스 무선이어폰 기간 한정 주문 111 AirPods 2 세대 무선 블루투스, 하얀, 공식 표준</div> <div class=\"price-area\"> <div class=\"price-wrap\"><div class=\"price\"> <em class=\"sale\"> <strong class=\"price-value\">299,400</strong>원    </em> </div><!-- Free Shipping Badge -->\n",
       " <div class=\"delivery\"><span class=\"arrival-info\"> <em style=\"color:#111111\">4/14  </em> <em style=\"color:#111111\">도착 예정 </em> </span></div> </div> </div><div class=\"benefit-badges\"> <div class=\"reward-cash-badge\"><div class=\"reward-cash-badge__inr\"><img alt=\"\" class=\"reward-cash-ico\" src=\"//image6.coupangcdn.com/image/badges/cashback/web/list-cash-icon@2x.png\"/> <span class=\"reward-cash-txt\">최대 14,970원 적립</span></div></div></div></div></dd></dl><div class=\"mask\"></div></a></li>,\n",
       " <li class=\"search-product\" data-is-rocket=\"\" data-product-id=\"5110785591\" data-vendor-item-id=\"72926919259\" data-winner-vendor-item-id=\"72926919259\" id=\"5110785591\"><a class=\"search-product-link\" data-is-soldout=\"\" data-item-id=\"6972897543\" data-product-id=\"5110785591\" data-srp-log='{\"group\":\"PRODUCT\", \"itemId\":\"6972897543\", \"productId\":\"5110785591\", \"vendorItemId\":\"72926919259\", \"page\":\"1\", \"listSize\":\"36\", \"isCcidEligible\":false, \"displayCcidBadge\":false, \"wowOnlyInstantDiscountRate\": -1, \"snsDiscountRate\" : -1 }' data-vendor-item-id=\"72926919259\" href=\"/vp/products/5110785591?itemId=6972897543&amp;vendorItemId=72926919259\" target=\"_blank\"><dl class=\"search-product-wrap\"><dt class=\"image\"> <img alt=\"애플코리아 에어팟 오른쪽 왼쪽 1세대 2세대 한쪽판매 블루투스이어폰, 흰색, 프로 오른쪽만[Pro Right Only]\" class=\"search-product-wrap-img\" data-img-src=\"//thumbnail7.coupangcdn.com/thumbnails/remote/230x230ex/image/vendor_inventory/c245/83b4b9fbb2d5b584e12ea3192d092a90dfb587fbd39be90f8c0a63896579.jpg\" data-src=\"data:image/gif;base64,R0lGODlhAQABAAAAACH5BAEKAAEALAAAAAABAAEAAAICTAEAOw==\" height=\"230\" onerror=\"this.src='//img2a.coupangcdn.com/image/coupang/common/no_img_1000_1000.png'\" src=\"//img1a.coupangcdn.com/image/coupang/search/blank1x1.gif\" width=\"230\"/> </dt><dd class=\"descriptions\"><div class=\"descriptions-inner\"><div class=\"badges\"> </div><div class=\"name\">애플코리아 에어팟 오른쪽 왼쪽 1세대 2세대 한쪽판매 블루투스이어폰, 흰색, 프로 오른쪽만[Pro Right Only]</div> <div class=\"price-area\"> <div class=\"price-wrap\"><div class=\"price\"> <em class=\"sale\"> <strong class=\"price-value\">101,000</strong>원    </em> </div><!-- Free Shipping Badge -->\n",
       " <div class=\"delivery\"><span class=\"arrival-info\"> <em style=\"color:#111111\">모레(금) 3/26  </em> <em style=\"color:#111111\">도착 예정 </em> </span></div> </div> </div><div class=\"other-info\"><div class=\"rating-star\"><span class=\"star\"><em class=\"rating\" style=\"width:70%\">3.5</em></span> <span class=\"rating-total-count\">(3)</span></div></div><div class=\"benefit-badges\"> <div class=\"reward-cash-badge\"><div class=\"reward-cash-badge__inr\"><img alt=\"\" class=\"reward-cash-ico\" src=\"//image6.coupangcdn.com/image/badges/cashback/web/list-cash-icon@2x.png\"/> <span class=\"reward-cash-txt\">최대 5,050원 적립</span></div></div></div></div></dd></dl><div class=\"mask\"></div></a></li>,\n",
       " <li class=\"search-product\" data-is-rocket=\"\" data-product-id=\"5110785591\" data-vendor-item-id=\"74300584051\" data-winner-vendor-item-id=\"74300584051\" id=\"5110785591\"><a class=\"search-product-link\" data-is-soldout=\"\" data-item-id=\"6972897541\" data-product-id=\"5110785591\" data-srp-log='{\"group\":\"PRODUCT\", \"itemId\":\"6972897541\", \"productId\":\"5110785591\", \"vendorItemId\":\"74300584051\", \"page\":\"1\", \"listSize\":\"36\", \"isCcidEligible\":false, \"displayCcidBadge\":false, \"wowOnlyInstantDiscountRate\": -1, \"snsDiscountRate\" : -1 }' data-vendor-item-id=\"74300584051\" href=\"/vp/products/5110785591?itemId=6972897541&amp;vendorItemId=74300584051\" target=\"_blank\"><dl class=\"search-product-wrap\"><dt class=\"image\"> <img alt=\"애플코리아 에어팟 오른쪽 왼쪽 1세대 2세대 한쪽판매 블루투스이어폰, 흰색, 프로 왼쪽만[Pro Left Only]\" class=\"search-product-wrap-img\" data-img-src=\"//thumbnail7.coupangcdn.com/thumbnails/remote/230x230ex/image/vendor_inventory/c245/83b4b9fbb2d5b584e12ea3192d092a90dfb587fbd39be90f8c0a63896579.jpg\" data-src=\"data:image/gif;base64,R0lGODlhAQABAAAAACH5BAEKAAEALAAAAAABAAEAAAICTAEAOw==\" height=\"230\" onerror=\"this.src='//img2a.coupangcdn.com/image/coupang/common/no_img_1000_1000.png'\" src=\"//img1a.coupangcdn.com/image/coupang/search/blank1x1.gif\" width=\"230\"/> </dt><dd class=\"descriptions\"><div class=\"descriptions-inner\"><div class=\"badges\"> </div><div class=\"name\">애플코리아 에어팟 오른쪽 왼쪽 1세대 2세대 한쪽판매 블루투스이어폰, 흰색, 프로 왼쪽만[Pro Left Only]</div> <div class=\"price-area\"> <div class=\"price-wrap\"><div class=\"price\"> <em class=\"sale\"> <strong class=\"price-value\">85,800</strong>원    </em> </div><!-- Free Shipping Badge -->\n",
       " <div class=\"delivery\"><span class=\"arrival-info\"> <em style=\"color:#111111\">모레(금) 3/26  </em> <em style=\"color:#111111\">도착 예정 </em> </span></div> </div> </div><div class=\"other-info\"><div class=\"rating-star\"><span class=\"star\"><em class=\"rating\" style=\"width:70%\">3.5</em></span> <span class=\"rating-total-count\">(3)</span></div></div><div class=\"benefit-badges\"> <div class=\"reward-cash-badge\"><div class=\"reward-cash-badge__inr\"><img alt=\"\" class=\"reward-cash-ico\" src=\"//image6.coupangcdn.com/image/badges/cashback/web/list-cash-icon@2x.png\"/> <span class=\"reward-cash-txt\">최대 4,290원 적립</span></div></div></div></div></dd></dl><div class=\"mask\"></div></a></li>,\n",
       " <li class=\"search-product\" data-is-rocket=\"\" data-product-id=\"1980480301\" data-vendor-item-id=\"74354300402\" data-winner-vendor-item-id=\"74354300402\" id=\"1980480301\"><a class=\"search-product-link\" data-is-soldout=\"\" data-item-id=\"3369634171\" data-product-id=\"1980480301\" data-srp-log='{\"group\":\"PRODUCT\", \"itemId\":\"3369634171\", \"productId\":\"1980480301\", \"vendorItemId\":\"74354300402\", \"page\":\"1\", \"listSize\":\"36\", \"isCcidEligible\":false, \"displayCcidBadge\":false, \"wowOnlyInstantDiscountRate\": -1, \"snsDiscountRate\" : -1 }' data-vendor-item-id=\"74354300402\" href=\"/vp/products/1980480301?itemId=3369634171&amp;vendorItemId=74354300402\" target=\"_blank\"><dl class=\"search-product-wrap\"><dt class=\"image\"> <img alt=\"애플 정품 에어팟프로 왼쪽 오른쪽 본체만 분리판매, 에어팟 프로 본체만\" class=\"search-product-wrap-img\" data-img-src=\"//thumbnail8.coupangcdn.com/thumbnails/remote/230x230ex/image/vendor_inventory/88dd/345fef6e0108af8e811d54e798729a82a3148067cb904bc685e493567694.png\" data-src=\"data:image/gif;base64,R0lGODlhAQABAAAAACH5BAEKAAEALAAAAAABAAEAAAICTAEAOw==\" height=\"230\" onerror=\"this.src='//img2a.coupangcdn.com/image/coupang/common/no_img_1000_1000.png'\" src=\"//img1a.coupangcdn.com/image/coupang/search/blank1x1.gif\" width=\"230\"/> </dt><dd class=\"descriptions\"><div class=\"descriptions-inner\"><div class=\"badges\"> </div><div class=\"name\">애플 정품 에어팟프로 왼쪽 오른쪽 본체만 분리판매, 에어팟 프로 본체만</div> <div class=\"price-area\"> <div class=\"price-wrap\"><div class=\"price\"> <em class=\"sale\"> <strong class=\"price-value\">89,000</strong>원    </em> </div><!-- Free Shipping Badge -->\n",
       " <div class=\"delivery\"><span class=\"arrival-info\"> <em style=\"color:#111111\">모레(금) 3/26  </em> <em style=\"color:#111111\">도착 예정 </em> </span></div> </div> </div><div class=\"other-info\"><div class=\"rating-star\"><span class=\"star\"><em class=\"rating\" style=\"width:60%\">3.0</em></span> <span class=\"rating-total-count\">(4)</span></div></div><div class=\"benefit-badges\"> <div class=\"reward-cash-badge\"><div class=\"reward-cash-badge__inr\"><img alt=\"\" class=\"reward-cash-ico\" src=\"//image6.coupangcdn.com/image/badges/cashback/web/list-cash-icon@2x.png\"/> <span class=\"reward-cash-txt\">최대 4,450원 적립</span></div></div></div></div></dd></dl><div class=\"mask\"></div></a></li>,\n",
       " <li class=\"search-product\" data-is-rocket=\"\" data-product-id=\"4774637156\" data-vendor-item-id=\"73395527527\" data-winner-vendor-item-id=\"73395527527\" id=\"4774637156\"><a class=\"search-product-link\" data-is-soldout=\"\" data-item-id=\"6099238727\" data-product-id=\"4774637156\" data-srp-log='{\"group\":\"PRODUCT\", \"itemId\":\"6099238727\", \"productId\":\"4774637156\", \"vendorItemId\":\"73395527527\", \"page\":\"1\", \"listSize\":\"36\", \"isCcidEligible\":false, \"displayCcidBadge\":false, \"wowOnlyInstantDiscountRate\": -1, \"snsDiscountRate\" : -1 }' data-vendor-item-id=\"73395527527\" href=\"/vp/products/4774637156?itemId=6099238727&amp;vendorItemId=73395527527\" target=\"_blank\"><dl class=\"search-product-wrap\"><dt class=\"image\"> <img alt=\"포켓팟 3세대 블루투스 5.1 무선충전 이어폰, 포켓팟 / 흰색\" class=\"search-product-wrap-img\" data-img-src=\"//thumbnail7.coupangcdn.com/thumbnails/remote/230x230ex/image/vendor_inventory/afc7/a2d1e154992a6102a13ec0fadf46771e5f5a58d68f1844bda892dcc22ce6.jpg\" data-src=\"data:image/gif;base64,R0lGODlhAQABAAAAACH5BAEKAAEALAAAAAABAAEAAAICTAEAOw==\" height=\"230\" onerror=\"this.src='//img2a.coupangcdn.com/image/coupang/common/no_img_1000_1000.png'\" src=\"//img1a.coupangcdn.com/image/coupang/search/blank1x1.gif\" width=\"230\"/> </dt><dd class=\"descriptions\"><div class=\"descriptions-inner\"><div class=\"badges\"> <span class=\"badge badge-delivery\">무료배송</span> </div><div class=\"name\">포켓팟 3세대 블루투스 5.1 무선충전 이어폰, 포켓팟 / 흰색</div> <div class=\"price-area\"> <div class=\"price-wrap\"><div class=\"price\"> <span class=\"price-info\"> <span class=\"instant-discount-rate\">65%</span> <del class=\"base-price\">100,000</del> </span> <em class=\"sale\"> <strong class=\"price-value\">34,900</strong>원    </em> </div><!-- Free Shipping Badge -->\n",
       " <div class=\"delivery\"><span class=\"arrival-info\"> <em style=\"color:#111111\">모레(금) 3/26  </em> <em style=\"color:#111111\">도착 예정 </em> </span></div> </div> </div><div class=\"other-info\"><div class=\"rating-star\"><span class=\"star\"><em class=\"rating\" style=\"width:90%\">4.5</em></span> <span class=\"rating-total-count\">(151)</span></div></div><div class=\"benefit-badges\"> <div class=\"reward-cash-badge\"><div class=\"reward-cash-badge__inr\"><img alt=\"\" class=\"reward-cash-ico\" src=\"//image6.coupangcdn.com/image/badges/cashback/web/list-cash-icon@2x.png\"/> <span class=\"reward-cash-txt\">최대 1,745원 적립</span></div></div></div></div></dd></dl><div class=\"mask\"></div></a></li>,\n",
       " <li class=\"search-product\" data-is-rocket=\"true\" data-product-id=\"1625067748\" data-vendor-item-id=\"70762384395\" data-winner-vendor-item-id=\"70762384395\" id=\"1625067748\"><a class=\"search-product-link\" data-is-soldout=\"\" data-item-id=\"2772555726\" data-product-id=\"1625067748\" data-srp-log='{\"group\":\"PRODUCT\", \"itemId\":\"2772555726\", \"productId\":\"1625067748\", \"vendorItemId\":\"70762384395\", \"page\":\"1\", \"listSize\":\"36\", \"isCcidEligible\":false, \"displayCcidBadge\":false, \"wowOnlyInstantDiscountRate\": -1, \"snsDiscountRate\" : -1 }' data-vendor-item-id=\"70762384395\" href=\"/vp/products/1625067748?itemId=2772555726&amp;vendorItemId=70762384395\" target=\"_blank\"><dl class=\"search-product-wrap\"><dt class=\"image\"> <img alt=\"스카이 핏 X 액티브 무선 블루투스 이어폰, IM-A110X, 나이트블랙\" class=\"search-product-wrap-img\" data-img-src=\"//thumbnail6.coupangcdn.com/thumbnails/remote/230x230ex/image/retail/images/4392202517400-df34c731-22a4-4a9a-8168-606c384f2544.png\" data-src=\"data:image/gif;base64,R0lGODlhAQABAAAAACH5BAEKAAEALAAAAAABAAEAAAICTAEAOw==\" height=\"230\" onerror=\"this.src='//img2a.coupangcdn.com/image/coupang/common/no_img_1000_1000.png'\" src=\"//img1a.coupangcdn.com/image/coupang/search/blank1x1.gif\" width=\"230\"/> </dt><dd class=\"descriptions\"><div class=\"descriptions-inner\"><div class=\"badges\"> </div><div class=\"name\">스카이 핏 X 액티브 무선 블루투스 이어폰, IM-A110X, 나이트블랙</div> <div class=\"price-area\"> <div class=\"price-wrap\"><div class=\"price\"> <span class=\"price-info\"> <span class=\"instant-discount-rate\">5%</span> <del class=\"base-price\">38,710</del> </span> <em class=\"sale\"> <strong class=\"price-value\">36,600</strong>원   <span class=\"badge rocket\"> <img alt=\"로켓배송\" height=\"16\" src=\"//image10.coupangcdn.com/image/badges/rocket/rocket_logo.png\"/> </span> </em> </div><!-- Free Shipping Badge -->\n",
       " <div class=\"delivery\"><span class=\"arrival-info\"> <em style=\"color:#00891A\">내일(목) 3/25  </em> <em style=\"color:#00891A\">도착 보장 </em> </span></div> </div> <div class=\"used-product-info\"><span>새 상품</span><span>, </span><span>중고</span><strong> (2)</strong> <span>최저 </span><strong>31,840</strong><span>원</span></div> </div><div class=\"other-info\"><div class=\"rating-star\"><span class=\"star\"><em class=\"rating\" style=\"width:90%\">4.5</em></span> <span class=\"rating-total-count\">(380)</span></div></div><div class=\"benefit-badges\"> <div class=\"reward-cash-badge\"><div class=\"reward-cash-badge__inr\"><img alt=\"\" class=\"reward-cash-ico\" src=\"//image6.coupangcdn.com/image/badges/cashback/web/list-cash-icon@2x.png\"/> <span class=\"reward-cash-txt\">최대 1,830원 적립</span></div></div></div></div></dd></dl><div class=\"mask\"></div></a></li>,\n",
       " <li class=\"search-product\" data-is-rocket=\"true\" data-product-id=\"1704584520\" data-vendor-item-id=\"70889699793\" data-winner-vendor-item-id=\"70889699793\" id=\"1704584520\"><a class=\"search-product-link\" data-is-soldout=\"\" data-item-id=\"2900765312\" data-product-id=\"1704584520\" data-srp-log='{\"group\":\"PRODUCT\", \"itemId\":\"2900765312\", \"productId\":\"1704584520\", \"vendorItemId\":\"70889699793\", \"page\":\"1\", \"listSize\":\"36\", \"isCcidEligible\":false, \"displayCcidBadge\":false, \"wowOnlyInstantDiscountRate\": -1, \"snsDiscountRate\" : -1 }' data-vendor-item-id=\"70889699793\" href=\"/vp/products/1704584520?itemId=2900765312&amp;vendorItemId=70889699793\" target=\"_blank\"><dl class=\"search-product-wrap\"><dt class=\"image\"> <img alt=\"요이치 벌처 블루투스 이어폰 2세대, YS-EB300, 화이트\" class=\"search-product-wrap-img\" data-img-src=\"//thumbnail6.coupangcdn.com/thumbnails/remote/230x230ex/image/retail/images/2020/06/01/14/8/8f2e4369-24fe-47b7-8b5b-bb3b46a8dac5.jpg\" data-src=\"data:image/gif;base64,R0lGODlhAQABAAAAACH5BAEKAAEALAAAAAABAAEAAAICTAEAOw==\" height=\"230\" onerror=\"this.src='//img2a.coupangcdn.com/image/coupang/common/no_img_1000_1000.png'\" src=\"//img1a.coupangcdn.com/image/coupang/search/blank1x1.gif\" width=\"230\"/> </dt><dd class=\"descriptions\"><div class=\"descriptions-inner\"><div class=\"badges\"> </div><div class=\"name\">요이치 벌처 블루투스 이어폰 2세대, YS-EB300, 화이트</div> <div class=\"price-area\"> <div class=\"price-wrap\"><div class=\"price\"> <em class=\"sale\"> <strong class=\"price-value\">19,800</strong>원   <span class=\"badge rocket\"> <img alt=\"로켓배송\" height=\"16\" src=\"//image10.coupangcdn.com/image/badges/rocket/rocket_logo.png\"/> </span> </em> </div><!-- Free Shipping Badge -->\n",
       " <div class=\"delivery\"><span class=\"arrival-info\"> <em style=\"color:#00891A\">내일(목) 3/25  </em> <em style=\"color:#00891A\">도착 보장 </em> </span></div> <div class=\"delivery\"> <span class=\"badge falcon\"><img alt=\"로켓직구\" height=\"16\" src=\"//image8.coupangcdn.com/image/badges/falcon/v1/web/rocketwow-bi-16@2x.png\"/> </span> <span class=\"arrival-info\"> <em style=\"color:#00891A\">내일(목) 새벽  </em> <em style=\"color:#00891A\">도착 보장 </em> </span></div> </div> <div class=\"used-product-info\"><span>새 상품</span><span>, </span><span>박스 훼손</span><strong> (4)</strong> <span>최저 </span><strong>19,200</strong><span>원</span></div> </div><div class=\"other-info\"><div class=\"rating-star\"><span class=\"star\"><em class=\"rating\" style=\"width:80%\">4.0</em></span> <span class=\"rating-total-count\">(271)</span></div></div><div class=\"benefit-badges\"> <div class=\"reward-cash-badge\"><div class=\"reward-cash-badge__inr\"><img alt=\"\" class=\"reward-cash-ico\" src=\"//image6.coupangcdn.com/image/badges/cashback/web/list-cash-icon@2x.png\"/> <span class=\"reward-cash-txt\">최대 990원 적립</span></div></div></div></div></dd></dl><div class=\"mask\"></div></a></li>,\n",
       " <li class=\"search-product\" data-is-rocket=\"true\" data-product-id=\"1625067748\" data-vendor-item-id=\"70762384363\" data-winner-vendor-item-id=\"70762384363\" id=\"1625067748\"><a class=\"search-product-link\" data-is-soldout=\"\" data-item-id=\"2772555725\" data-product-id=\"1625067748\" data-srp-log='{\"group\":\"PRODUCT\", \"itemId\":\"2772555725\", \"productId\":\"1625067748\", \"vendorItemId\":\"70762384363\", \"page\":\"1\", \"listSize\":\"36\", \"isCcidEligible\":false, \"displayCcidBadge\":false, \"wowOnlyInstantDiscountRate\": -1, \"snsDiscountRate\" : -1 }' data-vendor-item-id=\"70762384363\" href=\"/vp/products/1625067748?itemId=2772555725&amp;vendorItemId=70762384363\" target=\"_blank\"><dl class=\"search-product-wrap\"><dt class=\"image\"> <img alt=\"스카이 핏 X 액티브 무선 블루투스 이어폰, IM-A110X, 모닝화이트\" class=\"search-product-wrap-img\" data-img-src=\"//thumbnail7.coupangcdn.com/thumbnails/remote/230x230ex/image/retail/images/2987451056547-64de9eef-961e-454b-be11-cf695f295740.png\" data-src=\"data:image/gif;base64,R0lGODlhAQABAAAAACH5BAEKAAEALAAAAAABAAEAAAICTAEAOw==\" height=\"230\" onerror=\"this.src='//img2a.coupangcdn.com/image/coupang/common/no_img_1000_1000.png'\" src=\"//img1a.coupangcdn.com/image/coupang/search/blank1x1.gif\" width=\"230\"/> </dt><dd class=\"descriptions\"><div class=\"descriptions-inner\"><div class=\"badges\"> </div><div class=\"name\">스카이 핏 X 액티브 무선 블루투스 이어폰, IM-A110X, 모닝화이트</div> <div class=\"price-area\"> <div class=\"price-wrap\"><div class=\"price\"> <span class=\"price-info\"> <span class=\"instant-discount-rate\">5%</span> <del class=\"base-price\">38,710</del> </span> <em class=\"sale\"> <strong class=\"price-value\">36,600</strong>원   <span class=\"badge rocket\"> <img alt=\"로켓배송\" height=\"16\" src=\"//image10.coupangcdn.com/image/badges/rocket/rocket_logo.png\"/> </span> </em> </div><!-- Free Shipping Badge -->\n",
       " <div class=\"delivery\"><span class=\"arrival-info\"> <em style=\"color:#00891A\">내일(목) 3/25  </em> <em style=\"color:#00891A\">도착 보장 </em> </span></div> <div class=\"delivery\"> <span class=\"badge falcon\"><img alt=\"로켓직구\" height=\"16\" src=\"//image8.coupangcdn.com/image/badges/falcon/v1/web/rocketwow-bi-16@2x.png\"/> </span> <span class=\"arrival-info\"> <em style=\"color:#00891A\">내일(목) 새벽  </em> <em style=\"color:#00891A\">도착 보장 </em> </span></div> </div> </div><div class=\"other-info\"><div class=\"rating-star\"><span class=\"star\"><em class=\"rating\" style=\"width:90%\">4.5</em></span> <span class=\"rating-total-count\">(380)</span></div></div><div class=\"benefit-badges\"> <div class=\"reward-cash-badge\"><div class=\"reward-cash-badge__inr\"><img alt=\"\" class=\"reward-cash-ico\" src=\"//image6.coupangcdn.com/image/badges/cashback/web/list-cash-icon@2x.png\"/> <span class=\"reward-cash-txt\">최대 1,830원 적립</span></div></div></div></div></dd></dl><div class=\"mask\"></div></a></li>,\n",
       " <li class=\"search-product\" data-is-rocket=\"\" data-product-id=\"1157327643\" data-vendor-item-id=\"73532108511\" data-winner-vendor-item-id=\"73532108511\" id=\"1157327643\"><a class=\"search-product-link\" data-is-soldout=\"\" data-item-id=\"2133268192\" data-product-id=\"1157327643\" data-srp-log='{\"group\":\"PRODUCT\", \"itemId\":\"2133268192\", \"productId\":\"1157327643\", \"vendorItemId\":\"73532108511\", \"page\":\"1\", \"listSize\":\"36\", \"isCcidEligible\":false, \"displayCcidBadge\":false, \"wowOnlyInstantDiscountRate\": -1, \"snsDiscountRate\" : -1 }' data-vendor-item-id=\"73532108511\" href=\"/vp/products/1157327643?itemId=2133268192&amp;vendorItemId=73532108511\" target=\"_blank\"><dl class=\"search-product-wrap\"><dt class=\"image\"> <img alt=\"애플코리아 에어팟 오른쪽 왼쪽 1세대 2세대 한쪽판매 블루투스이어폰, 2세대 유선충전기(Charger)\" class=\"search-product-wrap-img\" data-img-src=\"//thumbnail7.coupangcdn.com/thumbnails/remote/230x230ex/image/vendor_inventory/0b70/fefb7a3993476d756253251f1cfa81aeb9862266e580e0056e38fa89af4e.jpg\" data-src=\"data:image/gif;base64,R0lGODlhAQABAAAAACH5BAEKAAEALAAAAAABAAEAAAICTAEAOw==\" height=\"230\" onerror=\"this.src='//img2a.coupangcdn.com/image/coupang/common/no_img_1000_1000.png'\" src=\"//img1a.coupangcdn.com/image/coupang/search/blank1x1.gif\" width=\"230\"/> </dt><dd class=\"descriptions\"><div class=\"descriptions-inner\"><div class=\"badges\"> <span class=\"badge badge-delivery\">무료배송</span> </div><div class=\"name\">애플코리아 에어팟 오른쪽 왼쪽 1세대 2세대 한쪽판매 블루투스이어폰, 2세대 유선충전기(Charger)</div> <div class=\"price-area\"> <div class=\"price-wrap\"><div class=\"price\"> <span class=\"price-info\"> <span class=\"instant-discount-rate\">60%</span> <del class=\"base-price\">98,000</del> </span> <em class=\"sale\"> <strong class=\"price-value\">38,900</strong>원    </em> </div><!-- Free Shipping Badge -->\n",
       " <div class=\"delivery\"><span class=\"arrival-info\"> <em style=\"color:#111111\">모레(금) 3/26  </em> <em style=\"color:#111111\">도착 예정 </em> </span></div> </div> </div><div class=\"other-info\"><div class=\"rating-star\"><span class=\"star\"><em class=\"rating\" style=\"width:100%\">5.0</em></span> <span class=\"rating-total-count\">(272)</span></div></div><div class=\"benefit-badges\"> <div class=\"reward-cash-badge\"><div class=\"reward-cash-badge__inr\"><img alt=\"\" class=\"reward-cash-ico\" src=\"//image6.coupangcdn.com/image/badges/cashback/web/list-cash-icon@2x.png\"/> <span class=\"reward-cash-txt\">최대 1,945원 적립</span></div></div></div></div></dd></dl><div class=\"mask\"></div></a></li>,\n",
       " <li class=\"search-product\" data-is-rocket=\"true\" data-product-id=\"304421567\" data-vendor-item-id=\"5357494020\" data-winner-vendor-item-id=\"5357494020\" id=\"304421567\"><a class=\"search-product-link\" data-is-soldout=\"\" data-item-id=\"958147860\" data-product-id=\"304421567\" data-srp-log='{\"group\":\"PRODUCT\", \"itemId\":\"958147860\", \"productId\":\"304421567\", \"vendorItemId\":\"5357494020\", \"page\":\"1\", \"listSize\":\"36\", \"isCcidEligible\":false, \"displayCcidBadge\":false, \"wowOnlyInstantDiscountRate\": -1, \"snsDiscountRate\" : -1 }' data-vendor-item-id=\"5357494020\" href=\"/vp/products/304421567?itemId=958147860&amp;vendorItemId=5357494020\" target=\"_blank\"><dl class=\"search-product-wrap\"><dt class=\"image\"> <img alt=\"카카오프렌즈 큐티 에어팟 하드 케이스, 무지\" class=\"search-product-wrap-img\" data-img-src=\"//thumbnail9.coupangcdn.com/thumbnails/remote/230x230ex/image/retail/images/2019/09/18/15/7/aa007f9d-5702-40b3-882b-9c094d0aca6c.jpg\" data-src=\"data:image/gif;base64,R0lGODlhAQABAAAAACH5BAEKAAEALAAAAAABAAEAAAICTAEAOw==\" height=\"230\" onerror=\"this.src='//img2a.coupangcdn.com/image/coupang/common/no_img_1000_1000.png'\" src=\"//img1a.coupangcdn.com/image/coupang/search/blank1x1.gif\" width=\"230\"/> </dt><dd class=\"descriptions\"><div class=\"descriptions-inner\"><div class=\"badges\"> </div><div class=\"name\">카카오프렌즈 큐티 에어팟 하드 케이스, 무지</div> <div class=\"price-area\"> <div class=\"price-wrap\"><div class=\"price\"> <span class=\"price-info\"> <span class=\"instant-discount-rate\">6%</span> <del class=\"base-price\">16,110</del> </span> <em class=\"sale\"> <strong class=\"price-value\">15,090</strong>원   <span class=\"badge rocket\"> <img alt=\"로켓배송\" height=\"16\" src=\"//image10.coupangcdn.com/image/badges/rocket/rocket_logo.png\"/> </span> </em> </div><!-- Free Shipping Badge -->\n",
       " <div class=\"delivery\"><span class=\"arrival-info\"> <em style=\"color:#00891A\">내일(목) 3/25  </em> <em style=\"color:#00891A\">도착 보장 </em> </span></div> <div class=\"delivery\"> <span class=\"badge falcon\"><img alt=\"로켓직구\" height=\"16\" src=\"//image8.coupangcdn.com/image/badges/falcon/v1/web/rocketwow-bi-16@2x.png\"/> </span> <span class=\"arrival-info\"> <em style=\"color:#00891A\">내일(목) 새벽  </em> <em style=\"color:#00891A\">도착 보장 </em> </span></div> </div> </div><div class=\"other-info\"><div class=\"rating-star\"><span class=\"star\"><em class=\"rating\" style=\"width:90%\">4.5</em></span> <span class=\"rating-total-count\">(571)</span></div></div><div class=\"benefit-badges\"> <div class=\"reward-cash-badge\"><div class=\"reward-cash-badge__inr\"><img alt=\"\" class=\"reward-cash-ico\" src=\"//image6.coupangcdn.com/image/badges/cashback/web/list-cash-icon@2x.png\"/> <span class=\"reward-cash-txt\">최대 755원 적립</span></div></div></div></div></dd></dl><div class=\"mask\"></div></a></li>,\n",
       " <li class=\"search-product\" data-is-rocket=\"true\" data-product-id=\"341296542\" data-vendor-item-id=\"70604095662\" data-winner-vendor-item-id=\"70604095662\" id=\"341296542\"><a class=\"search-product-link\" data-is-soldout=\"\" data-item-id=\"2613002547\" data-product-id=\"341296542\" data-srp-log='{\"group\":\"PRODUCT\", \"itemId\":\"2613002547\", \"productId\":\"341296542\", \"vendorItemId\":\"70604095662\", \"page\":\"1\", \"listSize\":\"36\", \"isCcidEligible\":false, \"displayCcidBadge\":false, \"wowOnlyInstantDiscountRate\": -1, \"snsDiscountRate\" : -1 }' data-vendor-item-id=\"70604095662\" href=\"/vp/products/341296542?itemId=2613002547&amp;vendorItemId=70604095662\" target=\"_blank\"><dl class=\"search-product-wrap\"><dt class=\"image\"> <img alt=\"누아트 에어팟 1 2세대 투명 케이스+ 디자인 에어팟 철가루 방지 스티커, 과일패턴\" class=\"search-product-wrap-img\" data-img-src=\"//thumbnail8.coupangcdn.com/thumbnails/remote/230x230ex/image/retail/images/72746305150682-5ff59e96-2817-487e-8065-2810015f17d7.jpg\" data-src=\"data:image/gif;base64,R0lGODlhAQABAAAAACH5BAEKAAEALAAAAAABAAEAAAICTAEAOw==\" height=\"230\" onerror=\"this.src='//img2a.coupangcdn.com/image/coupang/common/no_img_1000_1000.png'\" src=\"//img1a.coupangcdn.com/image/coupang/search/blank1x1.gif\" width=\"230\"/> </dt><dd class=\"descriptions\"><div class=\"descriptions-inner\"><div class=\"badges\"> </div><div class=\"name\">누아트 에어팟 1 2세대 투명 케이스+ 디자인 에어팟 철가루 방지 스티커, 과일패턴</div> <div class=\"price-area\"> <div class=\"price-wrap\"><div class=\"price\"> <em class=\"sale\"> <strong class=\"price-value\">5,000</strong>원   <span class=\"badge rocket\"> <img alt=\"로켓배송\" height=\"16\" src=\"//image10.coupangcdn.com/image/badges/rocket/rocket_logo.png\"/> </span> </em> </div><!-- Free Shipping Badge -->\n",
       " <div class=\"delivery\"><span class=\"arrival-info\"> <em style=\"color:#00891A\">내일(목) 3/25  </em> <em style=\"color:#00891A\">도착 보장 </em> </span></div> </div> </div><div class=\"other-info\"><div class=\"rating-star\"><span class=\"star\"><em class=\"rating\" style=\"width:90%\">4.5</em></span> <span class=\"rating-total-count\">(335)</span></div></div><div class=\"benefit-badges\"> <div class=\"reward-cash-badge\"><div class=\"reward-cash-badge__inr\"><img alt=\"\" class=\"reward-cash-ico\" src=\"//image6.coupangcdn.com/image/badges/cashback/web/list-cash-icon@2x.png\"/> <span class=\"reward-cash-txt\">최대 250원 적립</span></div></div></div></div></dd></dl><div class=\"mask\"></div></a></li>]"
      ]
     },
     "execution_count": 88,
     "metadata": {},
     "output_type": "execute_result"
    }
   ],
   "source": [
    "prd_items = bs.find_all(\"li\", attrs={\"class\":re.compile(\"^search-product\")})\n",
    "prd_items"
   ]
  },
  {
   "cell_type": "code",
   "execution_count": 86,
   "metadata": {
    "slideshow": {
     "slide_type": "subslide"
    }
   },
   "outputs": [
    {
     "data": {
      "text/plain": [
       "'Apple 에어팟 2세대 무선 충전 모델, MRXJ2KH/A'"
      ]
     },
     "execution_count": 86,
     "metadata": {},
     "output_type": "execute_result"
    }
   ],
   "source": [
    "prd_items[0].find(\"div\", attrs={\"class\":\"name\"}).get_text()"
   ]
  },
  {
   "cell_type": "code",
   "execution_count": 91,
   "metadata": {
    "slideshow": {
     "slide_type": "subslide"
    }
   },
   "outputs": [
    {
     "name": "stdout",
     "output_type": "stream",
     "text": [
      "Apple 에어팟 2세대 무선 충전 모델, MRXJ2KH/A 190,900 5.0 (9493)\n",
      "Apple 에어팟 프로, MWP22KH/A, 화이트 247,300 5.0 (54338)\n",
      "Apple 에어팟 2세대 유선 충전 모델 (블루투스 5.0), MV7N2KH/A 147,860 5.0 (81463)\n",
      "APPLE 애플 에어팟프로 왼쪽 오른쪽 단품 한쪽구매 블루투스이어폰, 에어팟프로 양쪽(충전기본체미포함) 210,000 4.5 (223)\n",
      "Apple 에어팟 맥스 블루투스헤드셋, 스카이 블루 629,000 5.0 (78)\n",
      "Apple 에어팟 맥스 블루투스헤드셋, 그린 719,000 5.0 (78)\n",
      "Apple 에어팟 맥스 블루투스헤드셋, 핑크 611,150 5.0 (78)\n",
      "APPLE 애플 에어팟프로 왼쪽 오른쪽 단품 한쪽구매 블루투스이어폰 85,000 4.5 (223)\n",
      "애플코리아 에어팟 오른쪽 왼쪽 1세대 2세대 한쪽판매 블루투스이어폰, 본체 미포함 1세대 사용가능 L+R세트(2세대 양쪽) 125,000 4.5 (18)\n",
      "애플 APPLE [2일항공배송] AirPods 에어팟2세대 유선충전 블루투스 에어팟 무선이어폰 케이스세트 케이블보호캡증정, 에어팟 2세대 유선충전 - 고급추가세트 209,900 4.5 (76)\n",
      "애플 APPLE [2일항공배송] AirPods 에어팟 2세대 유선충전모델 블루투스 무선이어폰 케이스 스트랩 아이폰 이어폰 케이블보호캡증정, 에어팟2세대 유선충전-스트랩 169,900 4.5 (76)\n",
      "APPLE 애플 [2일항공배송] AirPods 에어팟 2세대 유선충전 모델 블루투스이어폰 무선이어폰 아이폰이어폰 케이스세트 케이블보호캡 증정, 에어팟2세대 유선충전 - 캐릭터추가세트 205,900 4.5 (76)\n",
      "APPLE 애플 [2일항공배송] AirPods 에어팟 2세대 유선충전 모델 블루투스이어폰 무선이어폰 아이폰이어폰 케이스세트 케이블보호캡 증정, 에어팟2세대 유선충전 - 기본추가세트 202,900 4.5 (55)\n",
      "애플 APPLE [2일항공배송] AirPods 에어팟2세대 유선충전 블루투스 에어팟 무선이어폰 케이스세트 케이블보호캡증정, 에어팟 2세대 유선충전 - 캐릭터추가세트 205,900 4.5 (55)\n",
      "애플 APPLE [2일항공배송] AirPods 에어팟2세대 유선충전 블루투스 에어팟 무선이어폰 케이스세트 케이블보호캡증정, 에어팟 2세대 유선충전 - 기본추가세트 202,900 4.5 (55)\n",
      "Apple 에어팟 맥스 블루투스헤드셋, 스페이스 그레이 675,000 5.0 (32)\n",
      "애플코리아 에어팟 오른쪽 왼쪽 1세대 2세대 한쪽판매 블루투스이어폰, 3세대 프로 충전기(Pro Charger) 89,000 5.0 (20)\n",
      "애플 에어팟프로 왼쪽 오른쪽 한쪽 충전케이스 Airpods Pro Left Right 블루투스이어폰, 에어팟프로 오른쪽, 화이트 96,000 4.5 (19)\n",
      "애플코리아 에어팟 오른쪽 왼쪽 1세대 2세대 한쪽판매 블루투스이어폰, 흰색, 3세대 프로 왼쪽(Pro Left) 88,000 4.5 (19)\n",
      "애플코리아 에어팟 오른쪽 왼쪽 1세대 2세대 한쪽판매 블루투스이어폰 93,000 4.5 (19)\n",
      "애플 APPLE [2일항공배송] AirPods 에어팟 2세대 무선충전모델 블루투스 무선이어폰 케이스 스트랩 아이폰 이어폰, 에어팟2세대 무선충전-스트랩 209,000 5.0 (5)\n",
      "애플 에어팟프로 왼쪽 오른쪽 한쪽 충전케이스 Airpods Pro Left Right 블루투스이어폰, 에어팟 프로 충전본체(이어폰 없음) 90,000 4.5 (4)\n",
      "애플 [애플정품] 에어팟 2세대 유선충전 Airpods2 가족세트2(4개), 선택완료, 기본구성 754,500 5.0 (1)\n"
     ]
    },
    {
     "ename": "AttributeError",
     "evalue": "'NoneType' object has no attribute 'get_text'",
     "output_type": "error",
     "traceback": [
      "\u001b[0;31m---------------------------------------------------------------------------\u001b[0m",
      "\u001b[0;31mAttributeError\u001b[0m                            Traceback (most recent call last)",
      "\u001b[0;32m<ipython-input-91-ecb84762db1c>\u001b[0m in \u001b[0;36m<module>\u001b[0;34m\u001b[0m\n\u001b[1;32m      2\u001b[0m     \u001b[0mp_name\u001b[0m \u001b[0;34m=\u001b[0m \u001b[0mitem\u001b[0m\u001b[0;34m.\u001b[0m\u001b[0mfind\u001b[0m\u001b[0;34m(\u001b[0m\u001b[0;34m\"div\"\u001b[0m\u001b[0;34m,\u001b[0m \u001b[0mattrs\u001b[0m\u001b[0;34m=\u001b[0m\u001b[0;34m{\u001b[0m\u001b[0;34m\"class\"\u001b[0m\u001b[0;34m:\u001b[0m\u001b[0;34m\"name\"\u001b[0m\u001b[0;34m}\u001b[0m\u001b[0;34m)\u001b[0m\u001b[0;34m.\u001b[0m\u001b[0mget_text\u001b[0m\u001b[0;34m(\u001b[0m\u001b[0;34m)\u001b[0m\u001b[0;34m\u001b[0m\u001b[0;34m\u001b[0m\u001b[0m\n\u001b[1;32m      3\u001b[0m     \u001b[0mp_price\u001b[0m \u001b[0;34m=\u001b[0m \u001b[0mitem\u001b[0m\u001b[0;34m.\u001b[0m\u001b[0mfind\u001b[0m\u001b[0;34m(\u001b[0m\u001b[0;34m\"strong\"\u001b[0m\u001b[0;34m,\u001b[0m \u001b[0mattrs\u001b[0m\u001b[0;34m=\u001b[0m\u001b[0;34m{\u001b[0m\u001b[0;34m\"class\"\u001b[0m\u001b[0;34m:\u001b[0m\u001b[0;34m\"price-value\"\u001b[0m\u001b[0;34m}\u001b[0m\u001b[0;34m)\u001b[0m\u001b[0;34m.\u001b[0m\u001b[0mget_text\u001b[0m\u001b[0;34m(\u001b[0m\u001b[0;34m)\u001b[0m\u001b[0;34m\u001b[0m\u001b[0;34m\u001b[0m\u001b[0m\n\u001b[0;32m----> 4\u001b[0;31m     \u001b[0mp_rate\u001b[0m \u001b[0;34m=\u001b[0m \u001b[0mitem\u001b[0m\u001b[0;34m.\u001b[0m\u001b[0mfind\u001b[0m\u001b[0;34m(\u001b[0m\u001b[0;34m\"em\"\u001b[0m\u001b[0;34m,\u001b[0m \u001b[0mattrs\u001b[0m\u001b[0;34m=\u001b[0m\u001b[0;34m{\u001b[0m\u001b[0;34m\"class\"\u001b[0m\u001b[0;34m:\u001b[0m\u001b[0;34m\"rating\"\u001b[0m\u001b[0;34m}\u001b[0m\u001b[0;34m)\u001b[0m\u001b[0;34m.\u001b[0m\u001b[0mget_text\u001b[0m\u001b[0;34m(\u001b[0m\u001b[0;34m)\u001b[0m\u001b[0;34m\u001b[0m\u001b[0;34m\u001b[0m\u001b[0m\n\u001b[0m\u001b[1;32m      5\u001b[0m     \u001b[0mp_rate_tot_cnt\u001b[0m \u001b[0;34m=\u001b[0m \u001b[0mitem\u001b[0m\u001b[0;34m.\u001b[0m\u001b[0mfind\u001b[0m\u001b[0;34m(\u001b[0m\u001b[0;34m\"span\"\u001b[0m\u001b[0;34m,\u001b[0m \u001b[0mattrs\u001b[0m\u001b[0;34m=\u001b[0m\u001b[0;34m{\u001b[0m\u001b[0;34m\"class\"\u001b[0m\u001b[0;34m:\u001b[0m\u001b[0;34m\"rating-total-count\"\u001b[0m\u001b[0;34m}\u001b[0m\u001b[0;34m)\u001b[0m\u001b[0;34m.\u001b[0m\u001b[0mget_text\u001b[0m\u001b[0;34m(\u001b[0m\u001b[0;34m)\u001b[0m\u001b[0;34m\u001b[0m\u001b[0;34m\u001b[0m\u001b[0m\n\u001b[1;32m      6\u001b[0m \u001b[0;34m\u001b[0m\u001b[0m\n",
      "\u001b[0;31mAttributeError\u001b[0m: 'NoneType' object has no attribute 'get_text'"
     ]
    }
   ],
   "source": [
    "for item in prd_items:\n",
    "    p_name = item.find(\"div\", attrs={\"class\":\"name\"}).get_text()\n",
    "    p_price = item.find(\"strong\", attrs={\"class\":\"price-value\"}).get_text()\n",
    "    p_rate = item.find(\"em\", attrs={\"class\":\"rating\"}).get_text()\n",
    "    p_rate_tot_cnt = item.find(\"span\", attrs={\"class\":\"rating-total-count\"}).get_text()\n",
    "    \n",
    "    print(p_name, p_price, p_rate, p_rate_tot_cnt)\n"
   ]
  },
  {
   "cell_type": "code",
   "execution_count": 92,
   "metadata": {},
   "outputs": [
    {
     "name": "stdout",
     "output_type": "stream",
     "text": [
      "Apple 에어팟 2세대 무선 충전 모델, MRXJ2KH/A 190,900 5.0 (9493)\n",
      "Apple 에어팟 프로, MWP22KH/A, 화이트 247,300 5.0 (54338)\n",
      "Apple 에어팟 2세대 유선 충전 모델 (블루투스 5.0), MV7N2KH/A 147,860 5.0 (81463)\n",
      "APPLE 애플 에어팟프로 왼쪽 오른쪽 단품 한쪽구매 블루투스이어폰, 에어팟프로 양쪽(충전기본체미포함) 210,000 4.5 (223)\n",
      "Apple 에어팟 맥스 블루투스헤드셋, 스카이 블루 629,000 5.0 (78)\n",
      "Apple 에어팟 맥스 블루투스헤드셋, 그린 719,000 5.0 (78)\n",
      "Apple 에어팟 맥스 블루투스헤드셋, 핑크 611,150 5.0 (78)\n",
      "APPLE 애플 에어팟프로 왼쪽 오른쪽 단품 한쪽구매 블루투스이어폰 85,000 4.5 (223)\n",
      "애플코리아 에어팟 오른쪽 왼쪽 1세대 2세대 한쪽판매 블루투스이어폰, 본체 미포함 1세대 사용가능 L+R세트(2세대 양쪽) 125,000 4.5 (18)\n",
      "애플 APPLE [2일항공배송] AirPods 에어팟2세대 유선충전 블루투스 에어팟 무선이어폰 케이스세트 케이블보호캡증정, 에어팟 2세대 유선충전 - 고급추가세트 209,900 4.5 (76)\n",
      "애플 APPLE [2일항공배송] AirPods 에어팟 2세대 유선충전모델 블루투스 무선이어폰 케이스 스트랩 아이폰 이어폰 케이블보호캡증정, 에어팟2세대 유선충전-스트랩 169,900 4.5 (76)\n",
      "APPLE 애플 [2일항공배송] AirPods 에어팟 2세대 유선충전 모델 블루투스이어폰 무선이어폰 아이폰이어폰 케이스세트 케이블보호캡 증정, 에어팟2세대 유선충전 - 캐릭터추가세트 205,900 4.5 (76)\n",
      "APPLE 애플 [2일항공배송] AirPods 에어팟 2세대 유선충전 모델 블루투스이어폰 무선이어폰 아이폰이어폰 케이스세트 케이블보호캡 증정, 에어팟2세대 유선충전 - 기본추가세트 202,900 4.5 (55)\n",
      "애플 APPLE [2일항공배송] AirPods 에어팟2세대 유선충전 블루투스 에어팟 무선이어폰 케이스세트 케이블보호캡증정, 에어팟 2세대 유선충전 - 캐릭터추가세트 205,900 4.5 (55)\n",
      "애플 APPLE [2일항공배송] AirPods 에어팟2세대 유선충전 블루투스 에어팟 무선이어폰 케이스세트 케이블보호캡증정, 에어팟 2세대 유선충전 - 기본추가세트 202,900 4.5 (55)\n",
      "Apple 에어팟 맥스 블루투스헤드셋, 스페이스 그레이 675,000 5.0 (32)\n",
      "애플코리아 에어팟 오른쪽 왼쪽 1세대 2세대 한쪽판매 블루투스이어폰, 3세대 프로 충전기(Pro Charger) 89,000 5.0 (20)\n",
      "애플 에어팟프로 왼쪽 오른쪽 한쪽 충전케이스 Airpods Pro Left Right 블루투스이어폰, 에어팟프로 오른쪽, 화이트 96,000 4.5 (19)\n",
      "애플코리아 에어팟 오른쪽 왼쪽 1세대 2세대 한쪽판매 블루투스이어폰, 흰색, 3세대 프로 왼쪽(Pro Left) 88,000 4.5 (19)\n",
      "애플코리아 에어팟 오른쪽 왼쪽 1세대 2세대 한쪽판매 블루투스이어폰 93,000 4.5 (19)\n",
      "애플 APPLE [2일항공배송] AirPods 에어팟 2세대 무선충전모델 블루투스 무선이어폰 케이스 스트랩 아이폰 이어폰, 에어팟2세대 무선충전-스트랩 209,000 5.0 (5)\n",
      "애플 에어팟프로 왼쪽 오른쪽 한쪽 충전케이스 Airpods Pro Left Right 블루투스이어폰, 에어팟 프로 충전본체(이어폰 없음) 90,000 4.5 (4)\n",
      "애플 [애플정품] 에어팟 2세대 유선충전 Airpods2 가족세트2(4개), 선택완료, 기본구성 754,500 5.0 (1)\n",
      "[애플정품] 에어팟 2세대 유선충전(2개)+무선충전(2개) 패키지+(키링+케이스+철가루방지스티커), 옵션선택 847,000 평점없음 평점카운트없음\n",
      "애플 [애플정품] 에어팟 2세대 유선충전(4개)+무선충전(4개) 패키지+(키링+케이스+철가루방지스티커), 선택완료, 단품없음 1,755,000 평점없음 평점카운트없음\n",
      "블루투스 무선이어폰 기간 한정 주문 111 AirPods 2 세대 무선 블루투스, 하얀, 공식 표준 299,400 평점없음 평점카운트없음\n",
      "애플코리아 에어팟 오른쪽 왼쪽 1세대 2세대 한쪽판매 블루투스이어폰, 흰색, 프로 오른쪽만[Pro Right Only] 101,000 3.5 (3)\n",
      "애플코리아 에어팟 오른쪽 왼쪽 1세대 2세대 한쪽판매 블루투스이어폰, 흰색, 프로 왼쪽만[Pro Left Only] 85,800 3.5 (3)\n",
      "애플 정품 에어팟프로 왼쪽 오른쪽 본체만 분리판매, 에어팟 프로 본체만 89,000 3.0 (4)\n",
      "포켓팟 3세대 블루투스 5.1 무선충전 이어폰, 포켓팟 / 흰색 34,900 4.5 (151)\n",
      "스카이 핏 X 액티브 무선 블루투스 이어폰, IM-A110X, 나이트블랙 36,600 4.5 (380)\n",
      "요이치 벌처 블루투스 이어폰 2세대, YS-EB300, 화이트 19,800 4.0 (271)\n",
      "스카이 핏 X 액티브 무선 블루투스 이어폰, IM-A110X, 모닝화이트 36,600 4.5 (380)\n",
      "애플코리아 에어팟 오른쪽 왼쪽 1세대 2세대 한쪽판매 블루투스이어폰, 2세대 유선충전기(Charger) 38,900 5.0 (272)\n",
      "카카오프렌즈 큐티 에어팟 하드 케이스, 무지 15,090 4.5 (571)\n",
      "누아트 에어팟 1 2세대 투명 케이스+ 디자인 에어팟 철가루 방지 스티커, 과일패턴 5,000 4.5 (335)\n"
     ]
    }
   ],
   "source": [
    "for item in prd_items:\n",
    "    p_name = item.find(\"div\", attrs={\"class\":\"name\"}).get_text()\n",
    "    p_price = item.find(\"strong\", attrs={\"class\":\"price-value\"}).get_text()\n",
    "    p_rate_item = item.find(\"em\", attrs={\"class\":\"rating\"})\n",
    "    if p_rate_item:\n",
    "        p_rate = p_rate_item.get_text()\n",
    "    else:\n",
    "        p_rate = \"평점없음\"\n",
    "    p_rate_tot_cnt_item = item.find(\"span\", attrs={\"class\":\"rating-total-count\"})\n",
    "    if p_rate_tot_cnt_item:\n",
    "        p_rate_tot_cnt = p_rate_tot_cnt_item.get_text()\n",
    "    else:\n",
    "        p_rate_tot_cnt = \"평점카운트없음\"\n",
    "    print(p_name, p_price, p_rate, p_rate_tot_cnt)"
   ]
  },
  {
   "cell_type": "code",
   "execution_count": 100,
   "metadata": {},
   "outputs": [
    {
     "name": "stdout",
     "output_type": "stream",
     "text": [
      "*** 광고 상품 제거 ***\n",
      "Apple 에어팟 프로, MWP22KH/A, 화이트 247,300 5.0 54372\n",
      "Apple 에어팟 2세대 무선 충전 모델, MRXJ2KH/A 190,900 5.0 9496\n",
      "Apple 에어팟 2세대 유선 충전 모델 (블루투스 5.0), MV7N2KH/A 147,860 5.0 81494\n",
      "*** 광고 상품 제거 ***\n",
      "*** 광고 상품 제거 ***\n",
      "*** 광고 상품 제거 ***\n",
      "*** 평점없는 상품 제외 ***\n",
      "*** 평점없는 상품 제외 ***\n",
      "*** 평점없는 상품 제외 ***\n"
     ]
    }
   ],
   "source": [
    "for item in prd_items:\n",
    "    \n",
    "    ad_badge = item.find(\"span\", attrs={\"class\":\"ad-badge-text\"})\n",
    "    if ad_badge:\n",
    "        print(\"*** 광고 상품 제거 ***\")\n",
    "        continue\n",
    "    \n",
    "    p_name = item.find(\"div\", attrs={\"class\":\"name\"}).get_text()\n",
    "    p_price = item.find(\"strong\", attrs={\"class\":\"price-value\"}).get_text()\n",
    "    p_rate_item = item.find(\"em\", attrs={\"class\":\"rating\"})\n",
    "    if p_rate_item:\n",
    "        p_rate = p_rate_item.get_text()\n",
    "    else:\n",
    "        print(\"*** 평점없는 상품 제외 ***\")\n",
    "        continue\n",
    "    p_rate_tot_cnt_item = item.find(\"span\", attrs={\"class\":\"rating-total-count\"})\n",
    "    if p_rate_tot_cnt_item:\n",
    "        p_rate_tot_cnt = p_rate_tot_cnt_item.get_text()\n",
    "        p_rate_tot_cnt = p_rate_tot_cnt[1:-1]\n",
    "    else:\n",
    "        print(\"*** 평점카운트없는 상품 제외 ***\")\n",
    "        continue\n",
    "    \n",
    "    if float(p_rate) > 4.5 and int(p_rate_tot_cnt) > 100:\n",
    "        print(p_name, p_price, p_rate, p_rate_tot_cnt)"
   ]
  },
  {
   "cell_type": "code",
   "execution_count": 108,
   "metadata": {},
   "outputs": [
    {
     "name": "stdout",
     "output_type": "stream",
     "text": [
      "페이지 1\n",
      "200\n",
      "Apple 에어팟 프로, MWP22KH/A, 화이트 247,300 5.0 54372\n",
      "제품명 : Apple 에어팟 프로, MWP22KH/A, 화이트\n",
      "가격 : 247,300\n",
      "별점 : 5.0(54372)\n",
      "쿠팡링크 : https://www.coupang.com/vp/products/332473915?itemId=1062243893&vendorItemId=5541656862\n",
      "--------------------------------------------------------------------------------\n",
      "Apple 에어팟 2세대 유선 충전 모델 (블루투스 5.0), MV7N2KH/A 147,860 5.0 81495\n",
      "제품명 : Apple 에어팟 2세대 유선 충전 모델 (블루투스 5.0), MV7N2KH/A\n",
      "가격 : 147,860\n",
      "별점 : 5.0(81495)\n",
      "쿠팡링크 : https://www.coupang.com/vp/products/210191841?itemId=625998234&vendorItemId=4643936599\n",
      "--------------------------------------------------------------------------------\n",
      "Apple 에어팟 2세대 무선 충전 모델, MRXJ2KH/A 190,900 5.0 9496\n",
      "제품명 : Apple 에어팟 2세대 무선 충전 모델, MRXJ2KH/A\n",
      "가격 : 190,900\n",
      "별점 : 5.0(9496)\n",
      "쿠팡링크 : https://www.coupang.com/vp/products/210191353?itemId=625994316&vendorItemId=4643929947\n",
      "--------------------------------------------------------------------------------\n",
      "페이지 2\n",
      "200\n",
      "카카오프렌즈 리틀 이니셜 실리콘 에어팟 키링 7,860 5.0 331\n",
      "제품명 : 카카오프렌즈 리틀 이니셜 실리콘 에어팟 키링\n",
      "가격 : 7,860\n",
      "별점 : 5.0(331)\n",
      "쿠팡링크 : https://www.coupang.com/vp/products/341653656?itemId=1087363900&vendorItemId=70653886719\n",
      "--------------------------------------------------------------------------------\n",
      "애플코리아 에어팟 오른쪽 왼쪽 1세대 2세대 한쪽판매 블루투스이어폰, 2세대 유선충전기(Charger) 38,900 5.0 272\n",
      "제품명 : 애플코리아 에어팟 오른쪽 왼쪽 1세대 2세대 한쪽판매 블루투스이어폰, 2세대 유선충전기(Charger)\n",
      "가격 : 38,900\n",
      "별점 : 5.0(272)\n",
      "쿠팡링크 : https://www.coupang.com/vp/products/1157327643?itemId=2133268192&vendorItemId=73532108511\n",
      "--------------------------------------------------------------------------------\n",
      "플래나 에어플레인 티켓 시리즈 에어팟 프로 TPU 투명 케이스, 1. 서울, 그래픽 15,900 5.0 120\n",
      "제품명 : 플래나 에어플레인 티켓 시리즈 에어팟 프로 TPU 투명 케이스, 1. 서울, 그래픽\n",
      "가격 : 15,900\n",
      "별점 : 5.0(120)\n",
      "쿠팡링크 : https://www.coupang.com/vp/products/4328192570?itemId=5048026734&vendorItemId=72357838054\n",
      "--------------------------------------------------------------------------------\n",
      "페이지 3\n",
      "200\n",
      "카카오프렌즈 에어팟 키링 하드케이스, 리본라이언 14,750 5.0 585\n",
      "제품명 : 카카오프렌즈 에어팟 키링 하드케이스, 리본라이언\n",
      "가격 : 14,750\n",
      "별점 : 5.0(585)\n",
      "쿠팡링크 : https://www.coupang.com/vp/products/288748819?itemId=914366668&vendorItemId=5283435050\n",
      "--------------------------------------------------------------------------------\n",
      "페이지 4\n",
      "200\n",
      "페이지 5\n",
      "200\n",
      "플래나 에어플레인 티켓 시리즈 에어팟 프로 TPU 투명 케이스, 3. 파리, 그래픽 15,900 5.0 120\n",
      "제품명 : 플래나 에어플레인 티켓 시리즈 에어팟 프로 TPU 투명 케이스, 3. 파리, 그래픽\n",
      "가격 : 15,900\n",
      "별점 : 5.0(120)\n",
      "쿠팡링크 : https://www.coupang.com/vp/products/4328192570?itemId=5048026745&vendorItemId=72357838092\n",
      "--------------------------------------------------------------------------------\n",
      "모자쓴 강아지 에어팟 케이스, 브라운 4,700 5.0 273\n",
      "제품명 : 모자쓴 강아지 에어팟 케이스, 브라운\n",
      "가격 : 4,700\n",
      "별점 : 5.0(273)\n",
      "쿠팡링크 : https://www.coupang.com/vp/products/1501497192?itemId=2577900592&vendorItemId=71423553138\n",
      "--------------------------------------------------------------------------------\n",
      "페이지 6\n",
      "200\n",
      "카카오프렌즈 에어팟 키링 하드케이스, 핑크어피치 17,900 5.0 585\n",
      "제품명 : 카카오프렌즈 에어팟 키링 하드케이스, 핑크어피치\n",
      "가격 : 17,900\n",
      "별점 : 5.0(585)\n",
      "쿠팡링크 : https://www.coupang.com/vp/products/288748819?itemId=958139496&vendorItemId=5537288532\n",
      "--------------------------------------------------------------------------------\n",
      "미니언즈 에어팟케이스 1 2세대, 혼합 색상 14,900 5.0 211\n",
      "제품명 : 미니언즈 에어팟케이스 1 2세대, 혼합 색상\n",
      "가격 : 14,900\n",
      "별점 : 5.0(211)\n",
      "쿠팡링크 : https://www.coupang.com/vp/products/1057023466?itemId=2000059111&vendorItemId=70000182985\n",
      "--------------------------------------------------------------------------------\n",
      "카카오프렌즈 에어팟 키링 하드케이스, 화이트어피치 14,750 5.0 585\n",
      "제품명 : 카카오프렌즈 에어팟 키링 하드케이스, 화이트어피치\n",
      "가격 : 14,750\n",
      "별점 : 5.0(585)\n",
      "쿠팡링크 : https://www.coupang.com/vp/products/288748819?itemId=914339833&vendorItemId=5283395279\n",
      "--------------------------------------------------------------------------------\n",
      "페이지 7\n",
      "200\n",
      "플래나 에어플레인 티켓 시리즈 에어팟 프로 TPU 투명 케이스, 6. 런던, 그래픽 15,900 5.0 120\n",
      "제품명 : 플래나 에어플레인 티켓 시리즈 에어팟 프로 TPU 투명 케이스, 6. 런던, 그래픽\n",
      "가격 : 15,900\n",
      "별점 : 5.0(120)\n",
      "쿠팡링크 : https://www.coupang.com/vp/products/4328192570?itemId=5048026757&vendorItemId=72357838167\n",
      "--------------------------------------------------------------------------------\n",
      "모자 쓴 강아지 에어팟 케이스, 핑크모자 강아지 4,700 5.0 273\n",
      "제품명 : 모자 쓴 강아지 에어팟 케이스, 핑크모자 강아지\n",
      "가격 : 4,700\n",
      "별점 : 5.0(273)\n",
      "쿠팡링크 : https://www.coupang.com/vp/products/1501497192?itemId=2577900593&vendorItemId=71452565000\n",
      "--------------------------------------------------------------------------------\n",
      "페이지 8\n",
      "200\n",
      "케이안 에어팟 가죽 케이스 + 스트랩, APLC-08, 검은콩 16,150 5.0 151\n",
      "제품명 : 케이안 에어팟 가죽 케이스 + 스트랩, APLC-08, 검은콩\n",
      "가격 : 16,150\n",
      "별점 : 5.0(151)\n",
      "쿠팡링크 : https://www.coupang.com/vp/products/1176945894?itemId=2155952903&vendorItemId=70154195179\n",
      "--------------------------------------------------------------------------------\n",
      "Fedciory 무선 블루투스 이어폰 XY, 검은색, earphone3 20,900 5.0 191\n",
      "제품명 : Fedciory 무선 블루투스 이어폰 XY, 검은색, earphone3\n",
      "가격 : 20,900\n",
      "별점 : 5.0(191)\n",
      "쿠팡링크 : https://www.coupang.com/vp/products/4626442811?itemId=5739851837&vendorItemId=73038528032\n",
      "--------------------------------------------------------------------------------\n",
      "케이안 에어팟 가죽 케이스 + 스트랩, APLC-07, 피스타치오 16,150 5.0 151\n",
      "제품명 : 케이안 에어팟 가죽 케이스 + 스트랩, APLC-07, 피스타치오\n",
      "가격 : 16,150\n",
      "별점 : 5.0(151)\n",
      "쿠팡링크 : https://www.coupang.com/vp/products/1176945894?itemId=2155952902&vendorItemId=70154195172\n",
      "--------------------------------------------------------------------------------\n",
      "플래나 에어플레인 티켓 시리즈 에어팟 프로 TPU 투명 케이스, 10. 밴쿠버, 그래픽 15,900 5.0 120\n",
      "제품명 : 플래나 에어플레인 티켓 시리즈 에어팟 프로 TPU 투명 케이스, 10. 밴쿠버, 그래픽\n",
      "가격 : 15,900\n",
      "별점 : 5.0(120)\n",
      "쿠팡링크 : https://www.coupang.com/vp/products/4328192570?itemId=5048026775&vendorItemId=72357838209\n",
      "--------------------------------------------------------------------------------\n",
      "페이지 9\n",
      "200\n",
      "에어팟 프로 피규어 키링 실리콘 케이스, 어피치 11,150 5.0 207\n",
      "제품명 : 에어팟 프로 피규어 키링 실리콘 케이스, 어피치\n",
      "가격 : 11,150\n",
      "별점 : 5.0(207)\n",
      "쿠팡링크 : https://www.coupang.com/vp/products/1131267422?itemId=2099236093&vendorItemId=70098104818\n",
      "--------------------------------------------------------------------------------\n",
      "스타벅스 키링 베어리 에어팟 키홀더 열쇠고리 악세사리 자동차, 01_바리스타(그린) 5,500 5.0 114\n",
      "제품명 : 스타벅스 키링 베어리 에어팟 키홀더 열쇠고리 악세사리 자동차, 01_바리스타(그린)\n",
      "가격 : 5,500\n",
      "별점 : 5.0(114)\n",
      "쿠팡링크 : https://www.coupang.com/vp/products/284376321?itemId=902663039&vendorItemId=73308968257\n",
      "--------------------------------------------------------------------------------\n",
      "페이지 10\n",
      "200\n",
      "플래나 에어플레인 티켓 시리즈 에어팟 프로 TPU 투명 케이스, 2. 뉴욕, 그래픽 15,900 5.0 120\n",
      "제품명 : 플래나 에어플레인 티켓 시리즈 에어팟 프로 TPU 투명 케이스, 2. 뉴욕, 그래픽\n",
      "가격 : 15,900\n",
      "별점 : 5.0(120)\n",
      "쿠팡링크 : https://www.coupang.com/vp/products/4328192570?itemId=5048026739&vendorItemId=72357838072\n",
      "--------------------------------------------------------------------------------\n",
      "페이지 11\n",
      "200\n",
      "페이지 12\n",
      "200\n",
      "디즈니 토이스토리 빅헤드 에어팟 이어폰 케이스, 햄 13,200 5.0 183\n",
      "제품명 : 디즈니 토이스토리 빅헤드 에어팟 이어폰 케이스, 햄\n",
      "가격 : 13,200\n",
      "별점 : 5.0(183)\n",
      "쿠팡링크 : https://www.coupang.com/vp/products/302779617?itemId=952295167&vendorItemId=73501188828\n",
      "--------------------------------------------------------------------------------\n",
      "디에이치 원목 에어팟 프로 우드케이스 각인무료, 3.다크브라운, 에어팟프로 우드케이스 26,000 5.0 229\n",
      "제품명 : 디에이치 원목 에어팟 프로 우드케이스 각인무료, 3.다크브라운, 에어팟프로 우드케이스\n",
      "가격 : 26,000\n",
      "별점 : 5.0(229)\n",
      "쿠팡링크 : https://www.coupang.com/vp/products/1097027215?itemId=2055007899&vendorItemId=70054296333\n",
      "--------------------------------------------------------------------------------\n",
      "플래나 에어플레인 티켓 시리즈 에어팟 프로 TPU 투명 케이스, 3. 파리, 그래픽 15,900 5.0 120\n",
      "제품명 : 플래나 에어플레인 티켓 시리즈 에어팟 프로 TPU 투명 케이스, 3. 파리, 그래픽\n",
      "가격 : 15,900\n",
      "별점 : 5.0(120)\n",
      "쿠팡링크 : https://www.coupang.com/vp/products/4328192570?itemId=5048026745&vendorItemId=72357838092\n",
      "--------------------------------------------------------------------------------\n",
      "플래나 에어플레인 티켓 시리즈 에어팟 프로 TPU 투명 케이스, 1. 서울, 그래픽 15,900 5.0 120\n",
      "제품명 : 플래나 에어플레인 티켓 시리즈 에어팟 프로 TPU 투명 케이스, 1. 서울, 그래픽\n",
      "가격 : 15,900\n",
      "별점 : 5.0(120)\n",
      "쿠팡링크 : https://www.coupang.com/vp/products/4328192570?itemId=5048026734&vendorItemId=72357838054\n",
      "--------------------------------------------------------------------------------\n",
      "플래나 에어플레인 티켓 시리즈 에어팟 프로 TPU 투명 케이스, 9. 싱가포르, 그래픽 15,900 5.0 120\n",
      "제품명 : 플래나 에어플레인 티켓 시리즈 에어팟 프로 TPU 투명 케이스, 9. 싱가포르, 그래픽\n",
      "가격 : 15,900\n",
      "별점 : 5.0(120)\n",
      "쿠팡링크 : https://www.coupang.com/vp/products/4328192570?itemId=5048026770&vendorItemId=72357838204\n",
      "--------------------------------------------------------------------------------\n",
      "플래나 에어플레인 티켓 시리즈 에어팟 프로 TPU 투명 케이스, 6. 런던, 그래픽 15,900 5.0 120\n",
      "제품명 : 플래나 에어플레인 티켓 시리즈 에어팟 프로 TPU 투명 케이스, 6. 런던, 그래픽\n",
      "가격 : 15,900\n",
      "별점 : 5.0(120)\n",
      "쿠팡링크 : https://www.coupang.com/vp/products/4328192570?itemId=5048026757&vendorItemId=72357838167\n",
      "--------------------------------------------------------------------------------\n",
      "플래나 에어플레인 티켓 시리즈 에어팟 프로 TPU 투명 케이스, 2. 뉴욕, 그래픽 15,900 5.0 120\n",
      "제품명 : 플래나 에어플레인 티켓 시리즈 에어팟 프로 TPU 투명 케이스, 2. 뉴욕, 그래픽\n",
      "가격 : 15,900\n",
      "별점 : 5.0(120)\n",
      "쿠팡링크 : https://www.coupang.com/vp/products/4328192570?itemId=5048026739&vendorItemId=72357838072\n",
      "--------------------------------------------------------------------------------\n",
      "플래나 에어플레인 티켓 시리즈 에어팟 프로 TPU 투명 케이스, 10. 밴쿠버, 그래픽 15,900 5.0 120\n",
      "제품명 : 플래나 에어플레인 티켓 시리즈 에어팟 프로 TPU 투명 케이스, 10. 밴쿠버, 그래픽\n",
      "가격 : 15,900\n",
      "별점 : 5.0(120)\n",
      "쿠팡링크 : https://www.coupang.com/vp/products/4328192570?itemId=5048026775&vendorItemId=72357838209\n",
      "--------------------------------------------------------------------------------\n",
      "플래나 에어플레인 티켓 시리즈 에어팟 프로 TPU 투명 케이스, 5. 베를린, 그래픽 15,900 5.0 120\n",
      "제품명 : 플래나 에어플레인 티켓 시리즈 에어팟 프로 TPU 투명 케이스, 5. 베를린, 그래픽\n",
      "가격 : 15,900\n",
      "별점 : 5.0(120)\n",
      "쿠팡링크 : https://www.coupang.com/vp/products/4328192570?itemId=5048026752&vendorItemId=72357838147\n",
      "--------------------------------------------------------------------------------\n",
      "플래나 에어플레인 티켓 시리즈 에어팟 프로 TPU 투명 케이스, 7. 도쿄, 그래픽 15,900 5.0 120\n",
      "제품명 : 플래나 에어플레인 티켓 시리즈 에어팟 프로 TPU 투명 케이스, 7. 도쿄, 그래픽\n",
      "가격 : 15,900\n",
      "별점 : 5.0(120)\n",
      "쿠팡링크 : https://www.coupang.com/vp/products/4328192570?itemId=5048026763&vendorItemId=72357838178\n",
      "--------------------------------------------------------------------------------\n",
      "플래나 에어플레인 티켓 시리즈 에어팟 프로 TPU 투명 케이스, 4.밀라노, 그래픽 15,900 5.0 120\n",
      "제품명 : 플래나 에어플레인 티켓 시리즈 에어팟 프로 TPU 투명 케이스, 4.밀라노, 그래픽\n",
      "가격 : 15,900\n",
      "별점 : 5.0(120)\n",
      "쿠팡링크 : https://www.coupang.com/vp/products/4328192570?itemId=5048026748&vendorItemId=72357838122\n",
      "--------------------------------------------------------------------------------\n",
      "플래나 에어플레인 티켓 시리즈 에어팟 프로 TPU 투명 케이스, 8. 상하이, 그래픽 15,900 5.0 120\n",
      "제품명 : 플래나 에어플레인 티켓 시리즈 에어팟 프로 TPU 투명 케이스, 8. 상하이, 그래픽\n",
      "가격 : 15,900\n",
      "별점 : 5.0(120)\n",
      "쿠팡링크 : https://www.coupang.com/vp/products/4328192570?itemId=5048026766&vendorItemId=72357838193\n",
      "--------------------------------------------------------------------------------\n",
      "페이지 13\n"
     ]
    },
    {
     "name": "stdout",
     "output_type": "stream",
     "text": [
      "200\n",
      "에어팟 프로 피규어 키링 실리콘 케이스, 어피치 11,150 5.0 207\n",
      "제품명 : 에어팟 프로 피규어 키링 실리콘 케이스, 어피치\n",
      "가격 : 11,150\n",
      "별점 : 5.0(207)\n",
      "쿠팡링크 : https://www.coupang.com/vp/products/1131267422?itemId=2099236093&vendorItemId=70098104818\n",
      "--------------------------------------------------------------------------------\n",
      "정녕마켓 토토로 먼지 하드 젤리 갤럭시 버즈 버즈플러스 버즈라이브 케이스키링, 블랙, 먼지 버즈라이브케이스 키링set(키링포함) 13,500 5.0 127\n",
      "제품명 : 정녕마켓 토토로 먼지 하드 젤리 갤럭시 버즈 버즈플러스 버즈라이브 케이스키링, 블랙, 먼지 버즈라이브케이스 키링set(키링포함)\n",
      "가격 : 13,500\n",
      "별점 : 5.0(127)\n",
      "쿠팡링크 : https://www.coupang.com/vp/products/1974234633?itemId=3357629273&vendorItemId=71344378876\n",
      "--------------------------------------------------------------------------------\n",
      "페이지 14\n",
      "200\n",
      "페이지 15\n",
      "200\n",
      "플래나 에어플레인 티켓 시리즈 에어팟 프로 TPU 투명 케이스, 10. 밴쿠버, 그래픽 15,900 5.0 120\n",
      "제품명 : 플래나 에어플레인 티켓 시리즈 에어팟 프로 TPU 투명 케이스, 10. 밴쿠버, 그래픽\n",
      "가격 : 15,900\n",
      "별점 : 5.0(120)\n",
      "쿠팡링크 : https://www.coupang.com/vp/products/4328192570?itemId=5048026775&vendorItemId=72357838209\n",
      "--------------------------------------------------------------------------------\n",
      "페이지 16\n",
      "200\n",
      "카카오프렌즈 에어팟 키링 하드케이스, 화이트어피치 14,750 5.0 585\n",
      "제품명 : 카카오프렌즈 에어팟 키링 하드케이스, 화이트어피치\n",
      "가격 : 14,750\n",
      "별점 : 5.0(585)\n",
      "쿠팡링크 : https://www.coupang.com/vp/products/288748819?itemId=914339833&vendorItemId=5283395279\n",
      "--------------------------------------------------------------------------------\n",
      "페이지 17\n",
      "200\n",
      "페이지 18\n",
      "200\n",
      "Fedciory 무선 블루투스 이어폰 XY, 검은색, earphone3 20,900 5.0 191\n",
      "제품명 : Fedciory 무선 블루투스 이어폰 XY, 검은색, earphone3\n",
      "가격 : 20,900\n",
      "별점 : 5.0(191)\n",
      "쿠팡링크 : https://www.coupang.com/vp/products/4626442811?itemId=5739851837&vendorItemId=73038528032\n",
      "--------------------------------------------------------------------------------\n",
      "페이지 19\n",
      "200\n",
      "디즈니 주 프렌즈 에어팟 이어폰 케이스, 주디 17,900 5.0 101\n",
      "제품명 : 디즈니 주 프렌즈 에어팟 이어폰 케이스, 주디\n",
      "가격 : 17,900\n",
      "별점 : 5.0(101)\n",
      "쿠팡링크 : https://www.coupang.com/vp/products/285277408?itemId=905026635&vendorItemId=70490830135\n",
      "--------------------------------------------------------------------------------\n",
      "페이지 20\n",
      "200\n",
      "페이지 21\n",
      "200\n",
      "페이지 22\n",
      "200\n",
      "스타벅스 키링 베어리 에어팟 키홀더 열쇠고리 악세사리 자동차, 05_바리스타(레드) 5,500 5.0 114\n",
      "제품명 : 스타벅스 키링 베어리 에어팟 키홀더 열쇠고리 악세사리 자동차, 05_바리스타(레드)\n",
      "가격 : 5,500\n",
      "별점 : 5.0(114)\n",
      "쿠팡링크 : https://www.coupang.com/vp/products/284376321?itemId=902663056&vendorItemId=73308968329\n",
      "--------------------------------------------------------------------------------\n",
      "페이지 23\n",
      "200\n",
      "스타벅스 키링 베어리 에어팟 키홀더 열쇠고리 악세사리 자동차, 20_서핑소년 5,500 5.0 114\n",
      "제품명 : 스타벅스 키링 베어리 에어팟 키홀더 열쇠고리 악세사리 자동차, 20_서핑소년\n",
      "가격 : 5,500\n",
      "별점 : 5.0(114)\n",
      "쿠팡링크 : https://www.coupang.com/vp/products/284376321?itemId=902663106&vendorItemId=73308967969\n",
      "--------------------------------------------------------------------------------\n",
      "스타벅스 키링 베어리 에어팟 키홀더 열쇠고리 악세사리 자동차, 32_딸기소년 5,500 5.0 114\n",
      "제품명 : 스타벅스 키링 베어리 에어팟 키홀더 열쇠고리 악세사리 자동차, 32_딸기소년\n",
      "가격 : 5,500\n",
      "별점 : 5.0(114)\n",
      "쿠팡링크 : https://www.coupang.com/vp/products/284376321?itemId=902663164&vendorItemId=73308967685\n",
      "--------------------------------------------------------------------------------\n",
      "스타벅스 키링 베어리 에어팟 키홀더 열쇠고리 악세사리 자동차, 09_점장 5,500 5.0 114\n",
      "제품명 : 스타벅스 키링 베어리 에어팟 키홀더 열쇠고리 악세사리 자동차, 09_점장\n",
      "가격 : 5,500\n",
      "별점 : 5.0(114)\n",
      "쿠팡링크 : https://www.coupang.com/vp/products/284376321?itemId=902663068&vendorItemId=73308967668\n",
      "--------------------------------------------------------------------------------\n",
      "스타벅스 키링 베어리 에어팟 키홀더 열쇠고리 악세사리 자동차, 18_하트소녀 5,500 5.0 114\n",
      "제품명 : 스타벅스 키링 베어리 에어팟 키홀더 열쇠고리 악세사리 자동차, 18_하트소녀\n",
      "가격 : 5,500\n",
      "별점 : 5.0(114)\n",
      "쿠팡링크 : https://www.coupang.com/vp/products/284376321?itemId=902663097&vendorItemId=73308967411\n",
      "--------------------------------------------------------------------------------\n",
      "스타벅스 키링 베어리 에어팟 키홀더 열쇠고리 악세사리 자동차, 43_겨울소녀 5,500 5.0 114\n",
      "제품명 : 스타벅스 키링 베어리 에어팟 키홀더 열쇠고리 악세사리 자동차, 43_겨울소녀\n",
      "가격 : 5,500\n",
      "별점 : 5.0(114)\n",
      "쿠팡링크 : https://www.coupang.com/vp/products/284376321?itemId=902663209&vendorItemId=73308967204\n",
      "--------------------------------------------------------------------------------\n",
      "스타벅스 키링 베어리 에어팟 키홀더 열쇠고리 악세사리 자동차, 17_눈사람 5,500 5.0 114\n",
      "제품명 : 스타벅스 키링 베어리 에어팟 키홀더 열쇠고리 악세사리 자동차, 17_눈사람\n",
      "가격 : 5,500\n",
      "별점 : 5.0(114)\n",
      "쿠팡링크 : https://www.coupang.com/vp/products/284376321?itemId=902663094&vendorItemId=73308967400\n",
      "--------------------------------------------------------------------------------\n",
      "스타벅스 키링 베어리 에어팟 키홀더 열쇠고리 악세사리 자동차, 22_멜빵소년 5,500 5.0 114\n",
      "제품명 : 스타벅스 키링 베어리 에어팟 키홀더 열쇠고리 악세사리 자동차, 22_멜빵소년\n",
      "가격 : 5,500\n",
      "별점 : 5.0(114)\n",
      "쿠팡링크 : https://www.coupang.com/vp/products/284376321?itemId=902663130&vendorItemId=73308967349\n",
      "--------------------------------------------------------------------------------\n",
      "스타벅스 키링 베어리 에어팟 키홀더 열쇠고리 악세사리 자동차, 27_크리스마스 5,500 5.0 114\n",
      "제품명 : 스타벅스 키링 베어리 에어팟 키홀더 열쇠고리 악세사리 자동차, 27_크리스마스\n",
      "가격 : 5,500\n",
      "별점 : 5.0(114)\n",
      "쿠팡링크 : https://www.coupang.com/vp/products/284376321?itemId=902663148&vendorItemId=73308967112\n",
      "--------------------------------------------------------------------------------\n",
      "스타벅스 키링 베어리 에어팟 키홀더 열쇠고리 악세사리 자동차, 02_바리스타(퍼플) 5,500 5.0 114\n",
      "제품명 : 스타벅스 키링 베어리 에어팟 키홀더 열쇠고리 악세사리 자동차, 02_바리스타(퍼플)\n",
      "가격 : 5,500\n",
      "별점 : 5.0(114)\n",
      "쿠팡링크 : https://www.coupang.com/vp/products/284376321?itemId=902663046&vendorItemId=73308967545\n",
      "--------------------------------------------------------------------------------\n",
      "스타벅스 키링 베어리 에어팟 키홀더 열쇠고리 악세사리 자동차, 01_바리스타(그린) 5,500 5.0 114\n",
      "제품명 : 스타벅스 키링 베어리 에어팟 키홀더 열쇠고리 악세사리 자동차, 01_바리스타(그린)\n",
      "가격 : 5,500\n",
      "별점 : 5.0(114)\n",
      "쿠팡링크 : https://www.coupang.com/vp/products/284376321?itemId=902663039&vendorItemId=73308968257\n",
      "--------------------------------------------------------------------------------\n",
      "스타벅스 키링 베어리 에어팟 키홀더 열쇠고리 악세사리 자동차, 25_노랑소녀 5,500 5.0 114\n",
      "제품명 : 스타벅스 키링 베어리 에어팟 키홀더 열쇠고리 악세사리 자동차, 25_노랑소녀\n",
      "가격 : 5,500\n",
      "별점 : 5.0(114)\n",
      "쿠팡링크 : https://www.coupang.com/vp/products/284376321?itemId=902663144&vendorItemId=73308967288\n",
      "--------------------------------------------------------------------------------\n",
      "스타벅스 키링 베어리 에어팟 키홀더 열쇠고리 악세사리 자동차, 21_치파오 5,500 5.0 114\n",
      "제품명 : 스타벅스 키링 베어리 에어팟 키홀더 열쇠고리 악세사리 자동차, 21_치파오\n",
      "가격 : 5,500\n",
      "별점 : 5.0(114)\n",
      "쿠팡링크 : https://www.coupang.com/vp/products/284376321?itemId=902663115&vendorItemId=73308967236\n",
      "--------------------------------------------------------------------------------\n",
      "스타벅스 키링 베어리 에어팟 키홀더 열쇠고리 악세사리 자동차, 40_산타 5,500 5.0 114\n",
      "제품명 : 스타벅스 키링 베어리 에어팟 키홀더 열쇠고리 악세사리 자동차, 40_산타\n",
      "가격 : 5,500\n",
      "별점 : 5.0(114)\n",
      "쿠팡링크 : https://www.coupang.com/vp/products/284376321?itemId=902663196&vendorItemId=73308968360\n",
      "--------------------------------------------------------------------------------\n",
      "스타벅스 키링 베어리 에어팟 키홀더 열쇠고리 악세사리 자동차, 07_바리스타(하늘) 5,500 5.0 114\n",
      "제품명 : 스타벅스 키링 베어리 에어팟 키홀더 열쇠고리 악세사리 자동차, 07_바리스타(하늘)\n",
      "가격 : 5,500\n",
      "별점 : 5.0(114)\n",
      "쿠팡링크 : https://www.coupang.com/vp/products/284376321?itemId=902663063&vendorItemId=73308968486\n",
      "--------------------------------------------------------------------------------\n",
      "스타벅스 키링 베어리 에어팟 키홀더 열쇠고리 악세사리 자동차, 37_마린룩 5,500 5.0 114\n",
      "제품명 : 스타벅스 키링 베어리 에어팟 키홀더 열쇠고리 악세사리 자동차, 37_마린룩\n",
      "가격 : 5,500\n",
      "별점 : 5.0(114)\n",
      "쿠팡링크 : https://www.coupang.com/vp/products/284376321?itemId=902663181&vendorItemId=73308968014\n",
      "--------------------------------------------------------------------------------\n",
      "스타벅스 키링 베어리 에어팟 키홀더 열쇠고리 악세사리 자동차, 38_할로윈 5,500 5.0 114\n",
      "제품명 : 스타벅스 키링 베어리 에어팟 키홀더 열쇠고리 악세사리 자동차, 38_할로윈\n",
      "가격 : 5,500\n",
      "별점 : 5.0(114)\n",
      "쿠팡링크 : https://www.coupang.com/vp/products/284376321?itemId=902663186&vendorItemId=73308967886\n",
      "--------------------------------------------------------------------------------\n",
      "스타벅스 키링 베어리 에어팟 키홀더 열쇠고리 악세사리 자동차, 41_에스키모 5,500 5.0 114\n",
      "제품명 : 스타벅스 키링 베어리 에어팟 키홀더 열쇠고리 악세사리 자동차, 41_에스키모\n",
      "가격 : 5,500\n",
      "별점 : 5.0(114)\n",
      "쿠팡링크 : https://www.coupang.com/vp/products/284376321?itemId=902663202&vendorItemId=73308967490\n",
      "--------------------------------------------------------------------------------\n",
      "스타벅스 키링 베어리 에어팟 키홀더 열쇠고리 악세사리 자동차, 14_마스터 5,500 5.0 114\n",
      "제품명 : 스타벅스 키링 베어리 에어팟 키홀더 열쇠고리 악세사리 자동차, 14_마스터\n",
      "가격 : 5,500\n",
      "별점 : 5.0(114)\n",
      "쿠팡링크 : https://www.coupang.com/vp/products/284376321?itemId=902663085&vendorItemId=73308968302\n",
      "--------------------------------------------------------------------------------\n",
      "스타벅스 키링 베어리 에어팟 키홀더 열쇠고리 악세사리 자동차, 48_아프로디테 5,500 5.0 114\n",
      "제품명 : 스타벅스 키링 베어리 에어팟 키홀더 열쇠고리 악세사리 자동차, 48_아프로디테\n",
      "가격 : 5,500\n",
      "별점 : 5.0(114)\n",
      "쿠팡링크 : https://www.coupang.com/vp/products/284376321?itemId=902663245&vendorItemId=73308968425\n",
      "--------------------------------------------------------------------------------\n",
      "스타벅스 키링 베어리 에어팟 키홀더 열쇠고리 악세사리 자동차, 31_수박소년 5,500 5.0 114\n",
      "제품명 : 스타벅스 키링 베어리 에어팟 키홀더 열쇠고리 악세사리 자동차, 31_수박소년\n",
      "가격 : 5,500\n",
      "별점 : 5.0(114)\n",
      "쿠팡링크 : https://www.coupang.com/vp/products/284376321?itemId=902663161&vendorItemId=73308968124\n",
      "--------------------------------------------------------------------------------\n",
      "스타벅스 키링 베어리 에어팟 키홀더 열쇠고리 악세사리 자동차, 08_꽃소녀 5,500 5.0 114\n",
      "제품명 : 스타벅스 키링 베어리 에어팟 키홀더 열쇠고리 악세사리 자동차, 08_꽃소녀\n",
      "가격 : 5,500\n",
      "별점 : 5.0(114)\n",
      "쿠팡링크 : https://www.coupang.com/vp/products/284376321?itemId=902663066&vendorItemId=73308968379\n",
      "--------------------------------------------------------------------------------\n",
      "스타벅스 키링 베어리 에어팟 키홀더 열쇠고리 악세사리 자동차, 03_바리스타(옐로) 5,500 5.0 114\n",
      "제품명 : 스타벅스 키링 베어리 에어팟 키홀더 열쇠고리 악세사리 자동차, 03_바리스타(옐로)\n",
      "가격 : 5,500\n",
      "별점 : 5.0(114)\n",
      "쿠팡링크 : https://www.coupang.com/vp/products/284376321?itemId=902663051&vendorItemId=73308967926\n",
      "--------------------------------------------------------------------------------\n",
      "스타벅스 키링 베어리 에어팟 키홀더 열쇠고리 악세사리 자동차, 23_도넛소녀 5,500 5.0 114\n",
      "제품명 : 스타벅스 키링 베어리 에어팟 키홀더 열쇠고리 악세사리 자동차, 23_도넛소녀\n",
      "가격 : 5,500\n",
      "별점 : 5.0(114)\n",
      "쿠팡링크 : https://www.coupang.com/vp/products/284376321?itemId=902663136&vendorItemId=73308967042\n",
      "--------------------------------------------------------------------------------\n",
      "스타벅스 키링 베어리 에어팟 키홀더 열쇠고리 악세사리 자동차, 39_하트풍선 5,500 5.0 114\n",
      "제품명 : 스타벅스 키링 베어리 에어팟 키홀더 열쇠고리 악세사리 자동차, 39_하트풍선\n",
      "가격 : 5,500\n",
      "별점 : 5.0(114)\n",
      "쿠팡링크 : https://www.coupang.com/vp/products/284376321?itemId=902663190&vendorItemId=73308967724\n",
      "--------------------------------------------------------------------------------\n",
      "스타벅스 키링 베어리 에어팟 키홀더 열쇠고리 악세사리 자동차, 05_바리스타(레드) 5,500 5.0 114\n",
      "제품명 : 스타벅스 키링 베어리 에어팟 키홀더 열쇠고리 악세사리 자동차, 05_바리스타(레드)\n",
      "가격 : 5,500\n",
      "별점 : 5.0(114)\n",
      "쿠팡링크 : https://www.coupang.com/vp/products/284376321?itemId=902663056&vendorItemId=73308968329\n",
      "--------------------------------------------------------------------------------\n",
      "스타벅스 키링 베어리 에어팟 키홀더 열쇠고리 악세사리 자동차, 36_우주토끼 5,500 5.0 114\n",
      "제품명 : 스타벅스 키링 베어리 에어팟 키홀더 열쇠고리 악세사리 자동차, 36_우주토끼\n",
      "가격 : 5,500\n",
      "별점 : 5.0(114)\n",
      "쿠팡링크 : https://www.coupang.com/vp/products/284376321?itemId=902663177&vendorItemId=73308967801\n",
      "--------------------------------------------------------------------------------\n",
      "스타벅스 키링 베어리 에어팟 키홀더 열쇠고리 악세사리 자동차, 13_마스터 텀블러 5,500 5.0 114\n",
      "제품명 : 스타벅스 키링 베어리 에어팟 키홀더 열쇠고리 악세사리 자동차, 13_마스터 텀블러\n",
      "가격 : 5,500\n",
      "별점 : 5.0(114)\n",
      "쿠팡링크 : https://www.coupang.com/vp/products/284376321?itemId=902663082&vendorItemId=73308967571\n",
      "--------------------------------------------------------------------------------\n",
      "스타벅스 키링 베어리 에어팟 키홀더 열쇠고리 악세사리 자동차, 42_산타토끼 5,500 5.0 114\n",
      "제품명 : 스타벅스 키링 베어리 에어팟 키홀더 열쇠고리 악세사리 자동차, 42_산타토끼\n",
      "가격 : 5,500\n",
      "별점 : 5.0(114)\n",
      "쿠팡링크 : https://www.coupang.com/vp/products/284376321?itemId=902663206&vendorItemId=73308968146\n",
      "--------------------------------------------------------------------------------\n",
      "페이지 24\n"
     ]
    },
    {
     "name": "stdout",
     "output_type": "stream",
     "text": [
      "200\n",
      "페이지 25\n",
      "200\n",
      "페이지 26\n",
      "200\n"
     ]
    }
   ],
   "source": [
    "import requests\n",
    "import re\n",
    "from bs4 import BeautifulSoup\n",
    "\n",
    "headers = {\"User-Agent\": \"Mozilla/5.0 (Macintosh; Intel Mac OS X 10_15_6) AppleWebKit/605.1.15 (KHTML, like Gecko) Version/14.0.3 Safari/605.1.15\"}\n",
    "\n",
    "for i in range(1, 27):\n",
    "    print(\"페이지\", i)\n",
    "    url = \"https://www.coupang.com/np/search?q=%EC%97%90%EC%96%B4%ED%8C%9F&channel=user&component=&page={}\".format(i)\n",
    "    res = requests.get(url, headers=headers)\n",
    "    print(res.status_code)\n",
    "    res.raise_for_status()\n",
    "\n",
    "    bs = BeautifulSoup(res.text, \"lxml\")\n",
    "    \n",
    "    prd_items = bs.find_all(\"li\", attrs={\"class\":re.compile(\"^search-product\")})\n",
    "    \n",
    "    for item in prd_items:\n",
    "    \n",
    "        ad_badge = item.find(\"span\", attrs={\"class\":\"ad-badge-text\"})\n",
    "        if ad_badge:\n",
    "            #print(\"*** 광고 상품 제거 ***\")\n",
    "            continue\n",
    "\n",
    "        p_name = item.find(\"div\", attrs={\"class\":\"name\"}).get_text()\n",
    "        p_price = item.find(\"strong\", attrs={\"class\":\"price-value\"}).get_text()\n",
    "        p_rate_item = item.find(\"em\", attrs={\"class\":\"rating\"})\n",
    "        if p_rate_item:\n",
    "            p_rate = p_rate_item.get_text()\n",
    "        else:\n",
    "            #print(\"*** 평점없는 상품 제외 ***\")\n",
    "            continue\n",
    "        p_rate_tot_cnt_item = item.find(\"span\", attrs={\"class\":\"rating-total-count\"})\n",
    "        if p_rate_tot_cnt_item:\n",
    "            p_rate_tot_cnt = p_rate_tot_cnt_item.get_text()\n",
    "            p_rate_tot_cnt = p_rate_tot_cnt[1:-1]\n",
    "        else:\n",
    "            #print(\"*** 평점카운트없는 상품 제외 ***\")\n",
    "            continue\n",
    "        \n",
    "        p_link = item.find(\"a\", attrs={\"class\":\"search-product-link\"})[\"href\"]\n",
    "\n",
    "        if float(p_rate) > 4.5 and int(p_rate_tot_cnt) > 100:\n",
    "            print(p_name, p_price, p_rate, p_rate_tot_cnt)\n",
    "            print(f\"제품명 : {p_name}\")\n",
    "            print(f\"가격 : {p_price}\")\n",
    "            print(f\"별점 : {p_rate}({p_rate_tot_cnt})\")\n",
    "            print(\"쿠팡링크 : {}\".format(\"https://www.coupang.com\" + p_link))\n",
    "            print(\"-\"*80)\n",
    "            "
   ]
  },
  {
   "cell_type": "markdown",
   "metadata": {
    "slideshow": {
     "slide_type": "subslide"
    }
   },
   "source": [
    "## 5-4-5 : Daum 에서 이미지 데이터 수집하기 \n",
    "Daum URL : https://www.daum.net\n",
    "\n",
    "- 검색어 : 영화관객순위\n",
    "- https://search.daum.net/search?w=tot&q=2019%EB%85%84%EC%98%81%ED%99%94%EC%88%9C%EC%9C%84&DA=MOR&rtmaxcoll=MOR"
   ]
  },
  {
   "cell_type": "code",
   "execution_count": 109,
   "metadata": {
    "slideshow": {
     "slide_type": "subslide"
    }
   },
   "outputs": [
    {
     "name": "stdout",
     "output_type": "stream",
     "text": [
      "200\n"
     ]
    }
   ],
   "source": [
    "import requests\n",
    "import re\n",
    "from bs4 import BeautifulSoup\n",
    "\n",
    "url = \"https://search.daum.net/search?w=tot&q=2019%EB%85%84%EC%98%81%ED%99%94%EC%88%9C%EC%9C%84&DA=MOR&rtmaxcoll=MOR\"\n",
    "headers = {\"User-Agent\": \"Mozilla/5.0 (Macintosh; Intel Mac OS X 10_15_6) AppleWebKit/605.1.15 (KHTML, like Gecko) Version/14.0.3 Safari/605.1.15\"}\n",
    "res = requests.get(url, headers=headers)\n",
    "print(res.status_code)\n",
    "res.raise_for_status()\n",
    "\n",
    "bs = BeautifulSoup(res.text, \"lxml\")"
   ]
  },
  {
   "cell_type": "code",
   "execution_count": 121,
   "metadata": {
    "slideshow": {
     "slide_type": "subslide"
    }
   },
   "outputs": [
    {
     "name": "stdout",
     "output_type": "stream",
     "text": [
      "https://search1.kakaocdn.net/thumb/R232x328.q85/?fname=http%3A%2F%2Ft1.daumcdn.net%2Fmovie%2F4e00e81f2b6f4d2eb65b3387240cc3c01547608409838\n",
      "https://search1.kakaocdn.net/thumb/R232x328.q85/?fname=http%3A%2F%2Ft1.daumcdn.net%2Fmovie%2F5574fb2c20c844629aa9ad1d6043ee851555464908641\n",
      "https://search1.kakaocdn.net/thumb/R232x328.q85/?fname=http%3A%2F%2Ft1.daumcdn.net%2Fmovie%2F5afd212b68e34e61a964d969dd898e2f1574298873981\n",
      "https://search1.kakaocdn.net/thumb/R232x328.q85/?fname=http%3A%2F%2Ft1.daumcdn.net%2Fmovie%2F3673a8a0c5ff4f5c8c25cc959fd6985b1558662957684\n",
      "https://search1.kakaocdn.net/thumb/R232x328.q85/?fname=http%3A%2F%2Ft1.daumcdn.net%2Fmovie%2Fcab3b02a7b274bd6838b80a5e481fedf1559021787090\n"
     ]
    }
   ],
   "source": [
    "mov_images = bs.find_all(\"img\", attrs={\"class\":\"thumb_img\"})\n",
    "\n",
    "for idx, image in enumerate(mov_images):\n",
    "    image_url = image[\"src\"]\n",
    "    if image_url.startswith(\"//\"):\n",
    "        image_url = \"https:\" + image_url\n",
    "\n",
    "    print(image_url)\n",
    "    image_res = requests.get(image_url)\n",
    "    image_res.raise_for_status()\n",
    "    \n",
    "    with open(\"movie{}.jpg\".format(idx+1), 'wb') as f:\n",
    "        f.write(image_res.content)\n",
    "        \n",
    "    if idx >= 4:\n",
    "        break"
   ]
  },
  {
   "cell_type": "code",
   "execution_count": 125,
   "metadata": {},
   "outputs": [
    {
     "name": "stdout",
     "output_type": "stream",
     "text": [
      "2015년도\n",
      "200\n",
      "https://search1.kakaocdn.net/thumb/R232x328.q85/?fname=http%3A%2F%2Ft1.daumcdn.net%2Fmovie%2F097f7decd11d4a0ae39cb48eade62af63e43724d\n",
      "https://search1.kakaocdn.net/thumb/R232x328.q85/?fname=http%3A%2F%2Ft1.daumcdn.net%2Fmovie%2F77746e188b1ca46a1de84b09bf78e67c5c22ce64\n",
      "https://search1.kakaocdn.net/thumb/R232x328.q85/?fname=http%3A%2F%2Ft1.daumcdn.net%2Fmovie%2F790095765b452495aef3caf3172a4960ba07e095\n",
      "https://search1.kakaocdn.net/thumb/R232x328.q85/?fname=http%3A%2F%2Ft1.daumcdn.net%2Fcfile%2F2502AF49546B09E61F\n",
      "https://search1.kakaocdn.net/thumb/R232x328.q85/?fname=http%3A%2F%2Ft1.daumcdn.net%2Fmovie%2Fbbb263931222d148943c3c2bf3606709d2ee2017\n",
      "2016년도\n",
      "200\n",
      "https://search1.kakaocdn.net/thumb/R232x328.q85/?fname=https%3A%2F%2Ft1.daumcdn.net%2Fmovie%2F38259ef0ed3416ddcc98cd0c30b6f1ad5e5f5f1d\n",
      "https://search1.kakaocdn.net/thumb/R232x328.q85/?fname=http%3A%2F%2Ft1.daumcdn.net%2Fmovie%2Fc68515cc88d0227584f67deaa3d0046204ae998b\n",
      "https://search1.kakaocdn.net/thumb/R232x328.q85/?fname=http%3A%2F%2Ft1.daumcdn.net%2Fmovie%2Fa89c0d7605a29583310a1ba4716bf2d1ccf69bbd\n",
      "https://search1.kakaocdn.net/thumb/R232x328.q85/?fname=http%3A%2F%2Ft1.daumcdn.net%2Fmovie%2F9ee4bab1a0f51fb4469b6162bad861f6d25056a7\n",
      "https://search1.kakaocdn.net/thumb/R232x328.q85/?fname=http%3A%2F%2Ft1.daumcdn.net%2Fmovie%2F326c4b4cc894250c0bf9356c65110a9f5dc967ca\n",
      "2017년도\n",
      "200\n",
      "https://search1.kakaocdn.net/thumb/R232x328.q85/?fname=http%3A%2F%2Ft1.daumcdn.net%2Fmovie%2Fc98cf3e74671b88df0f2b31b516c0aaea2e1a816\n",
      "https://search1.kakaocdn.net/thumb/R232x328.q85/?fname=https%3A%2F%2Ft1.daumcdn.net%2Fmovie%2Fae457b72c9a9ec2c8d2f44a893098ec060f0e598\n",
      "https://search1.kakaocdn.net/thumb/R232x328.q85/?fname=http%3A%2F%2Ft1.daumcdn.net%2Fmovie%2F404a1310e7b23f39d1472c9a41ac69054753f1dc\n",
      "https://search1.kakaocdn.net/thumb/R232x328.q85/?fname=http%3A%2F%2Ft1.daumcdn.net%2Fmovie%2F4f9750f09dac0f1b3659ae03cfe9ed7938be8d30\n",
      "https://search1.kakaocdn.net/thumb/R232x328.q85/?fname=http%3A%2F%2Ft1.daumcdn.net%2Fmovie%2F3620db5faa3faa25e8e48d0e7d2c7601f73277ea\n",
      "2018년도\n",
      "200\n",
      "https://search1.kakaocdn.net/thumb/R232x328.q85/?fname=https%3A%2F%2Ft1.daumcdn.net%2Fmovie%2F49d2e3870f67e47645b13976a176056ed71af64c\n",
      "https://search1.kakaocdn.net/thumb/R232x328.q85/?fname=http%3A%2F%2Ft1.daumcdn.net%2Fmovie%2Fdd84b905224c91225aa2a15203aba3a354197c1d\n",
      "https://search1.kakaocdn.net/thumb/R232x328.q85/?fname=http%3A%2F%2Ft1.daumcdn.net%2Fmovie%2Fce3cd6a875284e8b96414ef3696756a11544772388211\n",
      "https://search1.kakaocdn.net/thumb/R232x328.q85/?fname=http%3A%2F%2Ft1.daumcdn.net%2Fmovie%2F3ed58c2c1114935c4cc95f09949acb49b5996fa9\n",
      "https://search1.kakaocdn.net/thumb/R232x328.q85/?fname=https%3A%2F%2Ft1.daumcdn.net%2Fmovie%2Fae457b72c9a9ec2c8d2f44a893098ec060f0e598\n",
      "2019년도\n",
      "200\n",
      "https://search1.kakaocdn.net/thumb/R232x328.q85/?fname=http%3A%2F%2Ft1.daumcdn.net%2Fmovie%2F4e00e81f2b6f4d2eb65b3387240cc3c01547608409838\n",
      "https://search1.kakaocdn.net/thumb/R232x328.q85/?fname=http%3A%2F%2Ft1.daumcdn.net%2Fmovie%2F5574fb2c20c844629aa9ad1d6043ee851555464908641\n",
      "https://search1.kakaocdn.net/thumb/R232x328.q85/?fname=http%3A%2F%2Ft1.daumcdn.net%2Fmovie%2F5afd212b68e34e61a964d969dd898e2f1574298873981\n",
      "https://search1.kakaocdn.net/thumb/R232x328.q85/?fname=http%3A%2F%2Ft1.daumcdn.net%2Fmovie%2F3673a8a0c5ff4f5c8c25cc959fd6985b1558662957684\n",
      "https://search1.kakaocdn.net/thumb/R232x328.q85/?fname=http%3A%2F%2Ft1.daumcdn.net%2Fmovie%2Fcab3b02a7b274bd6838b80a5e481fedf1559021787090\n"
     ]
    }
   ],
   "source": [
    "import requests\n",
    "import re\n",
    "from bs4 import BeautifulSoup\n",
    "\n",
    "for year in range(2015, 2020):\n",
    "    print(f\"{year}년도\")\n",
    "    url = \"https://search.daum.net/search?w=tot&q={}%EB%85%84%EC%98%81%ED%99%94%EC%88%9C%EC%9C%84&DA=MOR&rtmaxcoll=MOR\".format(year)\n",
    "    headers = {\"User-Agent\": \"Mozilla/5.0 (Macintosh; Intel Mac OS X 10_15_6) AppleWebKit/605.1.15 (KHTML, like Gecko) Version/14.0.3 Safari/605.1.15\"}\n",
    "    res = requests.get(url, headers=headers)\n",
    "    print(res.status_code)\n",
    "    res.raise_for_status()\n",
    "\n",
    "    bs = BeautifulSoup(res.text, \"lxml\")\n",
    "    \n",
    "    mov_images = bs.find_all(\"img\", attrs={\"class\":\"thumb_img\"})\n",
    "\n",
    "    for idx, image in enumerate(mov_images):\n",
    "        image_url = image[\"src\"]\n",
    "        if image_url.startswith(\"//\"):\n",
    "            image_url = \"https:\" + image_url\n",
    "\n",
    "        print(image_url)\n",
    "        image_res = requests.get(image_url)\n",
    "        image_res.raise_for_status()\n",
    "\n",
    "        with open(\"movie-{}-{}.jpg\".format(year, idx+1), 'wb') as f:\n",
    "            f.write(image_res.content)\n",
    "\n",
    "        if idx >= 4:\n",
    "            break"
   ]
  },
  {
   "cell_type": "markdown",
   "metadata": {},
   "source": [
    "## 5-4-6 : Naver 금융 에서 코스피 데이터 수집하기 \n",
    "Naver URL : https://www.naver.com\n",
    "- 검색어 : 코스피 시가총액 순위\n",
    "- https://finance.naver.com/sise/sise_market_sum.nhn?sosok=0&page=1\n",
    "- 데이터 수집 후 CSV 형태로 저장"
   ]
  },
  {
   "cell_type": "code",
   "execution_count": 128,
   "metadata": {},
   "outputs": [
    {
     "name": "stdout",
     "output_type": "stream",
     "text": [
      "1 페이지\n",
      "200\n",
      "['1', '삼성전자', '81,400', '400', '+0.49%', '100', '4,859,403', '5,969,783', '54.68', '11,598,238', '21.19', '9.99', '']\n",
      "['2', 'SK하이닉스', '132,000', '1,500', '-1.12%', '5,000', '960,963', '728,002', '50.03', '3,354,701', '20.21', '9.53', '']\n",
      "['3', 'NAVER', '378,500', '8,500', '-2.20%', '100', '621,737', '164,263', '57.17', '510,158', '62.08', '15.22', '']\n",
      "['4', '삼성전자우', '73,300', '400', '+0.55%', '100', '603,176', '822,887', '78.11', '643,076', '19.08', 'N/A', '']\n",
      "['5', 'LG화학', '785,000', '1,000', '+0.13%', '5,000', '554,150', '70,592', '44.26', '374,200', '119.87', '2.93', '']\n",
      "['6', '삼성바이오로직스', '718,000', '2,000', '+0.28%', '2,500', '475,065', '66,165', '10.22', '29,851', '197.14', 'N/A', '']\n",
      "['7', '현대차', '217,500', '3,500', '-1.58%', '5,000', '464,728', '213,668', '30.75', '873,959', '42.29', '2.04', '']\n",
      "['8', '삼성SDI', '633,000', '2,000', '-0.31%', '5,000', '435,279', '68,765', '43.17', '209,249', '77.52', '4.54', '']\n",
      "['9', '카카오', '482,500', '9,500', '-1.93%', '500', '428,000', '88,705', '33.40', '321,200', '271.68', '2.70', '']\n",
      "['10', '셀트리온', '303,500', '3,500', '+1.17%', '1,000', '409,809', '135,028', '20.97', '370,326', '81.65', '16.68', '']\n",
      "['11', '기아차', '81,500', '300', '-0.37%', '5,000', '330,371', '405,363', '34.12', '2,560,771', '22.21', '5.05', '']\n",
      "['12', '현대모비스', '284,000', '1,000', '+0.35%', '5,000', '269,212', '94,793', '39.78', '284,289', '17.66', '4.66', '']\n",
      "['13', 'POSCO', '306,000', '0', '0.00%', '5,000', '266,792', '87,187', '53.70', '303,041', '16.65', '3.61', '']\n",
      "['14', 'LG생활건강', '1,547,000', '6,000', '+0.39%', '5,000', '241,614', '15,618', '45.59', '19,981', '34.36', '17.92', '']\n",
      "['15', 'LG전자', '147,500', '1,000', '+0.68%', '5,000', '241,381', '163,648', '30.98', '925,857', '13.55', '13.23', '']\n",
      "['16', '삼성물산', '122,500', '4,000', '+3.38%', '100', '228,937', '186,887', '14.88', '521,679', '22.40', '3.81', '']\n",
      "['17', 'KB금융', '52,200', '1,200', '+2.35%', '5,000', '217,052', '415,808', '68.51', '1,941,213', '6.28', '8.53', '']\n",
      "['18', 'SK텔레콤', '250,500', '1,500', '+0.60%', '500', '202,268', '80,746', '37.20', '132,738', '13.45', '6.44', '']\n",
      "['19', '엔씨소프트', '901,000', '35,000', '-3.74%', '500', '197,806', '21,954', '50.64', '113,193', '33.67', '20.83', '']\n",
      "['20', 'SK이노베이션', '207,500', '3,000', '+1.47%', '5,000', '191,866', '92,466', '22.80', '860,174', '-8.95', '-13.58', '']\n",
      "['21', '신한지주', '35,700', '600', '+1.71%', '5,000', '184,426', '516,600', '59.71', '1,942,724', '5.30', '8.20', '']\n",
      "['22', 'SK', '253,000', '9,000', '+3.69%', '200', '178,012', '70,360', '21.33', '331,710', '94.76', '1.11', '']\n",
      "['23', '삼성생명', '75,600', '400', '+0.53%', '500', '151,200', '200,000', '12.73', '192,274', '11.95', '3.53', '']\n",
      "['24', 'LG', '87,400', '1,500', '+1.75%', '5,000', '150,815', '172,557', '35.13', '309,649', '10.49', '7.50', '']\n",
      "['25', '아모레퍼시픽', '256,500', '500', '+0.20%', '500', '149,946', '58,458', '33.01', '220,308', '503.93', '0.78', '']\n",
      "['26', '한국전력', '23,050', '250', '+1.10%', '5,000', '147,973', '641,964', '16.55', '2,811,776', '7.43', '2.91', '']\n",
      "['27', '삼성에스디에스', '184,000', '500', '-0.27%', '500', '142,375', '77,378', '12.26', '64,740', '32.11', '6.71', '']\n",
      "['28', '삼성전기', '185,500', '1,000', '-0.54%', '5,000', '138,557', '74,694', '34.84', '229,079', '23.83', '10.92', '']\n",
      "['29', '하나금융지주', '40,850', '100', '-0.24%', '5,000', '122,649', '300,242', '68.52', '1,343,060', '4.65', '8.96', '']\n",
      "['30', '포스코케미칼', '146,500', '1,500', '-1.01%', '500', '113,484', '77,463', '7.14', '196,763', '317.79', '2.96', '']\n",
      "['31', 'KT&G', '80,500', '200', '+0.25%', '5,000', '110,520', '137,292', '39.83', '287,031', '9.43', '13.22', '']\n",
      "['32', '넷마블', '126,000', '2,000', '+1.61%', '100', '108,285', '85,940', '23.63', '165,640', '34.55', '6.35', '']\n",
      "['33', '롯데케미칼', '307,000', '3,500', '+1.15%', '5,000', '105,226', '34,275', '26.20', '132,057', '66.41', '1.22', '']\n",
      "['34', 'SK바이오사이언스', '137,500', '1,000', '+0.73%', '500', '105,188', '76,500', '3.34', '840,544', '314.65', '6.50', '']\n",
      "['35', 'HMM', '28,950', '200', '-0.69%', '5,000', '95,756', '330,763', '11.46', '10,723,621', '75.39', '8.93', '']\n",
      "['36', '한온시스템', '17,550', '400', '-2.23%', '100', '93,682', '533,800', '19.55', '1,558,637', '84.78', '5.09', '']\n",
      "['37', '대한항공', '26,850', '100', '+0.37%', '5,000', '93,390', '347,821', '10.88', '2,178,314', '-22.66', '-7.22', '']\n",
      "['38', '한화솔루션', '47,900', '2,900', '+6.44%', '5,000', '91,622', '191,278', '17.24', '5,226,914', '25.99', '5.30', '']\n",
      "['39', 'S-Oil', '79,400', '700', '+0.89%', '2,500', '89,391', '112,583', '75.84', '281,770', '-11.63', '-13.07', '']\n",
      "['40', '삼성화재', '188,500', '4,500', '+2.45%', '500', '89,302', '47,375', '46.14', '82,068', '12.62', '4.96', '']\n",
      "['41', '한국조선해양', '117,500', '0', '0.00%', '5,000', '83,158', '70,773', '17.09', '150,655', '-9.97', '-7.42', '']\n",
      "['42', 'SK바이오팜', '104,500', '2,000', '-1.88%', '500', '81,837', '78,313', '9.14', '230,254', '-30.36', '-135.18', '']\n",
      "['43', '빅히트', '221,000', '2,000', '+0.91%', '500', '78,728', '35,624', '7.83', '72,590', 'N/A', '12.52', '']\n",
      "['44', 'LG디스플레이', '21,900', '300', '-1.35%', '5,000', '78,362', '357,816', '23.92', '1,281,032', '-87.60', '-0.79', '']\n",
      "['45', '고려아연', '401,500', '1,000', '-0.25%', '5,000', '75,763', '18,870', '22.34', '28,620', '13.22', '8.37', '']\n",
      "['46', 'KT', '27,800', '100', '+0.36%', '5,000', '72,589', '261,112', '42.86', '1,335,597', '11.03', '4.76', '']\n",
      "['47', '우리금융지주', '9,980', '40', '+0.40%', '5,000', '72,082', '722,268', '25.68', '1,362,490', '5.51', '5.87', '']\n",
      "['48', '현대글로비스', '187,000', '500', '-0.27%', '500', '70,125', '37,500', '33.26', '93,968', '11.57', '12.45', '']\n",
      "['49', '금호석유', '228,000', '2,500', '-1.08%', '5,000', '69,466', '30,468', '26.73', '327,210', '13.10', '20.18', '']\n",
      "['50', '기업은행', '9,030', '130', '+1.46%', '5,000', '66,701', '738,664', '11.61', '1,427,880', '4.61', '7.36', '']\n"
     ]
    }
   ],
   "source": [
    "import requests\n",
    "import re\n",
    "from bs4 import BeautifulSoup\n",
    "import csv\n",
    "\n",
    "for page in range(1, 2):\n",
    "    print(f\"{page} 페이지\")\n",
    "    url = \"https://finance.naver.com/sise/sise_market_sum.nhn?sosok=0&page={}\".format(page)\n",
    "    headers = {\"User-Agent\": \"Mozilla/5.0 (Macintosh; Intel Mac OS X 10_15_6) AppleWebKit/605.1.15 (KHTML, like Gecko) Version/14.0.3 Safari/605.1.15\"}\n",
    "    res = requests.get(url, headers=headers)\n",
    "    print(res.status_code)\n",
    "    res.raise_for_status()\n",
    "\n",
    "    bs = BeautifulSoup(res.text, \"lxml\")\n",
    "    \n",
    "    rows = bs.find(\"table\", attrs={\"class\":\"type_2\"}).find(\"tbody\").find_all(\"tr\")\n",
    "    for row in rows:\n",
    "        columns = row.find_all(\"td\")\n",
    "        if len(columns) <= 1:\n",
    "            continue\n",
    "        data = [column.get_text().strip() for column in columns]\n",
    "        print(data)\n",
    "        "
   ]
  },
  {
   "cell_type": "code",
   "execution_count": 133,
   "metadata": {},
   "outputs": [
    {
     "name": "stdout",
     "output_type": "stream",
     "text": [
      "1 페이지\n",
      "200\n",
      "2 페이지\n",
      "200\n",
      "3 페이지\n",
      "200\n",
      "4 페이지\n",
      "200\n"
     ]
    }
   ],
   "source": [
    "import requests\n",
    "import re\n",
    "from bs4 import BeautifulSoup\n",
    "import csv\n",
    "\n",
    "csv_file_name = \"네이버금융_시가총액_1-200.csv\"\n",
    "#f = open(csv_file_name, \"w\", encoding=\"utf8\", newline=\"\")\n",
    "f = open(csv_file_name, \"w+\", encoding=\"utf-8-sig\", newline=\"\")\n",
    "writer = csv.writer(f)\n",
    "\n",
    "title = \"N\t종목명\t현재가\t전일비\t등락률\t액면가\t시가총액\t상장주식수\t외국인비율\t거래량\tPER\tROE\".split(\"\\t\")\n",
    "writer.writerow(title)\n",
    "\n",
    "for page in range(1, 5):\n",
    "    print(f\"{page} 페이지\")\n",
    "    url = \"https://finance.naver.com/sise/sise_market_sum.nhn?sosok=0&page={}\".format(page)\n",
    "    headers = {\"User-Agent\": \"Mozilla/5.0 (Macintosh; Intel Mac OS X 10_15_6) AppleWebKit/605.1.15 (KHTML, like Gecko) Version/14.0.3 Safari/605.1.15\"}\n",
    "    res = requests.get(url, headers=headers)\n",
    "    print(res.status_code)\n",
    "    res.raise_for_status()\n",
    "\n",
    "    bs = BeautifulSoup(res.text, \"lxml\")\n",
    "    \n",
    "    rows = bs.find(\"table\", attrs={\"class\":\"type_2\"}).find(\"tbody\").find_all(\"tr\")\n",
    "    for row in rows:\n",
    "        columns = row.find_all(\"td\")\n",
    "        if len(columns) <= 1:\n",
    "            continue\n",
    "        data = [column.get_text().strip() for column in columns]\n",
    "        #print(data)\n",
    "        writer.writerow(data)\n",
    "        "
   ]
  },
  {
   "cell_type": "code",
   "execution_count": null,
   "metadata": {},
   "outputs": [],
   "source": []
  }
 ],
 "metadata": {
  "anaconda-cloud": {},
  "celltoolbar": "Slideshow",
  "kernelspec": {
   "display_name": "Python 3",
   "language": "python",
   "name": "python3"
  },
  "language_info": {
   "codemirror_mode": {
    "name": "ipython",
    "version": 3
   },
   "file_extension": ".py",
   "mimetype": "text/x-python",
   "name": "python",
   "nbconvert_exporter": "python",
   "pygments_lexer": "ipython3",
   "version": "3.6.8"
  },
  "toc": {
   "base_numbering": 1,
   "nav_menu": {},
   "number_sections": false,
   "sideBar": false,
   "skip_h1_title": false,
   "title_cell": "Table of Contents",
   "title_sidebar": "Contents",
   "toc_cell": false,
   "toc_position": {},
   "toc_section_display": false,
   "toc_window_display": false
  },
  "widgets": {
   "state": {
    "0f8e225bffd742b283e6ca71eaf06847": {
     "views": [
      {
       "cell_index": 54
      }
     ]
    },
    "dfdbc4e9221c4ad497c4f9d5c799eeb2": {
     "views": [
      {
       "cell_index": 51
      }
     ]
    }
   },
   "version": "1.2.0"
  }
 },
 "nbformat": 4,
 "nbformat_minor": 2
}
