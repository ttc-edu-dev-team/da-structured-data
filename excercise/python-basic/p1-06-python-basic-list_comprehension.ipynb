{
 "cells": [
  {
   "cell_type": "markdown",
   "metadata": {
    "colab_type": "text",
    "id": "n-n5ndyR0qAQ"
   },
   "source": [
    "## 1. List Comprehension (파이썬 고유의 아름다운 문법)"
   ]
  },
  {
   "cell_type": "markdown",
   "metadata": {
    "colab_type": "text",
    "id": "ZtKqIjTr1QuC"
   },
   "source": [
    "* 참고로, 처음 접하시는 분들은 매우 생소할 수 있습니다.\n",
    "* 하지만, 조금만 연습하다보면 매우 편리한 문법이기도 합니다!! (보장합니다)\n",
    "* for ~ in  구조를 기본적으로 가지고 있습니다.\n",
    "* List Comprehension 이니깐 당연히 List를 사용합니다!\n"
   ]
  },
  {
   "cell_type": "markdown",
   "metadata": {
    "colab_type": "text",
    "id": "7jkcO6ea1aUH"
   },
   "source": [
    "**[실제 사례 연구]**"
   ]
  },
  {
   "cell_type": "markdown",
   "metadata": {
    "colab_type": "text",
    "id": "p_lhkuKE12BP"
   },
   "source": [
    "mylist = [1, 2, 3, 4, 5, 6, 7, 8, 9, 10]\n",
    "\n",
    "이라는 list를 만들어 주고 우리는 이 중 짝수만 출력하고 싶을때는 어떻게 했었을까요?"
   ]
  },
  {
   "cell_type": "code",
   "execution_count": 0,
   "metadata": {
    "colab": {
     "base_uri": "https://localhost:8080/",
     "height": 105
    },
    "colab_type": "code",
    "id": "hCQjnhjP3My-",
    "outputId": "4163e8cb-44e9-4d6c-dfee-1c59a45f17c2"
   },
   "outputs": [
    {
     "name": "stdout",
     "output_type": "stream",
     "text": [
      "2\n",
      "4\n",
      "6\n",
      "8\n",
      "10\n"
     ]
    }
   ],
   "source": [
    "mylist = [1, 2, 3, 4, 5, 6, 7, 8, 9, 10]\n",
    "\n",
    "# 코드를 입력하세요\n",
    "\n"
   ]
  },
  {
   "cell_type": "markdown",
   "metadata": {
    "colab_type": "text",
    "id": "TdQRUzn83UHe"
   },
   "source": [
    "그럼 mylist 이라는 list에서 우리는 짝수만 따로 list로 만들어 주고 싶을 때는 어떻게 할까요?"
   ]
  },
  {
   "cell_type": "code",
   "execution_count": 0,
   "metadata": {
    "colab": {
     "base_uri": "https://localhost:8080/",
     "height": 34
    },
    "colab_type": "code",
    "id": "EL1bUHsy3hjm",
    "outputId": "dc0dab95-49ad-4b6f-e3cf-db9fa61914be"
   },
   "outputs": [
    {
     "name": "stdout",
     "output_type": "stream",
     "text": [
      "[2, 4, 6, 8, 10]\n"
     ]
    }
   ],
   "source": [
    "mylist = [1, 2, 3, 4, 5, 6, 7, 8, 9, 10]\n",
    "even = []\n",
    "\n",
    "# 코드를 입력하세요\n",
    "\n",
    "\n",
    "\n",
    "\n",
    "print(even)"
   ]
  },
  {
   "cell_type": "markdown",
   "metadata": {
    "colab_type": "text",
    "id": "IXpVuU-w3qlQ"
   },
   "source": [
    "이렇게 for in 문으로 해줄 수 있습니다. 하지만, 우리는 **list comprehension을 통해 더욱 쉽게 해결**할 수 있습니다!!!"
   ]
  },
  {
   "cell_type": "markdown",
   "metadata": {
    "colab_type": "text",
    "id": "hHsywfmA3x0u"
   },
   "source": [
    "### 1-1. list comprehension 조건필터"
   ]
  },
  {
   "cell_type": "code",
   "execution_count": 0,
   "metadata": {
    "colab": {},
    "colab_type": "code",
    "id": "AvtJ5HUg36sG"
   },
   "outputs": [],
   "source": [
    "mylist = [1, 2, 3, 4, 5, 6, 7, 8, 9, 10]"
   ]
  },
  {
   "cell_type": "markdown",
   "metadata": {
    "colab_type": "text",
    "id": "n596iPJO4F6p"
   },
   "source": [
    "아래 문법이 바로 list comprehension 입니다. 한 줄로 해결해 버리는 것이 매력이에요"
   ]
  },
  {
   "cell_type": "code",
   "execution_count": 0,
   "metadata": {
    "colab": {},
    "colab_type": "code",
    "id": "OsWyGNsv39-m"
   },
   "outputs": [],
   "source": [
    "even = # 코드를 입력하세요"
   ]
  },
  {
   "cell_type": "code",
   "execution_count": 0,
   "metadata": {
    "colab": {
     "base_uri": "https://localhost:8080/",
     "height": 34
    },
    "colab_type": "code",
    "id": "15LGNXFL39oV",
    "outputId": "5bcb1948-496f-4860-aa72-e45107272db1"
   },
   "outputs": [
    {
     "data": {
      "text/plain": [
       "[2, 4, 6, 8, 10]"
      ]
     },
     "execution_count": 5,
     "metadata": {
      "tags": []
     },
     "output_type": "execute_result"
    }
   ],
   "source": [
    "even"
   ]
  },
  {
   "cell_type": "markdown",
   "metadata": {
    "colab_type": "text",
    "id": "FgKIRVuZ4NyB"
   },
   "source": [
    "### 1-2. [STEP 1] list를 만들어 주어야 하니 일단 꺾쇠를 씌워줍니다."
   ]
  },
  {
   "cell_type": "code",
   "execution_count": 0,
   "metadata": {
    "colab": {
     "base_uri": "https://localhost:8080/",
     "height": 134
    },
    "colab_type": "code",
    "id": "qB_ttUIH4R8W",
    "outputId": "546e5c41-e1ef-415b-b8c2-cc9a284a0ac0"
   },
   "outputs": [
    {
     "ename": "SyntaxError",
     "evalue": "ignored",
     "output_type": "error",
     "traceback": [
      "\u001b[0;36m  File \u001b[0;32m\"<ipython-input-8-e69ef2323976>\"\u001b[0;36m, line \u001b[0;32m1\u001b[0m\n\u001b[0;31m    even = [for i in mylist]\u001b[0m\n\u001b[0m              ^\u001b[0m\n\u001b[0;31mSyntaxError\u001b[0m\u001b[0;31m:\u001b[0m invalid syntax\n"
     ]
    }
   ],
   "source": [
    "even = [for i in mylist]"
   ]
  },
  {
   "cell_type": "markdown",
   "metadata": {
    "colab_type": "text",
    "id": "FaQoTdeH4a1j"
   },
   "source": [
    "하지만, 꺾쇠만 씌워준다면 당연히 에러가 나게 됩니다."
   ]
  },
  {
   "cell_type": "markdown",
   "metadata": {
    "colab_type": "text",
    "id": "XQzizCSc4iMd"
   },
   "source": [
    "for i in mylist 구문에서 반복문을 돌면서 i 값이 return 된다고 생각하고 그 변수를 list에 다시 넣어주는 원리입니다."
   ]
  },
  {
   "cell_type": "markdown",
   "metadata": {
    "colab_type": "text",
    "id": "ODrhWVEe4sxQ"
   },
   "source": [
    "즉, i를 for 문 앞에 써주세요"
   ]
  },
  {
   "cell_type": "code",
   "execution_count": 0,
   "metadata": {
    "colab": {},
    "colab_type": "code",
    "id": "BB8RGrsU4g3m"
   },
   "outputs": [],
   "source": [
    "even = # 코드를 입력하세요"
   ]
  },
  {
   "cell_type": "code",
   "execution_count": 0,
   "metadata": {
    "colab": {
     "base_uri": "https://localhost:8080/",
     "height": 34
    },
    "colab_type": "code",
    "id": "c96NbZer4xNP",
    "outputId": "41caa765-47b5-4877-b904-0928d427c1f2"
   },
   "outputs": [
    {
     "data": {
      "text/plain": [
       "[1, 2, 3, 4, 5, 6, 7, 8, 9, 10]"
      ]
     },
     "execution_count": 10,
     "metadata": {
      "tags": []
     },
     "output_type": "execute_result"
    }
   ],
   "source": [
    "even"
   ]
  },
  {
   "cell_type": "markdown",
   "metadata": {
    "colab_type": "text",
    "id": "1KsM88nu4xm3"
   },
   "source": [
    "### 1-3. [STEP 2] 조건 필터를 걸어 줍시다"
   ]
  },
  {
   "cell_type": "code",
   "execution_count": 0,
   "metadata": {
    "colab": {
     "base_uri": "https://localhost:8080/",
     "height": 35
    },
    "colab_type": "code",
    "id": "oyoEi-wB46b9",
    "outputId": "a9aeb863-1f92-4f64-c46f-1c114a0a6925"
   },
   "outputs": [
    {
     "data": {
      "text/plain": [
       "[1, 2, 3, 4, 5, 6, 7, 8, 9, 10]"
      ]
     },
     "execution_count": 11,
     "metadata": {
      "tags": []
     },
     "output_type": "execute_result"
    }
   ],
   "source": [
    "even"
   ]
  },
  {
   "cell_type": "markdown",
   "metadata": {
    "colab_type": "text",
    "id": "0kmtcaiH47MP"
   },
   "source": [
    "모든 값이 다 들어가 있습니다. 우리는 이제 조건 필터를 걸어줍니다."
   ]
  },
  {
   "cell_type": "markdown",
   "metadata": {
    "colab_type": "text",
    "id": "LjMHKjAz4_bd"
   },
   "source": [
    "[i for i in mylist (이곳에 조건문)]"
   ]
  },
  {
   "cell_type": "code",
   "execution_count": 0,
   "metadata": {
    "colab": {
     "base_uri": "https://localhost:8080/",
     "height": 34
    },
    "colab_type": "code",
    "id": "SAhBXVbK5Co0",
    "outputId": "f75ad936-ca5d-4296-df8e-bffa56609dbf"
   },
   "outputs": [
    {
     "data": {
      "text/plain": [
       "[2, 4, 6, 8, 10]"
      ]
     },
     "execution_count": 13,
     "metadata": {
      "tags": []
     },
     "output_type": "execute_result"
    }
   ],
   "source": [
    "# 코드를 입력하세요"
   ]
  },
  {
   "cell_type": "markdown",
   "metadata": {
    "colab_type": "text",
    "id": "BDhyGq8a5HBm"
   },
   "source": [
    "너무 나도 쉽게 한 줄로 짝수만 담았습니다."
   ]
  },
  {
   "cell_type": "markdown",
   "metadata": {
    "colab_type": "text",
    "id": "X8W6pRkz5NDW"
   },
   "source": [
    "이것을 변수에 다시 할당해주면 됩니다."
   ]
  },
  {
   "cell_type": "code",
   "execution_count": 0,
   "metadata": {
    "colab": {},
    "colab_type": "code",
    "id": "fmJlNLMO5PQr"
   },
   "outputs": [],
   "source": [
    "even = # 코드를 입력하세요"
   ]
  },
  {
   "cell_type": "code",
   "execution_count": 0,
   "metadata": {
    "colab": {
     "base_uri": "https://localhost:8080/",
     "height": 34
    },
    "colab_type": "code",
    "id": "Rsa_eCak5adA",
    "outputId": "42f2d990-3a94-49bf-ce0c-683dd92740d2"
   },
   "outputs": [
    {
     "data": {
      "text/plain": [
       "[2, 4, 6, 8, 10]"
      ]
     },
     "execution_count": 15,
     "metadata": {
      "tags": []
     },
     "output_type": "execute_result"
    }
   ],
   "source": [
    "even"
   ]
  },
  {
   "cell_type": "markdown",
   "metadata": {
    "colab_type": "text",
    "id": "lYGfB5O05aj1"
   },
   "source": [
    "### 1-4. [응용 STEP] 변수 값을 가공할 수도 있습니다"
   ]
  },
  {
   "cell_type": "markdown",
   "metadata": {
    "colab_type": "text",
    "id": "REj6ihGX5gPV"
   },
   "source": [
    "우선, 조건 필터는 배제하겠습니다."
   ]
  },
  {
   "cell_type": "code",
   "execution_count": 0,
   "metadata": {
    "colab": {},
    "colab_type": "code",
    "id": "MRlIoMbh5inm"
   },
   "outputs": [],
   "source": [
    "even = # 코드를 입력하세요"
   ]
  },
  {
   "cell_type": "code",
   "execution_count": 0,
   "metadata": {
    "colab": {
     "base_uri": "https://localhost:8080/",
     "height": 34
    },
    "colab_type": "code",
    "id": "YhnkRHIZ5kYv",
    "outputId": "991e0c1c-cacd-45b5-d527-f196a8db23b3"
   },
   "outputs": [
    {
     "data": {
      "text/plain": [
       "[1, 2, 3, 4, 5, 6, 7, 8, 9, 10]"
      ]
     },
     "execution_count": 17,
     "metadata": {
      "tags": []
     },
     "output_type": "execute_result"
    }
   ],
   "source": [
    "even"
   ]
  },
  {
   "cell_type": "markdown",
   "metadata": {
    "colab_type": "text",
    "id": "RG87dTvZ5lGm"
   },
   "source": [
    "even 리스트는 현재 1~10까지 값들이 들어가 있는데요. 모든 값에 +2를 해보도록 하겠습니다."
   ]
  },
  {
   "cell_type": "code",
   "execution_count": 0,
   "metadata": {
    "colab": {},
    "colab_type": "code",
    "id": "AMqXNzq05sQN"
   },
   "outputs": [],
   "source": [
    "even = # 코드를 입력하세요"
   ]
  },
  {
   "cell_type": "code",
   "execution_count": 0,
   "metadata": {
    "colab": {
     "base_uri": "https://localhost:8080/",
     "height": 34
    },
    "colab_type": "code",
    "id": "G_SJMZvZ5vDt",
    "outputId": "7366f865-ac29-46d1-983b-e7349ed0e903"
   },
   "outputs": [
    {
     "data": {
      "text/plain": [
       "[3, 4, 5, 6, 7, 8, 9, 10, 11, 12]"
      ]
     },
     "execution_count": 20,
     "metadata": {
      "tags": []
     },
     "output_type": "execute_result"
    }
   ],
   "source": [
    "even"
   ]
  },
  {
   "cell_type": "markdown",
   "metadata": {
    "colab_type": "text",
    "id": "9FnR8V7I5vs_"
   },
   "source": [
    "변수에 모든 값들이 +2 되어 저장이 되었네요~ 참 쉽죠~?^^"
   ]
  }
 ],
 "metadata": {
  "colab": {
   "collapsed_sections": [],
   "name": "ch02-part07-list-comprehension-실습",
   "provenance": []
  },
  "kernelspec": {
   "display_name": "Python 3",
   "language": "python",
   "name": "python3"
  },
  "language_info": {
   "codemirror_mode": {
    "name": "ipython",
    "version": 3
   },
   "file_extension": ".py",
   "mimetype": "text/x-python",
   "name": "python",
   "nbconvert_exporter": "python",
   "pygments_lexer": "ipython3",
   "version": "3.6.8"
  },
  "toc": {
   "base_numbering": 1,
   "nav_menu": {},
   "number_sections": false,
   "sideBar": false,
   "skip_h1_title": false,
   "title_cell": "Table of Contents",
   "title_sidebar": "Contents",
   "toc_cell": false,
   "toc_position": {},
   "toc_section_display": false,
   "toc_window_display": false
  }
 },
 "nbformat": 4,
 "nbformat_minor": 1
}
