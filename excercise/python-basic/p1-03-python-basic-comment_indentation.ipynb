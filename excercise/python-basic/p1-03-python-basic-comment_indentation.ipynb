{
 "cells": [
  {
   "cell_type": "markdown",
   "metadata": {
    "colab_type": "text",
    "id": "4_PsJAIhA8rM"
   },
   "source": [
    "## 1. 주석"
   ]
  },
  {
   "cell_type": "markdown",
   "metadata": {
    "colab_type": "text",
    "id": "CZsnlpYlBJ8z"
   },
   "source": [
    "'#' 기호와 한칸 띄어 보통 사용합니다."
   ]
  },
  {
   "cell_type": "markdown",
   "metadata": {
    "colab_type": "text",
    "id": "MaeGqZKYBBtg"
   },
   "source": [
    "* 코드 사이사이에 코멘트를 달 때 사용합니다.\n",
    "* 코드 셀에서만 동작함에 유의하세요"
   ]
  },
  {
   "cell_type": "code",
   "execution_count": 0,
   "metadata": {
    "colab": {
     "base_uri": "https://localhost:8080/",
     "height": 34
    },
    "colab_type": "code",
    "id": "ovRN-UGdBG29",
    "outputId": "6f88bf97-f226-46fd-9026-e5bfe6169b0f"
   },
   "outputs": [
    {
     "name": "stdout",
     "output_type": "stream",
     "text": [
      "7\n"
     ]
    }
   ],
   "source": [
    "# 이렇게 코멘트를 달 수 있습니다.\n",
    "a = 3\n",
    "b = 4\n",
    "\n",
    "# a + b 연산을 수행해 봅시다\n",
    "print(a + b)"
   ]
  },
  {
   "cell_type": "markdown",
   "metadata": {
    "colab_type": "text",
    "id": "y77PEp5xBU-R"
   },
   "source": [
    "## 2. indent"
   ]
  },
  {
   "cell_type": "markdown",
   "metadata": {
    "colab_type": "text",
    "id": "ImrpMfwMBYy1"
   },
   "source": [
    "indent(들여쓰기)는 파이썬에서 굉장히 중요합니다.\n",
    "\n",
    "단순히, 코드를 깔끔히 정리하기 위해서 들여쓰기를 하는 것은 아닙니다."
   ]
  },
  {
   "cell_type": "markdown",
   "metadata": {
    "colab_type": "text",
    "id": "T4eoKQIuBw9q"
   },
   "source": [
    "* 본인이 맞게 코드를 짰다고 한다면, indent는 colab에서 자동으로 해줄 것입니다.\n",
    "* [tab]키를 한 번 누르면 indent가 1번 한 효과입니다."
   ]
  },
  {
   "cell_type": "markdown",
   "metadata": {
    "colab_type": "text",
    "id": "W2Xy1do1B2nh"
   },
   "source": [
    "**indent 옵션**을 space * 4 개로 바꿔봅시다"
   ]
  },
  {
   "cell_type": "markdown",
   "metadata": {
    "colab_type": "text",
    "id": "SP_jwt-YB-2O"
   },
   "source": [
    "**[우측상단 톱니바퀴] - 편집기 - 들여쓰기 - 4 로 바꿔봅시다**"
   ]
  },
  {
   "cell_type": "markdown",
   "metadata": {
    "colab_type": "text",
    "id": "SQznenyqBirw"
   },
   "source": [
    "### 2-1. 콜론(:) 다음에 반드시 indent를 부여합니다."
   ]
  },
  {
   "cell_type": "code",
   "execution_count": 0,
   "metadata": {
    "colab": {},
    "colab_type": "code",
    "id": "WRojM7iFBsbN"
   },
   "outputs": [],
   "source": [
    "# 아래에 indent를 추가하여 오류를 수정해 주세요\n",
    "def my_func():\n",
    "print('indent가 자동으로 되나요?')"
   ]
  },
  {
   "cell_type": "markdown",
   "metadata": {
    "colab_type": "text",
    "id": "s1PPG6ciCUHG"
   },
   "source": [
    "### 2-2. indent를 마구잡이로 잘 못 사용했다면, 코드 실행시 에러가 뿜어져 나옵니다."
   ]
  },
  {
   "cell_type": "code",
   "execution_count": 0,
   "metadata": {
    "colab": {
     "base_uri": "https://localhost:8080/",
     "height": 134
    },
    "colab_type": "code",
    "id": "u8kcH6UBCQwC",
    "outputId": "64a69883-8b86-48d7-e6c7-2892b1cd8d95"
   },
   "outputs": [
    {
     "ename": "IndentationError",
     "evalue": "ignored",
     "output_type": "error",
     "traceback": [
      "\u001b[0;36m  File \u001b[0;32m\"<ipython-input-5-a09cf6cf6487>\"\u001b[0;36m, line \u001b[0;32m2\u001b[0m\n\u001b[0;31m    b = 4\u001b[0m\n\u001b[0m    ^\u001b[0m\n\u001b[0;31mIndentationError\u001b[0m\u001b[0;31m:\u001b[0m unexpected indent\n"
     ]
    }
   ],
   "source": [
    "# 아래에 indent 오류를 수정해 주세요\n",
    "a = 3\n",
    "    b = 4"
   ]
  },
  {
   "cell_type": "code",
   "execution_count": 0,
   "metadata": {
    "colab": {
     "base_uri": "https://localhost:8080/",
     "height": 134
    },
    "colab_type": "code",
    "id": "rqZ98iOgCkcl",
    "outputId": "f86bbea7-7e50-456b-de30-4620066860e3"
   },
   "outputs": [
    {
     "ename": "IndentationError",
     "evalue": "ignored",
     "output_type": "error",
     "traceback": [
      "\u001b[0;36m  File \u001b[0;32m\"<ipython-input-7-f729ffbad5e1>\"\u001b[0;36m, line \u001b[0;32m2\u001b[0m\n\u001b[0;31m    b = 4\u001b[0m\n\u001b[0m    ^\u001b[0m\n\u001b[0;31mIndentationError\u001b[0m\u001b[0;31m:\u001b[0m unexpected indent\n"
     ]
    }
   ],
   "source": [
    "a = 3\n",
    "  b = 4"
   ]
  },
  {
   "cell_type": "markdown",
   "metadata": {
    "colab_type": "text",
    "id": "6bMlRB-pCb4p"
   },
   "source": [
    "IndentationError 는 Indent를 잘 못 사용했을 때 뿜어져 나오니, 해당 Error를 발견했다면, indent를 주의해서 보세요"
   ]
  }
 ],
 "metadata": {
  "colab": {
   "collapsed_sections": [],
   "name": "ch02-part03-주석과 indent-실습",
   "provenance": []
  },
  "kernelspec": {
   "display_name": "Python 3",
   "language": "python",
   "name": "python3"
  },
  "language_info": {
   "codemirror_mode": {
    "name": "ipython",
    "version": 3
   },
   "file_extension": ".py",
   "mimetype": "text/x-python",
   "name": "python",
   "nbconvert_exporter": "python",
   "pygments_lexer": "ipython3",
   "version": "3.6.8"
  },
  "toc": {
   "base_numbering": 1,
   "nav_menu": {},
   "number_sections": false,
   "sideBar": false,
   "skip_h1_title": false,
   "title_cell": "Table of Contents",
   "title_sidebar": "Contents",
   "toc_cell": false,
   "toc_position": {},
   "toc_section_display": false,
   "toc_window_display": false
  }
 },
 "nbformat": 4,
 "nbformat_minor": 1
}
